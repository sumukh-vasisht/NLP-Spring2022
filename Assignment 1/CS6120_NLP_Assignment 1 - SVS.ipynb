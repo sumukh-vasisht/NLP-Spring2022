{
 "cells": [
  {
   "cell_type": "markdown",
   "id": "bc97d6da",
   "metadata": {},
   "source": [
    "## CS 6120: Natural Language Processing - Prof. Ahmad Uzair\n",
    "\n",
    "### Assignment 1: Naive Bayes\n",
    "### Total Points: 100 points\n",
    "\n",
    "In this assignment, you would be working with SMS data that contains SPAM or HAM messages. When you take a look at your gmail account, you find that a few emails are classified as spam. Similarly, some text messages that are received on the phone are also classified as spam based on a set of characteristics such as wording and so on. \n",
    "\n",
    "Therefore, we are going to address this problem of detecting SPAM or HAM messages with the help of Naive Bayes algorithm.\n",
    "\n",
    "## Importing the Libraries"
   ]
  },
  {
   "cell_type": "code",
   "execution_count": 1,
   "id": "a03450ac",
   "metadata": {},
   "outputs": [],
   "source": [
    "import numpy as np\n",
    "import pandas as pd\n",
    "import re\n",
    "import nltk\n",
    "from nltk.corpus import stopwords\n",
    "from nltk.stem import PorterStemmer\n",
    "from nltk.tokenize import word_tokenize\n",
    "import warnings\n",
    "import seaborn as sns\n",
    "import matplotlib.pyplot as plt\n",
    "warnings.filterwarnings(\"ignore\")"
   ]
  },
  {
   "cell_type": "markdown",
   "id": "fc584cc2",
   "metadata": {},
   "source": [
    "## Reading the data\n",
    "\n",
    "When reading the data, ensure that the '.csv' file is in the same location where your jupyter notebook is used. This way the files are organized and easy to read using the pandas library. "
   ]
  },
  {
   "cell_type": "code",
   "execution_count": 2,
   "id": "3c9ffbf5",
   "metadata": {},
   "outputs": [],
   "source": [
    "## Reading the data and removing columns that are not important. \n",
    "df = pd.read_csv('spam.csv', sep = ',', encoding = 'latin-1', usecols = lambda col: col not in [\"Unnamed: 2\", \"Unnamed: 3\", \"Unnamed: 4\"])"
   ]
  },
  {
   "cell_type": "code",
   "execution_count": 3,
   "id": "f7fa8ac0",
   "metadata": {},
   "outputs": [
    {
     "data": {
      "text/html": [
       "<div>\n",
       "<style scoped>\n",
       "    .dataframe tbody tr th:only-of-type {\n",
       "        vertical-align: middle;\n",
       "    }\n",
       "\n",
       "    .dataframe tbody tr th {\n",
       "        vertical-align: top;\n",
       "    }\n",
       "\n",
       "    .dataframe thead th {\n",
       "        text-align: right;\n",
       "    }\n",
       "</style>\n",
       "<table border=\"1\" class=\"dataframe\">\n",
       "  <thead>\n",
       "    <tr style=\"text-align: right;\">\n",
       "      <th></th>\n",
       "      <th>v1</th>\n",
       "      <th>v2</th>\n",
       "    </tr>\n",
       "  </thead>\n",
       "  <tbody>\n",
       "    <tr>\n",
       "      <th>0</th>\n",
       "      <td>ham</td>\n",
       "      <td>Go until jurong point, crazy.. Available only ...</td>\n",
       "    </tr>\n",
       "    <tr>\n",
       "      <th>1</th>\n",
       "      <td>ham</td>\n",
       "      <td>Ok lar... Joking wif u oni...</td>\n",
       "    </tr>\n",
       "    <tr>\n",
       "      <th>2</th>\n",
       "      <td>spam</td>\n",
       "      <td>Free entry in 2 a wkly comp to win FA Cup fina...</td>\n",
       "    </tr>\n",
       "    <tr>\n",
       "      <th>3</th>\n",
       "      <td>ham</td>\n",
       "      <td>U dun say so early hor... U c already then say...</td>\n",
       "    </tr>\n",
       "    <tr>\n",
       "      <th>4</th>\n",
       "      <td>ham</td>\n",
       "      <td>Nah I don't think he goes to usf, he lives aro...</td>\n",
       "    </tr>\n",
       "  </tbody>\n",
       "</table>\n",
       "</div>"
      ],
      "text/plain": [
       "     v1                                                 v2\n",
       "0   ham  Go until jurong point, crazy.. Available only ...\n",
       "1   ham                      Ok lar... Joking wif u oni...\n",
       "2  spam  Free entry in 2 a wkly comp to win FA Cup fina...\n",
       "3   ham  U dun say so early hor... U c already then say...\n",
       "4   ham  Nah I don't think he goes to usf, he lives aro..."
      ]
     },
     "execution_count": 3,
     "metadata": {},
     "output_type": "execute_result"
    }
   ],
   "source": [
    "# print head of data frame with help of head function\n",
    "df.head()"
   ]
  },
  {
   "cell_type": "code",
   "execution_count": 4,
   "id": "aecf75db",
   "metadata": {},
   "outputs": [],
   "source": [
    "## Renaming the columns so that we understand the columns easily.\n",
    "\n",
    "## Rename v1 as \"spam_or_ham\" and v2 as \"message\"\n",
    "\n",
    "df = df.rename(columns = {\"v1\":\"spam_or_ham\", \"v2\":\"message\"})"
   ]
  },
  {
   "cell_type": "code",
   "execution_count": 5,
   "id": "f6fc153c",
   "metadata": {},
   "outputs": [
    {
     "data": {
      "text/html": [
       "<div>\n",
       "<style scoped>\n",
       "    .dataframe tbody tr th:only-of-type {\n",
       "        vertical-align: middle;\n",
       "    }\n",
       "\n",
       "    .dataframe tbody tr th {\n",
       "        vertical-align: top;\n",
       "    }\n",
       "\n",
       "    .dataframe thead th {\n",
       "        text-align: right;\n",
       "    }\n",
       "</style>\n",
       "<table border=\"1\" class=\"dataframe\">\n",
       "  <thead>\n",
       "    <tr style=\"text-align: right;\">\n",
       "      <th></th>\n",
       "      <th>spam_or_ham</th>\n",
       "      <th>message</th>\n",
       "    </tr>\n",
       "  </thead>\n",
       "  <tbody>\n",
       "    <tr>\n",
       "      <th>0</th>\n",
       "      <td>ham</td>\n",
       "      <td>Go until jurong point, crazy.. Available only ...</td>\n",
       "    </tr>\n",
       "    <tr>\n",
       "      <th>1</th>\n",
       "      <td>ham</td>\n",
       "      <td>Ok lar... Joking wif u oni...</td>\n",
       "    </tr>\n",
       "    <tr>\n",
       "      <th>2</th>\n",
       "      <td>spam</td>\n",
       "      <td>Free entry in 2 a wkly comp to win FA Cup fina...</td>\n",
       "    </tr>\n",
       "    <tr>\n",
       "      <th>3</th>\n",
       "      <td>ham</td>\n",
       "      <td>U dun say so early hor... U c already then say...</td>\n",
       "    </tr>\n",
       "    <tr>\n",
       "      <th>4</th>\n",
       "      <td>ham</td>\n",
       "      <td>Nah I don't think he goes to usf, he lives aro...</td>\n",
       "    </tr>\n",
       "  </tbody>\n",
       "</table>\n",
       "</div>"
      ],
      "text/plain": [
       "  spam_or_ham                                            message\n",
       "0         ham  Go until jurong point, crazy.. Available only ...\n",
       "1         ham                      Ok lar... Joking wif u oni...\n",
       "2        spam  Free entry in 2 a wkly comp to win FA Cup fina...\n",
       "3         ham  U dun say so early hor... U c already then say...\n",
       "4         ham  Nah I don't think he goes to usf, he lives aro..."
      ]
     },
     "execution_count": 5,
     "metadata": {},
     "output_type": "execute_result"
    }
   ],
   "source": [
    "# print head of data frame with help of head function \n",
    "df.head()"
   ]
  },
  {
   "cell_type": "markdown",
   "id": "1749da04",
   "metadata": {},
   "source": [
    "## Count plot of the output categories: spam or ham\n",
    "\n",
    "Feel free to take a look at the output and whether the classes are balanced or imbalanced. "
   ]
  },
  {
   "cell_type": "code",
   "execution_count": 6,
   "id": "c152e8a4",
   "metadata": {},
   "outputs": [
    {
     "data": {
      "image/png": "[encoded data removed]",
      "text/plain": [
       "<Figure size 576x432 with 1 Axes>"
      ]
     },
     "metadata": {
      "needs_background": "light"
     },
     "output_type": "display_data"
    }
   ],
   "source": [
    "plt.figure(figsize = (8,6))\n",
    "sns.countplot(x = \"spam_or_ham\", data = df)\n",
    "plt.title(\"Spam Vs. Ham Messages count\", fontsize = 15)\n",
    "plt.show()"
   ]
  },
  {
   "cell_type": "markdown",
   "id": "9b8549f2",
   "metadata": {},
   "source": [
    "## Upsampling the minority class: (5 points)\n",
    "\n",
    "It is known that Naive bayes is not robust to class imbalance. It could be seen above that the data is quite imbalanced. Therefore, class balancing must be done before giving it to the Naive Bayes model for prediction. \n",
    "\n",
    "Feel free to use 'resample' library from sklearn. "
   ]
  },
  {
   "cell_type": "code",
   "execution_count": 7,
   "id": "80f27192",
   "metadata": {},
   "outputs": [],
   "source": [
    "## hint: use resample from sklearn.utils\n",
    "from sklearn.utils import resample\n",
    "\n",
    "df_majority = df[df['spam_or_ham'] == 'ham']\n",
    "df_minority = df[df['spam_or_ham'] == 'spam']\n",
    "\n",
    "spam_upsample = resample(df_minority, replace = True, \n",
    "                        n_samples = df_majority.shape[0],\n",
    "                        random_state = 101)\n",
    "\n",
    "df_upsampled = pd.concat([df_majority, spam_upsample])  # concat two data frames i,e majority class data set and upsampled minority class data set\n",
    "df_upsampled = df_upsampled.sample(frac = 1)"
   ]
  },
  {
   "cell_type": "code",
   "execution_count": 8,
   "id": "6a9329bb",
   "metadata": {},
   "outputs": [
    {
     "name": "stdout",
     "output_type": "stream",
     "text": [
      "(4825, 2)\n"
     ]
    }
   ],
   "source": [
    "## Just to ensure that upsampling was done successfully, take a look at the shape of the data in \n",
    "## this cell. \n",
    "\n",
    "# print the shape of data set with the help of shape function having \"spam\" as class label\n",
    "# df_upsampled.head()\n",
    "print(df_upsampled[df_upsampled['spam_or_ham'] == 'spam'].shape)"
   ]
  },
  {
   "cell_type": "markdown",
   "id": "6f8bf6e7",
   "metadata": {},
   "source": [
    "### Expected Output : \n",
    "(4825, 2)"
   ]
  },
  {
   "cell_type": "code",
   "execution_count": 9,
   "id": "bdea8155",
   "metadata": {},
   "outputs": [
    {
     "name": "stdout",
     "output_type": "stream",
     "text": [
      "(4825, 2)\n"
     ]
    }
   ],
   "source": [
    "## Ensure that the same number of data points are present for both 'spam' and 'ham' data\n",
    "\n",
    "# print the shape of data set with the help of shape function having \"ham\" as class label\n",
    "print(df_upsampled[df_upsampled['spam_or_ham'] == 'ham'].shape)"
   ]
  },
  {
   "cell_type": "markdown",
   "id": "626f01d5",
   "metadata": {},
   "source": [
    "### Expected Output : \n",
    "(4825, 2)"
   ]
  },
  {
   "cell_type": "code",
   "execution_count": 10,
   "id": "61eb9d01",
   "metadata": {},
   "outputs": [],
   "source": [
    "## In this cell, we are going to be dividing the data into train and test points\n",
    "## Ensure that you store the upsampled data in a variable called 'df_upsampled' \n",
    "## so that the below operations are performed successfully\n",
    "\n",
    "\n",
    "## Considering 3000 spam and 3000 ham data points\n",
    "spam_data_points_train = df_upsampled[df_upsampled['spam_or_ham'] == 'spam'].iloc[:3000]\n",
    "ham_data_points_train = df_upsampled[df_upsampled['spam_or_ham'] == 'ham'].iloc[:3000]\n",
    "\n",
    "## Considering the remaining data points for test\n",
    "spam_data_points_test = df_upsampled[df_upsampled['spam_or_ham'] == 'spam'].iloc[3000:]\n",
    "ham_data_points_test = df_upsampled[df_upsampled['spam_or_ham'] == 'ham'].iloc[3000:]\n",
    "\n",
    "## Concatenate the training ham and spam messages\n",
    "X_train = pd.concat([spam_data_points_train['message'], ham_data_points_train['message']])\n",
    "## Concatenating the training ham and spam outputs\n",
    "y_train = pd.concat([spam_data_points_train['spam_or_ham'], ham_data_points_train['spam_or_ham']])\n",
    "\n",
    "## Concatenating the test ham and spam messages\n",
    "X_test = pd.concat([spam_data_points_test['message'], ham_data_points_test['message']])\n",
    "## Concatenating the test ham and spam outputs\n",
    "y_test = pd.concat([spam_data_points_test['spam_or_ham'], ham_data_points_test['spam_or_ham']])\n"
   ]
  },
  {
   "cell_type": "code",
   "execution_count": 11,
   "id": "6428047d",
   "metadata": {},
   "outputs": [
    {
     "data": {
      "text/plain": [
       "ham     3000\n",
       "spam    3000\n",
       "Name: spam_or_ham, dtype: int64"
      ]
     },
     "execution_count": 11,
     "metadata": {},
     "output_type": "execute_result"
    }
   ],
   "source": [
    "## Take a look at the total number of classes and their count using '.value_counts()' for y_train and y_test.\n",
    "## Ensure that there are equal number of spam and ham messages. \n",
    "y_train.value_counts()"
   ]
  },
  {
   "cell_type": "markdown",
   "id": "7dfe6517",
   "metadata": {},
   "source": [
    "### Expected Output:\n",
    "spam    3000<br>\n",
    "ham     3000<br>\n",
    "Name: spam_or_ham, dtype: int64"
   ]
  },
  {
   "cell_type": "code",
   "execution_count": 12,
   "id": "2beae1d6",
   "metadata": {},
   "outputs": [
    {
     "data": {
      "text/plain": [
       "ham     1825\n",
       "spam    1825\n",
       "Name: spam_or_ham, dtype: int64"
      ]
     },
     "execution_count": 12,
     "metadata": {},
     "output_type": "execute_result"
    }
   ],
   "source": [
    "y_test.value_counts()"
   ]
  },
  {
   "cell_type": "markdown",
   "id": "9163f897",
   "metadata": {},
   "source": [
    "### Expected Output : \n",
    "spam    1825<br>\n",
    "ham     1825<br>\n",
    "Name: spam_or_ham, dtype: int64\n"
   ]
  },
  {
   "cell_type": "markdown",
   "id": "6501699b",
   "metadata": {},
   "source": [
    "## Pre-process the messages: (15 points)\n",
    "\n",
    "We know that a message contains links, punctuation, stopwords and many other words that don't give a lot of meaning for the Naive Bayes model for prediction. \n",
    "\n",
    "In the cell below, one must implement text-preprocessing and remove links, punctuations and stopwords. It is also important to lowercase the letters so that 'Admire' and 'admire' are not treated as different words. \n",
    "\n",
    "In addition to this, perform stemming operation so that similar words are reduced. To know more about stemming, feel free to take a look at this link.\n",
    "\n",
    "https://nlp.stanford.edu/IR-book/html/htmledition/stemming-and-lemmatization-1.html"
   ]
  },
  {
   "cell_type": "code",
   "execution_count": 13,
   "id": "bd4ce1e6",
   "metadata": {},
   "outputs": [],
   "source": [
    "# TASK CELL\n",
    "\n",
    "def clean_message(message):\n",
    "    '''\n",
    "    Input:\n",
    "        message: a string containing a message.\n",
    "    Output:\n",
    "        messages_cleaned: a list of words containing the processed message. \n",
    "\n",
    "    '''\n",
    "    # message = message.lower()\n",
    "    # message = re.sub(r'^https?:\\/\\/.*[\\r\\n]*', '', message, flags=re.MULTILINE)\n",
    "    # tokenizer = nltk.RegexpTokenizer(r\"\\w+\")\n",
    "    # message = tokenizer.tokenize(message)\n",
    "    # # print(message)    \n",
    "    # messages_cleaned = []\n",
    "    # stop_words = set(stopwords.words('english'))\n",
    "    # for word in message:\n",
    "    #     if not word in stop_words:\n",
    "    #         messages_cleaned.append(word)\n",
    "    \n",
    "    message = message.lower().strip()\n",
    "    message = re.sub(r\"<br>\", r\" \", message)\n",
    "    message = re.sub(r\"([-?.!,/\\\"])\", r\" \\1\", message)\n",
    "    message = re.sub(r\"[-()\\\"#/@;:<>{}`+=~|.!?,']\", r\"\", message)\n",
    "    message = re.sub(r\"[ ]+\", r\" \", message)\n",
    "    message = message.rstrip().strip()\n",
    "    \n",
    "    ps = PorterStemmer()\n",
    "    \n",
    "    message = message.split()\n",
    "    messages_cleaned = [ps.stem(word) for word in message if word not in stopwords.words('english')]\n",
    "\n",
    "    return messages_cleaned"
   ]
  },
  {
   "cell_type": "markdown",
   "id": "a7632fe5",
   "metadata": {},
   "source": [
    "## Implement a find_occurrence function (5 points):\n",
    "\n",
    "In this function, we find the total occurrence of a word giving information such as label, word and frequency dictionary.\n",
    "\n",
    "Note that this function is used later in the code when we are going to be predicting the output using Naive Bayes. "
   ]
  },
  {
   "cell_type": "code",
   "execution_count": 14,
   "id": "eb282b81",
   "metadata": {},
   "outputs": [],
   "source": [
    "# TASK CELL\n",
    "def find_occurrence(frequency, word, label):\n",
    "    '''\n",
    "    Params:\n",
    "        frequency: a dictionary with the frequency of each pair (or tuple)\n",
    "        word: the word to look up\n",
    "        label: the label corresponding to the word\n",
    "    Return:\n",
    "        n: the number of times the word with its corresponding label appears.\n",
    "    '''\n",
    "    n = frequency[(word, label)]    \n",
    "\n",
    "    return n"
   ]
  },
  {
   "cell_type": "markdown",
   "id": "29a2249d",
   "metadata": {},
   "source": [
    "## Converting output to numerical format:\n",
    "\n",
    "We have outputs as 'ham' or 'spam'. In the cell below, we convert it to a numerical format. "
   ]
  },
  {
   "cell_type": "code",
   "execution_count": 15,
   "id": "bcdc2b2c",
   "metadata": {},
   "outputs": [],
   "source": [
    "## With the use of mapping function, we replace\n",
    "## the label in the form of string to an integer. \n",
    "\n",
    "output_map = {'ham': 0, 'spam': 1}\n",
    "y_train = y_train.replace(output_map)\n",
    "y_test = y_test.replace(output_map)"
   ]
  },
  {
   "cell_type": "code",
   "execution_count": 16,
   "id": "3dde0bbd",
   "metadata": {},
   "outputs": [
    {
     "data": {
      "text/plain": [
       "0    3000\n",
       "1    3000\n",
       "Name: spam_or_ham, dtype: int64"
      ]
     },
     "execution_count": 16,
     "metadata": {},
     "output_type": "execute_result"
    }
   ],
   "source": [
    "## Ensuring that there are equal number of classes on the training data. \n",
    "y_train.value_counts()"
   ]
  },
  {
   "cell_type": "code",
   "execution_count": 17,
   "id": "f2959b85",
   "metadata": {},
   "outputs": [
    {
     "data": {
      "text/plain": [
       "'Think ur smart ? Win å£200 this week in our weekly quiz, text PLAY to 85222 now!T&Cs WinnersClub PO BOX 84, M26 3UZ. 16+. GBP1.50/week'"
      ]
     },
     "execution_count": 17,
     "metadata": {},
     "output_type": "execute_result"
    }
   ],
   "source": [
    "## Choosing a random message and taking a look at it.\n",
    "X_train.iloc[0]"
   ]
  },
  {
   "cell_type": "markdown",
   "id": "ed5e43c9",
   "metadata": {},
   "source": [
    "From the above cell output, it could be seen that there are a lot of words that don't add a lot of meaning to the text. \n",
    "\n",
    "Therefore, those words would be removed. It also reduces the computation time. \n",
    "\n",
    "Therefore, it is a good practice we are following."
   ]
  },
  {
   "cell_type": "code",
   "execution_count": 18,
   "id": "ad3937ea",
   "metadata": {},
   "outputs": [
    {
     "name": "stdout",
     "output_type": "stream",
     "text": [
      "['think', 'ur', 'smart', 'win', 'å£200', 'week', 'weekli', 'quiz', 'text', 'play', '85222', 't&c', 'winnersclub', 'po', 'box', '84', 'm26', '3uz', '16', 'gbp1', '50', 'week']\n"
     ]
    }
   ],
   "source": [
    "custom_message = X_train.iloc[0]\n",
    "\n",
    "# print cleaned message\n",
    "print(clean_message(custom_message))"
   ]
  },
  {
   "cell_type": "markdown",
   "id": "3e6cc440",
   "metadata": {},
   "source": [
    "We now use this function to pre-process the message and remove words that don't add a lot of meaning in our model. "
   ]
  },
  {
   "cell_type": "markdown",
   "id": "5a762960",
   "metadata": {},
   "source": [
    "## Implementing message counter function: (10 points)\n",
    "\n",
    "It is now time to implement the count function for the messages. \n",
    "\n",
    "In this function, we count the occurrence of words and get the probabilities \n",
    "for the words based on the training data. \n",
    "\n",
    "In other words, we get the probability of occurrence of a word, given that the output is 'spam'.\n",
    "\n",
    "Similarly, we also compute the probability of occurence of a word, given that the output is 'ham'.\n",
    "\n"
   ]
  },
  {
   "cell_type": "code",
   "execution_count": 19,
   "id": "5de61f77",
   "metadata": {},
   "outputs": [],
   "source": [
    "# TASK CELL\n",
    "def message_counter(output_occurrence, messages, spam_or_ham):\n",
    "    '''\n",
    "    Params:\n",
    "        output_occurrence: a dictionary that will be used to map each pair to its frequency\n",
    "        messages: a list of messages\n",
    "        spam_or_ham: a list corresponding to the sentiment of each message (either 0 or 1)\n",
    "    Return:\n",
    "        output: a dictionary mapping each pair to its frequency\n",
    "    '''\n",
    "    ## Steps :\n",
    "    # define the key, which is the word and label tuple\n",
    "    # if the key exists in the dictionary, increment the count\n",
    "    # else, if the key is new, add it to the dictionary and set the count to 1\n",
    "    \n",
    "    for label, message in zip(spam_or_ham, messages):\n",
    "        for word in clean_message(message):\n",
    "            label_tuple = (word, label)\n",
    "            keys = output_occurrence.keys()\n",
    "            if(label_tuple in keys):\n",
    "                output_occurrence[label_tuple]+=1\n",
    "            else:\n",
    "                output_occurrence[label_tuple] = 1   \n",
    "\n",
    "    return output_occurrence\n"
   ]
  },
  {
   "cell_type": "markdown",
   "id": "18238223",
   "metadata": {},
   "source": [
    "## Test your function with example messages:\n",
    "\n",
    "Feel free to run the cell below and understand whether the above function that you have defined is producing the optimum results. "
   ]
  },
  {
   "cell_type": "code",
   "execution_count": 20,
   "id": "07a4c58a",
   "metadata": {},
   "outputs": [
    {
     "data": {
      "text/plain": [
       "{('get', 1): 2,\n",
       " ('offer', 1): 1,\n",
       " ('upto', 1): 1,\n",
       " ('20%', 1): 1,\n",
       " ('come', 0): 1,\n",
       " ('click', 1): 1,\n",
       " ('link', 1): 1,\n",
       " ('latest', 1): 1,\n",
       " ('car', 1): 1,\n",
       " ('canva', 0): 1,\n",
       " ('class', 0): 1,\n",
       " ('schedul', 0): 1}"
      ]
     },
     "execution_count": 20,
     "metadata": {},
     "output_type": "execute_result"
    }
   ],
   "source": [
    "# Testing your function\n",
    "\n",
    "result = {}\n",
    "messages = ['get offer upto 20%', 'I am coming now', 'Click on the link', 'get a latest car', 'canvas class scheduled']\n",
    "ys = [1, 0, 1, 1, 0]\n",
    "message_counter(result,messages, ys)"
   ]
  },
  {
   "cell_type": "markdown",
   "id": "927f89bb",
   "metadata": {},
   "source": [
    "### Expected Output:\n",
    "{('get', 1): 2, <br>\n",
    " ('offer', 1): 1, <br>\n",
    " ('upto', 1): 1, <br>\n",
    " ('20', 1): 1, <br>\n",
    " ('i', 0): 1, <br>\n",
    " ('come', 0): 1, <br>\n",
    " ('click', 1): 1, <br>\n",
    " ('link', 1): 1, <br>\n",
    " ('latest', 1): 1, <br>\n",
    " ('car', 1): 1, <br>\n",
    " ('canva', 0): 1, <br>\n",
    " ('class', 0): 1, <br>\n",
    " ('schedul', 0): 1}"
   ]
  },
  {
   "cell_type": "code",
   "execution_count": 21,
   "id": "9bc62e13",
   "metadata": {},
   "outputs": [],
   "source": [
    "# Build the freqs dictionary for later uses\n",
    "freqs = message_counter({}, X_train, y_train)"
   ]
  },
  {
   "cell_type": "code",
   "execution_count": 22,
   "id": "0eddf420",
   "metadata": {
    "collapsed": true,
    "jupyter": {
     "outputs_hidden": true
    },
    "tags": []
   },
   "outputs": [
    {
     "name": "stdout",
     "output_type": "stream",
     "text": [
      "{('think', 1): 58, ('ur', 1): 627, ('smart', 1): 10, ('win', 1): 255, ('å£200', 1): 46, ('week', 1): 302, ('weekli', 1): 110, ('quiz', 1): 50, ('text', 1): 545, ('play', 1): 90, ('85222', 1): 6, ('t&c', 1): 180, ('winnersclub', 1): 6, ('po', 1): 108, ('box', 1): 106, ('84', 1): 6, ('m26', 1): 20, ('3uz', 1): 20, ('16', 1): 221, ('gbp1', 1): 6, ('50', 1): 178, ('dear', 1): 59, ('voucher', 1): 162, ('holder', 1): 20, ('claim', 1): 451, ('offer', 1): 161, ('pc', 1): 19, ('pleas', 1): 231, ('go', 1): 150, ('http', 1): 82, ('www', 1): 382, ('e', 1): 60, ('tlp', 1): 11, ('co', 1): 231, ('uk', 1): 309, ('reward', 1): 65, ('ts&c', 1): 51, ('appli', 1): 115, ('urgent', 1): 230, ('tri', 1): 155, ('contact', 1): 242, ('last', 1): 50, ('weekend', 1): 44, ('draw', 1): 182, ('show', 1): 128, ('u', 1): 676, ('å£1000', 1): 148, ('prize', 1): 425, ('guarante', 1): 214, ('call', 1): 1505, ('09064017295', 1): 6, ('code', 1): 109, ('k52', 1): 14, ('valid', 1): 103, ('12hr', 1): 66, ('150p', 1): 269, ('pm', 1): 28, ('next', 1): 64, ('month', 1): 57, ('get', 1): 376, ('upto', 1): 15, ('50%', 1): 7, ('4', 1): 435, ('standard', 1): 26, ('network', 1): 135, ('charg', 1): 101, ('2', 1): 785, ('activ', 1): 32, ('9061100010', 1): 7, ('c', 1): 97, ('wire3', 1): 7, ('net', 1): 53, ('1st4term', 1): 7, ('pobox84', 1): 30, ('cost', 1): 98, ('å£1', 1): 125, ('min', 1): 290, ('mobcudb', 1): 7, ('shop', 1): 62, ('till', 1): 11, ('drop', 1): 6, ('either', 1): 44, ('10k', 1): 10, ('5k', 1): 6, ('å£500', 1): 90, ('cash', 1): 316, ('å£100', 1): 111, ('travel', 1): 6, ('09064011000', 1): 6, ('ntt', 1): 30, ('cr01327bt', 1): 6, ('fixedlin', 1): 6, ('150ppm', 1): 135, ('mobil', 1): 566, ('vari', 1): 21, ('realiz', 1): 6, ('40', 1): 10, ('year', 1): 64, ('well', 1): 35, ('thousand', 1): 6, ('old', 1): 9, ('ladi', 1): 20, ('run', 1): 6, ('around', 1): 15, ('tattoo', 1): 6, ('sm', 1): 140, ('servic', 1): 267, ('inclus', 1): 14, ('credit', 1): 63, ('pl', 1): 41, ('gotto', 1): 3, ('comuk', 1): 30, ('login', 1): 15, ('3qxj9', 1): 15, ('unsubscrib', 1): 63, ('stop', 1): 500, ('extra', 1): 23, ('help', 1): 80, ('08702840625', 1): 15, ('220cm2', 1): 3, ('9ae', 1): 15, ('want', 1): 132, ('new', 1): 268, ('nokia', 1): 323, ('3510i', 1): 19, ('colour', 1): 72, ('phone', 1): 227, ('deliv', 1): 12, ('tomorrow', 1): 32, ('200', 1): 10, ('free', 1): 951, ('minut', 1): 50, ('100', 1): 63, ('camcord', 1): 61, ('repli', 1): 478, ('08000930705', 1): 73, ('motorola', 1): 47, ('12mth', 1): 14, ('1', 1): 192, ('2price', 1): 8, ('linerent', 1): 16, ('500', 1): 114, ('x', 1): 41, ('mins&100txt', 1): 8, ('mth', 1): 21, ('btooth*', 1): 8, ('mobileupd8', 1): 68, ('08001950382', 1): 16, ('2optout', 1): 20, ('d3wv', 1): 8, ('å£2000', 1): 80, ('yr', 1): 59, ('custom', 1): 222, ('repres', 1): 45, ('08714712379', 1): 6, ('10am', 1): 31, ('7pm', 1): 22, ('10p', 1): 91, ('freemsg', 1): 48, ('unlimit', 1): 44, ('smartcal', 1): 4, ('txt', 1): 688, ('68866', 1): 4, ('subscriptn3gbp', 1): 4, ('wk', 1): 116, ('08448714184', 1): 4, ('landlineonli', 1): 4, ('1st', 1): 109, ('no1', 1): 53, ('tone', 1): 382, ('mob', 1): 129, ('everi', 1): 137, ('8007', 1): 91, ('txting', 1): 62, ('tell', 1): 82, ('mate', 1): 75, ('getz', 1): 47, ('pobox', 1): 74, ('36504', 1): 45, ('w45wq', 1): 35, ('norm150p', 1): 35, ('sunshin', 1): 25, ('wkli', 1): 55, ('q', 1): 8, ('top', 1): 45, ('soni', 1): 25, ('dvd', 1): 21, ('player', 1): 47, ('know', 1): 93, ('countri', 1): 8, ('liverpool', 1): 8, ('mid', 1): 4, ('ansr', 1): 8, ('82277', 1): 19, ('sptyron', 1): 8, ('chanc', 1): 112, ('å£150', 1): 38, ('worth', 1): 55, ('discount', 1): 42, ('ye', 1): 80, ('85023', 1): 31, ('savamob', 1): 65, ('member', 1): 41, ('cs', 1): 53, ('08717898035', 1): 15, ('å£3', 1): 59, ('00', 1): 45, ('sub', 1): 46, ('remov', 1): 34, ('boltblu', 1): 3, ('poli', 1): 82, ('mono', 1): 14, ('eg', 1): 36, ('poly3', 1): 3, ('cha', 1): 6, ('slide', 1): 3, ('yeah', 1): 3, ('3', 1): 98, ('slow', 1): 3, ('jamz', 1): 3, ('6', 1): 28, ('toxic', 1): 3, ('8', 1): 3, ('come', 1): 18, ('done', 1): 16, ('4*', 1): 92, ('costa', 1): 25, ('del', 1): 32, ('sol', 1): 25, ('holiday', 1): 121, ('å£5000', 1): 84, ('await', 1): 118, ('collect', 1): 227, ('09050090044', 1): 22, ('toclaim', 1): 22, ('sae', 1): 84, ('tc', 1): 52, ('pobox334', 1): 22, ('stockport', 1): 22, ('sk38xh', 1): 29, ('costå£1', 1): 22, ('max10min', 1): 22, ('wamma', 1): 4, ('laid', 1): 23, ('real', 1): 73, ('doggin', 1): 4, ('locat', 1): 28, ('sent', 1): 52, ('direct', 1): 49, ('join', 1): 79, ('largest', 1): 23, ('dog', 1): 59, ('69696', 1): 9, ('nyt', 1): 13, ('ec2a', 1): 27, ('3lp', 1): 13, ('msg', 1): 213, ('current', 1): 55, ('messag', 1): 182, ('08718723815', 1): 7, ('splashmobil', 1): 3, ('choos', 1): 32, ('1000', 1): 33, ('gr8', 1): 22, ('subscrit', 1): 3, ('300p', 1): 6, ('one', 1): 46, ('kick', 1): 12, ('back', 1): 88, ('enjoy', 1): 57, ('balanc', 1): 45, ('pound', 1): 91, ('maxim', 1): 36, ('send', 1): 290, ('86688', 1): 88, ('meg', 1): 6, ('cc', 1): 35, ('08718720201', 1): 28, ('hg', 1): 62, ('suite342', 1): 79, ('2land', 1): 79, ('row', 1): 81, ('w1j6hl', 1): 62, ('congrat', 1): 47, ('3650', 1): 10, ('video', 1): 125, ('camera', 1): 139, ('09066382422', 1): 10, ('ave', 1): 13, ('3min', 1): 18, ('close', 1): 20, ('300603', 1): 10, ('post', 1): 27, ('bcm4284', 1): 10, ('ldn', 1): 46, ('wc1n3xx', 1): 18, ('would', 1): 18, ('like', 1): 45, ('see', 1): 77, ('xxx', 1): 41, ('pic', 1): 107, ('hot', 1): 49, ('nearli', 1): 3, ('ban', 1): 3, ('fanci', 1): 36, ('shag', 1): 14, ('interest', 1): 3, ('sextextuk', 1): 3, ('com', 1): 214, ('xxuk', 1): 3, ('suzi', 1): 3, ('69876', 1): 3, ('per', 1): 162, ('tnc', 1): 44, ('websit', 1): 3, ('rington', 1): 164, ('first', 1): 23, ('87131', 1): 19, ('true', 1): 14, ('0845', 1): 12, ('2814032', 1): 7, ('3xå£150pw', 1): 7, ('eå£nd', 1): 7, ('2nd', 1): 89, ('time', 1): 83, ('å£750', 1): 4, ('easi', 1): 53, ('087187272008', 1): 4, ('now1', 1): 4, ('bt', 1): 75, ('nation', 1): 76, ('rate', 1): 145, ('matthew', 1): 7, ('09063440451', 1): 7, ('landlin', 1): 134, ('complimentari', 1): 50, ('4*lux', 1): 7, ('tenerif', 1): 31, ('ppm150', 1): 7, ('box334', 1): 7, ('place', 1): 27, ('town', 1): 14, ('meet', 1): 26, ('excit', 1): 17, ('adult', 1): 17, ('singl', 1): 22, ('chat', 1): 173, ('bank', 1): 7, ('granit', 1): 7, ('issu', 1): 7, ('strong', 1): 12, ('buy', 1): 21, ('explos', 1): 7, ('pick', 1): 26, ('*****up', 1): 7, ('300%', 1): 7, ('***********', 1): 10, ('nasdaq', 1): 7, ('symbol', 1): 7, ('cdgt', 1): 7, ('$5', 1): 7, ('import', 1): 45, ('announc', 1): 18, ('premier', 1): 3, ('freephon', 1): 33, ('0800', 1): 47, ('542', 1): 15, ('0578', 1): 7, ('contract', 1): 15, ('11', 1): 50, ('mnth', 1): 20, ('latest', 1): 161, ('etc', 1): 20, ('doubl', 1): 70, ('&', 1): 422, ('orang', 1): 122, ('tariff', 1): 24, ('callback', 1): 9, ('record', 1): 16, ('r', 1): 95, ('subscrib', 1): 28, ('textcomp', 1): 11, ('250', 1): 11, ('comp', 1): 34, ('question', 1): 42, ('follow', 1): 43, ('subsequ', 1): 3, ('charged150p', 1): 3, ('84128', 1): 13, ('custcar', 1): 26, ('08712405020', 1): 14, ('hey', 1): 21, ('realli', 1): 2, ('horni', 1): 23, ('nake', 1): 2, ('69698', 1): 4, ('150pm', 1): 20, ('tb', 1): 6, ('persolvo', 1): 4, ('chase', 1): 4, ('us', 1): 24, ('sinc', 1): 13, ('sept', 1): 9, ('forå£38', 1): 4, ('definit', 1): 4, ('pay', 1): 5, ('thank', 1): 69, ('inform', 1): 52, ('ignor', 1): 4, ('kath', 1): 4, ('manchest', 1): 4, ('special', 1): 112, ('select', 1): 128, ('receiv', 1): 174, ('2000', 1): 4, ('award', 1): 302, ('08712402050', 1): 10, ('line', 1): 159, ('10ppm', 1): 10, ('ag', 1): 10, ('promo', 1): 10, ('ringtonek', 1): 11, ('84484', 1): 8, ('tonight', 1): 19, ('gravel', 1): 8, ('69888', 1): 12, ('nt', 1): 8, ('31p', 1): 14, ('msg150p', 1): 25, ('handset', 1): 26, ('750', 1): 76, ('anytim', 1): 53, ('å£400', 1): 33, ('xma', 1): 89, ('wait', 1): 58, ('comput', 1): 23, ('randomli', 1): 12, ('loyal', 1): 12, ('09066380611', 1): 12, ('rgent', 1): 9, ('attempt', 1): 96, ('å£1250', 1): 14, ('09071512433', 1): 14, ('b4', 1): 32, ('050703', 1): 14, ('t&csbcm4235wc1n3xx', 1): 14, ('callcost', 1): 14, ('mobilesvari', 1): 14, ('maxå£7', 1): 15, ('winner', 1): 68, ('speak', 1): 31, ('live', 1): 102, ('oper', 1): 51, ('087147123779am', 1): 4, ('bore', 1): 23, ('housew', 1): 11, ('n', 1): 42, ('date', 1): 115, ('0871750', 1): 11, ('77', 1): 11, ('clair', 1): 4, ('havin', 1): 2, ('borin', 1): 2, ('alon', 1): 8, ('wanna', 1): 32, ('cum', 1): 21, ('2nite', 1): 19, ('09099725823', 1): 2, ('hope', 1): 18, ('luv', 1): 20, ('xx', 1): 11, ('callså£1', 1): 13, ('minmoremobsemspobox45po139wa', 1): 6, ('449071512431', 1): 5, ('suppli', 1): 11, ('cd', 1): 72, ('store', 1): 31, ('choic', 1): 10, ('enter', 1): 52, ('music', 1): 110, ('87066', 1): 70, ('ldew', 1): 48, ('subs161win150ppmx3', 1): 8, ('explicit', 1): 4, ('sex', 1): 32, ('30', 1): 9, ('sec', 1): 4, ('ring', 1): 10, ('02073162414', 1): 4, ('20p', 1): 24, ('gsex', 1): 2, ('2667', 1): 2, ('wc1n', 1): 2, ('3xx', 1): 2, ('subscript', 1): 23, ('å£5', 1): 11, ('confirm', 1): 7, ('privat', 1): 70, ('2003', 1): 45, ('account', 1): 68, ('statement', 1): 59, ('800', 1): 43, ('un', 1): 40, ('redeem', 1): 43, ('point', 1): 56, ('08718738002', 1): 2, ('identifi', 1): 56, ('48922', 1): 2, ('expir', 1): 62, ('21', 1): 13, ('04', 1): 37, ('86888', 1): 14, ('hour', 1): 35, ('talk', 1): 30, ('use', 1): 41, ('subscribe6gbp', 1): 14, ('inc', 1): 37, ('3hr', 1): 14, ('txtstop', 1): 14, ('best', 1): 35, ('content', 1): 51, ('10', 1): 60, ('day', 1): 139, ('82324', 1): 7, ('helplin', 1): 8, ('08706091795', 1): 8, ('okmail', 1): 4, ('dave', 1): 9, ('final', 1): 69, ('notic', 1): 14, ('5000', 1): 15, ('09061743806', 1): 9, ('box326', 1): 9, ('cw25wx', 1): 15, ('valu', 1): 62, ('advis', 1): 16, ('recent', 1): 23, ('review', 1): 19, ('å£1500', 1): 16, ('bonu', 1): 94, ('09066364589', 1): 12, ('auction', 1): 71, ('7250i', 1): 17, ('take', 1): 90, ('part', 1): 51, ('86021', 1): 27, ('w1jhl', 1): 17, ('0207', 1): 14, ('083', 1): 8, ('6089', 1): 8, ('sim', 1): 3, ('door', 1): 2, ('word', 1): 82, ('ok', 1): 14, ('88600', 1): 8, ('exp', 1): 2, ('30apr', 1): 2, ('today', 1): 162, ('vodafon', 1): 23, ('number', 1): 156, ('end', 1): 101, ('4882', 1): 10, ('å£350', 1): 56, ('match', 1): 68, ('09064019014', 1): 10, ('hi', 1): 49, ('luci', 1): 4, ('hubbi', 1): 7, ('meetin', 1): 2, ('fri', 1): 7, ('b', 1): 48, ('hotel', 1): 12, ('cumin', 1): 2, ('leav', 1): 5, ('2day', 1): 15, ('09099726395', 1): 2, ('minmobsmorelkpobox177hp51fl', 1): 12, ('**free', 1): 2, ('message**thank', 1): 2, ('18', 1): 177, ('msgrcvd', 1): 2, ('skip', 1): 2, ('customercar', 1): 2, ('08718726270', 1): 5, ('forward', 1): 14, ('21870000hi', 1): 11, ('mailbox', 1): 11, ('alert', 1): 20, ('09056242159', 1): 11, ('retriev', 1): 11, ('ton', 1): 3, ('sexi', 1): 58, ('babe', 1): 20, ('hunk', 1): 3, ('straight', 1): 5, ('gotbab', 1): 3, ('news', 1): 39, ('polic', 1): 6, ('station', 1): 6, ('toilet', 1): 6, ('stolen', 1): 6, ('cop', 1): 6, ('noth', 1): 18, ('thesmszon', 1): 3, ('let', 1): 26, ('anonym', 1): 3, ('mask', 1): 3, ('im', 1): 49, ('potenti', 1): 3, ('abus', 1): 3, ('eastend', 1): 12, ('tv', 1): 43, ('flower', 1): 16, ('dot', 1): 12, ('compar', 1): 12, ('violet', 1): 12, ('tulip', 1): 12, ('f', 1): 55, ('lili', 1): 12, ('84025', 1): 14, ('wkent', 1): 12, ('150p16', 1): 12, ('valentin', 1): 12, ('partner', 1): 15, ('trip', 1): 14, ('lifetim', 1): 8, ('83600', 1): 16, ('rcvd', 1): 43, ('custcare08718720201', 1): 8, ('jamster', 1): 21, ('videosound', 1): 5, ('gold', 1): 5, ('club', 1): 72, ('videosounds2', 1): 5, ('logosmusicnew', 1): 5, ('fun', 1): 30, ('16onli', 1): 10, ('09701213186', 1): 5, ('sue', 1): 6, ('20', 1): 20, ('work', 1): 16, ('lapdanc', 1): 3, ('love', 1): 35, ('bedroom', 1): 3, ('89555', 1): 8, ('textoper', 1): 8, ('g2', 1): 3, ('1da', 1): 3, ('150ppmsg', 1): 3, ('000', 1): 130, ('call09050000327', 1): 11, ('rstm', 1): 10, ('sw7', 1): 10, ('3ss', 1): 10, ('08718738001', 1): 10, ('49557', 1): 5, ('26', 1): 11, ('santa', 1): 24, ('littl', 1): 14, ('eve', 1): 22, ('09077818151', 1): 5, ('book', 1): 35, ('calls1', 1): 5, ('50ppm', 1): 5, ('santacal', 1): 5, ('sexiest', 1): 4, ('dirtiest', 1): 4, ('girl', 1): 41, ('detail', 1): 34, ('89070', 1): 8, ('cancel', 1): 19, ('entri', 1): 104, ('textpod', 1): 8, ('40gb', 1): 21, ('ipod', 1): 46, ('å£250', 1): 45, ('pod', 1): 14, ('gamb', 1): 11, ('gift', 1): 77, ('start', 1): 59, ('tsc', 1): 11, ('idew', 1): 8, ('skillgam', 1): 11, ('1winaweek', 1): 11, ('age16', 1): 30, ('150ppermesssubscript', 1): 11, ('datingi', 1): 6, ('two', 1): 6, ('sport', 1): 16, ('radio', 1): 6, ('connect', 1): 18, ('coincid', 1): 6, ('gnarl', 1): 6, ('barkley', 1): 6, ('\\\\crazy\\\\', 1): 6, ('total', 1): 14, ('right', 1): 16, ('congratul', 1): 68, ('125gift', 1): 20, ('447801259231', 1): 8, ('secret', 1): 41, ('admir', 1): 41, ('look', 1): 47, ('make', 1): 52, ('find', 1): 118, ('r*reveal', 1): 35, ('09058094597', 1): 8, ('lookin', 1): 2, ('sauci', 1): 12, ('daytim', 1): 2, ('wiv', 1): 5, ('busti', 1): 2, ('marri', 1): 7, ('woman', 1): 2, ('sort', 1): 2, ('09099726429', 1): 2, ('janinexx', 1): 2, ('3g', 1): 28, ('videophon', 1): 28, ('09063458130', 1): 19, ('videochat', 1): 28, ('wid', 1): 28, ('java', 1): 28, ('game', 1): 121, ('dload', 1): 28, ('polyph', 1): 19, ('nolin', 1): 28, ('rentl', 1): 28, ('bx420', 1): 29, ('ip4', 1): 29, ('5we', 1): 29, ('w4', 1): 10, ('5wq', 1): 10, ('norm', 1): 11, ('win150ppmx3age16', 1): 7, ('08712402902', 1): 3, ('immedi', 1): 12, ('pdate_now', 1): 6, ('sonyericsson', 1): 24, ('bluetooth', 1): 39, ('08000839402', 1): 61, ('call2optout', 1): 42, ('yhl', 1): 6, ('expressoff', 1): 6, ('80062', 1): 20, ('pass', 1): 23, ('69669', 1): 12, ('polyphon', 1): 19, ('normal', 1): 6, ('gpr', 1): 6, ('someon', 1): 39, ('land', 1): 70, ('09050000928', 1): 3, ('pobox45w2tg150p', 1): 5, ('2004', 1): 29, ('07742676969', 1): 8, ('786', 1): 16, ('unredeem', 1): 16, ('08719180248', 1): 8, ('45239', 1): 14, ('0776xxxxxxx', 1): 10, ('uve', 1): 21, ('invit', 1): 41, ('xchat', 1): 18, ('msgrcvdhg', 1): 17, ('18yr', 1): 13, ('ac', 1): 52, ('sptv', 1): 10, ('jersey', 1): 5, ('devil', 1): 5, ('detroit', 1): 5, ('red', 1): 8, ('wing', 1): 5, ('ice', 1): 5, ('hockey', 1): 5, ('correct', 1): 19, ('incorrect', 1): 5, ('74355', 1): 4, ('iscom', 1): 15, ('mp3', 1): 23, ('83355', 1): 22, ('ibhltd', 1): 16, ('ldnw15h', 1): 16, ('mtmsgrcvd18', 1): 22, ('themobyo', 1): 5, ('yo', 1): 10, ('download', 1): 22, ('click', 1): 22, ('open', 1): 5, ('link', 1): 24, ('fone', 1): 29, ('januari', 1): 3, ('male', 1): 13, ('sale', 1): 17, ('gay', 1): 19, ('cheaper', 1): 7, ('08709222922', 1): 7, ('5p', 1): 10, ('cheap', 1): 14, ('7', 1): 19, ('8p', 1): 7, ('peak', 1): 7, ('08712460324', 1): 27, ('cool', 1): 15, ('readi', 1): 28, ('includ', 1): 10, ('crazi', 1): 22, ('frog', 1): 13, ('axel', 1): 8, ('akon', 1): 8, ('lone', 1): 11, ('black', 1): 8, ('eye', 1): 16, ('dont', 1): 105, ('p', 1): 15, ('info', 1): 34, ('order', 1): 56, ('ref', 1): 13, ('r836', 1): 8, ('å£4', 1): 20, ('arriv', 1): 27, ('09065069154', 1): 8, ('09061749602', 1): 4, ('å£10', 1): 38, ('528', 1): 4, ('hp20', 1): 4, ('1yf', 1): 4, ('mila', 1): 4, ('age23', 1): 4, ('blond', 1): 4, ('guy', 1): 19, ('mtalk', 1): 4, ('69866', 1): 4, ('30pp', 1): 4, ('5free', 1): 4, ('increment', 1): 4, ('help08718728876', 1): 4, ('448712404000pleas', 1): 2, ('08712404000', 1): 2, ('monthli', 1): 3, ('password', 1): 10, ('wap', 1): 50, ('mobsi', 1): 3, ('391784', 1): 3, ('0906346330', 1): 3, ('abta', 1): 9, ('spanish', 1): 5, ('47', 1): 3, ('po19', 1): 3, ('2ez', 1): 3, ('wan2', 1): 5, ('meetgreet', 1): 5, ('westlif', 1): 5, ('m8', 1): 12, ('tour', 1): 7, ('1unbreak', 1): 5, ('2untam', 1): 5, ('3unkempt', 1): 5, ('83049', 1): 5, ('50p', 1): 20, ('std', 1): 31, ('textbuddi', 1): 10, ('area', 1): 27, ('25p', 1): 34, ('search', 1): 10, ('postcod', 1): 14, ('gaytextbuddi', 1): 10, ('name', 1): 50, ('89693', 1): 10, ('08715500022', 1): 6, ('rpl', 1): 6, ('cnl', 1): 6, ('good', 1): 61, ('friend', 1): 67, ('å£2', 1): 56, ('08712103738', 1): 11, ('must', 1): 19, ('89545', 1): 10, ('biz', 1): 23, ('087187262701', 1): 10, ('50gbp', 1): 10, ('mtmsg18', 1): 10, ('txtauction', 1): 23, ('sun0819', 1): 7, ('hello\\\\y', 1): 7, ('seem', 1): 7, ('rt', 1): 3, ('king', 1): 12, ('pro', 1): 3, ('need', 1): 37, ('inforingtonek', 1): 3, ('08701237397', 1): 3, ('filthi', 1): 11, ('stori', 1): 5, ('twink', 1): 4, ('bear', 1): 4, ('scalli', 1): 4, ('skin', 1): 4, ('jock', 1): 4, ('miss', 1): 34, ('08712466669', 1): 4, ('08712460324nat', 1): 4, ('lookatm', 1): 4, ('purchas', 1): 12, ('clip', 1): 2, ('youv', 1): 12, ('35p', 1): 2, ('better', 1): 2, ('mmsto', 1): 2, ('32323', 1): 2, ('boy', 1): 10, ('porn', 1): 22, ('69855', 1): 8, ('24hr', 1): 11, ('stopbcm', 1): 8, ('sf', 1): 8, ('refer', 1): 12, ('x29', 1): 4, ('09065989180', 1): 4, ('09061213237', 1): 9, ('luxuri', 1): 3, ('canari', 1): 3, ('island', 1): 3, ('177', 1): 9, ('m227xi', 1): 9, ('150', 1): 36, ('textand', 1): 1, ('08002988890', 1): 1, ('deliveri', 1): 71, ('havent', 1): 3, ('randi', 1): 7, ('femal', 1): 3, ('local', 1): 13, ('hear', 1): 8, ('netcollex', 1): 14, ('ltd', 1): 59, ('08700621170150p', 1): 8, ('sorri', 1): 10, ('07090201529', 1): 4, ('07815296484', 1): 5, ('41782', 1): 5, ('sat', 1): 9, ('mandi', 1): 7, ('sullivan', 1): 7, ('hotmix', 1): 7, ('fm', 1): 7, ('chosen', 1): 22, ('easter', 1): 7, ('telephon', 1): 7, ('09041940223', 1): 7, ('29', 1): 16, ('03', 1): 62, ('05', 1): 28, ('transfer', 1): 7, ('els', 1): 7, ('money', 1): 14, ('wine', 1): 2, ('946', 1): 2, ('wot', 1): 2, ('fantasi', 1): 34, ('08707509020', 1): 20, ('1327', 1): 20, ('croydon', 1): 20, ('cr9', 1): 20, ('5wb', 1): 20, ('0870', 1): 22, ('09061744553', 1): 9, ('polyh', 1): 9, ('ask', 1): 17, ('3mobil', 1): 2, ('chatlin', 1): 2, ('inclu', 1): 2, ('india', 1): 2, ('cust', 1): 15, ('serv', 1): 2, ('sed', 1): 2, ('l8er', 1): 2, ('got', 1): 27, ('mega', 1): 2, ('bill', 1): 27, ('giv', 1): 2, ('shit', 1): 2, ('bailiff', 1): 2, ('due', 1): 5, ('å£800', 1): 33, ('4mth', 1): 14, ('half', 1): 64, ('price', 1): 66, ('rental', 1): 56, ('11mth', 1): 38, ('mobilesdirect', 1): 14, ('08000938767', 1): 14, ('updat', 1): 88, ('or2stoptxt', 1): 14, ('park', 1): 5, ('flight', 1): 33, ('europ', 1): 3, ('give', 1): 28, ('away', 1): 14, ('10th', 1): 3, ('09050000555', 1): 3, ('ba128nnfwfly150ppm', 1): 3, ('voda', 1): 19, ('1225', 1): 5, ('å£50award', 1): 5, ('08712300220', 1): 22, ('quot', 1): 23, ('3100', 1): 10, ('app', 1): 18, ('80488', 1): 16, ('decemb', 1): 19, ('entitl', 1): 33, ('08002986906', 1): 16, ('indic', 1): 3, ('mayb', 1): 5, ('compens', 1): 2, ('accid', 1): 3, ('uniqu', 1): 10, ('enough', 1): 10, ('30th', 1): 5, ('august', 1): 7, ('areyouuniqu', 1): 5, ('88066', 1): 18, ('lost', 1): 11, ('3pound', 1): 7, ('term', 1): 44, ('condit', 1): 19, ('visit', 1): 25, ('07781482378', 1): 8, ('87077', 1): 26, ('zed', 1): 26, ('wild', 1): 5, ('ill', 1): 5, ('hurri', 1): 5, ('stop2stop', 1): 5, ('welcom', 1): 34, ('improv', 1): 7, ('msgs150p', 1): 7, ('18onli', 1): 7, ('wont', 1): 9, ('believ', 1): 5, ('incred', 1): 5, ('g', 1): 36, ('learn', 1): 5, ('truli', 1): 9, ('amaz', 1): 10, ('thing', 1): 7, ('blow', 1): 5, ('mind', 1): 7, ('o2fwd', 1): 5, ('18p', 1): 5, ('09050000460', 1): 6, ('j89', 1): 6, ('box245c2150pm', 1): 6, ('voicemail', 1): 6, ('08719181513', 1): 5, ('romant', 1): 11, ('pari', 1): 27, ('night', 1): 29, ('å£79', 1): 11, ('08704439680ts&c', 1): 11, ('dream', 1): 14, ('soon', 1): 12, ('career', 1): 9, ('flyng', 1): 4, ('horo', 1): 8, ('star', 1): 18, ('sign', 1): 8, ('ari', 1): 4, ('09066612661', 1): 9, ('20m12aq', 1): 1, ('\\x89ûï', 1): 1, ('goto', 1): 16, ('220', 1): 12, ('cm2', 1): 12, ('u\\x89ûªv', 1): 7, ('bin', 1): 7, ('å£50', 1): 14, ('instant', 1): 7, ('08715203028', 1): 7, ('9th', 1): 7, ('optout', 1): 25, ('08718727870', 1): 14, ('å£900', 1): 34, ('yesterday', 1): 13, ('still', 1): 27, ('09061702893', 1): 9, ('romcapspam', 1): 9, ('everyon', 1): 14, ('respond', 1): 13, ('presenc', 1): 9, ('warm', 1): 13, ('outgo', 1): 9, ('bring', 1): 19, ('breath', 1): 9, ('08714712412', 1): 3, ('blind', 1): 8, ('4u', 1): 18, ('rodds1', 1): 4, ('aberdeen', 1): 4, ('unit', 1): 4, ('kingdom', 1): 4, ('check', 1): 9, ('img', 1): 4, ('w', 1): 17, ('icmb3cktz8r7', 1): 4, ('hide', 1): 4, ('proze', 1): 6, ('norcorp', 1): 6, ('09061790121', 1): 9, ('3030', 1): 24, ('msgwe', 1): 9, ('mistak', 1): 9, ('shortcod', 1): 9, ('83332', 1): 9, ('08081263000', 1): 9, ('refund', 1): 9, ('respons', 1): 8, ('hit', 1): 16, ('09061701851', 1): 3, ('k61', 1): 3, ('12hour', 1): 3, ('sipix', 1): 19, ('digit', 1): 37, ('09061221066', 1): 12, ('fromm', 1): 12, ('within', 1): 22, ('28', 1): 23, ('str8', 1): 2, ('classic', 1): 2, ('200p', 1): 2, ('09058094454', 1): 2, ('acl03530150pm', 1): 11, ('07808726822', 1): 1, ('caller', 1): 58, ('02', 1): 36, ('09', 1): 9, ('0871', 1): 10, ('872', 1): 6, ('9758', 1): 1, ('box95qu', 1): 10, ('rayman', 1): 5, ('golf', 1): 5, ('o2', 1): 30, ('arcad', 1): 30, ('set', 1): 19, ('save', 1): 10, ('activ8', 1): 5, ('press', 1): 15, ('0', 1): 19, ('key', 1): 5, ('termsappli', 1): 5, ('078498****7', 1): 6, ('08719180219', 1): 6, ('06', 1): 38, ('phoni', 1): 5, ('xxxx', 1): 5, ('087104711148', 1): 3, ('08', 1): 9, ('4719', 1): 4, ('523', 1): 4, ('movi', 1): 8, ('89105', 1): 5, ('film', 1): 20, ('ts', 1): 12, ('rip', 1): 2, ('clubmobi', 1): 2, ('08717509990', 1): 2, ('pix', 1): 17, ('six', 1): 7, ('m263uz', 1): 16, ('09096102316', 1): 4, ('2moro', 1): 4, ('jane', 1): 4, ('08002986030', 1): 14, ('sang', 1): 4, ('uptown', 1): 4, ('80', 1): 4, ('answer', 1): 27, ('luck', 1): 31, ('loyalti', 1): 22, ('offerth', 1): 10, ('nokia6650', 1): 10, ('81151', 1): 10, ('4t&ctxt', 1): 10, ('mtmsg', 1): 10, ('28th', 1): 8, ('feb', 1): 8, ('87239', 1): 25, ('08708034412', 1): 13, ('lf56', 1): 5, ('nok', 1): 6, ('87021', 1): 10, ('txtin', 1): 15, ('hl', 1): 20, ('4info', 1): 15, ('09066364311', 1): 15, ('08715203652', 1): 4, ('42810', 1): 4, ('08718726971', 1): 4, ('super', 1): 8, ('cannam', 1): 4, ('capit', 1): 4, ('australia', 1): 4, ('mquiz', 1): 4, ('114', 1): 14, ('14', 1): 14, ('tcr', 1): 14, ('w1', 1): 22, ('may', 1): 18, ('upgrad', 1): 11, ('153', 1): 6, ('9996', 1): 3, ('14thmarch', 1): 3, ('opt', 1): 60, ('availa', 1): 3, ('user', 1): 41, ('id', 1): 10, ('1172', 1): 5, ('09058094565', 1): 15, ('guess', 1): 17, ('somebodi', 1): 6, ('secretli', 1): 6, ('09065394973', 1): 4, ('datebox1282essexcm61xn', 1): 6, ('***************', 1): 2, ('reach', 1): 23, ('09066368753', 1): 2, ('asap', 1): 27, ('97n7qp', 1): 2, ('81303', 1): 6, ('could', 1): 27, ('suffici', 1): 3, ('08715203685', 1): 4, ('code4xx26', 1): 4, ('13', 1): 5, ('com1win150ppmx3age16subscript', 1): 11, ('round', 1): 3, ('highest', 1): 3, ('bid', 1): 26, ('å£54', 1): 3, ('maximum', 1): 3, ('å£71', 1): 3, ('83383', 1): 11, ('ou', 1): 5, ('\\\\for', 1): 2, ('sparkl', 1): 2, ('break', 1): 13, ('45', 1): 2, ('person', 1): 11, ('0121', 1): 2, ('2025050', 1): 2, ('shortbreak', 1): 2, ('org', 1): 2, ('uk\\\\', 1): 2, ('å£600', 1): 5, ('complet', 1): 10, ('landmark', 1): 5, ('big', 1): 9, ('bob', 1): 5, ('barri', 1): 5, ('ben', 1): 5, ('83738', 1): 5, ('09061790126', 1): 3, ('2u', 1): 3, ('rpli', 1): 21, ('titl', 1): 24, ('breathe1', 1): 3, ('crazyin', 1): 3, ('sleepingwith', 1): 3, ('finest', 1): 3, ('ymca', 1): 3, ('pobox365o4w45wq', 1): 3, ('xclusiveclubsaisai', 1): 8, ('2morow', 1): 8, ('5', 1): 44, ('soire', 1): 8, ('zouk', 1): 8, ('nichol', 1): 8, ('rose', 1): 8, ('07946746291', 1): 8, ('07880867867', 1): 8, ('&c', 1): 7, ('0789xxxxxxx', 1): 5, ('lucki', 1): 40, ('2find', 1): 11, ('log', 1): 40, ('onto', 1): 40, ('urawinn', 1): 32, ('there', 1): 18, ('fantast', 1): 35, ('surpris', 1): 27, ('lastest', 1): 8, ('stereophon', 1): 8, ('marley', 1): 8, ('dizze', 1): 8, ('racal', 1): 8, ('libertin', 1): 8, ('stroke', 1): 8, ('nookii', 1): 8, ('flirt', 1): 28, ('themob', 1): 11, ('bookmark', 1): 8, ('82468', 1): 8, ('sppok', 1): 8, ('halloween', 1): 16, ('logo&p', 1): 8, ('plu', 1): 32, ('eeri', 1): 25, ('card', 1): 17, ('spook', 1): 24, ('child', 1): 2, ('afraid', 1): 2, ('dark', 1): 2, ('becom', 1): 2, ('teenag', 1): 2, ('stay', 1): 8, ('wallpap', 1): 12, ('heart', 1): 11, ('88888', 1): 11, ('08701213186', 1): 6, ('hard', 1): 9, ('121', 1): 7, ('60p', 1): 28, ('09094646899', 1): 7, ('biggest', 1): 8, ('vu', 1): 7, ('bcm1896wc1n3xx', 1): 7, ('heard', 1): 14, ('u4', 1): 14, ('rude', 1): 13, ('01223585334', 1): 11, ('wan', 1): 11, ('2c', 1): 11, ('gettin', 1): 11, ('8552', 1): 22, ('2end', 1): 11, ('sam', 1): 14, ('08718726970', 1): 4, ('bloomberg', 1): 10, ('center', 1): 5, ('447797706009', 1): 5, ('futur', 1): 12, ('free2day', 1): 10, ('st', 1): 10, ('georg', 1): 10, ('jordan', 1): 14, ('89080', 1): 10, ('celeb', 1): 11, ('pocketbab', 1): 11, ('0870241182716', 1): 10, ('footbal', 1): 10, ('sky', 1): 30, ('gamestar', 1): 10, ('å£250k', 1): 10, ('team', 1): 14, ('score', 1): 14, ('saturday', 1): 27, ('regist', 1): 25, ('88088', 1): 10, ('\\\\polys\\\\', 1): 3, ('0870737910216yr', 1): 3, ('competit', 1): 11, ('80086', 1): 5, ('txttowin', 1): 5, ('simpli', 1): 12, ('\\\\mix\\\\', 1): 7, ('85069', 1): 7, ('verifi', 1): 13, ('usher', 1): 7, ('britney', 1): 7, ('fml', 1): 7, ('membership', 1): 7, ('jackpot', 1): 7, ('81010', 1): 7, ('dbuk', 1): 7, ('lccltd', 1): 7, ('4403ldnw1a7rw18', 1): 7, ('notifi', 1): 3, ('market', 1): 3, ('84122', 1): 3, ('08450542832', 1): 3, ('169', 1): 10, ('6031', 1): 10, ('9pm', 1): 10, ('monoc', 1): 5, ('polyc', 1): 5, ('stream', 1): 5, ('0871212025016', 1): 5, ('women', 1): 5, ('discreet', 1): 11, ('action', 1): 16, ('instantli', 1): 5, ('69969', 1): 5, ('bcmsfwc1n3xx', 1): 5, ('146tf150p', 1): 4, ('address', 1): 13, ('accommod', 1): 5, ('variou', 1): 5, ('global', 1): 5, ('phb1', 1): 5, ('ph08700435505150p', 1): 5, ('even', 1): 23, ('cashto', 1): 13, ('08000407165', 1): 13, ('getstop', 1): 13, ('88222', 1): 13, ('php', 1): 13, ('ree', 1): 4, ('80182', 1): 11, ('08452810073', 1): 11, ('logo', 1): 27, ('lover', 1): 5, ('name1', 1): 5, ('name2', 1): 5, ('mobno', 1): 5, ('adam', 1): 5, ('07123456789', 1): 5, ('yahoo', 1): 5, ('pobox36504w45wq', 1): 21, ('txtno', 1): 5, ('ad', 1): 9, ('outbid', 1): 4, ('simonwatson5120', 1): 4, ('shinco', 1): 4, ('plyr', 1): 4, ('smsreward', 1): 4, ('notif', 1): 4, ('078', 1): 5, ('chart', 1): 20, ('hero', 1): 10, ('tip', 1): 10, ('knicker', 1): 3, ('beg', 1): 3, ('01223585236', 1): 3, ('nikiyu4', 1): 3, ('rg21', 1): 9, ('4jx', 1): 9, ('realiti', 1): 4, ('citi', 1): 8, ('summer', 1): 38, ('spree', 1): 28, ('88039', 1): 16, ('skilgm', 1): 16, ('tscs087147403231winawk', 1): 8, ('age16å£1', 1): 3, ('50perwksub', 1): 8, ('dracula', 1): 9, ('ghost', 1): 9, ('addamsfa', 1): 9, ('munster', 1): 9, ('exorcist', 1): 9, ('twilight', 1): 9, ('help08714742804', 1): 5, ('freemsgfav', 1): 5, ('0825', 1): 8, ('five', 1): 11, ('08000776320', 1): 8, ('lyricalladie21', 1): 6, ('910', 1): 12, ('hmmross', 1): 6, ('frnd', 1): 23, ('62468', 1): 23, ('brand', 1): 18, ('7250', 1): 10, ('peopl', 1): 6, ('62220cncl', 1): 1, ('stopc', 1): 1, ('08717890890å£1', 1): 1, ('bubbletext', 1): 1, ('renew', 1): 10, ('pin', 1): 1, ('tgxxrz', 1): 1, ('07xxxxxxxxx', 1): 13, ('09066362231', 1): 14, ('box97n7qp', 1): 18, ('tkt', 1): 13, ('euro2004', 1): 25, ('cup', 1): 21, ('09058099801', 1): 8, ('b4190604', 1): 8, ('7876150ppm', 1): 8, ('simpson', 1): 3, ('releas', 1): 3, ('juli', 1): 6, ('2007', 1): 5, ('band', 1): 3, ('die', 1): 3, ('green', 1): 3, ('blue', 1): 3, ('31', 1): 10, ('2005', 1): 8, ('unsub', 1): 22, ('80608', 1): 6, ('movietrivia', 1): 6, ('08712405022', 1): 6, ('1x150p', 1): 19, ('mobi', 1): 14, ('pub', 1): 7, ('high', 1): 12, ('street', 1): 7, ('duchess', 1): 7, ('cornwal', 1): 7, ('008704050406', 1): 7, ('sp', 1): 10, ('08712402972', 1): 3, ('sound', 1): 10, ('mad1', 1): 5, ('mad2', 1): 5, ('gbp', 1): 11, ('83370', 1): 4, ('trivia', 1): 4, ('08715705022', 1): 18, ('eurodisinc', 1): 6, ('trav', 1): 6, ('aco&entry41', 1): 6, ('di', 1): 6, ('87121', 1): 11, ('186*å£1', 1): 6, ('50morefrmmob', 1): 6, ('shracomorsglsuplt10', 1): 6, ('ls1', 1): 6, ('3aj', 1): 6, ('algarv', 1): 4, ('wet', 1): 6, ('recd', 1): 10, ('vat', 1): 4, ('hol', 1): 9, ('med', 1): 10, ('stamp', 1): 4, ('self', 1): 4, ('envelop', 1): 4, ('drink', 1): 4, ('113', 1): 4, ('bray', 1): 4, ('wicklow', 1): 4, ('eir', 1): 4, ('wrc', 1): 24, ('ralli', 1): 24, ('oz', 1): 12, ('lucozad', 1): 24, ('energi', 1): 17, ('le', 1): 12, ('61200', 1): 12, ('pack', 1): 12, ('itcould', 1): 12, ('ticket', 1): 9, ('8pm', 1): 5, ('thur', 1): 8, ('theyr', 1): 5, ('sell', 1): 5, ('fast', 1): 5, ('natali', 1): 3, ('165', 1): 6, ('natalie2k9', 1): 3, ('09061743386', 1): 7, ('08701417012150p', 1): 8, ('cinema', 1): 9, ('09061209465', 1): 9, ('suprman', 1): 9, ('v', 1): 15, ('matrix3', 1): 9, ('starwars3', 1): 9, ('sexychat', 1): 2, ('great', 1): 43, ('27', 1): 15, ('08714714011', 1): 7, ('receivea', 1): 15, ('09061701461', 1): 15, ('kl341', 1): 15, ('12', 1): 28, ('7634', 1): 1, ('7684', 1): 1, ('lord', 1): 5, ('ringsreturn', 1): 5, ('lotr', 1): 10, ('june', 1): 5, ('soundtrack', 1): 5, ('stdtxtrate', 1): 5, ('2stoptxt', 1): 14, ('b4u', 1): 8, ('marsm', 1): 8, ('b4utel', 1): 8, ('care', 1): 33, ('08717168528', 1): 8, ('\\\\stop', 1): 6, ('mix\\\\', 1): 6, ('html', 1): 6, ('gbp4', 1): 6, ('mfl', 1): 6, ('text82228', 1): 6, ('txt82228', 1): 6, ('infotxt82228', 1): 6, ('k', 1): 11, ('ever', 1): 8, ('your', 1): 7, ('drive', 1): 10, ('anyon', 1): 5, ('slower', 1): 5, ('idiot', 1): 5, ('faster', 1): 5, ('maniac', 1): 5, ('rct', 1): 2, ('thnq', 1): 2, ('adrian', 1): 2, ('rgd', 1): 2, ('vatian', 1): 2, ('hello', 1): 10, ('posh', 1): 4, ('bird', 1): 4, ('chap', 1): 4, ('trial', 1): 4, ('prod', 1): 4, ('champney', 1): 4, ('put', 1): 4, ('dob', 1): 4, ('ta', 1): 4, ('dept', 1): 1, ('08717507382', 1): 1, ('fastest', 1): 14, ('grow', 1): 14, ('83021', 1): 8, ('knock', 1): 4, ('whose', 1): 2, ('80082', 1): 7, ('tkl', 1): 2, ('stoptxtstopå£1', 1): 2, ('reveal', 1): 27, ('09065174042', 1): 6, ('07821230901', 1): 6, ('k718', 1): 5, ('09065069120', 1): 5, ('spjanuari', 1): 4, ('vco', 1): 4, ('vote', 1): 8, ('sing', 1): 16, ('along', 1): 8, ('karaok', 1): 8, ('08715205273', 1): 6, ('09058094594', 1): 5, ('09064012103', 1): 3, ('box334sk38ch', 1): 7, ('youll', 1): 6, ('rcv', 1): 8, ('svc', 1): 6, ('hardcor', 1): 11, ('69988', 1): 6, ('age', 1): 36, ('rock', 1): 6, ('chik', 1): 6, ('&xxx', 1): 6, ('filth', 1): 6, ('saristar', 1): 6, ('e14', 1): 6, ('9yt', 1): 6, ('08701752560', 1): 6, ('450p', 1): 6, ('stop2', 1): 6, ('\\\\divorc', 1): 4, ('barbie\\\\', 1): 4, ('ken', 1): 4, ('stuff', 1): 4, ('08715203656', 1): 4, ('42049', 1): 4, ('com1win150ppmx3age16', 1): 19, ('08708800282', 1): 7, ('09050000332', 1): 2, ('donat', 1): 6, ('unicef', 1): 3, ('asian', 1): 3, ('tsunami', 1): 3, ('disast', 1): 3, ('support', 1): 6, ('fund', 1): 3, ('864233', 1): 3, ('tscs08714740323', 1): 8, ('1winawk', 1): 8, ('50perweeksub', 1): 8, ('cock', 1): 5, ('man', 1): 7, ('satisfi', 1): 9, ('wife', 1): 5, ('89938', 1): 5, ('string', 1): 5, ('rec', 1): 5, ('50ea', 1): 5, ('otbox', 1): 5, ('731', 1): 5, ('la1', 1): 5, ('7w', 1): 5, ('headset', 1): 5, ('\\\\adp\\\\', 1): 5, ('09058094599', 1): 7, ('vip', 1): 12, ('blu', 1): 4, ('concert', 1): 2, ('novemb', 1): 2, ('09061104276', 1): 2, ('smsco', 1): 5, ('costå£3', 1): 2, ('75max', 1): 2, ('remind', 1): 6, ('hous', 1): 4, ('freefon', 1): 16, ('08006344447', 1): 8, ('mini', 1): 8, ('snap', 1): 8, ('quizclub', 1): 8, ('80122300p', 1): 8, ('sprwm', 1): 8, ('ph08704050406', 1): 8, ('07732584351', 1): 3, ('rodger', 1): 3, ('burn', 1): 3, ('4qf2', 1): 5, ('subpoli', 1): 7, ('81618', 1): 7, ('amanda', 1): 4, ('regard', 1): 4, ('tel', 1): 4, ('021', 1): 5, ('3680', 1): 5, ('subject', 1): 4, ('accordingli', 1): 4, ('repeat', 1): 4, ('0721072', 1): 2, ('1mcfli', 1): 2, ('ab', 1): 2, ('sara', 1): 2, ('jorg', 1): 2, ('shock', 1): 2, ('smith', 1): 2, ('switch', 1): 2, ('instruct', 1): 6, ('fa', 1): 10, ('21st', 1): 5, ('questionstd', 1): 5, ('ratet&c', 1): 5, ('08452810075over18', 1): 5, ('arsen', 1): 13, ('dartboard', 1): 5, ('trebl', 1): 5, ('british', 1): 6, ('london', 1): 13, ('02072069400', 1): 3, ('bx', 1): 3, ('526', 1): 3, ('sw73ss', 1): 6, ('09071517866', 1): 6, ('150ppmpobox10183bhamb64x', 1): 6, ('hungri', 1): 6, ('feel', 1): 7, ('08718730555', 1): 3, ('season', 1): 2, ('2wk', 1): 2, ('goal', 1): 12, ('villa', 1): 2, ('lead', 1): 3, ('151', 1): 3, ('paus', 1): 3, ('123', 1): 10, ('å£1450', 1): 14, ('09050002311', 1): 8, ('b4280703', 1): 8, ('08718727868', 1): 8, ('x49', 1): 6, ('09065989182', 1): 6, ('horniest', 1): 4, ('access', 1): 33, ('photo', 1): 7, ('ow', 1): 3, ('09053750005', 1): 6, ('310303', 1): 6, ('08718725756', 1): 6, ('140ppm', 1): 6, ('shi', 1): 7, ('09058091870', 1): 7, ('08712400200', 1): 2, ('0808', 1): 18, ('145', 1): 18, ('4742', 1): 18, ('9am', 1): 18, ('11pm', 1): 18, ('61610', 1): 12, ('help08712400602450p', 1): 12, ('provid', 1): 13, ('tones2y', 1): 12, ('upgrdcentr', 1): 3, ('9153', 1): 3, ('26th', 1): 3, ('avail', 1): 10, ('funk', 1): 11, ('tones2u', 1): 11, ('origin', 1): 17, ('3gbp', 1): 17, ('bloke', 1): 4, ('zoe', 1): 4, ('mr', 1): 8, ('foley', 1): 8, ('keep', 1): 18, ('82050', 1): 8, ('9', 1): 5, ('09064019788', 1): 5, ('box42wr29c', 1): 5, ('space', 1): 10, ('invad', 1): 10, ('orig', 1): 10, ('consol', 1): 10, ('69101', 1): 4, ('rtf', 1): 4, ('sphost', 1): 4, ('08709501522', 1): 6, ('139', 1): 6, ('la3', 1): 6, ('2wu', 1): 6, ('0796xxxxxx', 1): 5, ('prizeawait', 1): 5, ('wed', 1): 3, ('lingeri', 1): 2, ('bridal', 1): 2, ('petticoatdream', 1): 2, ('superb', 1): 2, ('brought', 1): 7, ('weddingfriend', 1): 2, ('09050003091', 1): 7, ('c52', 1): 7, ('valid12hr', 1): 11, ('anoth', 1): 7, ('polo', 1): 7, ('suit', 1): 7, ('373', 1): 7, ('w1j', 1): 7, ('6hl', 1): 7, ('busi', 1): 7, ('09066358152', 1): 9, ('prompt', 1): 9, ('mani', 1): 9, ('restrict', 1): 2, ('buddi', 1): 2, ('sir', 1): 2, ('\\\\3000', 1): 6, ('loan', 1): 13, ('purpos', 1): 13, ('å£75', 1): 13, ('homeown', 1): 13, ('tenant', 1): 13, ('previous', 1): 13, ('refus', 1): 13, ('1956669', 1): 13, ('picsfree1', 1): 10, ('vid', 1): 5, ('keyword', 1): 5, ('someonon', 1): 4, ('via', 1): 11, ('09064015307', 1): 4, ('england', 1): 25, ('macedonia', 1): 2, ('trywal', 1): 2, ('scotland', 1): 2, ('4txt', 1): 3, ('ì¼1', 1): 2, ('poboxox36504w45wq', 1): 2, ('22', 1): 7, ('kept', 1): 17, ('result', 1): 17, ('daili', 1): 21, ('83222', 1): 17, ('kit', 1): 5, ('strip', 1): 5, ('1013', 1): 5, ('ig11', 1): 5, ('oja', 1): 5, ('update_now', 1): 14, ('f4q', 1): 8, ('09094100151', 1): 1, ('cast', 1): 1, ('aom', 1): 2, ('gbp5', 1): 1, ('box61', 1): 1, ('m60', 1): 1, ('1er', 1): 1, ('7548', 1): 6, ('$350', 1): 6, ('4041', 1): 6, ('09061743810', 1): 4, ('326', 1): 6, ('ppm', 1): 20, ('09066361921', 1): 7, ('09066649731from', 1): 2, ('ibiza', 1): 21, ('434', 1): 19, ('sk3', 1): 15, ('8wp', 1): 15, ('lion', 1): 6, ('lionm', 1): 6, ('lionp', 1): 6, ('hvae', 1): 6, ('09061701444', 1): 6, ('24', 1): 21, ('ukp2000', 1): 3, ('09061790125', 1): 3, ('applausestor', 1): 4, ('monthlysubscription50p', 1): 4, ('max6', 1): 4, ('t&csc', 1): 4, ('web', 1): 7, ('2stop', 1): 10, ('complementari', 1): 5, ('wa14', 1): 5, ('2px', 1): 5, ('sender', 1): 5, ('087018728737', 1): 2, ('toppoli', 1): 2, ('tune', 1): 2, ('pole', 1): 2, ('09066362220', 1): 3, ('wtlp', 1): 4, ('09061743811', 1): 2, ('0871277810810', 1): 8, ('chang', 1): 8, ('25', 1): 22, ('club4mobil', 1): 8, ('87070', 1): 8, ('club4', 1): 8, ('box1146', 1): 8, ('mk45', 1): 8, ('2wt', 1): 8, ('fall', 1): 6, ('world', 1): 14, ('83110', 1): 6, ('2p', 1): 6, ('germani', 1): 10, ('08448350055', 1): 3, ('planettalkinst', 1): 3, ('gent', 1): 8, ('09064012160', 1): 8, ('09066368470', 1): 4, ('garden', 1): 10, ('bulb', 1): 10, ('seed', 1): 10, ('å£3350', 1): 10, ('scotsman', 1): 10, ('go2', 1): 10, ('notxt', 1): 10, ('tm', 1): 9, ('widel', 1): 9, ('index', 1): 9, ('wml', 1): 9, ('id1b6a5ecef91ff9*37819&firsttrue180430', 1): 7, ('jul', 1): 7, ('gender', 1): 13, ('begin', 1): 8, ('24m', 1): 8, ('deliveredtomorrow', 1): 12, ('300', 1): 12, ('0871277810910p', 1): 4, ('09050001295', 1): 4, ('a21', 1): 4, ('449050000301', 1): 2, ('09050000301', 1): 2, ('6month', 1): 7, ('n9dx', 1): 7, ('08002888812', 1): 4, ('09058094455', 1): 5, ('400min', 1): 6, ('call2optoutj5q', 1): 6, ('å£1million', 1): 5, ('ppt150x3normal', 1): 5, ('box403', 1): 5, ('w1t1ji', 1): 5, ('tddnewsletteremc1', 1): 4, ('thedailydraw', 1): 4, ('helen', 1): 4, ('dozen', 1): 4, ('prizeswith', 1): 4, ('alfi', 1): 7, ('moon', 1): 7, ('children', 1): 7, ('song', 1): 7, ('chariti', 1): 21, ('08701417012', 1): 7, ('profit', 1): 7, ('laugh', 1): 3, ('chit', 1): 3, ('logon', 1): 3, ('8883', 1): 3, ('cm', 1): 3, ('4217', 1): 3, ('w1a', 1): 3, ('6zf', 1): 3, ('118p', 1): 3, ('ya', 1): 4, ('4goten', 1): 4, ('bout', 1): 4, ('scammer', 1): 4, ('though', 1): 4, ('regular', 1): 4, ('prem', 1): 4, ('no', 1): 4, ('also', 1): 8, ('bewar', 1): 4, ('reciev', 1): 3, ('channel', 1): 3, ('teletext', 1): 3, ('pg', 1): 3, ('09058097218', 1): 1, ('ls15hb', 1): 4, ('6230', 1): 8, ('pobox114', 1): 8, ('14tcr', 1): 8, ('chloe', 1): 3, ('smash', 1): 3, ('visionsm', 1): 6, ('interflora', 1): 8, ('åòit', 1): 4, ('late', 1): 4, ('christma', 1): 4, ('505060', 1): 4, ('midnight', 1): 4, ('cant', 1): 8, ('09058095107', 1): 2, ('s3xi', 1): 2, ('unabl', 1): 7, ('07099833605', 1): 5, ('schedul', 1): 7, ('ref9280114', 1): 5, ('8077', 1): 7, ('panason', 1): 2, ('bluetoothhdset', 1): 2, ('doublemin', 1): 2, ('doubletxt', 1): 2, ('shsex', 1): 2, ('netun', 1): 2, ('fgkslpopw', 1): 2, ('fgkslpo', 1): 2, ('å£125', 1): 5, ('freeentri', 1): 5, ('xt', 1): 5, ('*', 1): 2, ('free*', 1): 2, ('sn', 1): 2, ('pobox202', 1): 2, ('nr31', 1): 2, ('7z', 1): 2, ('450pw', 1): 2, ('09066660100', 1): 2, ('2309', 1): 2, ('08719181259', 1): 2, ('xxxxx', 1): 2, ('09065171142', 1): 8, ('stopsm', 1): 8, ('alreadi', 1): 2, ('paid', 1): 2, ('doit', 1): 2, ('mymobi', 1): 2, ('å£12', 1): 4, ('henri', 1): 8, ('simpl', 1): 4, ('shot', 1): 4, ('yard', 1): 4, ('bergkamp', 1): 4, ('margin', 1): 4, ('78', 1): 4, ('bought', 1): 3, ('will', 1): 1, ('strt', 1): 1, ('ltdhelpdesk', 1): 1, ('02085076972', 1): 1, ('09066350750', 1): 13, ('jsco', 1): 10, ('2channel', 1): 5, ('leadership', 1): 5, ('skill', 1): 5, ('psychic', 1): 5, ('an', 1): 25, ('shortli', 1): 12, ('instal', 1): 4, ('brows', 1): 4, ('artist', 1): 4, ('offici', 1): 14, ('flag', 1): 27, ('yer', 1): 12, ('84199', 1): 12, ('eng', 1): 12, ('box39822', 1): 12, ('w111wx', 1): 12, ('2morro', 1): 8, ('passion', 1): 8, ('09099726481', 1): 8, ('dena', 1): 8, ('08712101358', 1): 8, ('resent', 1): 3, ('previou', 1): 3, ('fail', 1): 3, ('error', 1): 3, ('queri', 1): 3, ('customersqueriesnetvis', 1): 3, ('annonc', 1): 3, ('07046744435', 1): 3, ('arrang', 1): 5, ('087123002209am', 1): 2, ('2night', 1): 3, ('wildest', 1): 3, ('09066358361', 1): 6, ('y87', 1): 6, ('newest', 1): 6, ('åòharri', 1): 2, ('potter', 1): 6, ('phoenix', 1): 6, ('harri', 1): 6, ('among', 1): 6, ('reader', 1): 6, ('penc', 1): 10, ('fix', 1): 7, ('0844', 1): 7, ('861', 1): 7, ('85', 1): 14, ('prepay', 1): 7, ('telediscount', 1): 5, ('csh11', 1): 5, ('87575', 1): 14, ('6day', 1): 5, ('tsandc', 1): 5, ('tarot', 1): 4, ('life', 1): 10, ('85555', 1): 4, ('receipt', 1): 14, ('elvi', 1): 3, ('presley', 1): 3, ('birthday', 1): 3, ('rp176781', 1): 3, ('regalportfolio', 1): 3, ('08717205546', 1): 3, ('08714712388', 1): 4, ('09090900040', 1): 8, ('listen', 1): 18, ('extrem', 1): 8, ('dirti', 1): 8, ('offic', 1): 8, ('privaci', 1): 8, ('[sic]', 1): 8, ('7mp', 1): 8, ('0870753331018', 1): 8, ('09058094507', 1): 2, ('09066364349', 1): 6, ('lose', 1): 6, ('box434sk38wp150ppm18', 1): 6, ('hmv', 1): 31, ('genuin', 1): 10, ('infowww', 1): 10, ('100percent', 1): 10, ('forget', 1): 10, ('request', 1): 9, ('1stchoic', 1): 6, ('wish', 1): 10, ('08707808226', 1): 6, ('speed', 1): 7, ('speedchat', 1): 14, ('80155', 1): 7, ('em', 1): 7, ('swap', 1): 7, ('chatter', 1): 7, ('chat80155', 1): 7, ('rcd', 1): 7, ('85233', 1): 5, ('freerington', 1): 10, ('08719839835', 1): 4, ('mg', 1): 4, ('\\\\go', 1): 4, ('stop\\\\', 1): 4, ('89123', 1): 4, ('tonex', 1): 5, ('clubz', 1): 5, ('*bill', 1): 5, ('msg*', 1): 5, ('08719899230', 1): 3, ('41685', 1): 6, ('07', 1): 6, ('recdthirtyeight', 1): 3, ('8000930705', 1): 3, ('themobhit', 1): 4, ('premium', 1): 7, ('pink', 1): 4, ('panther', 1): 4, ('sugabab', 1): 4, ('zebra', 1): 4, ('anim', 1): 4, ('badass', 1): 4, ('hoodi', 1): 4, ('tripl', 1): 5, ('echo', 1): 5, ('agent', 1): 4, ('load', 1): 4, ('goodi', 1): 4, ('mat', 1): 4, ('survey', 1): 4, ('howev', 1): 4, ('80160', 1): 4, ('txt43', 1): 4, ('wither', 1): 5, ('23f', 1): 5, ('men', 1): 15, ('23g', 1): 5, ('69200', 1): 5, ('hr', 1): 5, ('chrgd50p', 1): 5, ('2exit', 1): 5, ('5226', 1): 2, ('350', 1): 2, ('hava', 1): 2, ('1131', 1): 2, ('bahama', 1): 4, ('callfreefon', 1): 2, ('08081560665', 1): 2, ('cruis', 1): 2, ('ofå£2000', 1): 2, ('07786200117', 1): 2, ('kickoff', 1): 10, ('euro', 1): 13, ('å£', 1): 3, ('orno', 1): 3, ('88800', 1): 3, ('89034', 1): 3, ('08718711108', 1): 3, ('09061221061', 1): 7, ('28day', 1): 7, ('box177', 1): 7, ('m221bp', 1): 7, ('2yr', 1): 7, ('warranti', 1): 7, ('på£3', 1): 7, ('99', 1): 7, ('benefit', 1): 1, ('train', 1): 1, ('advisor', 1): 1, ('diall', 1): 1, ('402', 1): 1, ('dorothykief', 1): 4, ('80878', 1): 14, ('brother', 1): 4, ('09064018838', 1): 4, ('cro1327', 1): 4, ('cross', 1): 8, ('ntwk', 1): 11, ('674&', 1): 3, ('left', 1): 2, ('07008009200', 1): 2, ('07090298926', 1): 2, ('ref9307622', 1): 2, ('natalja', 1): 7, ('440', 1): 14, ('nat27081980', 1): 7, ('pt2', 1): 9, ('banneduk', 1): 3, ('g696ga', 1): 5, ('09064017305', 1): 2, ('pobox75ldns7', 1): 2, ('07734396839', 1): 5, ('ibh', 1): 5, ('nokia6600', 1): 5, ('wordstart', 1): 5, ('no81151', 1): 5, ('4t&', 1): 5, ('09058091854', 1): 3, ('box385', 1): 3, ('m6', 1): 3, ('6wu', 1): 3, ('09058095201', 1): 7, ('07973788240', 1): 2, ('08715203649', 1): 2, ('40533', 1): 7, ('lot', 1): 4, ('flirtparti', 1): 3, ('replys150', 1): 3, ('continu', 1): 3, ('in2', 1): 3, ('presid', 1): 3, ('profession', 1): 4, ('tiger', 1): 4, ('wood', 1): 4, ('vpod', 1): 1, ('floppi', 1): 4, ('snappi', 1): 4, ('happi', 1): 4, ('upload', 1): 4, ('08718730666', 1): 4, ('09058094583', 1): 7, ('gr8prize', 1): 10, ('8800', 1): 5, ('psp', 1): 5, ('never', 1): 4, ('much', 1): 4, ('came', 1): 4, ('made', 1): 4, ('09095350301', 1): 10, ('erot', 1): 10, ('ecstaci', 1): 10, ('nat', 1): 13, ('virgin', 1): 4, ('mysteri', 1): 3, ('09061104283', 1): 3, ('50pm', 1): 3, ('approx', 1): 3, ('9755', 1): 5, ('07808', 1): 3, ('xxxxxx', 1): 3, ('08719899217', 1): 3, ('darl', 1): 5, ('09050001808', 1): 6, ('m95', 1): 6, ('ten', 1): 1, ('83435', 1): 1, ('goldvik', 1): 10, ('762', 1): 10, ('2006', 1): 8, ('fifa', 1): 8, ('held', 1): 8, ('09058097189', 1): 3, ('44', 1): 3, ('7732584351', 1): 3, ('hf8', 1): 3, ('gsoh', 1): 6, ('spam', 1): 6, ('gigolo', 1): 6, ('oncal', 1): 6, ('mjzgroup', 1): 6, ('08714342399', 1): 6, ('msgå£1', 1): 6, ('50rcvd', 1): 6, ('0871277810710p', 1): 3, ('optin', 1): 8, ('what', 1): 8, ('bbc', 1): 8, ('creat', 1): 3, ('page', 1): 3, ('asjesu', 1): 3, ('read', 1): 3, ('wrote', 1): 3, ('opinion', 1): 3, ('warner', 1): 12, ('villag', 1): 12, ('83118', 1): 6, ('colin', 1): 6, ('farrel', 1): 6, ('swat', 1): 6, ('wkend', 1): 6, ('popcorn', 1): 6, ('msgticketkiosk', 1): 6, ('kiosk', 1): 6, ('mre', 1): 6, ('08715203694', 1): 5, ('block', 1): 4, ('breaker', 1): 4, ('delux', 1): 4, ('format', 1): 4, ('featur', 1): 4, ('graphic', 1): 4, ('bbdelux', 1): 4, ('challeng', 1): 4, ('077xxx', 1): 7, ('09066362206', 1): 7, ('08702490080', 1): 4, ('83039', 1): 3, ('62735å£450', 1): 3, ('accommodationvouch', 1): 3, ('mustprovid', 1): 3, ('15541', 1): 3, ('ami', 1): 5, ('coupl', 1): 5, ('parti', 1): 5, ('3lion', 1): 3, ('09111032124', 1): 4, ('pobox12n146tf150p', 1): 4, ('08712402578', 1): 2, ('moan', 1): 6, ('69888nyt', 1): 6, ('wow', 1): 5, ('pre', 1): 2, ('trackmarqu', 1): 2, ('infovipclub4u', 1): 2, ('08452810071', 1): 4, ('chg', 1): 5, ('08718727870150ppm', 1): 3, ('08712402779', 1): 2, ('upd8', 1): 8, ('tooth', 1): 2, ('or2optout', 1): 2, ('hv9d', 1): 2, ('promot', 1): 4, ('8714714', 1): 4, ('fan', 1): 1, ('str*', 1): 1, ('0870141701216', 1): 1, ('120p', 1): 1, ('08717895698', 1): 3, ('mobstorequiz10ppm', 1): 3, ('fink', 1): 3, ('met', 1): 3, ('yet', 1): 6, ('09099726553', 1): 3, ('promis', 1): 3, ('carli', 1): 3, ('minmobsmor', 1): 3, ('lkpobox177hp51fl', 1): 3, ('conact', 1): 2, ('09111030116', 1): 2, ('pobox12n146tf15', 1): 2, ('cmon', 1): 1, ('*turn*', 1): 1, ('sticki', 1): 1, ('28thfeb', 1): 1, ('3750', 1): 1, ('oh', 1): 3, ('god', 1): 3, ('ive', 1): 3, ('found', 1): 3, ('glad', 1): 3, ('xafter', 1): 3, ('cst', 1): 3, ('marvel', 1): 2, ('ultim', 1): 2, ('spider', 1): 4, ('83338', 1): 2, ('8ball', 1): 2, ('phone750', 1): 2, ('babi', 1): 5, ('cam', 1): 7, ('w8in', 1): 3, ('4utxt', 1): 3, ('82242', 1): 11, ('hlp', 1): 7, ('08712317606', 1): 7, ('2rcv', 1): 7, ('0089mi', 1): 2, ('four', 1): 2, ('09063442151', 1): 2, ('touch', 1): 2, ('folk', 1): 2, ('compani', 1): 10, ('commun', 1): 4, ('email', 1): 4, ('alertfrom', 1): 2, ('jeri', 1): 2, ('stewarts', 1): 2, ('2kbsubject', 1): 2, ('low', 1): 2, ('prescripiton', 1): 2, ('drvgsto', 1): 2, ('32000', 1): 3, ('legitimat', 1): 3, ('efreefon', 1): 3, ('wat', 1): 3, ('09050005321', 1): 3, ('qualiti', 1): 3, ('olymp', 1): 3, ('bangbab', 1): 2, ('way', 1): 2, ('bangb', 1): 2, ('internet', 1): 2, ('menu', 1): 2, ('gmw', 1): 5, ('unclaim', 1): 3, ('09066368327', 1): 3, ('closingdate04', 1): 3, ('claimcod', 1): 3, ('m39m51', 1): 3, ('50pmmorefrommobile2bremov', 1): 3, ('mobypobox734ls27yf', 1): 3, ('cc100p', 1): 4, ('freemsgfeelin', 1): 4, ('kinda', 1): 4, ('lnli', 1): 4, ('jst', 1): 4, ('lux', 1): 3, ('jame', 1): 3, ('eh74rr', 1): 3, ('nasti', 1): 2, ('filthyguy', 1): 2, ('bitch', 1): 2, ('slo', 1): 2, ('slo4msg', 1): 2, ('packag', 1): 3, ('54', 1): 3, ('resubmit', 1): 3, ('expiri', 1): 3, ('2stoptx', 1): 3, ('09090204448', 1): 2, ('aå£1', 1): 2, ('minapn', 1): 2, ('ls278bb', 1): 2, ('674', 1): 4, ('xxxmobilemovieclub', 1): 6, ('nqjkgighjjgcbl', 1): 3, ('real1', 1): 5, ('pushbutton', 1): 5, ('dontcha', 1): 5, ('babygoodby', 1): 5, ('golddigg', 1): 5, ('webeburnin', 1): 5, ('id820554ad0a1705572711&firsttrueåác', 1): 2, ('ringtoneåá', 1): 2, ('smsservic', 1): 2, ('yourinclus', 1): 2, ('class', 1): 8, ('airport', 1): 4, ('loung', 1): 4, ('08704439680', 1): 4, ('meal', 1): 1, ('dine', 1): 2, ('experiencehttp', 1): 1, ('vouch4m', 1): 1, ('etlp', 1): 1, ('asp', 1): 4, ('08718738034', 1): 2, ('09050000878', 1): 2, ('item', 1): 1, ('7cfca1a', 1): 1, ('cashbin', 1): 2, ('\\\\urgent', 1): 1, ('å£1000call', 1): 1, ('09071512432', 1): 1, ('300603t&csbcm4235wc1n3xx', 1): 1, ('callcost150ppmmobilesvari', 1): 1, ('50\\\\', 1): 1, ('deepest', 1): 3, ('darkest', 1): 3, ('09094646631', 1): 3, ('07808247860', 1): 1, ('08719899229', 1): 1, ('40411', 1): 1, ('88877free', 1): 1, ('88877', 1): 1, ('09065394514', 1): 2, ('09061701939', 1): 1, ('s89', 1): 1, ('hottest', 1): 2, ('buffi', 1): 4, ('home', 1): 7, ('qlynnbv', 1): 4, ('help08700621170150p', 1): 4, ('abroad', 1): 3, ('xxsp', 1): 3, ('stopcost', 1): 3, ('08712400603', 1): 3, ('\\x89ûïharri', 1): 4, ('gage', 1): 3, ('deck', 1): 3, ('cnupdat', 1): 3, ('newslett', 1): 3, ('600', 1): 1, ('400', 1): 1, ('deltomorrow', 1): 1, ('49', 1): 1, ('bundl', 1): 1, ('deal', 1): 1, ('avbl', 1): 1, ('j', 1): 1, ('mf', 1): 1, ('bootydeli', 1): 4, ('32', 1): 2, ('08714712394', 1): 3, ('burger', 1): 4, ('footi', 1): 2, ('stadium', 1): 2, ('larg', 1): 2, ('coca', 1): 2, ('cola', 1): 2, ('walk', 1): 2, ('dial', 1): 3, ('bx526', 1): 3, ('t91', 1): 2, ('09057039994', 1): 2, ('4fil', 1): 2, ('sexual', 1): 1, ('cute', 1): 1, ('69911å£1', 1): 1, ('0a$network', 1): 4, ('allow', 1): 4, ('\\\\suppliers\\\\', 1): 4, ('arrow', 1): 2, ('pictur', 1): 3, ('alto18', 1): 3, ('wave', 1): 6, ('o44345', 1): 3, ('thought', 1): 2, ('perfect', 1): 2, ('100p', 1): 2, ('web2mobil', 1): 2, ('txt250', 1): 2, ('box139', 1): 2, ('la32wu', 1): 2, ('txtx', 1): 2, ('087016248', 1): 1, ('hmv1', 1): 1, ('08719181503', 1): 1, ('07753741225', 1): 2, ('08715203677', 1): 2, ('42478', 1): 2, ('07801543489', 1): 1, ('wordcollect', 1): 1, ('no83355', 1): 1, ('llc', 1): 1, ('ny', 1): 1, ('usa', 1): 1, ('mt', 1): 1, ('msgrcvd18', 1): 1, ('08718726978', 1): 2, ('recpt', 1): 1, ('process', 1): 1, ('k', 0): 71, ('happen', 0): 34, ('tonight', 0): 39, ('absolut', 0): 1, ('love', 0): 140, ('south', 0): 6, ('park', 0): 10, ('recent', 0): 2, ('start', 0): 31, ('watch', 0): 47, ('offic', 0): 20, ('oki', 0): 9, ('ill', 0): 137, ('go', 0): 260, ('yan', 0): 2, ('jiu', 0): 2, ('skip', 0): 1, ('ard', 0): 16, ('oso', 0): 15, ('cine', 0): 3, ('den', 0): 15, ('mrt', 0): 5, ('one', 0): 105, ('blah', 0): 3, ('cant', 0): 80, ('pick', 0): 54, ('phone', 0): 66, ('right', 0): 68, ('pl', 0): 73, ('send', 0): 82, ('messag', 0): 48, ('feel', 0): 49, ('nauseou', 0): 1, ('im', 0): 290, ('piss', 0): 6, ('didnt', 0): 50, ('eat', 0): 27, ('sweet', 0): 16, ('week', 0): 54, ('caus', 0): 16, ('today', 0): 95, ('plan', 0): 35, ('pig', 0): 3, ('diet', 0): 4, ('hungri', 0): 9, ('get', 0): 232, ('worri', 0): 29, ('derek', 0): 3, ('taylor', 0): 2, ('alreadi', 0): 56, ('assum', 0): 5, ('worst', 0): 2, ('tag', 0): 2, ('friend', 0): 54, ('seem', 0): 13, ('count', 0): 3, ('die', 0): 10, ('accident', 0): 3, ('delet', 0): 5, ('e', 0): 52, ('msg', 0): 40, ('suppos', 0): 6, ('2', 0): 205, ('put', 0): 24, ('sim', 0): 2, ('archiv', 0): 1, ('haiz', 0): 2, ('sad', 0): 13, ('normal', 0): 7, ('reach', 0): 29, ('ur', 0): 154, ('home', 0): 93, ('&lt&gt', 0): 180, ('minut', 0): 25, ('though', 0): 18, ('shd', 0): 5, ('n', 0): 82, ('fun', 0): 12, ('bar', 0): 4, ('town', 0): 14, ('someth', 0): 49, ('\\x89ûò', 0): 8, ('sound', 0): 19, ('ok', 0): 178, ('well', 0): 85, ('aunti', 0): 4, ('like', 0): 159, ('think', 0): 94, ('there', 0): 14, ('alway', 0): 35, ('possibl', 0): 9, ('pub', 0): 10, ('later', 0): 88, ('lol', 0): 41, ('hot', 0): 7, ('air', 0): 6, ('balloon', 0): 1, ('tot', 0): 11, ('group', 0): 6, ('mate', 0): 12, ('lucki', 0): 5, ('havent', 0): 25, ('repli', 0): 36, ('wat', 0): 64, ('time', 0): 140, ('ì_', 0): 76, ('need', 0): 109, ('leav', 0): 50, ('okey', 0): 2, ('dokey', 0): 2, ('swashbuckl', 0): 1, ('stuff', 0): 30, ('oh', 0): 66, ('doesnt', 0): 15, ('stalk', 0): 1, ('profil', 0): 2, ('got', 0): 155, ('part', 0): 13, ('nottingham', 0): 1, ('3', 0): 38, ('hr', 0): 6, ('63mile', 0): 1, ('good', 0): 144, ('thing', 0): 65, ('man', 0): 31, ('much', 0): 74, ('40mph', 0): 1, ('hey', 0): 68, ('ho', 0): 10, ('yeah', 0): 51, ('imagin', 0): 5, ('would', 0): 51, ('realli', 0): 54, ('gentl', 0): 3, ('unlik', 0): 1, ('doc', 0): 7, ('treat', 0): 12, ('patient', 0): 1, ('turkey', 0): 1, ('prakesh', 0): 1, ('know', 0): 166, ('sent', 0): 35, ('price', 0): 8, ('mean', 0): 36, ('g', 0): 11, ('lor', 0): 104, ('finish', 0): 42, ('say', 0): 81, ('never', 0): 28, ('answer', 0): 12, ('text', 0): 58, ('confirm', 0): 8, ('deni', 0): 4, ('dont', 0): 164, ('away', 0): 12, ('trek', 0): 1, ('long', 0): 29, ('famili', 0): 10, ('sorri', 0): 102, ('abl', 0): 16, ('anyth', 0): 52, ('that', 0): 63, ('cool', 0): 27, ('gentleman', 0): 2, ('digniti', 0): 2, ('respect', 0): 4, ('youll', 0): 6, ('believ', 0): 11, ('actual', 0): 21, ('taunton', 0): 3, ('wow', 0): 6, ('pass', 0): 7, ('di', 0): 14, ('contact', 0): 7, ('see', 0): 105, ('u', 0): 595, ('redim', 0): 1, ('luv', 0): 25, ('wid', 0): 11, ('blueu', 0): 1, ('smile', 0): 40, ('face', 0): 25, ('purpleu', 0): 1, ('r', 0): 74, ('reali', 0): 6, ('pinku', 0): 1, ('swt', 0): 5, ('orangei', 0): 1, ('thnk', 0): 4, ('lyk', 0): 2, ('greeni', 0): 1, ('wana', 0): 7, ('yelowi', 0): 1, ('wnt', 0): 4, ('bck', 0): 2, ('blackim', 0): 1, ('jealou', 0): 2, ('browni', 0): 3, ('miss', 0): 62, ('nw', 0): 4, ('plz', 0): 15, ('giv', 0): 1, ('color', 0): 1, ('shit', 0): 22, ('wasnt', 0): 10, ('surpris', 0): 8, ('went', 0): 43, ('spent', 0): 7, ('even', 0): 55, ('french', 0): 1, ('guy', 0): 32, ('met', 0): 6, ('fool', 0): 5, ('around', 0): 36, ('bit', 0): 25, ('let', 0): 62, ('fuck', 0): 31, ('mm', 0): 8, ('entir', 0): 1, ('sure', 0): 47, ('understood', 0): 3, ('weekend', 0): 19, ('tell', 0): 77, ('bad', 0): 21, ('charact', 0): 7, ('dnt', 0): 9, ('lik', 0): 3, ('tri', 0): 47, ('chang', 0): 24, ('add', 0): 5, ('tat', 0): 5, ('new', 0): 42, ('year', 0): 37, ('resolut', 0): 1, ('wait', 0): 74, ('frank', 0): 1, ('morn', 0): 47, ('help', 0): 27, ('swoop', 0): 1, ('wherev', 0): 5, ('bird', 0): 2, ('meet', 0): 71, ('want', 0): 131, ('forget', 0): 14, ('studi', 0): 11, ('colour', 0): 3, ('quit', 0): 25, ('light', 0): 9, ('darker', 0): 1, ('done', 0): 26, ('she', 0): 9, ('style', 0): 6, ('hair', 0): 13, ('surli', 0): 1, ('give', 0): 71, ('come', 0): 178, ('review', 0): 1, ('mom', 0): 15, ('fit', 0): 2, ('whole', 0): 10, ('crazi', 0): 5, ('terribl', 0): 3, ('bout', 0): 11, ('last', 0): 38, ('nite', 0): 15, ('wasnåõt', 0): 1, ('fault', 0): 5, ('spous', 0): 1, ('pmt', 0): 1, ('sumthin', 0): 1, ('4give', 0): 1, ('shldxxxx', 0): 1, ('da', 0): 84, ('ge', 0): 5, ('tmr', 0): 15, ('onlin', 0): 15, ('use', 0): 43, ('msn', 0): 2, ('aight', 0): 25, ('take', 0): 97, ('ten', 0): 9, ('shower', 0): 8, ('what', 0): 24, ('sake', 0): 2, ('tallahasse', 0): 1, ('evo', 0): 1, ('download', 0): 4, ('flash', 0): 3, ('bu', 0): 23, ('friendship', 0): 13, ('game', 0): 8, ('play', 0): 17, ('word', 0): 28, ('doesn\\\\t', 0): 2, ('march', 0): 9, ('end', 0): 31, ('may', 0): 26, ('tomorrow', 0): 50, ('yesterday', 0): 15, ('wont', 0): 36, ('b', 0): 40, ('15', 0): 1, ('sort', 0): 12, ('hous', 0): 27, ('gal', 0): 13, ('wanna', 0): 15, ('4', 0): 113, ('dinner', 0): 22, ('nìâte', 0): 1, ('free', 0): 35, ('howz', 0): 6, ('pain', 0): 22, ('said', 0): 52, ('ystrday', 0): 1, ('ice', 0): 6, ('medicin', 0): 2, ('matter', 0): 7, ('mind', 0): 26, ('call', 0): 185, ('madam', 0): 2, ('care', 0): 55, ('slowli', 0): 7, ('god', 0): 34, ('&amp', 0): 50, ('clean', 0): 10, ('heart', 0): 37, ('blood', 0): 8, ('special', 0): 21, ('peopl', 0): 34, ('c', 0): 36, ('miracl', 0): 4, ('brah', 0): 2, ('ive', 0): 48, ('told', 0): 33, ('everyth', 0): 18, ('stop', 0): 30, ('dehydr', 0): 2, ('lei', 0): 12, ('next', 0): 29, ('mon', 0): 6, ('book', 0): 24, ('lesson', 0): 14, ('work', 0): 77, ('sth', 0): 1, ('spec', 0): 1, ('membership', 0): 2, ('px3748', 0): 1, ('wiskey', 0): 2, ('brandi', 0): 2, ('rum', 0): 2, ('gin', 0): 2, ('beer', 0): 5, ('vodka', 0): 3, ('scotch', 0): 2, ('shampain', 0): 2, ('wine', 0): 10, ('\\\\kudi\\\\', 0): 2, ('yarasu', 0): 2, ('dhina', 0): 2, ('vaazhthukk', 0): 2, ('shall', 0): 18, ('pouch', 0): 2, ('wit', 0): 5, ('2morro', 0): 1, ('make', 0): 79, ('lasagna', 0): 1, ('grab', 0): 1, ('your', 0): 31, ('back', 0): 84, ('mu', 0): 11, ('narcot', 0): 1, ('situat', 0): 5, ('hmm', 0): 7, ('mani', 0): 37, ('unfortun', 0): 2, ('pic', 0): 8, ('obvious', 0): 5, ('arent', 0): 5, ('cake', 0): 4, ('kinda', 0): 5, ('tho', 0): 9, ('lar', 0): 19, ('doubl', 0): 5, ('check', 0): 39, ('wif', 0): 14, ('dresser', 0): 2, ('wun', 0): 5, ('cut', 0): 9, ('v', 0): 32, ('short', 0): 5, ('look', 0): 35, ('nice', 0): 38, ('sleep', 0): 40, ('surf', 0): 4, ('road', 0): 6, ('keep', 0): 49, ('slipperi', 0): 1, ('switch', 0): 1, ('cell', 0): 5, ('day', 0): 148, ('isnt', 0): 10, ('came', 0): 15, ('hostel', 0): 2, ('idk', 0): 2, ('sinc', 0): 14, ('move', 0): 11, ('but', 0): 1, ('head', 0): 15, ('freedom', 0): 2, ('vs', 0): 1, ('respons', 0): 3, ('tire', 0): 11, ('deal', 0): 7, ('bare', 0): 3, ('togeth', 0): 17, ('ad', 0): 6, ('s8', 0): 1, ('min', 0): 23, ('lunch', 0): 23, ('holla', 0): 3, ('oop', 0): 3, ('thk', 0): 30, ('dun', 0): 35, ('haf', 0): 14, ('enuff', 0): 3, ('design', 0): 1, ('softwar', 0): 3, ('develop', 0): 4, ('chennai', 0): 11, ('pa', 0): 20, ('bath', 0): 12, ('ha', 0): 10, ('nan', 0): 3, ('yalrigu', 0): 1, ('heltini', 0): 1, ('iyo', 0): 1, ('kothi', 0): 2, ('chikku', 0): 15, ('share', 0): 7, ('far', 0): 9, ('bodi', 0): 5, ('utter', 0): 2, ('abt', 0): 16, ('trust', 0): 5, ('other', 0): 5, ('nxt', 0): 4, ('mysteri', 0): 1, ('solv', 0): 5, ('open', 0): 15, ('email', 0): 9, ('he', 0): 15, ('anoth', 0): 21, ('batch', 0): 1, ('sweeti', 0): 1, ('2marrow', 0): 2, ('class', 0): 27, ('luton', 0): 1, ('0125698789', 0): 1, ('ring', 0): 11, ('h*', 0): 1, ('fine', 0): 32, ('simpli', 0): 3, ('sit', 0): 13, ('shell', 0): 3, ('guess', 0): 21, ('that\\x89û÷', 0): 2, ('ape', 0): 1, ('fight', 0): 6, ('death', 0): 2, ('sea', 0): 8, ('lay', 0): 2, ('rock', 0): 9, ('envelop', 0): 2, ('paper', 0): 7, ('shuhui', 0): 6, ('suntec', 0): 2, ('steamboat', 0): 1, ('noe', 0): 14, ('probabl', 0): 18, ('lick', 0): 4, ('center', 0): 2, ('tootsi', 0): 1, ('pop', 0): 7, ('repeat', 0): 1, ('instruct', 0): 1, ('name', 0): 25, ('nt', 0): 11, ('1', 0): 39, ('write', 0): 9, ('dictionari', 0): 4, ('mode', 0): 8, ('3cover', 0): 3, ('screen', 0): 3, ('hand', 0): 21, ('4press', 0): 3, ('5gentli', 0): 3, ('remov', 0): 7, ('interest', 0): 6, ('dint', 0): 5, ('angri', 0): 14, ('abi', 0): 3, ('whenev', 0): 7, ('hold', 0): 13, ('connect', 0): 4, ('mayb', 0): 24, ('hour', 0): 25, ('two', 0): 23, ('wet', 0): 1, ('prabha', 0): 4, ('soryda', 0): 2, ('frm', 0): 8, ('sori', 0): 2, ('drug', 0): 10, ('lil', 0): 2, ('fever', 0): 3, ('fyi', 0): 3, ('parent', 0): 11, ('place', 0): 32, ('tampa', 0): 7, ('might', 0): 20, ('somewher', 0): 5, ('els', 0): 12, ('ya', 0): 23, ('ure', 0): 7, ('practic', 0): 6, ('june', 0): 3, ('gonna', 0): 33, ('life', 0): 55, ('lot', 0): 30, ('world', 0): 23, ('board', 0): 1, ('issu', 0): 6, ('overh', 0): 1, ('also', 0): 45, ('reslov', 0): 1, ('still', 0): 91, ('inst', 0): 1, ('pend', 0): 3, ('8o', 0): 1, ('clock', 0): 1, ('age', 0): 9, ('how', 0): 27, ('abj', 0): 1, ('2%', 0): 1, ('student', 0): 4, ('cat', 0): 3, ('question', 0): 15, ('xam', 0): 1, ('532', 0): 1, ('924', 0): 1, ('863', 0): 1, ('725', 0): 1, ('brilliant', 0): 4, ('1thing', 0): 1, ('answr', 0): 1, ('ìï', 0): 26, ('meh', 0): 4, ('talk', 0): 33, ('ever', 0): 24, ('dunno', 0): 14, ('co', 0): 41, ('late', 0): 37, ('insid', 0): 7, ('ate', 0): 4, ('spageddi', 0): 1, ('laugh', 0): 8, ('hi', 0): 63, ('test', 0): 14, ('rd', 0): 3, ('knowthi', 0): 1, ('tirunelvai', 0): 1, ('rumour', 0): 2, ('buy', 0): 43, ('apart', 0): 6, ('haha', 0): 29, ('hope', 0): 80, ('hear', 0): 19, ('receipt', 0): 2, ('gd', 0): 11, ('luck', 0): 5, ('car', 0): 33, ('job', 0): 27, ('lousi', 0): 3, ('kept', 0): 2, ('wake', 0): 18, ('everi', 0): 27, ('cold', 0): 6, ('cbe', 0): 2, ('cartoon', 0): 3, ('listen', 0): 12, ('music', 0): 2, ('eve', 0): 11, ('templ', 0): 3, ('church', 0): 2, ('intrepid', 0): 1, ('duo', 0): 1, ('great', 0): 66, ('soon', 0): 31, ('manki', 0): 1, ('scous', 0): 1, ('boy', 0): 21, ('steve', 0): 2, ('travel', 0): 4, ('wot', 0): 18, ('inmind', 0): 1, ('recreat', 0): 1, ('spoke', 0): 5, ('mag', 0): 1, ('we\\x89û÷r', 0): 2, ('deliv', 0): 5, ('month', 0): 23, ('24th', 0): 1, ('sept', 0): 1, ('total', 0): 7, ('video', 0): 2, ('convert', 0): 2, ('type', 0): 13, ('googl', 0): 2, ('search', 0): 11, ('lobbi', 0): 1, ('ikea', 0): 3, ('str', 0): 3, ('aft', 0): 13, ('dat', 0): 25, ('boytoy', 0): 9, ('yummi', 0): 2, ('lip', 0): 3, ('where', 0): 5, ('sexi', 0): 6, ('bun', 0): 2, ('crave', 0): 8, ('pocay', 0): 1, ('wocay', 0): 1, ('4eva', 0): 1, ('promis', 0): 8, ('2morrowxxxx', 0): 1, ('increas', 0): 1, ('chanc', 0): 8, ('win', 0): 12, ('goodmorn', 0): 8, ('&ltdecimal&gt', 0): 19, ('thanx', 0): 19, ('weåõv', 0): 1, ('2geva', 0): 2, ('bin', 0): 2, ('mint', 0): 1, ('babi', 0): 20, ('xxxx', 0): 2, ('pilat', 0): 3, ('yoga', 0): 4, ('silent', 0): 10, ('least', 0): 10, ('moment', 0): 10, ('drm', 0): 2, ('shesil', 0): 3, ('disconnect', 0): 2, ('weird', 0): 1, ('point', 0): 11, ('kate', 0): 8, ('asap', 0): 3, ('xxx', 0): 13, ('readi', 0): 21, ('7', 0): 27, ('esplanad', 0): 3, ('lift', 0): 7, ('ew', 0): 1, ('seek', 0): 1, ('ladi', 0): 7, ('street', 0): 3, ('freak', 0): 3, ('sheet', 0): 3, ('blake', 0): 2, ('address', 0): 14, ('carlo', 0): 9, ('lost', 0): 8, ('addi', 0): 2, ('goe', 0): 15, ('monday', 0): 9, ('suck', 0): 6, ('yup', 0): 25, ('yo', 0): 29, ('stock', 0): 4, ('dubsack', 0): 1, ('awesom', 0): 14, ('restock', 0): 2, ('omg', 0): 6, ('worm', 0): 1, ('us', 0): 38, ('problem', 0): 31, ('stupid', 0): 8, ('suggest', 0): 4, ('land', 0): 1, ('forgt', 0): 1, ('previou', 0): 2, ('drop', 0): 15, ('em', 0): 6, ('omw', 0): 5, ('weirdest', 0): 2, ('auto', 0): 2, ('correct', 0): 4, ('incomm', 0): 1, ('babe', 0): 47, ('miiiiiiissssssssss', 0): 1, ('geeee', 0): 4, ('without', 0): 14, ('bishan', 0): 3, ('lavend', 0): 1, ('maaaan', 0): 1, ('rememb', 0): 21, ('q', 0): 2, ('store', 0): 4, ('twat', 0): 1, ('orang', 0): 1, ('dungere', 0): 1, ('ask', 0): 79, ('deck', 0): 1, ('first', 0): 30, ('punch', 0): 1, ('\\\\hi', 0): 3, ('uawak', 0): 1, ('feellikw', 0): 1, ('justfound', 0): 1, ('via', 0): 7, ('alett', 0): 1, ('thatmum', 0): 1, ('gotmarri', 0): 1, ('4thnov', 0): 1, ('behind', 0): 3, ('ourback', 0): 1, ('åð', 0): 2, ('fuckinnic', 0): 1, ('selfish', 0): 2, ('blame', 0): 3, ('happi', 0): 79, ('experi', 0): 6, ('essenti', 0): 4, ('bless', 0): 8, ('alon', 0): 7, ('could', 0): 36, ('show', 0): 22, ('exhaust', 0): 2, ('train', 0): 10, ('pie', 0): 4, ('pleas', 0): 48, ('charg', 0): 7, ('mobil', 0): 11, ('camera', 0): 2, ('10', 0): 8, ('1mega', 0): 1, ('pixel', 0): 1, ('3optic', 0): 1, ('5digit', 0): 1, ('doom', 0): 1, ('holiday', 0): 9, ('safe', 0): 9, ('hav', 0): 14, ('journey', 0): 3, ('coupl', 0): 8, ('technic', 0): 2, ('support', 0): 5, ('voic', 0): 7, ('process', 0): 4, ('network', 0): 5, ('field', 0): 1, ('iåõm', 0): 2, ('ta', 0): 3, ('doin', 0): 6, ('load', 0): 8, ('wk', 0): 4, ('social', 0): 4, ('servic', 0): 3, ('inspect', 0): 1, ('nurseri', 0): 1, ('&', 0): 6, ('spk', 0): 2, ('sn', 0): 1, ('x', 0): 17, ('night', 0): 73, ('ye', 0): 46, ('princess', 0): 20, ('darl', 0): 3, ('sister', 0): 13, ('when', 0): 1, ('school', 0): 12, ('resum', 0): 1, ('minimum', 0): 2, ('period', 0): 3, ('reappli', 0): 1, ('theori', 0): 2, ('argument', 0): 4, ('lose', 0): 15, ('person', 0): 36, ('argu', 0): 3, ('kick', 0): 4, ('fwiw', 0): 1, ('reason', 0): 13, ('smoke', 0): 15, ('ga', 0): 10, ('afford', 0): 1, ('someon', 0): 28, ('appar', 0): 3, ('somebodi', 0): 8, ('saw', 0): 14, ('swatch', 0): 2, ('116', 0): 1, ('2nd', 0): 6, ('opinion', 0): 9, ('leh', 0): 15, ('door', 0): 8, ('ju', 0): 22, ('thank', 0): 58, ('gift', 0): 7, ('butt', 0): 2, ('xma', 0): 5, ('radio', 0): 2, ('north', 0): 1, ('carolina', 0): 1, ('texa', 0): 1, ('atm', 0): 3, ('gre', 0): 1, ('site', 0): 1, ('pay', 0): 29, ('result', 0): 3, ('decid', 0): 18, ('vote', 0): 4, ('loser', 0): 1, ('food', 0): 13, ('run', 0): 20, ('admit', 0): 2, ('mad', 0): 5, ('noth', 0): 25, ('money', 0): 35, ('buck', 0): 4, ('prometazin', 0): 1, ('syrup', 0): 1, ('5ml', 0): 1, ('feed', 0): 1, ('mum', 0): 15, ('robinson', 0): 1, ('teach', 0): 7, ('app', 0): 4, ('colleg', 0): 8, ('noon', 0): 8, ('attend', 0): 4, ('buzz', 0): 6, ('again*lov', 0): 1, ('smile*', 0): 4, ('panic', 0): 1, ('tuesday', 0): 3, ('mokka', 0): 1, ('player', 0): 6, ('\\\\life', 0): 1, ('wen', 0): 14, ('everything\\\\', 0): 1, ('\\\\', 0): 44, ('real', 0): 16, ('valu', 0): 4, ('wil', 0): 14, ('realiz', 0): 3, ('absenc', 0): 1, ('gud', 0): 36, ('mrng', 0): 9, ('exactli', 0): 4, ('chechi', 0): 2, ('dogbreath', 0): 1, ('jan', 0): 2, ('thatåõ', 0): 4, ('al', 0): 8, ('grandfath', 0): 1, ('expir', 0): 1, ('immedi', 0): 3, ('bead', 0): 1, ('z', 0): 1, ('goin', 0): 12, ('somethin', 0): 3, ('unless', 0): 5, ('meetin', 0): 2, ('wonder', 0): 24, ('ti', 0): 3, ('flatter', 0): 1, ('mine', 0): 9, ('pint', 0): 1, ('carlin', 0): 1, ('imposs', 0): 3, ('sub', 0): 1, ('releas', 0): 3, ('remind', 0): 6, ('necessari', 0): 1, ('ofcours', 0): 1, ('upload', 0): 1, ('song', 0): 4, ('yar', 0): 8, ('scold', 0): 1, ('yest', 0): 5, ('zhong', 0): 1, ('se', 0): 2, ('qing', 0): 1, ('b4', 0): 4, ('w', 0): 6, ('act', 0): 4, ('hurt', 0): 20, ('satan', 0): 1, ('impost', 0): 1, ('destini', 0): 1, ('pray', 0): 11, ('evict', 0): 1, ('spiral', 0): 1, ('michael', 0): 1, ('riddanc', 0): 1, ('truro', 0): 1, ('hospit', 0): 4, ('ext', 0): 1, ('side', 0): 9, ('hard', 0): 10, ('true', 0): 16, ('express', 0): 4, ('seper', 0): 1, ('\\x8eö´\\x89ó_', 0): 1, ('\\x8bû¬ud', 0): 1, ('cannt', 0): 3, ('asa', 0): 1, ('wrong', 0): 12, ('kappa', 0): 1, ('number', 0): 43, ('physic', 0): 1, ('parti', 0): 7, ('boyfriend', 0): 2, ('si', 0): 13, ('*deep', 0): 2, ('sigh*', 0): 2, ('gone', 0): 8, ('net', 0): 6, ('cafe', 0): 3, ('yet', 0): 29, ('perform', 0): 2, ('award', 0): 1, ('calcul', 0): 1, ('current', 0): 5, ('otherwis', 0): 7, ('kkgoodstudi', 0): 1, ('juz', 0): 14, ('knew', 0): 10, ('ago', 0): 7, ('lazi', 0): 6, ('neva', 0): 8, ('resend', 0): 1, ('lotr', 0): 1, ('wan', 0): 35, ('receiv', 0): 8, ('hello', 0): 23, ('lover', 0): 6, ('slave', 0): 7, ('teas', 0): 4, ('kiss', 0): 8, ('across', 0): 4, ('definit', 0): 6, ('excus', 0): 5, ('everyon', 0): 12, ('cancer', 0): 5, ('throat', 0): 4, ('babysit', 0): 2, ('arm', 0): 4, ('weak', 0): 4, ('cuz', 0): 5, ('shot', 0): 1, ('big', 0): 21, ('sale', 0): 3, ('hahaha', 0): 2, ('brain', 0): 2, ('dear', 0): 56, ('petey', 0): 1, ('noiåõm', 0): 1, ('chat', 0): 10, ('coz', 0): 16, ('avent', 0): 2, ('spoken', 0): 3, ('alrit', 0): 4, ('nit', 0): 1, ('js', 0): 1, ('mesag', 0): 2, ('mmm', 0): 4, ('better', 0): 24, ('roast', 0): 2, ('iåõd', 0): 1, ('drink', 0): 16, ('indian', 0): 3, ('italian', 0): 4, ('pretti', 0): 10, ('dress', 0): 4, ('panti', 0): 1, ('%', 0): 2, ('forgot', 0): 24, ('smth', 0): 12, ('section', 0): 1, ('clearer', 0): 1, ('nope', 0): 9, ('meanwhil', 0): 2, ('greet', 0): 6, ('foreign', 0): 3, ('stamp', 0): 3, ('whatev', 0): 12, ('bedroom', 0): 4, ('sed', 0): 3, ('mood', 0): 4, ('5', 0): 30, ('latr', 0): 3, ('wife', 0): 18, ('don\\x89û÷t', 0): 3, ('fli', 0): 4, ('monkey', 0): 3, ('certainli', 0): 2, ('jay', 0): 8, ('impati', 0): 2, ('belliger', 0): 1, ('consid', 0): 4, ('wall', 0): 1, ('bunker', 0): 1, ('import', 0): 11, ('peac', 0): 1, ('high', 0): 4, ('enough', 0): 17, ('alex', 0): 4, ('birthday', 0): 23, ('fifteen', 0): 3, ('concern', 0): 2, ('chase', 0): 3, ('state', 0): 1, ('movi', 0): 20, ('bring', 0): 27, ('cd', 0): 1, ('tast', 0): 1, ('way', 0): 60, ('sunni', 0): 5, ('ray', 0): 4, ('blue', 0): 8, ('bay', 0): 3, ('appreci', 0): 5, ('sacrific', 0): 1, ('direct', 0): 1, ('find', 0): 27, ('girl', 0): 31, ('gail', 0): 1, ('donåõt', 0): 3, ('l8tr', 0): 1, ('hun', 0): 2, ('yaxxx', 0): 1, ('rofl', 0): 2, ('betta', 0): 1, ('invest', 0): 1, ('anti', 0): 2, ('product', 0): 1, ('enter', 0): 5, ('cabin', 0): 2, ('bday', 0): 9, ('boss', 0): 5, ('felt', 0): 9, ('askd', 0): 5, ('invit', 0): 5, ('ador', 0): 2, ('ahmad', 0): 6, ('*kisses*', 0): 1, ('alright', 0): 10, ('urgnt', 0): 3, ('sm', 0): 12, ('ah', 0): 18, ('lingo', 0): 1, ('earth', 0): 2, ('lap', 0): 1, ('room', 0): 20, ('shut', 0): 3, ('reboot', 0): 3, ('print', 0): 5, ('out', 0): 1, ('glad', 0): 6, ('roger', 0): 3, ('cup', 0): 1, ('yor', 0): 2, ('youv', 0): 5, ('rent', 0): 7, ('fill', 0): 9, ('tank', 0): 1, ('stress', 0): 3, ('depress', 0): 2, ('thanksgiv', 0): 3, ('envi', 0): 1, ('drive', 0): 26, ('join', 0): 14, ('tp', 0): 1, ('stash', 0): 1, ('ran', 0): 4, ('dri', 0): 1, ('sunday', 0): 11, ('news', 0): 6, ('hassl', 0): 1, ('weed', 0): 5, ('andr', 0): 2, ('haughaighgtujhyguj', 0): 1, ('film', 0): 7, ('wish', 0): 50, ('return', 0): 10, ('vikki', 0): 4, ('xuhui', 0): 3, ('till', 0): 12, ('green', 0): 1, ('quot', 0): 3, ('jerri', 0): 1, ('\\\\a', 0): 3, ('irrit', 0): 3, ('vri', 0): 4, ('fail', 0): 3, ('nyt', 0): 4, ('moan', 0): 4, ('scream', 0): 8, ('easi', 0): 10, ('*', 0): 23, ('quick', 0): 5, ('ambiti', 0): 1, ('yiju', 0): 6, ('pm', 0): 7, ('esaplanad', 0): 1, ('stay', 0): 20, ('everyday', 0): 1, ('cheat', 0): 2, ('anyway', 0): 19, ('meant', 0): 6, ('fatti', 0): 1, ('depend', 0): 5, ('qualiti', 0): 4, ('fade', 0): 1, ('glori', 0): 1, ('6', 0): 27, ('ralph', 0): 1, ('prob', 0): 11, ('earli', 0): 17, ('armand', 0): 6, ('ass', 0): 7, ('epsilon', 0): 1, ('mittelschmertz', 0): 1, ('paracetamol', 0): 1, ('keng', 0): 1, ('ash', 0): 1, ('height', 0): 3, ('confid', 0): 3, ('aeronaut', 0): 1, ('professor', 0): 1, ('wer', 0): 3, ('calld', 0): 1, ('aeroplan', 0): 1, ('aftr', 0): 4, ('sat', 0): 18, ('plane', 0): 3, ('ws', 0): 2, ('made', 0): 12, ('dey', 0): 4, ('hurri', 0): 4, ('bt', 0): 12, ('said\\\\if', 0): 1, ('treasur', 0): 1, ('spend', 0): 9, ('taken', 0): 3, ('teeth', 0): 4, ('captain', 0): 2, ('case', 0): 10, ('grandma', 0): 1, ('parad', 0): 1, ('rite', 0): 13, ('åè10', 0): 1, ('evey', 0): 1, ('mnth', 0): 1, ('crap', 0): 2, ('borin', 0): 1, ('boggi', 0): 1, ('bore', 0): 10, ('biatch', 0): 1, ('til', 0): 18, ('il', 0): 6, ('ave', 0): 5, ('shola', 0): 1, ('visit', 0): 6, ('academ', 0): 2, ('depart', 0): 2, ('secretari', 0): 2, ('transfer', 0): 4, ('sagamu', 0): 1, ('lautech', 0): 1, ('vital', 0): 1, ('complet', 0): 14, ('medic', 0): 5, ('educ', 0): 2, ('nigeria', 0): 6, ('less', 0): 7, ('expens', 0): 3, ('citizen', 0): 2, ('rate', 0): 2, ('zealand', 0): 1, ('comin', 0): 8, ('fetch', 0): 4, ('oredi', 0): 7, ('catch', 0): 11, ('grumpi', 0): 1, ('old', 0): 11, ('lie', 0): 4, ('joke', 0): 11, ('hppnss', 0): 2, ('tear', 0): 6, ('sorrow', 0): 3, ('forevr', 0): 3, ('goodfriend', 0): 2, ('2waxsto', 0): 2, ('insur', 0): 6, ('basic', 0): 6, ('shop', 0): 21, ('friday', 0): 11, ('major', 0): 2, ('guid', 0): 6, ('final', 0): 8, ('fix', 0): 7, ('ceil', 0): 1, ('raviyog', 0): 1, ('peripher', 0): 1, ('bhayandar', 0): 1, ('east', 0): 2, ('busi', 0): 17, ('figur', 0): 7, ('serv', 0): 1, ('\\\\keep', 0): 1, ('pee', 0): 2, ('burn', 0): 4, ('tonit', 0): 8, ('gei', 0): 1, ('happend', 0): 4, ('tron', 0): 1, ('dl', 0): 1, ('3d', 0): 3, ('umma', 0): 8, ('lou', 0): 1, ('took', 0): 12, ('left', 0): 20, ('lancast', 0): 1, ('bak', 0): 4, ('neway', 0): 1, ('couldnåõt', 0): 1, ('båõday', 0): 2, ('card', 0): 9, ('disturb', 0): 8, ('liao', 0): 25, ('aathi', 0): 3, ('found', 0): 11, ('enc', 0): 1, ('ujhhhhhhh', 0): 1, ('comput', 0): 7, ('ship', 0): 4, ('sandiago', 0): 1, ('parantella', 0): 1, ('lane', 0): 1, ('wtf', 0): 1, ('poop', 0): 1, ('thought', 0): 30, ('gonnamissu', 0): 1, ('postcard', 0): 2, ('butther', 0): 1, ('abouta', 0): 1, ('merememberin', 0): 1, ('asther', 0): 1, ('ofsi', 0): 1, ('breakin', 0): 1, ('contract', 0): 2, ('yaxx', 0): 1, ('sir', 0): 26, ('salam', 0): 1, ('wahleykkum', 0): 1, ('grace', 0): 2, ('offer', 0): 9, ('tayseer', 0): 1, ('tissco', 0): 1, ('inshah', 0): 1, ('allah', 0): 2, ('sometim', 0): 8, ('rakhesh', 0): 4, ('visitor', 0): 1, ('india', 0): 7, ('shirt', 0): 6, ('hubbi', 0): 1, ('fite', 0): 1, ('budget', 0): 2, ('hw', 0): 7, ('post', 0): 19, ('mj', 0): 1, ('loxahatche', 0): 2, ('tree', 0): 3, ('updat', 0): 4, ('star', 0): 2, ('weight', 0): 4, ('fall', 0): 5, ('eye', 0): 5, ('bslvyl', 0): 8, ('nuerologist', 0): 1, ('kapo', 0): 1, ('divorc', 0): 1, ('oni', 0): 3, ('mistak', 0): 5, ('goto', 0): 2, ('doctor', 0): 7, ('weve', 0): 3, ('best', 0): 23, ('exam', 0): 11, ('\\\\not', 0): 1, ('enufcredeit', 0): 1, ('tocal', 0): 1, ('ileav', 0): 1, ('uni', 0): 2, ('hui', 0): 1, ('xin', 0): 1, ('lib', 0): 2, ('darlin', 0): 10, ('txt', 0): 10, ('ahead', 0): 4, ('watt', 0): 1, ('abiola', 0): 6, ('draw', 0): 3, ('seri', 0): 3, ('african', 0): 1, ('soil', 0): 1, ('slow', 0): 10, ('awww', 0): 1, ('lone', 0): 2, ('king', 0): 2, ('cri', 0): 3, ('build', 0): 3, ('map', 0): 3, ('imprtant', 0): 1, ('tomorw', 0): 1, ('ni8', 0): 9, ('neighbor', 0): 2, ('ax', 0): 1, ('645', 0): 1, ('project', 0): 9, ('\\\\song', 0): 1, ('dedic', 0): 2, ('valuabl', 0): 1, ('frnd', 0): 12, ('rpli', 0): 3, ('live', 0): 19, ('11', 0): 4, ('befor', 0): 2, ('activ', 0): 2, ('snow', 0): 9, ('kind', 0): 6, ('weather', 0): 5, ('ppl', 0): 2, ('grow', 0): 1, ('arun', 0): 1, ('transfr', 0): 2, ('amt', 0): 3, ('sleepi', 0): 2, ('potenti', 0): 2, ('talent', 0): 4, ('dearer', 0): 1, ('de', 0): 13, ('dem', 0): 1, ('thangam', 0): 3, ('scienc', 0): 2, ('chocol', 0): 2, ('melt', 0): 2, ('sunlight', 0): 2, ('walk', 0): 16, ('bcoz', 0): 8, ('loss', 0): 3, ('harder', 0): 1, ('nbme', 0): 1, ('ee', 0): 2, ('na', 0): 10, ('poortiyagi', 0): 1, ('odalebeku', 0): 1, ('hanumanji', 0): 1, ('hanuman', 0): 1, ('bajarangabali', 0): 1, ('maruti', 0): 1, ('pavanaputra', 0): 1, ('sankatmochan', 0): 1, ('ramaduth', 0): 1, ('mahav', 0): 1, ('janarig', 0): 1, ('ivatt', 0): 1, ('kalisidar', 0): 1, ('saturday', 0): 6, ('olag', 0): 1, ('ondu', 0): 1, ('keluviri', 0): 1, ('maretar', 0): 1, ('ind', 0): 1, ('dodda', 0): 1, ('problum', 0): 1, ('nalli', 0): 1, ('siguviri', 0): 1, ('idu', 0): 1, ('matra', 0): 1, ('neglet', 0): 1, ('photoshop', 0): 1, ('abeg', 0): 1, ('profit', 0): 1, ('sponsor', 0): 1, ('event', 0): 2, ('derp', 0): 1, ('wors', 0): 6, ('dude', 0): 18, ('file', 0): 2, ('complaint', 0): 1, ('three', 0): 3, ('abus', 0): 1, ('freez', 0): 2, ('fml', 0): 1, ('honeybe', 0): 2, ('*im', 0): 2, ('sweetest', 0): 2, ('world*', 0): 2, ('*wait', 0): 2, ('havnt', 0): 3, ('read', 0): 16, ('msg*', 0): 2, ('moral', 0): 3, ('crack', 0): 2, ('gmgngegn', 0): 2, ('arriv', 0): 2, ('brother', 0): 10, ('gr8', 0): 6, ('kalli', 0): 5, ('dismissi', 0): 1, ('usual', 0): 10, ('respond', 0): 3, ('p', 0): 7, ('nichol', 0): 2, ('middl', 0): 2, ('turn', 0): 9, ('model', 0): 4, ('soni', 0): 2, ('ericson', 0): 1, ('der', 0): 1, ('luk', 0): 1, ('modl', 0): 1, ('onum', 0): 1, ('ela', 0): 2, ('chez', 0): 1, ('jule', 0): 1, ('half', 0): 14, ('eight', 0): 2, ('inner', 0): 1, ('tigress', 0): 1, ('list', 0): 8, ('joanna', 0): 1, ('dad', 0): 17, ('hell', 0): 9, ('aaooooright', 0): 1, ('sarcasm', 0): 2, ('scarcasim', 0): 1, ('bbq', 0): 1, ('6ish', 0): 1, ('welcom', 0): 2, ('compani', 0): 11, ('*smiles*', 0): 3, ('buzi', 0): 2, ('truth', 0): 8, ('lead', 0): 3, ('itåõ', 0): 2, ('uniqu', 0): 1, ('deserv', 0): 1, ('tight', 0): 2, ('byatch', 0): 1, ('whassup', 0): 1, ('loverboy', 0): 2, ('law', 0): 2, ('meatbal', 0): 1, ('*grins*', 0): 8, ('hesit', 0): 1, ('second', 0): 11, ('notebook', 0): 1, ('truli', 0): 1, ('memor', 0): 1, ('sch', 0): 11, ('erm', 0): 2, ('\\x89û_', 0): 7, ('45pm', 0): 1, ('thatll', 0): 2, ('mr', 0): 8, ('sheffield', 0): 2, ('okay', 0): 19, ('nanni', 0): 2, ('rais', 0): 3, ('kitti', 0): 1, ('shave', 0): 1, ('natur', 0): 7, ('puriti', 0): 3, ('forward', 0): 8, ('evng', 0): 5, ('musthu', 0): 1, ('mile', 0): 1, ('decad', 0): 1, ('cheaper', 0): 2, ('petrol', 0): 2, ('gover', 0): 1, ('expect', 0): 4, ('\\\\drink\\\\', 0): 1, ('nalla', 0): 1, ('adi', 0): 1, ('entey', 0): 1, ('nattil', 0): 1, ('kittum', 0): 1, ('consensu', 0): 1, ('librari', 0): 5, ('iouri', 0): 3, ('gave', 0): 9, ('wyli', 0): 3, ('ryan', 0): 1, ('track', 0): 3, ('lighter', 0): 1, ('pussi', 0): 5, ('exact', 0): 4, ('intent', 0): 1, ('unlimit', 0): 2, ('limit', 0): 3, ('recharg', 0): 1, ('hella', 0): 1, ('grand', 0): 2, ('adventur', 0): 2, ('galileo', 0): 2, ('littl', 0): 12, ('yck', 0): 2, ('iq', 0): 2, ('yep', 0): 5, ('\\\\nver', 0): 1, ('lovabl', 0): 10, ('somtim', 0): 1, ('occupi', 0): 2, ('biggest', 0): 1, ('slept', 0): 4, ('afternoon', 0): 19, ('poem', 0): 1, ('near', 0): 4, ('fear', 0): 1, ('cheer', 0): 6, ('view', 0): 1, ('gay', 0): 2, ('bell', 0): 2, ('rout', 0): 1, ('yuou', 0): 1, ('pc', 0): 1, ('spot', 0): 1, ('close', 0): 12, ('\\\\wyli', 0): 1, ('much\\\\', 0): 1, ('justifi', 0): 1, ('ruin', 0): 3, ('soz', 0): 1, ('imat', 0): 1, ('2nite', 0): 1, ('2moro', 0): 1, ('beliv', 0): 1, ('ball', 0): 2, ('daurgent', 0): 1, ('full', 0): 14, ('opportun', 0): 5, ('*kiss*', 0): 1, ('differ', 0): 11, ('wed', 0): 7, ('set', 0): 10, ('date', 0): 7, ('mentor', 0): 1, ('100', 0): 1, ('percent', 0): 1, ('seen', 0): 8, ('cute', 0): 4, ('serious', 0): 8, ('whore', 0): 1, ('unbeliev', 0): 2, ('beauti', 0): 18, ('hide', 0): 2, ('thousand', 0): 1, ('secret', 0): 3, ('n8', 0): 1, ('tomo', 0): 10, ('lunchtim', 0): 1, ('organis', 0): 1, ('aluabl', 0): 1, ('ffection', 0): 1, ('l', 0): 2, ('oveabl', 0): 1, ('ternal', 0): 1, ('obl', 0): 1, ('ruth', 0): 1, ('ntimat', 0): 1, ('atur', 0): 1, ('namou', 0): 1, ('\\\\valentin', 0): 1, ('day\\\\', 0): 3, ('advanc', 0): 2, ('honey', 0): 6, ('rule', 0): 3, ('earlier', 0): 6, ('bend', 0): 1, ('thia', 0): 1, ('inlud', 0): 1, ('preview', 0): 1, ('birla', 0): 3, ('soft', 0): 3, ('otsid', 0): 2, ('le', 0): 2, ('2morrow', 0): 3, ('maga', 0): 2, ('dislik', 0): 2, ('bed', 0): 20, ('skype', 0): 3, ('kz', 0): 1, ('sura', 0): 2, ('pleasur', 0): 4, ('given', 0): 1, ('ultimatum', 0): 1, ('countin', 0): 1, ('aburo', 0): 1, ('enjoy', 0): 16, ('misbehav', 0): 2, ('slap', 0): 2, ('urself', 0): 5, ('wlcome', 0): 1, ('eaten', 0): 2, ('lion', 0): 1, ('weigh', 0): 3, ('woohoo', 0): 1, ('knw', 0): 8, ('classmat', 0): 1, ('wa', 0): 2, ('effici', 0): 1, ('gee', 0): 3, ('sign', 0): 4, ('matur', 0): 5, ('understand', 0): 14, ('small', 0): 4, ('*have', 0): 1, ('evening*', 0): 1, ('moji', 0): 4, ('rich', 0): 1, ('dream', 0): 14, ('bognor', 0): 1, ('splendid', 0): 1, ('\\\\are', 0): 1, ('comingdown', 0): 1, ('onward', 0): 1, ('bill', 0): 2, ('miller', 0): 1, ('water', 0): 5, ('log', 0): 6, ('desert', 0): 1, ('geoenvironment', 0): 1, ('implic', 0): 1, ('mise', 0): 1, ('stori', 0): 14, ('order', 0): 5, ('clover', 0): 1, ('difficult', 0): 10, ('simpl', 0): 16, ('railway', 0): 2, ('nyc', 0): 3, ('audiit', 0): 1, ('reloc', 0): 1, ('slice', 0): 3, ('pizza', 0): 7, ('ugh', 0): 9, ('impress', 0): 1, ('theyll', 0): 1, ('idea', 0): 7, ('slurp', 0): 1, ('slide', 0): 1, ('must', 0): 18, ('huh', 0): 11, ('wear', 0): 6, ('nudist', 0): 1, ('theme', 0): 2, ('_', 0): 4, ('rose', 0): 6, ('season', 0): 2, ('poet', 0): 1, ('frndship', 0): 2, ('forev', 0): 6, ('lect', 0): 8, ('twelv', 0): 2, ('lectur', 0): 3, ('damn', 0): 3, ('corpor', 0): 1, ('st', 0): 10, ('outsid', 0): 9, ('gap', 0): 8, ('multimedia', 0): 1, ('mail', 0): 22, ('convey', 0): 7, ('regard', 0): 5, ('ahold', 0): 1, ('anybodi', 0): 4, ('throw', 0): 6, ('pathaya', 0): 1, ('enketa', 0): 1, ('maraikara', 0): 1, ('daili', 0): 2, ('favour', 0): 3, ('hmph', 0): 1, ('baller', 0): 1, ('shld', 0): 2, ('stretch', 0): 2, ('ericsson', 0): 1, ('salesman', 0): 1, ('hmmm', 0): 7, ('hop', 0): 2, ('muz', 0): 8, ('discuss', 0): 3, ('bbdpooja', 0): 1, ('pimpl', 0): 2, ('becom', 0): 6, ('black', 0): 2, ('sweatter', 0): 1, ('billion', 0): 2, ('fp', 0): 1, ('baaaaab', 0): 1, ('misss', 0): 1, ('youuuuu', 0): 1, ('neft', 0): 2, ('transact', 0): 4, ('refer', 0): 4, ('rs', 0): 11, ('credit', 0): 4, ('beneficiari', 0): 2, ('account', 0): 19, ('&lttime&gt', 0): 7, ('resiz', 0): 1, ('945', 0): 1, ('misplac', 0): 1, ('heard', 0): 4, ('mcat', 0): 2, ('atlanta', 0): 2, ('youd', 0): 6, ('wouldnt', 0): 5, ('jerk', 0): 1, ('paid', 0): 4, ('shoot', 0): 2, ('spin', 0): 1, ('bat', 0): 2, ('version', 0): 3, ('bank', 0): 10, ('authoris', 0): 1, ('payment', 0): 2, ('nvm', 0): 2, ('jd', 0): 1, ('custom', 0): 7, ('cum', 0): 5, ('execut', 0): 1, ('id', 0): 16, ('detail', 0): 8, ('bought', 0): 3, ('egg', 0): 7, ('shout', 0): 2, ('the4th', 0): 1, ('octob', 0): 1, ('sq825', 0): 1, ('8', 0): 17, ('tuition', 0): 4, ('bcum', 0): 3, ('childish', 0): 4, ('deep', 0): 6, ('affect', 0): 4, ('kettoda', 0): 3, ('manda', 0): 3, ('\\\\oh', 0): 1, ('letter', 0): 3, ('who', 0): 8, ('kidz', 0): 2, ('colleagu', 0): 6, ('sofa', 0): 3, ('nake', 0): 4, ('jean', 0): 1, ('gam', 0): 1, ('outstand', 0): 2, ('inning', 0): 2, ('therer', 0): 1, ('ktv', 0): 1, ('uncl', 0): 9, ('john', 0): 4, ('dollar', 0): 3, ('2year', 0): 1, ('strain', 0): 1, ('dime', 0): 2, ('speak', 0): 16, ('machan', 0): 2, ('rain', 0): 8, ('mah', 0): 8, ('orchard', 0): 7, ('monthli', 0): 1, ('amount', 0): 4, ('6month', 0): 1, ('gym', 0): 6, ('jog', 0): 1, ('jolt', 0): 2, ('suzi', 0): 1, ('swing', 0): 9, ('firsg', 0): 1, ('nah', 0): 7, ('wrk', 0): 2, ('j', 0): 3, ('\\\\petey', 0): 1, ('wherear', 0): 1, ('friendsar', 0): 1, ('thekingshead', 0): 1, ('canlov', 0): 1, ('nic\\\\', 0): 1, ('hm', 0): 2, ('headach', 0): 1, ('anyon', 0): 8, ('faith', 0): 2, ('christma', 0): 10, ('merri', 0): 4, ('surya', 0): 1, ('vijay', 0): 3, ('pokkiri', 0): 1, ('kall', 0): 1, ('bestcongrat', 0): 1, ('meaning', 0): 1, ('line', 0): 7, ('\\\\i', 0): 3, ('compromis', 0): 1, ('inform', 0): 8, ('belong', 0): 1, ('fate', 0): 1, ('shoranur', 0): 1, ('incid', 0): 1, ('fuell', 0): 1, ('prior', 0): 1, ('grief', 0): 1, ('chain', 0): 1, ('violenc', 0): 2, ('women', 0): 1, ('batt', 0): 1, ('seat', 0): 2, ('lower', 0): 2, ('bet', 0): 2, ('clever', 0): 2, ('darren', 0): 4, ('will', 0): 5, ('aiya', 0): 1, ('leona', 0): 2, ('attach', 0): 3, ('pix', 0): 3, ('oi', 0): 2, ('midnight', 0): 4, ('gotta', 0): 6, ('california', 0): 3, ('reveal', 0): 1, ('toa', 0): 1, ('payoh', 0): 1, ('dine', 0): 2, ('lookin', 0): 3, ('vl', 0): 2, ('remb', 0): 1, ('pock', 0): 1, ('role', 0): 4, ('young', 0): 1, ('dog', 0): 5, ('lemm', 0): 6, ('ayo', 0): 1, ('forgotten', 0): 2, ('almost', 0): 9, ('cash', 0): 10, ('past', 0): 4, ('$', 0): 5, ('inconsider', 0): 2, ('nag', 0): 2, ('cost', 0): 8, ('howev', 0): 6, ('recess', 0): 2, ('henc', 0): 2, ('askin', 0): 3, ('dawher', 0): 1, ('taught', 0): 1, ('ranjith', 0): 1, ('becau', 0): 1, ('verifi', 0): 2, ('prabu', 0): 1, ('warn', 0): 1, ('sprint', 0): 1, ('dead', 0): 3, ('prolli', 0): 2, ('mmmmmm', 0): 1, ('begin', 0): 4, ('closer', 0): 2, ('finewhen', 0): 1, ('cours', 0): 6, ('starv', 0): 1, ('pound', 0): 5, ('yoyyooo', 0): 1, ('permiss', 0): 2, ('mac', 0): 2, ('usb', 0): 1, ('hockey', 0): 1, ('elect', 0): 1, ('shouldn\\x89û÷t', 0): 1, ('longer', 0): 5, ('sell', 0): 8, ('ton', 0): 1, ('coin', 0): 6, ('thru', 0): 4, ('paypal', 0): 1, ('voila', 0): 1, ('pocket', 0): 1, ('oha', 0): 1, ('torch', 0): 4, ('9ja', 0): 3, ('cheap', 0): 2, ('avail', 0): 7, ('space', 0): 6, ('embassi', 0): 1, ('usc', 0): 2, ('portal', 0): 1, ('explain', 0): 2, ('ticket', 0): 7, ('fren', 0): 4, ('wisdom', 0): 2, ('hidden', 0): 1, ('prey', 0): 1, ('*love', 0): 4, ('*devour', 0): 1, ('kiss*', 0): 9, ('sing', 0): 5, ('xxx\\\\', 0): 1, ('hee', 0): 9, ('excel', 0): 4, ('ecstasi', 0): 1, ('dayexcept', 0): 1, ('fri', 0): 6, ('spare', 0): 2, ('idiot', 0): 2, ('roommat', 0): 4, ('looovvv', 0): 1, ('directli', 0): 4, ('calicut', 0): 2, ('mostli', 0): 2, ('sport', 0): 1, ('footbl', 0): 1, ('crckt', 0): 1, ('maneesha', 0): 3, ('satisfi', 0): 3, ('toll', 0): 3, ('tv', 0): 13, ('agre', 0): 2, ('thinkin', 0): 3, ('ipad', 0): 3, ('macho', 0): 2, ('konw', 0): 1, ('waht', 0): 1, ('rael', 0): 1, ('gving', 0): 1, ('yuo', 0): 2, ('exmpel', 0): 1, ('jsut', 0): 1, ('ese', 0): 2, ('tih', 0): 2, ('evrey', 0): 1, ('splle', 0): 1, ('wrnog', 0): 1, ('sitll', 0): 1, ('ra', 0): 1, ('wihtuot', 0): 1, ('ayn', 0): 1, ('mitsak', 0): 1, ('goodnight', 0): 4, ('congrat', 0): 4, ('mother', 0): 3, ('hai', 0): 1, ('priya', 0): 1, ('&gt', 0): 3, ('spatula', 0): 1, ('tyler', 0): 4, ('quarter', 0): 1, ('telli', 0): 2, ('brdget', 0): 1, ('jone', 0): 1, ('\\\\get', 0): 1, ('piti', 0): 1, ('maid', 0): 5, ('murder', 0): 14, ('th', 0): 9, ('januari', 0): 5, ('public', 0): 3, ('govt', 0): 3, ('instituit', 0): 3, ('includ', 0): 7, ('cosign', 0): 1, ('option', 0): 1, ('math', 0): 2, ('andrew', 0): 1, ('crab', 0): 3, ('shore', 0): 2, ('wave', 0): 2, ('clear', 0): 7, ('footprint', 0): 3, ('fox', 0): 1, ('follow', 0): 2, ('frndsship', 0): 1, ('dwn', 0): 1, ('success', 0): 5, ('recoveri', 0): 1, ('rather', 0): 4, ('coop', 0): 1, ('kalainar', 0): 1, ('thenampet', 0): 1, ('eatin', 0): 4, ('mountain', 0): 2, ('deer', 0): 1, ('boo', 0): 2, ('swim', 0): 1, ('pool', 0): 1, ('jacuzzi', 0): 1, ('sleepwell&amptak', 0): 2, ('forc', 0): 3, ('smeon', 0): 1, ('wrkin', 0): 1, ('forfeit', 0): 1, ('everywher', 0): 1, ('cannot', 0): 3, ('tram', 0): 1, ('cousin', 0): 2, ('vic', 0): 1, ('market', 0): 2, ('hotel', 0): 3, ('mb', 0): 2, ('hit', 0): 9, ('vomit', 0): 3, ('anythi', 0): 1, ('distanc', 0): 3, ('rush', 0): 5, ('nacho', 0): 1, ('eta', 0): 1, ('heat', 0): 1, ('appli', 0): 3, ('oil', 0): 1, ('raji', 0): 2, ('nimya', 0): 4, ('pictur', 0): 5, ('facebook', 0): 4, ('kid', 0): 8, ('9', 0): 20, ('swhrt', 0): 1, ('2day', 0): 3, ('prepar', 0): 3, ('tke', 0): 1, ('pendent', 0): 1, ('cook', 0): 6, ('salmon', 0): 1, ('la', 0): 5, ('sun', 0): 8, ('hire', 0): 1, ('hitman', 0): 1, ('womdarful', 0): 1, ('actor', 0): 1, ('iam', 0): 6, ('plu', 0): 14, ('workin', 0): 3, ('lotta', 0): 2, ('corvett', 0): 1, ('arr', 0): 1, ('oscar', 0): 1, ('garag', 0): 2, ('collaps', 0): 1, ('univers', 0): 3, ('ym', 0): 4, ('photo', 0): 4, ('kim', 0): 1, ('tirunelvali', 0): 2, ('feb', 0): 3, ('romant', 0): 3, ('sindu', 0): 1, ('fee', 0): 2, ('florida', 0): 1, ('vibrat', 0): 2, ('collect', 0): 6, ('dough', 0): 1, ('control', 0): 1, ('member', 0): 1, ('aunt', 0): 2, ('flow', 0): 2, ('ovarian', 0): 1, ('cyst', 0): 1, ('bc', 0): 1, ('shrink', 0): 1, ('visa', 0): 1, ('gucci', 0): 1, ('bag', 0): 4, ('sha', 0): 2, ('station', 0): 3, ('farm', 0): 3, ('tour', 0): 1, ('9am', 0): 1, ('5pm', 0): 2, ('$95', 0): 1, ('pax', 0): 1, ('$50', 0): 2, ('deposit', 0): 1, ('16', 0): 1, ('gram', 0): 4, ('eighth', 0): 2, ('smarter', 0): 1, ('save', 0): 6, ('iron', 0): 2, ('apologet', 0): 1, ('fallen', 0): 1, ('actin', 0): 1, ('spoilt', 0): 1, ('child', 0): 2, ('caught', 0): 1, ('badli', 0): 1, ('diff', 0): 3, ('tht', 0): 9, ('unknown', 0): 2, ('*didnt*', 0): 1, ('wrote', 0): 1, ('ritten', 0): 1, ('fold', 0): 1, ('laundri', 0): 2, ('etc', 0): 1, ('hang', 0): 4, ('rimac', 0): 1, ('access', 0): 1, ('theyr', 0): 3, ('femal', 0): 2, ('howr', 0): 1, ('dusk', 0): 1, ('puzzl', 0): 1, ('area', 0): 2, ('gain', 0): 2, ('avatar', 0): 2, ('subtoitl', 0): 1, ('basket', 0): 1, ('gettin', 0): 7, ('easili', 0): 2, ('valentin', 0): 7, ('gotten', 0): 1, ('sick', 0): 6, ('needi', 0): 1, ('*pouts*', 0): 3, ('*stomp', 0): 3, ('feet*', 0): 3, ('marri', 0): 5, ('round', 0): 7, ('avoid', 0): 3, ('burden', 0): 1, ('celebr', 0): 6, ('lul', 0): 1, ('juici', 0): 2, ('gossip', 0): 1, ('nurs', 0): 1, ('fat', 0): 5, ('obes', 0): 1, ('oyea', 0): 1, ('formclark', 0): 1, ('wast', 0): 6, ('msging', 0): 3, ('bold', 0): 4, ('2bold', 0): 1, ('taco', 0): 1, ('txting', 0): 1, ('fffff', 0): 1, ('kadeem', 0): 1, ('i\\x89û÷v', 0): 1, ('salt', 0): 1, ('rub', 0): 2, ('wound', 0): 1, ('destin', 0): 1, ('touch', 0): 13, ('centr', 0): 4, ('repair', 0): 1, ('shouldnt', 0): 4, ('ovul', 0): 3, ('relax', 0): 4, ('followin', 0): 1, ('semest', 0): 9, ('rebtel', 0): 1, ('firefox', 0): 1, ('user', 0): 1, ('pin', 0): 3, ('display', 0): 2, ('staff', 0): 1, ('placement', 0): 1, ('amrita', 0): 1, ('wahala', 0): 1, ('chachi', 0): 1, ('unabl', 0): 3, ('cal', 0): 3, ('tiz', 0): 1, ('kanagu', 0): 1, ('www', 0): 2, ('fullonsm', 0): 6, ('com', 0): 12, ('biola', 0): 2, ('fne', 0): 1, ('mouth', 0): 1, ('jeremiah', 0): 1, ('gener', 0): 3, ('uncount', 0): 1, ('noun', 0): 1, ('piec', 0): 4, ('research', 0): 1, ('med', 0): 5, ('master', 0): 2, ('din', 0): 5, ('420', 0): 1, ('tiim', 0): 1, ('hug', 0): 6, ('break', 0): 7, ('theatr', 0): 2, ('speechless', 0): 3, ('length', 0): 2, ('behalf', 0): 1, ('stun', 0): 1, ('stand', 0): 6, ('campu', 0): 1, ('lodg', 0): 2, ('urgh', 0): 1, ('coach', 0): 1, ('smell', 0): 2, ('chip', 0): 2, ('especi', 0): 6, ('duvet', 0): 1, ('predict', 0): 4, ('bmw', 0): 2, ('urgent', 0): 4, ('hv', 0): 3, ('shortag', 0): 2, ('lac', 0): 4, ('sourc', 0): 2, ('arng', 0): 2, ('semi', 0): 1, ('yell', 0): 2, ('scrappi', 0): 1, ('mathew', 0): 1, ('tait', 0): 1, ('edward', 0): 1, ('anderson', 0): 1, ('whenr', 0): 1, ('mcr', 0): 1, ('sac', 0): 2, ('score', 0): 3, ('hundr', 0): 3, ('batsman', 0): 1, ('tirupur', 0): 1, ('variou', 0): 1, ('yeovil', 0): 1, ('motor', 0): 1, ('12', 0): 3, ('30', 0): 7, ('max', 0): 1, ('imma', 0): 5, ('flip', 0): 1, ('sweetheart', 0): 1, ('escap', 0): 3, ('kavalan', 0): 1, ('team', 0): 3, ('ffffffffff', 0): 1, ('sooner', 0): 2, ('girli', 0): 1, ('teresa', 0): 1, ('packag', 0): 2, ('dec', 0): 1, ('thot', 0): 2, ('yould', 0): 1, ('fantast', 0): 2, ('bam', 0): 1, ('aid', 0): 1, ('usml', 0): 1, ('voucher', 0): 1, ('virgin', 0): 1, ('sumf', 0): 1, ('southern', 0): 1, ('grr', 0): 1, ('prescript', 0): 2, ('pharmaci', 0): 1, ('suit', 0): 1, ('freaki', 0): 1, ('iraq', 0): 1, ('afghanistan', 0): 1, ('stabl', 0): 1, ('honest', 0): 1, ('embarass', 0): 4, ('accomod', 0): 1, ('\\\\the', 0): 1, ('cave\\\\', 0): 1, ('dvd', 0): 1, ('copi', 0): 3, ('airport', 0): 3, ('satsgettin', 0): 1, ('47per', 0): 1, ('torrent', 0): 1, ('particularli', 0): 1, ('legal', 0): 2, ('system', 0): 4, ('moon', 0): 2, ('fanci', 0): 4, ('bridg', 0): 1, ('lager', 0): 1, ('misundrstud', 0): 1, ('hate', 0): 4, ('ull', 0): 4, ('gn', 0): 3, ('ke', 0): 2, ('qi', 0): 1, ('izzit', 0): 5, ('suddenli', 0): 1, ('outta', 0): 3, ('rob', 0): 1, ('mack', 0): 1, ('gf', 0): 2, ('theater', 0): 1, ('bathroom', 0): 1, ('sup', 0): 4, ('delay', 0): 2, ('welp', 0): 2, ('lov', 0): 2, ('nevr', 0): 1, ('unrecogn', 0): 1, ('somon', 0): 1, ('often', 0): 3, ('definitli', 0): 1, ('undrstnd', 0): 1, ('senthil', 0): 2, ('apnt', 0): 1, ('learn', 0): 3, ('8am', 0): 2, ('hill', 0): 1, ('hidid', 0): 1, ('waheeda', 0): 1, ('fathima', 0): 3, ('fr', 0): 6, ('china', 0): 2, ('jst', 0): 4, ('usf', 0): 5, ('stoner', 0): 1, ('agent', 0): 1, ('boston', 0): 3, ('aint', 0): 5, ('tobacco', 0): 1, ('luckili', 0): 1, ('pei', 0): 1, ('bf', 0): 2, ('consent', 0): 1, ('form', 0): 2, ('cloth', 0): 2, ('jewelri', 0): 1, ('trip', 0): 7, ('funer', 0): 2, ('audrey', 0): 2, ('cooki', 0): 2, ('jelli', 0): 1, ('sonathaya', 0): 1, ('soladha', 0): 1, ('8th', 0): 4, ('smith', 0): 1, ('gayl', 0): 1, ('bloodi', 0): 4, ('babyjontet', 0): 1, ('webpag', 0): 1, ('dorm', 0): 1, ('vava', 0): 3, ('offlin', 0): 1, ('anjola', 0): 1, ('yessura', 0): 1, ('21', 0): 1, ('jiayin', 0): 1, ('woul', 0): 1, ('curfew', 0): 1, ('gibe', 0): 1, ('getsleep', 0): 1, ('studdi', 0): 1, ('ear', 0): 2, ('jada', 0): 4, ('kusruthi', 0): 4, ('spl', 0): 5, ('stylish', 0): 4, ('stitch', 0): 1, ('trouser', 0): 1, ('yr', 0): 2, ('huai', 0): 1, ('juan', 0): 1, ('\\\\aww', 0): 1, ('nearli', 0): 2, ('jez', 0): 1, ('iscom', 0): 1, ('todo', 0): 1, ('workand', 0): 1, ('whilltak', 0): 1, ('signific', 0): 2, ('sen', 0): 2, ('financ', 0): 2, ('mmmmm', 0): 1, ('within', 0): 5, ('combin', 0): 2, ('sens', 0): 3, ('foot', 0): 2, ('peni', 0): 2, ('manag', 0): 5, ('wednesday', 0): 6, ('rang', 0): 4, ('joy', 0): 4, ('tooo', 0): 2, ('nte', 0): 1, ('report', 0): 4, ('excit', 0): 1, ('havenåõt', 0): 2, ('4u', 0): 3, ('didnåõt', 0): 2, ('intend', 0): 1, ('iwasmarine&thatåõ', 0): 1, ('itried2tel', 0): 1, ('urmom', 0): 1, ('careabout', 0): 1, ('anythin', 0): 1, ('hor', 0): 2, ('owl', 0): 1, ('massiv', 0): 1, ('involv', 0): 2, ('bye', 0): 1, ('kwhi', 0): 1, ('coffe', 0): 5, ('ay', 0): 1, ('wkg', 0): 1, ('tel', 0): 6, ('admin', 0): 2, ('slightli', 0): 2, ('recept', 0): 1, ('aha', 0): 3, ('pongal', 0): 3, ('vday', 0): 2, ('parachut', 0): 1, ('lmao', 0): 5, ('edison', 0): 2, ('rightli', 0): 2, ('wise', 0): 2, ('answer\\\\', 0): 2, ('viva', 0): 2, ('gm', 0): 2, ('it\\x89û÷', 0): 2, ('å£6', 0): 2, ('nimbomson', 0): 1, ('request', 0): 3, ('factori', 0): 1, ('nitro', 0): 2, ('tightli', 0): 1, ('concentr', 0): 3, ('wetherspoon', 0): 1, ('grinul', 0): 1, ('allo', 0): 1, ('brave', 0): 1, ('buse', 0): 2, ('triumph', 0): 1, ('b\\x89û÷ham', 0): 1, ('jolli', 0): 1, ('rest', 0): 6, ('possess', 0): 3, ('properti', 0): 1, ('*childish', 0): 1, ('funni', 0): 6, ('fact', 0): 7, ('nobodi', 0): 7, ('volcano', 0): 1, ('erupt', 0): 1, ('tsunami', 0): 1, ('aris', 0): 1, ('hurrican', 0): 1, ('sway', 0): 1, ('aroundn', 0): 1, ('choos', 0): 5, ('disast', 0): 1, ('lido', 0): 2, ('530', 0): 3, ('progress', 0): 1, ('continu', 0): 1, ('worth', 0): 2, ('bugi', 0): 2, ('930', 0): 2, ('regist', 0): 4, ('regret', 0): 3, ('dlf', 0): 1, ('premarica', 0): 1, ('kindli', 0): 2, ('rgd', 0): 1, ('kerala', 0): 3, ('april', 0): 4, ('sian', 0): 1, ('spiritu', 0): 1, ('supervisor', 0): 2, ('onword', 0): 1, ('mtnl', 0): 1, ('mumbai', 0): 1, ('didt', 0): 4, ('tessi', 0): 2, ('favor', 0): 2, ('shija', 0): 2, ('princ', 0): 2, ('charm', 0): 1, ('hellogorg', 0): 1, ('fone', 0): 4, ('lst', 0): 2, ('nitw', 0): 1, ('texd', 0): 1, ('hopeu', 0): 1, ('wkend', 0): 2, ('4ward', 0): 1, ('2mrw', 0): 4, ('jaz', 0): 1, ('strong', 0): 1, ('missunderstd', 0): 1, ('belov', 0): 2, ('environ', 0): 1, ('terrif', 0): 1, ('sri', 0): 1, ('haunt', 0): 1, ('promot', 0): 1, ('hex', 0): 1, ('hasnt', 0): 2, ('pattern', 0): 1, ('mummi', 0): 1, ('father', 0): 6, ('am', 0): 1, ('xx', 0): 6, ('paragon', 0): 2, ('whether', 0): 3, ('gist', 0): 1, ('histori', 0): 3, ('comfort', 0): 1, ('luxuri', 0): 1, ('sold', 0): 1, ('onion', 0): 1, ('brolli', 0): 1, ('english', 0): 3, ('franxx', 0): 1, ('sonetim', 0): 1, ('rough', 0): 1, ('uhhhhrmm', 0): 1, ('tb', 0): 1, ('canåõt', 0): 1, ('cornwal', 0): 1, ('isnåõt', 0): 1, ('shite', 0): 1, ('kip', 0): 1, ('arrest', 0): 4, ('futur', 0): 2, ('present', 0): 4, ('creepi', 0): 2, ('realiti', 0): 1, ('websit', 0): 5, ('eh', 0): 7, ('wrongli', 0): 1, ('salari', 0): 3, ('stripe', 0): 1, ('skirt', 0): 1, ('proof', 0): 1, ('allow', 0): 3, ('pete', 0): 5, ('jenni', 0): 1, ('leann', 0): 1, ('februari', 0): 2, ('jumper', 0): 1, ('hat', 0): 1, ('belt', 0): 1, ('cribb', 0): 1, ('pack', 0): 5, ('tablet', 0): 3, ('drugdeal', 0): 1, ('330', 0): 1, ('1120', 0): 1, ('1205', 0): 1, ('dobbi', 0): 2, ('fuckin', 0): 3, ('showr', 0): 1, ('attract', 0): 3, ('breath', 0): 4, ('craziest', 0): 2, ('proov', 0): 1, ('planet', 0): 2, ('prais', 0): 1, ('chicken', 0): 2, ('curri', 0): 1, ('maki', 0): 1, ('sambar', 0): 1, ('dessert', 0): 1, ('i\\x89û÷ll', 0): 3, ('pan', 0): 2, ('perhap', 0): 1, ('silli', 0): 1, ('isn\\x89û÷t', 0): 1, ('\\\\power', 0): 1, ('frndship\\\\', 0): 1, ('priscilla', 0): 1, ('bowl', 0): 4, ('brotha', 0): 3, ('panren', 0): 1, ('paru', 0): 1, ('despar', 0): 2, ('record', 0): 2, ('imag', 0): 1, ('oic', 0): 3, ('whr', 0): 1, ('ru', 0): 3, ('therel', 0): 1, ('minor', 0): 1, ('shindig', 0): 1, ('6hr', 0): 3, ('appendix', 0): 1, ('chill', 0): 2, ('empti', 0): 5, ('complain', 0): 2, ('buffet', 0): 1, ('shorter', 0): 2, ('blackberri', 0): 3, ('bold2', 0): 1, ('yunni', 0): 1, ('elain', 0): 1, ('alcohol', 0): 2, ('ummma', 0): 1, ('qatar', 0): 3, ('either', 0): 5, ('anyplac', 0): 1, ('emigr', 0): 1, ('kay', 0): 2, ('playin', 0): 1, ('poker', 0): 2, ('ffffuuuuuuu', 0): 1, ('punto', 0): 1, ('woulda', 0): 1, ('confus', 0): 1, ('doesn\\x89û÷t', 0): 1, ('kilo', 0): 1, ('pandi', 0): 2, ('4w', 0): 1, ('technolog', 0): 1, ('batteri', 0): 3, ('soire', 0): 1, ('3rd', 0): 3, ('settl', 0): 4, ('transport', 0): 1, ('problemat', 0): 1, ('no', 0): 1, ('icic', 0): 1, ('amaz', 0): 1, ('\\\\sometim', 0): 1, ('plm', 0): 1, ('hiya', 0): 6, ('stu', 0): 1, ('trubl', 0): 1, ('evon', 0): 1, ('av', 0): 1, ('dan', 0): 2, ('neither', 0): 2, ('[in', 0): 1, ('sterm', 0): 1, ('voice]', 0): 1, ('resolv', 0): 1, ('fab', 0): 2, ('hol', 0): 3, ('inperialmus', 0): 1, ('listening2th', 0): 1, ('byåóleafcutt', 0): 1, ('johnåó', 0): 1, ('insect', 0): 1, ('molested&someon', 0): 1, ('plumb', 0): 1, ('remix', 0): 1, ('evil', 0): 1, ('men', 0): 6, ('acid', 0): 1, ('pure', 0): 1, ('enemi', 0): 4, ('guilti', 0): 2, ('smiley', 0): 1, ('thursday', 0): 1, ('\\\\me', 0): 1, ('4get', 0): 3, ('itboth', 0): 1, ('upnot', 0): 1, ('soo', 0): 2, ('muchxxlov', 0): 1, ('locaxx\\\\', 0): 1, ('\\\\ey', 0): 1, ('calm', 0): 2, ('downon', 0): 1, ('theacus', 0): 1, ('itxt', 0): 1, ('iwana', 0): 1, ('wotu', 0): 1, ('thew', 0): 1, ('haventcn', 0): 1, ('up4', 0): 2, ('neth', 0): 1, ('white', 0): 5, ('fudg', 0): 1, ('oreo', 0): 1, ('hrishi', 0): 1, ('due', 0): 1, ('reserv', 0): 2, ('loan', 0): 4, ('balanc', 0): 4, ('mid', 0): 6, ('awak', 0): 4, ('\\\\cha', 0): 1, ('quiteamuz', 0): 1, ('thatåõscool', 0): 1, ('disappear', 0): 1, ('wate', 0): 1, ('top', 0): 3, ('bottom', 0): 2, ('furnitur', 0): 1, ('lock', 0): 2, ('key', 0): 2, ('jenn', 0): 1, ('becoz', 0): 3, ('whn', 0): 1, ('ofic', 0): 2, ('cn', 0): 2, ('duffer', 0): 1, ('chief', 0): 1, ('royal', 0): 2, ('1st', 0): 4, ('buyer', 0): 1, ('surnam', 0): 1, ('clue', 0): 1, ('spanish', 0): 1, ('kwhere', 0): 1, ('26th', 0): 1, ('juli', 0): 1, ('fast', 0): 10, ('approach', 0): 2, ('sankranti', 0): 1, ('republ', 0): 1, ('shivratri', 0): 1, ('ugadi', 0): 1, ('independ', 0): 2, ('teacher', 0): 1, ('children', 0): 5, ('ganesh', 0): 2, ('festiv', 0): 1, ('dasara', 0): 1, ('diwali', 0): 1, ('rememberi', 0): 1, ('raj', 0): 1, ('rhythm', 0): 2, ('establish', 0): 1, ('gopalettan', 0): 1, ('particip', 0): 1, ('asleep', 0): 3, ('aiyah', 0): 3, ('improv', 0): 2, ('spi', 0): 1, ('officewhat', 0): 1, ('poorli', 0): 1, ('punish', 0): 2, ('brb', 0): 1, ('kill', 0): 4, ('wifi', 0): 2, ('3g', 0): 1, ('blank', 0): 4, ('entertain', 0): 2, ('link', 0): 1, ('cthen', 0): 1, ('conclus', 0): 1, ('content', 0): 3, ('pg', 0): 3, ('cover', 0): 4, ('allday', 0): 1, ('west', 0): 1, ('palm', 0): 1, ('tomarrow', 0): 1, ('court', 0): 1, ('size', 0): 1, ('eleph', 0): 1, ('shove', 0): 2, ('um', 0): 1, ('capit', 0): 1, ('affidavit', 0): 1, ('twigg', 0): 1, ('divis', 0): 2, ('courtroom', 0): 1, ('\\\\hurt', 0): 1, ('textin', 0): 1, ('dice', 0): 1, ('art', 0): 2, ('xy', 0): 6, ('tick', 0): 6, ('uh', 0): 1, ('aiyo', 0): 2, ('pai', 0): 1, ('seh', 0): 1, ('scare', 0): 5, ('rem', 0): 3, ('jaya', 0): 1, ('london', 0): 2, ('treatin', 0): 1, ('treacl', 0): 1, ('pple', 0): 2, ('gumbi', 0): 1, ('chees', 0): 2, ('$2', 0): 1, ('aptitud', 0): 1, ('fb', 0): 4, ('jaykwon', 0): 1, ('thuglyf', 0): 1, ('falconerf', 0): 1, ('amk', 0): 1, ('tea', 0): 2, ('wah', 0): 3, ('def', 0): 4, ('term', 0): 2, ('condit', 0): 2, ('okor', 0): 1, ('cherish', 0): 1, ('mojibiola', 0): 1, ('beneath', 0): 1, ('pale', 0): 1, ('goodnit', 0): 1, ('olol', 0): 1, ('forum', 0): 3, ('gpu', 0): 1, ('replac', 0): 2, ('ignor', 0): 2, ('retir', 0): 1, ('grocer', 0): 1, ('leagu', 0): 1, ('spell', 0): 3, ('cap', 0): 1, ('among', 0): 1, ('mess', 0): 3, ('bullshit', 0): 1, ('fridg', 0): 1, ('meal', 0): 1, ('4d', 0): 1, ('fondli', 0): 1, ('bein', 0): 2, ('easier', 0): 2, ('tog', 0): 2, ('mth', 0): 2, ('squeeeeez', 0): 1, ('frndshp', 0): 1, ('luvd*', 0): 1, ('none', 0): 5, ('birthdat', 0): 1, ('certif', 0): 1, ('publish', 0): 1, ('horribl', 0): 2, ('languag', 0): 1, ('tom', 0): 1, ('categori', 0): 1, ('measur', 0): 2, ('ethnic', 0): 1, ('censu', 0): 1, ('transcrib', 0): 1, ('unnecessarili', 0): 2, ('hostil', 0): 1, ('ride', 0): 1, ('flower', 0): 1, ('dippeditinadew', 0): 1, ('lovingli', 0): 1, ('itwhichturnedinto', 0): 1, ('tomeandsaid', 0): 1, ('ne', 0): 2, ('wknd', 0): 1, ('menu', 0): 5, ('weekday', 0): 1, ('nail', 0): 1, ('drivin', 0): 2, ('arngd', 0): 1, ('marriag', 0): 4, ('walkin', 0): 1, ('unfortuntli', 0): 1, ('snake', 0): 3, ('bite', 0): 4, ('danc', 0): 2, ('frnt', 0): 1, ('sayin', 0): 1, ('laptop', 0): 9, ('red', 0): 5, ('poor', 0): 4, ('relat', 0): 2, ('some1', 0): 6, ('garment', 0): 1, ('prefer', 0): 3, ('pap', 0): 2, ('sugar', 0): 1, ('tellmiss', 0): 1, ('sarcast', 0): 1, ('diesel', 0): 1, ('per', 0): 5, ('conveni', 0): 1, ('oooh', 0): 1, ('ridden', 0): 1, ('ey', 0): 1, ('boat', 0): 2, ('notic', 0): 4, ('dled', 0): 1, ('imp', 0): 2, ('sbut', 0): 1, ('summer', 0): 1, ('magic', 0): 3, ('sight', 0): 3, ('oooooh', 0): 1, ('anymor', 0): 4, ('3230', 0): 1, ('textbook', 0): 1, ('intro', 0): 3, ('algorithm', 0): 1, ('edit', 0): 1, ('refil', 0): 2, ('inr', 0): 2, ('keralacircl', 0): 2, ('prepaid', 0): 2, ('kr', 0): 2, ('dull', 0): 1, ('mirror', 0): 1, ('ttyl', 0): 2, ('nightnight', 0): 1, ('hugh', 0): 1, ('lauri', 0): 1, ('stick', 0): 2, ('inde', 0): 1, ('sentenc', 0): 1, ('\\\\becaus', 0): 1, ('career', 0): 1, ('prospect', 0): 2, ('bleak', 0): 1, ('cl', 0): 1, ('info', 0): 2, ('belli', 0): 4, ('warm', 0): 7, ('*ador', 0): 1, ('\\\\symptoms\\\\', 0): 1, ('pert', 0): 1, ('potato', 0): 2, ('head\\x89û_', 0): 1, ('iz', 0): 2, ('yellow', 0): 1, ('misscal', 0): 1, ('frndz', 0): 1, ('6miss', 0): 1, ('unconsci', 0): 1, ('adult', 0): 1, ('behav', 0): 3, ('abnorm', 0): 1, ('mega', 0): 1, ('asda', 0): 1, ('drunkard', 0): 1, ('15pm', 0): 1, ('ba', 0): 1, ('gua', 0): 1, ('mt', 0): 1, ('faber', 0): 1, ('dhoni', 0): 2, ('rr', 0): 1, ('charl', 0): 1, ('\\\\speak', 0): 1, ('silenc', 0): 1, ('gt', 0): 2, ('troubl', 0): 4, ('wiproy', 0): 1, ('chile', 0): 1, ('sublet', 0): 1, ('audit', 0): 1, ('mmmm', 0): 2, ('uncomfort', 0): 1, ('row', 0): 3, ('cope', 0): 1, ('countri', 0): 2, ('el', 0): 1, ('nino', 0): 1, ('realis', 0): 2, ('backward', 0): 1, ('hdd', 0): 1, ('graviti', 0): 2, ('\\\\our', 0): 2, ('heavi', 0): 4, ('timi', 0): 1, ('tonght', 0): 1, ('randomlli', 0): 1, ('5min', 0): 1, ('fo', 0): 2, ('senor', 0): 1, ('gooddhanush', 0): 1, ('stayin', 0): 1, ('stranger', 0): 2, ('dave', 0): 1, ('heåõ', 0): 1, ('bloke', 0): 1, ('gona', 0): 3, ('2getha', 0): 1, ('somewhat', 0): 1, ('laden', 0): 1, ('wreck', 0): 1, ('six', 0): 1, ('thur', 0): 2, ('1hr', 0): 1, ('dado', 0): 1, ('importantli', 0): 1, ('olowoyey', 0): 1, ('edu', 0): 1, ('argentina', 0): 1, ('yeh', 0): 2, ('kane', 0): 1, ('shud', 0): 1, ('mite', 0): 2, ('naughti', 0): 1, ('sentiment', 0): 1, ('rowdi', 0): 1, ('ful', 0): 3, ('attitud', 0): 1, ('shi', 0): 2, ('bhaskar', 0): 1, ('cough', 0): 1, ('famou', 0): 1, ('abil', 0): 2, ('uncondit', 0): 1, ('temper', 0): 1, ('self', 0): 2, ('chequ', 0): 1, ('lifei', 0): 1, ('daywith', 0): 1, ('somewheresomeon', 0): 1, ('tosend', 0): 1, ('straight', 0): 3, ('bud', 0): 3, ('everyso', 0): 1, ('panick', 0): 1, ('risk', 0): 2, ('couldnt', 0): 4, ('easter', 0): 1, ('sd', 0): 1, ('sore', 0): 2, ('carton', 0): 1, ('shelv', 0): 1, ('castor', 0): 2, ('spoon', 0): 2, ('mp3', 0): 1, ('responc', 0): 3, ('twin', 0): 1, ('storm', 0): 2, ('phne', 0): 2, ('\\\\hello\\\\', 0): 2, ('wt', 0): 2, ('margaret', 0): 2, ('hello\\\\', 0): 2, ('girlfrnd', 0): 2, ('f', 0): 2, ('grahmbel', 0): 2, ('invnt', 0): 2, ('telphon', 0): 2, ('moralon', 0): 2, ('ryder', 0): 1, ('unsold', 0): 3, ('gibb', 0): 2, ('flippin', 0): 1, ('upset', 0): 4, ('prioriti', 0): 1, ('constantli', 0): 3, ('\\\\what', 0): 2, ('non', 0): 1, ('elsewher', 0): 1, ('rencontr', 0): 1, ('pickl', 0): 1, ('zaher', 0): 1, ('plaza', 0): 1, ('dudett', 0): 1, ('papa', 0): 1, ('breather', 0): 1, ('grant', 0): 1, ('fulfil', 0): 1, ('6time', 0): 1, ('bcaz', 0): 1, ('stuck', 0): 1, ('lt', 0): 1, ('degre', 0): 2, ('mina', 0): 1, ('\\\\pete', 0): 1, ('meiv', 0): 1, ('hardli', 0): 1, ('gotani', 0): 1, ('credit\\\\', 0): 1, ('titl', 0): 1, ('mapquest', 0): 1, ('\\\\usf', 0): 1, ('dogwood', 0): 1, ('drive\\\\', 0): 1, ('invent', 0): 1, ('ibuprofen', 0): 1, ('fifth', 0): 1, ('woozl', 0): 1, ('weasel', 0): 1, ('exet', 0): 2, ('loo', 0): 1, ('ed', 0): 1, ('fredericksburg', 0): 1, ('fret', 0): 2, ('strip', 0): 1, ('postal', 0): 1, ('sec', 0): 3, ('bot', 0): 1, ('note', 0): 2, ('mo', 0): 5, ('730', 0): 1, ('ortxt', 0): 1, ('jess', 0): 1, ('coimbator', 0): 1, ('ip', 0): 1, ('minecraft', 0): 1, ('server', 0): 1, ('scratch', 0): 1, ('sip', 0): 1, ('cappuccino', 0): 1, ('cream', 0): 2, ('obedi', 0): 1, ('queen', 0): 3, ('1appl', 0): 1, ('dayno', 0): 5, ('1tulsi', 0): 1, ('leaf', 0): 1, ('1lemon', 0): 1, ('1cup', 0): 1, ('milk', 0): 2, ('bone', 0): 2, ('problm', 0): 1, ('litr', 0): 1, ('watr', 0): 1, ('diseas', 0): 1, ('snd', 0): 1, ('6pm', 0): 3, ('gosh', 0): 1, ('spose', 0): 1, ('yago', 0): 1, ('restaur', 0): 1, ('thet', 0): 1, ('skinni', 0): 1, ('cast', 0): 1, ('sux', 0): 2, ('raiden', 0): 1, ('buff', 0): 2, ('ummmmmaah', 0): 2, ('grave', 0): 1, ('adewal', 0): 1, ('aka', 0): 2, ('egbon', 0): 1, ('beyond', 0): 2, ('approv', 0): 2, ('panalam', 0): 1, ('blow', 0): 1, ('dismay', 0): 1, ('intrud', 0): 1, ('apolog', 0): 2, ('yetund', 0): 3, ('forgiv', 0): 2, ('yahoo', 0): 2, ('messeng', 0): 2, ('smsing', 0): 1, ('along', 0): 2, ('pisc', 0): 1, ('aquariu', 0): 1, ('suganya', 0): 1, ('tough', 0): 5, ('optimist', 0): 1, ('velusami', 0): 1, ('birth', 0): 1, ('facil', 0): 1, ('messi', 0): 1, ('underwear', 0): 2, ('bra', 0): 1, ('strewn', 0): 1, ('pillow', 0): 1, ('floor', 0): 1, ('bsn', 0): 1, ('advis', 0): 1, ('\\\\hey', 0): 2, ('cha', 0): 1, ('beverag', 0): 1, ('l8r', 0): 2, ('pist', 0): 1, ('x\\\\', 0): 2, ('ar', 0): 5, ('praveesh', 0): 1, ('delici', 0): 1, ('jetton', 0): 1, ('lunchyou', 0): 1, ('supos', 0): 1, ('europ', 0): 1, ('thu', 0): 1, ('wasn\\x89û÷t', 0): 1, ('kent', 0): 1, ('vale', 0): 1, ('\\\\happi', 0): 1, ('handsom', 0): 1, ('bull', 0): 1, ('float', 0): 1, ('polic', 0): 6, ('garden', 0): 2, ('veget', 0): 2, ('neighbour', 0): 2, ('infra', 0): 1, ('tens', 0): 1, ('appt', 0): 2, ('twice', 0): 3, ('mark', 0): 6, ('flight', 0): 1, ('step', 0): 4, ('heater', 0): 2, ('jacket', 0): 2, ('random', 0): 2, ('zoe', 0): 1, ('shitin', 0): 1, ('defo', 0): 1, ('hardest', 0): 1, ('2morow', 0): 2, ('million', 0): 1, ('lekdog', 0): 1, ('missi', 0): 1, ('slipper', 0): 2, ('meat', 0): 1, ('suprem', 0): 1, ('advic', 0): 1, ('ima', 0): 1, ('bread', 0): 2, ('phase', 0): 1, ('fourth', 0): 1, ('dimens', 0): 1, ('2u2', 0): 1, ('epi', 0): 1, ('ned', 0): 1, ('convinc', 0): 1, ('witot', 0): 1, ('main', 0): 1, ('\\\\how', 0): 1, ('gudnit', 0): 3, ('opposit', 0): 1, ('endow', 0): 1, ('inch', 0): 4, ('leo', 0): 1, ('habit', 0): 2, ('bari', 0): 1, ('hudgi', 0): 1, ('yorg', 0): 1, ('pataistha', 0): 1, ('ertini', 0): 1, ('kano', 0): 2, ('drama', 0): 1, ('struggl', 0): 1, ('strang', 0): 1, ('ego', 0): 1, ('necess', 0): 1, ('seriou', 0): 3, ('reppurcuss', 0): 1, ('tension', 0): 2, ('machi', 0): 1, ('dirti', 0): 2, ('fellow', 0): 1, ('plough', 0): 1, ('pile', 0): 1, ('chinki', 0): 1, ('univ', 0): 1, ('btw', 0): 1, ('4th', 0): 3, ('commit', 0): 1, ('cla', 0): 1, ('interview', 0): 3, ('neck', 0): 2, ('spacebuck', 0): 1, ('crickit', 0): 1, ('nowaday', 0): 1, ('notixiqu', 0): 1, ('laxinorf', 0): 1, ('bambl', 0): 1, ('entrop', 0): 1, ('oblising', 0): 1, ('opt', 0): 1, ('masteriast', 0): 1, ('amplikat', 0): 1, ('fidalf', 0): 1, ('champlaxig', 0): 1, ('atroci', 0): 1, ('wotz', 0): 1, ('junna', 0): 1, ('program', 0): 2, ('ron', 0): 3, ('tip', 0): 1, ('passabl', 0): 1, ('phd', 0): 1, ('5year', 0): 1, ('cme', 0): 2, ('snicker', 0): 1, ('chord', 0): 1, ('fightng', 0): 2, ('dificult', 0): 2, ('creep', 0): 1, ('rahul', 0): 1, ('dengra', 0): 1, ('smaller', 0): 1, ('capac', 0): 1, ('ex', 0): 2, ('samu', 0): 1, ('shoulder', 0): 1, ('rape', 0): 1, ('missin', 0): 2, ('suffer', 0): 1, ('dysentri', 0): 1, ('anthoni', 0): 1, ('survey', 0): 1, ('kanji', 0): 1, ('applic', 0): 1, ('airtel', 0): 1, ('broadband', 0): 1, ('instal', 0): 1, ('healthi', 0): 1, ('maggi', 0): 1, ('mee', 0): 1, ('specialis', 0): 1, ('labor', 0): 1, ('shakara', 0): 1, ('beggar', 0): 1, ('\\\\think', 0): 1, ('ninish', 0): 1, ('icki', 0): 1, ('american', 0): 2, ('freek', 0): 1, ('callin', 0): 1, ('jen', 0): 1, ('sunoco', 0): 1, ('howard', 0): 2, ('discount', 0): 1, ('arti', 0): 1, ('collag', 0): 1, ('tryin', 0): 1, ('fake', 0): 1, ('huge', 0): 1, ('woot', 0): 2, ('stuf', 0): 1, ('flat', 0): 2, ('50', 0): 2, ('alot', 0): 1, ('wiv', 0): 5, ('woman', 0): 1, ('recognis', 0): 2, ('nationwid', 0): 1, ('newport', 0): 1, ('tantrum', 0): 1, ('juliana', 0): 1, ('leg', 0): 3, ('musta', 0): 1, ('overdid', 0): 1, ('younger', 0): 1, ('macha', 0): 1, ('mindset', 0): 1, ('anytim', 0): 3, ('loud', 0): 1, ('\\\\im', 0): 2, ('ajith', 0): 1, ('shelf', 0): 1, ('diddi', 0): 1, ('toothpast', 0): 1, ('3mile', 0): 1, ('tape', 0): 2, ('infern', 0): 3, ('affair', 0): 4, ('tomorro', 0): 2, ('takin', 0): 1, ('ultim', 0): 1, ('tor', 0): 1, ('motiv', 0): 2, ('tui', 0): 1, ('achiev', 0): 1, ('korli', 0): 1, ('necklac', 0): 1, ('token', 0): 1, ('knock', 0): 1, ('cardiff', 0): 2, ('radiat', 0): 1, ('hook', 0): 2, ('honesti', 0): 1, ('decis', 0): 4, ('my', 0): 1, ('dom', 0): 1, ('gokila', 0): 1, ('yijuehotmail', 0): 1, ('jane', 0): 1, ('chuck', 0): 1, ('poo', 0): 1, ('sane', 0): 1, ('posit', 0): 1, ('kama', 0): 1, ('sutra', 0): 1, ('an', 0): 1, ('nri', 0): 1, ('khelat', 0): 1, ('kintu', 0): 1, ('opponent', 0): 1, ('dhort', 0): 1, ('lage', 0): 1, ('bawl', 0): 1, ('failur', 0): 1, ('woo', 0): 1, ('hoo', 0): 1, ('mere', 0): 1, ('relationship', 0): 1, ('wherevr', 0): 1, ('whenevr', 0): 3, ('gudnyt', 0): 1, ('chillin', 0): 2, ('appoint', 0): 4, ('wahe', 0): 2, ('demand', 0): 2, ('husband', 0): 1, ('nothin', 0): 1, ('hanger', 0): 1, ('lab', 0): 2, ('goggl', 0): 1, ('select', 0): 3, ('internet', 0): 2, ('jason', 0): 2, ('morphin', 0): 2, ('donno', 0): 1, ('scorabl', 0): 1, ('useless', 0): 1, ('stink', 0): 1, ('coast', 0): 1, ('jokin', 0): 2, ('window', 0): 1, ('logoff', 0): 1, ('pear', 0): 1, ('perfect', 0): 2, ('sari', 0): 1, ('tim', 0): 1, ('bollox', 0): 1, ('&it', 0): 1, ('tol', 0): 1, ('arnt', 0): 1, ('xxxxxxxxxxxxxx', 0): 1, ('jp', 0): 1, ('mofo', 0): 1, ('slack', 0): 1, ('specifi', 0): 1, ('domain', 0): 1, ('nusstu', 0): 1, ('choic', 0): 1, ('toss', 0): 1, ('gudni8', 0): 1, ('hep', 0): 1, ('immunis', 0): 1, ('engalnd', 0): 1, ('mia', 0): 1, ('elliot', 0): 1, ('virgil', 0): 1, ('all', 0): 2, ('gorgeou', 0): 3, ('cstore', 0): 1, ('lakh', 0): 1, ('cancel', 0): 3, ('carri', 0): 1, ('someday', 0): 1, ('printer', 0): 1, ('groovi', 0): 2, ('dialogu', 0): 1, ('reltnship', 0): 1, ('\\\\wen', 0): 1, ('puzzel', 0): 1, ('warwick', 0): 1, ('concert', 0): 1, ('tmw', 0): 1, ('sitter', 0): 1, ('kaitlyn', 0): 1, ('tlk', 0): 1, ('dawhat', 0): 1, ('statu', 0): 2, ('frequent', 0): 1, ('prescrib', 0): 1, ('accept', 0): 5, ('beg', 0): 1, ('companion', 0): 1, ('chef', 0): 1, ('organ', 0): 1, ('sympathet', 0): 1, ('athlet', 0): 1, ('courag', 0): 1, ('determin', 0): 1, ('intellig', 0): 2, ('psychologist', 0): 1, ('pest', 0): 1, ('extermin', 0): 1, ('psychiatrist', 0): 1, ('healer', 0): 1, ('stylist', 0): 1, ('driver', 0): 2, ('aaniy', 0): 1, ('pudunga', 0): 1, ('venaam', 0): 1, ('brand', 0): 2, ('clarif', 0): 1, ('protect', 0): 1, ('threat', 0): 1, ('sib', 0): 1, ('sensit', 0): 1, ('password', 0): 4, ('prevent', 0): 1, ('fluid', 0): 1, ('dealer', 0): 2, ('lunsford', 0): 1, ('finger', 0): 4, ('sticki', 0): 1, ('shock', 0): 3, ('scari', 0): 1, ('crash', 0): 3, ('taxi', 0): 1, ('axi', 0): 1, ('kbut', 0): 1, ('hitter', 0): 1, ('regular', 0): 2, ('checkup', 0): 1, ('smear', 0): 1, ('nokia', 0): 2, ('lovli', 0): 1, ('woke', 0): 7, ('stair', 0): 1, ('*phews*', 0): 1, ('tmrw', 0): 2, ('mell', 0): 2, ('oru', 0): 2, ('minnaminungint', 0): 1, ('nurungu', 0): 1, ('vettam', 0): 1, ('callertun', 0): 2, ('caller', 0): 1, ('press', 0): 2, ('*9', 0): 1, ('evapor', 0): 1, ('violat', 0): 2, ('privaci', 0): 1, ('steal', 0): 2, ('employ', 0): 1, ('paperwork', 0): 2, ('cloud', 0): 1, ('river', 0): 2, ('wipro', 0): 1, ('effect', 0): 2, ('aust', 0): 1, ('bk', 0): 1, ('waaaat', 0): 1, ('lololo', 0): 1, ('challeng', 0): 1, ('velacheri', 0): 1, ('thin', 0): 1, ('fault&al', 0): 1, ('fault&f', 0): 1, ('himso', 0): 1, ('bother', 0): 3, ('2go', 0): 2, ('mandan', 0): 1, ('revis', 0): 1, ('fran', 0): 3, ('boyf', 0): 1, ('interviw', 0): 1, ('login', 0): 2, ('skint', 0): 1, ('bevi', 0): 1, ('waz', 0): 1, ('&othr', 0): 1, ('watchng', 0): 1, ('earth&sofa', 0): 1, ('comfey', 0): 1, ('fundament', 0): 1, ('\\\\walk', 0): 1, ('match', 0): 3, ('confer', 0): 1, ('perumbavoor', 0): 1, ('digi', 0): 1, ('cam', 0): 1, ('9pm', 0): 2, ('coupla', 0): 1, ('braini', 0): 1, ('bbd', 0): 1, ('dvg', 0): 1, ('vinobanagar', 0): 1, ('&lturl&gt', 0): 2, ('stil', 0): 1, ('tobe', 0): 1, ('430', 0): 1, ('630', 0): 1, ('latest', 0): 2, ('spring', 0): 1, ('yay', 0): 1, ('nitz', 0): 1, ('makin', 0): 2, ('weirdi', 0): 1, ('instead', 0): 4, ('common', 0): 3, ('asia', 0): 1, ('telugu', 0): 1, ('earn', 0): 3, ('bottl', 0): 3, ('amus', 0): 2, ('block', 0): 1, ('armenia', 0): 1, ('swann', 0): 1, ('fujitsu', 0): 2, ('lifebook', 0): 1, ('rajini', 0): 1, ('oppos', 0): 1, ('drunken', 0): 1, ('mental', 0): 2, ('gs', 0): 1, ('scroung', 0): 1, ('ammo', 0): 1, ('ak', 0): 1, ('bhaji', 0): 2, ('cricket', 0): 2, ('sachin', 0): 3, ('jap', 0): 1, ('smash', 0): 1, ('dent', 0): 1, ('2yr', 0): 1, ('anywher', 0): 2, ('simpler', 0): 2, ('pull', 0): 2, ('rhode', 0): 1, ('island', 0): 2, ('bong', 0): 1, ('nutter', 0): 1, ('cutter', 0): 1, ('ctter', 0): 1, ('cttergg', 0): 1, ('cttargg', 0): 1, ('ctargg', 0): 1, ('ctagg', 0): 1, ('ie', 0): 1, ('retard', 0): 1, ('messagesom', 0): 1, ('missing*', 0): 2, ('sendernam', 0): 1, ('*number', 0): 1, ('*sentdat', 0): 1, ('*miss', 0): 1, ('515', 0): 1, ('jackson', 0): 1, ('rec', 0): 1, ('7ish', 0): 2, ('snowboard', 0): 1, ('\\\\can', 0): 1, ('imin', 0): 1, ('dontmatt', 0): 1, ('urgoin', 0): 1, ('outl8r', 0): 1, ('payback', 0): 1, ('skye', 0): 1, ('creat', 0): 4, ('btwn', 0): 1, ('sum1', 0): 2, ('lightli', 0): 1, ('checkbox', 0): 1, ('hardcor', 0): 1, ('audri', 0): 1, ('autocorrect', 0): 1, ('multipli', 0): 1, ('decim', 0): 2, ('push', 0): 2, ('chennaibecaus', 0): 1, ('addict', 0): 4, ('don\\\\t', 0): 2, ('helloooo', 0): 1, ('\\\\sweet\\\\', 0): 1, ('morning\\\\', 0): 1, ('welcomes\\\\', 0): 1, ('you\\\\', 0): 1, ('enjoy\\\\', 0): 1, ('joy\\\\', 0): 1, ('mrng\\\\', 0): 1, ('antha', 0): 1, ('num', 0): 4, ('corrct', 0): 1, ('dane', 0): 1, ('jazz', 0): 2, ('yogasana', 0): 3, ('superb', 0): 1, ('\\\\be', 0): 1, ('grate', 0): 1, ('happier', 0): 1, ('multi', 0): 1, ('seventeen', 0): 1, ('seven', 0): 3, ('ml', 0): 1, ('up', 0): 2, ('3day', 0): 1, ('2wk', 0): 1, ('usp', 0): 1, ('lag', 0): 1, ('bribe', 0): 1, ('nipost', 0): 1, ('db', 0): 1, ('*sighs*', 0): 2, ('lk', 0): 1, ('tt', 0): 2, ('slp', 0): 1, ('muah', 0): 1, ('wuld', 0): 1, ('everyboy', 0): 1, ('xxxxxxxx', 0): 1, ('so', 0): 1, ('acknowledg', 0): 1, ('astoundingli', 0): 1, ('tactless', 0): 1, ('faggi', 0): 1, ('oath', 0): 1, ('wewa', 0): 1, ('130', 0): 1, ('iriv', 0): 1, ('255', 0): 1, ('128', 0): 1, ('marandratha', 0): 1, ('ì©', 0): 3, ('$140', 0): 1, ('ìä', 0): 1, ('$180', 0): 1, ('bedrm', 0): 1, ('$900', 0): 1, ('thout', 0): 1, ('offens', 0): 1, ('approx', 0): 1, ('1s', 0): 1, ('swollen', 0): 1, ('gland', 0): 1, ('varunnathu', 0): 1, ('edukkukaye', 0): 1, ('raksha', 0): 1, ('ollu', 0): 1, ('wherr', 0): 1, ('accid', 0): 2, ('tookplac', 0): 1, ('ghodbandar', 0): 1, ('traffic', 0): 1, ('slove', 0): 1, ('slip', 0): 1, ('netflix', 0): 1, ('syria', 0): 1, ('canada', 0): 1, ('extra', 0): 2, ('dogg', 0): 1, ('scotland', 0): 2, ('jjc', 0): 1, ('tendenc', 0): 1, ('brought', 0): 1, ('shini', 0): 1, ('constant', 0): 1, ('lindsay', 0): 1, ('ptbo', 0): 2, ('heron', 0): 1, ('affection', 0): 1, ('ph', 0): 1, ('wildlif', 0): 1, ('want2com', 0): 1, ('that2worzel', 0): 1, ('wizzl', 0): 1, ('mahal', 0): 1, ('minu', 0): 1, ('paragraph', 0): 1, ('expert', 0): 1, ('sex', 0): 2, ('cuddl', 0): 2, ('adsens', 0): 1, ('atleast', 0): 1, ('shakespear', 0): 1, ('steam', 0): 1, ('dump', 0): 1, ('heap', 0): 1, ('low', 0): 1, ('muhommad', 0): 1, ('penni', 0): 1, ('formal', 0): 1, ('uv', 0): 1, ('mutat', 0): 1, ('sunscreen', 0): 1, ('theseday', 0): 1, ('speed', 0): 3, ('tool', 0): 1, ('villag', 0): 1, ('accordingli', 0): 1, ('odi', 0): 2, ('vitamin', 0): 1, ('upon', 0): 1, ('gloucesterroad', 0): 1, ('uup', 0): 1, ('varaya', 0): 1, ('elaya', 0): 1, ('sno', 0): 1, ('competit', 0): 1, ('passport', 0): 1, ('secur', 0): 1, ('coco', 0): 1, ('super', 0): 1, ('held', 0): 1, ('prasad', 0): 1, ('gek1510', 0): 1, ('ì_ll', 0): 1, ('judgement', 0): 1, ('prashanthettan', 0): 1, ('bitch', 0): 3, ('asshol', 0): 1, ('tabl', 0): 2, ('goodo', 0): 1, ('ratio', 0): 1, ('tortilla', 0): 1, ('rdi', 0): 1, ('comp', 0): 2, ('energi', 0): 1, ('trend', 0): 1, ('pro', 0): 1, ('con', 0): 1, ('brief', 0): 2, ('descript', 0): 1, ('nuclear', 0): 1, ('fusion', 0): 1, ('iter', 0): 1, ('jet', 0): 1, ('page', 0): 2, ('toward', 0): 3, ('tee', 0): 1, ('eek', 0): 2, ('disagre', 0): 1, ('xavier', 0): 1, ('flake', 0): 2, ('reaction', 0): 1, ('gang', 0): 3, ('announc', 0): 1, ('blog', 0): 2, ('mushi', 0): 1, ('embarrass', 0): 1, ('zogtoriu', 0): 1, ('iåõv', 0): 1, ('stare', 0): 2, ('propos', 0): 1, ('funki', 0): 1, ('asssssholeee', 0): 1, ('nordstrom', 0): 1, ('landlin', 0): 2, ('anna', 0): 2, ('nagar', 0): 2, ('singl', 0): 4, ('bristol', 0): 1, ('rudi', 0): 1, ('snore', 0): 1, ('drunk', 0): 3, ('ink', 0): 1, ('sam', 0): 1, ('nic', 0): 1, ('checkin', 0): 1, ('b*', 0): 1, ('remain', 0): 2, ('maintain', 0): 2, ('sh', 0): 1, ('ja', 0): 1, ('bookedth', 0): 1, ('hut', 0): 1, ('box', 0): 1, ('h&m', 0): 1, ('slob', 0): 1, ('needa', 0): 1, ('dai', 0): 1, ('timeslil', 0): 1, ('sarasota', 0): 1, ('ooooooh', 0): 1, ('yovil', 0): 1, ('attempt', 0): 1, ('terrorist', 0): 1, ('itz', 0): 1, ('confirmd', 0): 1, ('motorola', 0): 1, ('cnn', 0): 1, ('ibn', 0): 1, ('delhi', 0): 1, ('hu', 0): 1, ('smart', 0): 2, ('navig', 0): 1, ('requir', 0): 2, ('guidanc', 0): 1, ('doubt', 0): 1, ('propsd', 0): 1, ('gv', 0): 1, ('lv', 0): 1, ('lttr', 0): 1, ('threw', 0): 1, ('thm', 0): 2, ('aproach', 0): 1, ('dt', 0): 1, ('truck', 0): 1, ('wn', 0): 1, ('\\\\boost', 0): 1, ('energy\\\\', 0): 2, ('instantli', 0): 1, ('thi', 0): 1, ('happili', 0): 1, ('2gthr', 0): 1, ('boost', 0): 1, ('evrydi', 0): 1, ('msgsd', 0): 1, ('thinl', 0): 1, ('ish', 0): 3, ('yun', 0): 3, ('brighten', 0): 1, ('famamu', 0): 1, ('in2', 0): 2, ('cud', 0): 2, ('fuuuuck', 0): 1, ('sleepin', 0): 1, ('bec', 0): 1, ('argh', 0): 1, ('smsd', 0): 1, ('a30', 0): 1, ('divert', 0): 1, ('wadebridg', 0): 1, ('2u', 0): 2, ('3wk', 0): 1, ('fair', 0): 2, ('bluff', 0): 1, ('mike', 0): 1, ('hussey', 0): 1, ('correctli', 0): 1, ('broke', 0): 2, ('elama', 0): 1, ('po', 0): 1, ('mudyadhu', 0): 1, ('dust', 0): 1, ('iphon', 0): 1, ('slaaaaav', 0): 1, ('summon', 0): 1, ('\\\\miss', 0): 1, ('life\\\\', 0): 1, ('harish', 0): 1, ('acnt', 0): 1, ('\\\\si', 0): 1, ('como', 0): 1, ('listened2th', 0): 1, ('plaid', 0): 1, ('album', 0): 2, ('gd&the', 0): 1, ('air1', 0): 1, ('hilari', 0): 1, ('boughtåóbraindanceåóa', 0): 1, ('ofstuff', 0): 1, ('aphexåõ', 0): 1, ('abel', 0): 1, ('philosophi', 0): 1, ('configur', 0): 1, ('bimbo', 0): 1, ('ugo', 0): 1, ('despit', 0): 1, ('cramp', 0): 2, ('veggi', 0): 1, ('shame', 0): 3, ('cld', 0): 1, ('theoret', 0): 1, ('ibor', 0): 1, ('pant', 0): 1, ('cutest', 0): 1, ('hmmmhow', 0): 1, ('ps', 0): 2, ('grown', 0): 1, ('clearli', 0): 2, ('nooooooo', 0): 1, ('cabl', 0): 1, ('outag', 0): 1, ('soooo', 0): 1, ('provid', 0): 1, ('tming', 0): 1, ('nelson', 0): 1, ('bb', 0): 2, ('alter', 0): 1, ('chillaxin', 0): 1, ('jade', 0): 1, ('paul', 0): 1, ('barm', 0): 1, ('chk', 0): 1, ('belovd', 0): 3, ('ms', 0): 2, ('dict', 0): 1, ('hint', 0): 1, ('tm', 0): 2, ('aah', 0): 2, ('crucial', 0): 1, ('least5tim', 0): 1, ('wudnt', 0): 1, ('kb', 0): 3, ('power', 0): 4, ('tahan', 0): 2, ('anot', 0): 2, ('lo', 0): 1, ('varma', 0): 1, ('insha', 0): 1, ('wondar', 0): 1, ('flim', 0): 1, ('loneli', 0): 1, ('ashwini', 0): 1, ('oga', 0): 1, ('dose', 0): 1, ('gautham', 0): 2, ('quizz', 0): 1, ('popcorn', 0): 1, ('woould', 0): 1, ('groov', 0): 1, ('cudnt', 0): 1, ('drove', 0): 1, ('ctla', 0): 1, ('cochin', 0): 1, ('ent', 0): 1, ('ishtamayoo', 0): 1, ('bakrid', 0): 1, ('attent', 0): 1, ('disastr', 0): 1, ('fav', 0): 1, ('wld', 0): 1, ('thkin', 0): 1, ('nd', 0): 2, ('parco', 0): 1, ('nb', 0): 1, ('faglord', 0): 1, ('bright', 0): 2, ('investig', 0): 1, ('pleasant', 0): 1, ('statement', 0): 1, ('acc', 0): 2, ('defer', 0): 1, ('admiss', 0): 1, ('bluray', 0): 1, ('shanghai', 0): 1, ('21st', 0): 1, ('cya', 0): 1, ('youphon', 0): 1, ('athom', 0): 1, ('youwanna', 0): 1, ('kwhen', 0): 1, ('grinder', 0): 1, ('mallika', 0): 1, ('sherawat', 0): 1, ('suppli', 0): 1, ('ibm', 0): 1, ('hp', 0): 1, ('toshiba', 0): 2, ('x2', 0): 1, ('greec', 0): 1, ('bookshelf', 0): 1, ('yalru', 0): 1, ('lyfu', 0): 2, ('astn', 0): 1, ('innu', 0): 1, ('mundh', 0): 1, ('lyf', 0): 2, ('ali', 0): 2, ('halla', 0): 1, ('bilo', 0): 1, ('marriageprogram', 0): 1, ('edha', 0): 1, ('ovr', 0): 1, ('vargu', 0): 1, ('meow', 0): 2, ('motherfuck', 0): 1, ('\\\\dont', 0): 1, ('initiate\\\\', 0): 1, ('five', 0): 1, ('gimmi', 0): 1, ('goss', 0): 1, ('corect', 0): 1, ('spele', 0): 1, ('jesu', 0): 1, ('everybodi', 0): 5, ('footbal', 0): 1, ('basketbal', 0): 1, ('outdoor', 0): 1, ('2hr', 0): 1, ('dear1', 0): 2, ('best1', 0): 2, ('clos1', 0): 2, ('lvblefrnd', 0): 2, ('jstfrnd', 0): 2, ('cutefrnd', 0): 2, ('lifpartnr', 0): 2, ('swtheart', 0): 2, ('bstfrnd', 0): 2, ('squeez', 0): 1, ('whatsup', 0): 1, ('posibl', 0): 1, ('centuri', 0): 1, ('cm', 0): 1, ('frwd', 0): 1, ('brum', 0): 1, ('jabo', 0): 1, ('ami', 0): 1, ('parchi', 0): 1, ('kicchu', 0): 1, ('kaaj', 0): 1, ('kort', 0): 1, ('iccha', 0): 1, ('korch', 0): 1, ('tul', 0): 1, ('northampton', 0): 1, ('afraid', 0): 1, ('skyve', 0): 1, ('comedi', 0): 2, ('club', 0): 1, ('hunt', 0): 1, ('curiou', 0): 1, ('ccna', 0): 1, ('honeymoon', 0): 1, ('outfit', 0): 1, ('owe', 0): 2, ('thread', 0): 1, ('desper', 0): 2, ('hourish', 0): 1, ('ach', 0): 1, ('buzzzz', 0): 1, ('chest', 0): 2, ('cock', 0): 1, ('shake', 0): 1, ('appi', 0): 1, ('fizz', 0): 1, ('contain', 0): 1, ('goigng', 0): 1, ('except', 0): 2, ('perfum', 0): 1, ('alwi', 0): 1, ('malaria', 0): 3, ('handl', 0): 1, ('gastroenter', 0): 1, ('temp', 0): 2, ('reduc', 0): 1, ('pressi', 0): 1, ('soc', 0): 1, ('magicalsong', 0): 1, ('blogspot', 0): 1, ('\\\\julianaland\\\\', 0): 1, ('oblivi', 0): 1, ('eryth', 0): 1, ('astrolog', 0): 1, ('casualti', 0): 1, ('stuff42moro', 0): 1, ('gep', 0): 1, ('dot', 0): 1, ('ahhhh', 0): 1, ('woken', 0): 1, ('apeshit', 0): 1, ('engag', 0): 1, ('fixd', 0): 1, ('njan', 0): 1, ('vilikkam', 0): 1, ('sudn', 0): 1, ('versu', 0): 1, ('happiest', 0): 1, ('tap', 0): 2, ('spile', 0): 2, ('broad', 0): 2, ('canal', 0): 2, ('ic', 0): 1, ('childporn', 0): 1, ('heaven', 0): 1, ('sao', 0): 1, ('urin', 0): 1, ('ding', 0): 1, ('fassyol', 0): 1, ('blacko', 0): 1, ('londn', 0): 1, ('code', 0): 1, ('natwest', 0): 1, ('bff', 0): 1, ('carli', 0): 1, ('japanes', 0): 1, ('proverb', 0): 1, ('strike', 0): 1, ('practis', 0): 1, ('curtsey', 0): 1, ('foward', 0): 1, ('tunji', 0): 1, ('daddi', 0): 2, ('hcl', 0): 1, ('fresher', 0): 1, ('upto', 0): 1, ('suman', 0): 1, ('telephon', 0): 1, ('indyarock', 0): 1, ('latebut', 0): 1, ('compass', 0): 1, ('soul', 0): 1, ('loos', 0): 1, ('gnun', 0): 1, ('way2sm', 0): 1, ('port', 0): 1, ('chic', 0): 1, ('declar', 0): 1, ('payasam', 0): 1, ('rinu', 0): 1, ('7th', 0): 2, ('6th', 0): 2, ('5th', 0): 2, ('\\\\ur', 0): 2, ('friendship\\\\', 0): 2, ('newquay', 0): 1, ('goneu', 0): 1, ('1im', 0): 1, ('talkin', 0): 1, ('cliff', 0): 1, ('alone\\\\', 0): 1, ('occas', 0): 1, ('reflect', 0): 1, ('desir', 0): 1, ('tradit', 0): 1, ('ideal', 0): 1, ('necessarili', 0): 1, ('complac', 0): 1, ('auction', 0): 1, ('garbag', 0): 2, ('jam', 0): 1, ('hannaford', 0): 1, ('wheat', 0): 1, ('chex', 0): 1, ('langport', 0): 2, ('plumber', 0): 1, ('wrench', 0): 1, ('borrow', 0): 1, ('lifetim', 0): 1, ('meaningless', 0): 1, ('interfu', 0): 1, ('go2sri', 0): 1, ('lanka', 0): 1, ('mall', 0): 2, ('thanx4', 0): 1, ('cer', 0): 1, ('\\\\boo', 0): 1, ('enjoyin', 0): 1, ('yourjob', 0): 1, ('hunni', 0): 1, ('iåõllspeak', 0): 1, ('soonlot', 0): 1, ('lovem', 0): 1, ('answerin', 0): 1, ('shitload', 0): 1, ('diamond', 0): 2, ('baaaaaaaab', 0): 1, ('harri', 0): 1, ('quickli', 0): 2, ('gota', 0): 1, ('gurl', 0): 1, ('appropri', 0): 1, ('heehe', 0): 1, ('resub', 0): 1, ('defici', 0): 1, ('await', 0): 1, ('bigger', 0): 1, ('karnan', 0): 1, ('bro', 0): 2, ('amongst', 0): 1, ('l8', 0): 1, ('gon', 0): 1, ('waitin', 0): 1, ('electr', 0): 1, ('*push', 0): 1, ('knees*', 0): 1, ('*expos', 0): 1, ('it*', 0): 1, ('*wick', 0): 1, ('plenti', 0): 1, ('clair', 0): 1, ('puppi', 0): 1, ('nois', 0): 1, ('downstem', 0): 1, ('holi', 0): 1, ('werent', 0): 1, ('disappoint', 0): 1, ('bruce', 0): 1, ('fowler', 0): 1, ('bridgwat', 0): 1, ('banter', 0): 1, ('loung', 0): 1, ('kaiez', 0): 1, ('hiphop', 0): 1, ('adjust', 0): 1, ('cooper', 0): 1, ('remembr', 0): 2, ('everytim', 0): 1, ('reunion', 0): 1, ('*a', 0): 1, ('christmassi', 0): 1, ('holbi', 0): 1, ('dare', 0): 2, ('virtual', 0): 1, ('andro', 0): 1, ('innoc', 0): 1, ('terror', 0): 1, ('cruel', 0): 1, ('decent', 0): 1, ('joker', 0): 1, ('recycl', 0): 1, ('porteg', 0): 1, ('m100', 0): 1, ('hairdress', 0): 1, ('four', 0): 1, ('beforehand', 0): 1, ('ham', 0): 1, ('kk', 0): 1, ('goodwhen', 0): 1, ('wnevr', 0): 1, ('fal', 0): 2, ('vth', 0): 2, ('yen', 0): 1, ('madodu', 0): 1, ('nav', 0): 1, ('pretsorginta', 0): 1, ('nammanna', 0): 1, ('pretsovru', 0): 1, ('alwa', 0): 1, ('eveb', 0): 1, ('kadvanc', 0): 1, ('click', 0): 2, ('onluy', 0): 1, ('offcampu', 0): 1, ('\\\\yeh', 0): 1, ('manual', 0): 1, ('tech', 0): 1, ('processit', 0): 1, ('reset', 0): 1, ('troubleshoot', 0): 1, ('dahe', 0): 1, ('thisdon', 0): 1, ('swell', 0): 1, ('command', 0): 1, ('gauti', 0): 1, ('sehwag', 0): 1, ('comei', 0): 1, ('huim', 0): 1, ('burgundi', 0): 1, ('ijust', 0): 1, ('bettr', 0): 1, ('bsnl', 0): 1, ('offc', 0): 1, ('\\\\gran', 0): 1, ('onlyfound', 0): 1, ('afew', 0): 1, ('cusoon', 0): 1, ('honi\\\\', 0): 1, ('unmit', 0): 1, ('eldest', 0): 1, ('i\\x89û÷m', 0): 1, ('iknow', 0): 1, ('wellda', 0): 1, ('peril', 0): 1, ('studentfinanci', 0): 1, ('crisi', 0): 1, ('dentist', 0): 1, ('hero', 0): 1, ('apt', 0): 1, ('&ltemail&gt', 0): 1, ('inperson', 0): 1, ('flea', 0): 1, ('diaper', 0): 1, ('wind', 0): 1, ('hooch', 0): 1, ('toaday', 0): 1, ('fell', 0): 1, ('splat', 0): 1, ('graze', 0): 1, ('knee', 0): 1, ('itll', 0): 1, ('hsbc', 0): 1, ('sunshin', 0): 1, ('dawn', 0): 1, ('refresh', 0): 1, ('aliv', 0): 1, ('absolutli', 0): 2, ('chines', 0): 1, ('sr', 0): 1, ('pleassssssseeeee', 0): 1, ('sportsx', 0): 1, ('citi', 0): 1, ('jack', 0): 1, ('pretend', 0): 1, ('hypotheticalhuagauahahuagahyuhagga', 0): 1, ('kg', 0): 1, ('hip', 0): 1, ('occur', 0): 1, ('\\\\x\\\\', 0): 1, ('ma', 0): 1, ('prayer', 0): 1, ('lm', 0): 1, ('goodnoon', 0): 1, ('locat', 0): 1, ('signin', 0): 1, ('gray', 0): 1, ('listn', 0): 1, ('watevr', 0): 1, ('fishrman', 0): 1, ('dark', 0): 1, ('sack', 0): 2, ('stone', 0): 2, ('strtd', 0): 1, ('throwin', 0): 1, ('atlast', 0): 1, ('1stone', 0): 1, ('moral\\\\dont', 0): 1, ('hen', 0): 1, ('tc', 0): 2, ('callon', 0): 1, ('brother\\x89û÷', 0): 1, ('scrape', 0): 1, ('barrel', 0): 1, ('misfit', 0): 1, ('associ', 0): 1, ('bpo', 0): 1, ('cocksuck', 0): 1, ('worthless', 0): 1, ('novelti', 0): 1, ('item', 0): 1, ('walmart', 0): 1, ('applebe', 0): 1, ('miser', 0): 1, ('document', 0): 1, ('submit', 0): 1, ('stapati', 0): 1, ('afterward', 0): 1, ('pansi', 0): 1, ('jungl', 0): 1, ('coher', 0): 1, ('twenti', 0): 1, ('boundari', 0): 1, ('endless', 0): 1, ('drinkin', 0): 2, ('compliment', 0): 1, ('human', 0): 1, ('swan', 0): 1, ('mornin', 0): 1, ('thanku', 0): 1, ('pooki', 0): 1, ('fifti', 0): 1, ('upstair', 0): 1, ('mca', 0): 2, ('conform', 0): 2, ('playng', 0): 1, ('race', 0): 1, ('hittng', 0): 1, ('reflex', 0): 1, ('keen', 0): 1, ('gari', 0): 3, ('machin', 0): 1, ('reject', 0): 1, ('favourit', 0): 2, ('cinema', 0): 2, ('appeal', 0): 1, ('thriller', 0): 1, ('director', 0): 1, ('stereo', 0): 1, ('mi', 0): 3, ('superior', 0): 2, ('oursso', 0): 1, ('youani', 0): 1, ('breadstick', 0): 1, ('promin', 0): 1, ('cheek', 0): 1, ('saeed', 0): 1, ('hallaq', 0): 2, ('signal', 0): 1, ('unusu', 0): 1, ('snog', 0): 1, ('shu', 0): 2, ('singapor', 0): 1, ('mini', 0): 1, ('cheeto', 0): 1, ('lyric', 0): 1, ('howda', 0): 1, ('en', 0): 1, ('samachara', 0): 1, ('infront', 0): 1, ('hillsborough', 0): 1, ('\\\\shit', 0): 1, ('thasa', 0): 1, ('*teas', 0): 1, ('fring', 0): 1, ('distract', 0): 1, ('gimm', 0): 1, ('caveboy', 0): 1, ('shb', 0): 1, ('545', 0): 1, ('&sam', 0): 1, ('eachoth', 0): 1, ('hearin', 0): 1, ('own', 0): 1, ('*possess', 0): 1, ('passion', 0): 1, ('mone', 0): 1, ('eppolum', 0): 1, ('pole', 0): 1, ('allalo', 0): 1, ('flurri', 0): 1, ('ground', 0): 1, ('born', 0): 1, ('dancin', 0): 1, ('africa', 0): 1, ('avin', 0): 1, ('silver', 0): 1, ('squishi', 0): 1, ('mwah', 0): 1, ('upcharg', 0): 1, ('rip', 0): 1, ('uteru', 0): 1, ('elabor', 0): 1, ('safeti', 0): 1, ('aspect', 0): 1, ('someplac', 0): 1, ('typic', 0): 1, ('easiest', 0): 1, ('barcelona', 0): 1, ('sync', 0): 1, ('shangela', 0): 1, ('financi', 0): 1, ('host', 0): 1, ('base', 0): 1, ('idp', 0): 1, ('linux', 0): 1, ('thirunelvali', 0): 1, ('tackl', 0): 1, ('commerci', 0): 1, ('hasbro', 0): 1, ('august', 0): 1, ('jump', 0): 1, ('hoop', 0): 1, ('amma', 0): 1, ('steer', 0): 1, ('faster', 0): 1, ('quiet', 0): 1, ('beth', 0): 1, ('charli', 0): 1, ('helen', 0): 1, ('pre', 0): 1, ('kegger', 0): 1, ('rv', 0): 1, ('rvx', 0): 1, ('flirt', 0): 1, ('nervou', 0): 1, ('fire', 0): 1, ('headstart', 0): 1, ('30ish', 0): 1, ('rummer', 0): 1, ('mine&al', 0): 1, ('wud', 0): 1, ('annoyin', 0): 1, ('knacker', 0): 1, ('janx', 0): 1, ('hon', 0): 1, ('doinat', 0): 1, ('melodi', 0): 1, ('shade', 0): 1, ('weightloss', 0): 1, ('ebay', 0): 1, ('finn', 0): 1, ('kaila', 0): 1, ('repent', 0): 1, ('vid', 0): 1, ('finishd', 0): 1, ('yupz', 0): 1, ('slot', 0): 1, ('2000', 0): 1, ('presnt', 0): 1, ('bcz', 0): 1, ('\\\\jeevithathil', 0): 1, ('irulina', 0): 1, ('neekunna', 0): 1, ('prakasamanu', 0): 1, ('sneham\\\\', 0): 1, ('prakasam', 0): 1, ('ennal', 0): 1, ('mn', 0): 1, ('islov', 0): 1, ('yesfrom', 0): 1, ('sinco', 0): 1, ('paye', 0): 1, ('icicibank', 0): 1, ('urn', 0): 2, ('bewar', 0): 1, ('fraud', 0): 1, ('disclos', 0): 1, ('noic', 0): 1, ('mmmmmmm', 0): 1, ('*snuggl', 0): 1, ('you*', 0): 1, ('*whispers*', 0): 1, ('although', 0): 1, ('eventu', 0): 1, ('toler', 0): 1, ('sunroof', 0): 1, ('antibiot', 0): 1, ('abdomen', 0): 1, ('gyna', 0): 1, ('infect', 0): 2, ('studyn', 0): 1, ('walik', 0): 1, ('poyyarikatur', 0): 1, ('kolathupalayam', 0): 1, ('unjalur', 0): 1, ('erod', 0): 1, ('lovin', 0): 1, ('rat', 0): 1, ('pour', 0): 1, ('giggl', 0): 1, ('person2di', 0): 1, ('nvq', 0): 1, ('$1', 0): 1, ('burger', 0): 1, ('cozi', 0): 1, ('cram', 0): 1, ('yifeng', 0): 1, ('liquor', 0): 1, ('loko', 0): 1, ('1000', 0): 1, ('carolin', 0): 1, ('renew', 0): 1, ('screwd', 0): 1, ('meim', 0): 1, ('anal', 0): 1, ('bang', 0): 1, ('impos', 0): 1, ('apologis', 0): 1, ('reassur', 0): 1, ('cereal', 0): 1, ('amigo', 0): 1, ('flood', 0): 1, ('besid', 0): 1, ('prin', 0): 1, ('feet', 0): 1, ('steyn', 0): 1, ('wicket', 0): 1, ('earliest', 0): 1, ('rel', 0): 1, ('benefit', 0): 1, ('cruis', 0): 1, ('congratul', 0): 1, ('ore', 0): 1, ('owo', 0): 1, ('fro', 0): 1, ('&lt3', 0): 1, ('hangin', 0): 1, ('proper', 0): 1, ('tongu', 0): 1}\n"
     ]
    }
   ],
   "source": [
    "## Run this cell to get an idea about the corpus of words and their occurrence along with labels. \n",
    "## In this, we are computing the frequency of occurrence of word given that a message is 'spam'.\n",
    "## Similarly, we also compute the frequence of occurence of word given that a message is 'ham'.\n",
    "print(freqs)"
   ]
  },
  {
   "cell_type": "markdown",
   "id": "759c24bc",
   "metadata": {},
   "source": [
    "## Training the Naive Bayes Model: (20 points)\n",
    "\n",
    "Now we are in the training phase of the Naive Bayes algorithm. In this cell, take a look at the ways to calculate the log likelihood and log prior values as these are important for testing in the next few cells. \n",
    "\n",
    "Also calculate the frequency of occurrence of words where the output is spam. In the same way, calculate the word frequency count using the above functions in order to compute the log likelihood.\n",
    "\n",
    "Return the logprior and loglikelihood output by the model from this function. "
   ]
  },
  {
   "cell_type": "code",
   "execution_count": 23,
   "id": "a7f280e3",
   "metadata": {},
   "outputs": [],
   "source": [
    "def train_naive_bayes(freqs, train_x, train_y):\n",
    "    '''\n",
    "    Input:\n",
    "        freqs: dictionary from (word, label) to how often the word appears\n",
    "        train_x: a list of messages\n",
    "        train_y: a list of labels correponding to the messages (0,1)\n",
    "    Output:\n",
    "        logprior: the log prior. (equation 3 above)\n",
    "        loglikelihood: the log likelihood of you Naive bayes equation. (equation 6 above)\n",
    "    '''\n",
    "    loglikelihood = {}\n",
    "    logprior = 0\n",
    "\n",
    "\n",
    "    # calculate V, the number of unique words in the vocabulary\n",
    "    # vocab = []\n",
    "    vocab = set([pair[0] for pair in freqs])\n",
    "    # for word in freqs.keys():\n",
    "    #     if word[0] not in vocab:\n",
    "    #         vocab.append(word[0])\n",
    "    V = len(vocab)\n",
    "    # print(V)\n",
    "\n",
    "    # calculate num_pos and num_neg - the total number of positive and negative words for all documents\n",
    "    num_pos = num_neg = 0\n",
    "    num_pos = sum((freqs[(word, label)] for word, label in freqs\n",
    "                 if label == 1))\n",
    "    num_neg = sum((freqs[(word, label)] for word, label in freqs\n",
    "                 if label == 0))\n",
    "#     for pair in freqs.keys():\n",
    "#         # if the label is positive (greater than zero)\n",
    "#         if pair[1]>0:\n",
    "\n",
    "#             # Increment the number of positive words by the count for this (word, label) pair\n",
    "#             num_pos += 1\n",
    "\n",
    "#         # else, the label is negative\n",
    "#         else:\n",
    "\n",
    "#             # increment the number of negative words by the count for this (word,label) pair\n",
    "#             num_neg += 1\n",
    "\n",
    "    # Calculate num_doc, the number of documents\n",
    "    # num_doc = train_x.shape[0]\n",
    "    num_doc = len(train_x)    \n",
    "\n",
    "    # Calculate D_pos, the number of positive documents\n",
    "    pos_num_docs = train_y.sum()\n",
    "\n",
    "    # Calculate D_neg, the number of negative documents \n",
    "    neg_num_docs = num_doc - pos_num_docs\n",
    "\n",
    "    # Calculate logprior\n",
    "    logprior = np.log(pos_num_docs) - np.log(neg_num_docs)\n",
    "\n",
    "    # For each word in the vocabulary...\n",
    "    for word in vocab:\n",
    "        # get the positive and negative frequency of the word\n",
    "        freq_pos = freq_neg = 0\n",
    "        if((word, 1) in freqs.keys()):\n",
    "            freq_pos = freqs[(word, 1)]\n",
    "        if((word, 0) in freqs.keys()):\n",
    "            freq_neg = freqs[(word, 0)]\n",
    "\n",
    "        # calculate the probability that each word is positive, and negative\n",
    "        p_w_pos = (freq_pos + 1)/(num_pos + V)\n",
    "        p_w_neg = (freq_neg + 1)/(num_neg + V)\n",
    "\n",
    "        # calculate the log likelihood of the word\n",
    "        loglikelihood[word] = np.log(p_w_pos) - np.log(p_w_neg)\n",
    "\n",
    "\n",
    "    return logprior, loglikelihood"
   ]
  },
  {
   "cell_type": "code",
   "execution_count": 24,
   "id": "1561d892",
   "metadata": {},
   "outputs": [
    {
     "name": "stdout",
     "output_type": "stream",
     "text": [
      "0.0\n",
      "6413\n"
     ]
    }
   ],
   "source": [
    "\n",
    "# You do not have to input any code in this cell, but it is relevant to grading, so please do not change anything\n",
    "logprior, loglikelihood = train_naive_bayes(freqs, X_train, y_train)\n",
    "print(logprior)\n",
    "print(len(loglikelihood))"
   ]
  },
  {
   "cell_type": "markdown",
   "id": "19d9c882",
   "metadata": {},
   "source": [
    "### Expected Output \n",
    "\n",
    "0.0 <br>\n",
    "6763"
   ]
  },
  {
   "cell_type": "markdown",
   "id": "78b51303",
   "metadata": {},
   "source": [
    "## Implementing Naive Bayes Predict Function: (15 points)\n",
    "\n",
    "It is now time to make our prediction as to whether a given message is spam or ham respectively. \n",
    "\n",
    "After adding the log likelihood values, ensure that the output is 1 (spam) if the sum of the log likelihood value is greater than 0 and 0 (ham) if the sum of the log likelihood is less than or equal to 0. "
   ]
  },
  {
   "cell_type": "code",
   "execution_count": 25,
   "id": "b692c2f9",
   "metadata": {},
   "outputs": [],
   "source": [
    "# TASK 4 CELL\n",
    "\n",
    "def naive_bayes_predict(message, logprior, loglikelihood):\n",
    "    '''\n",
    "    Params:\n",
    "        message: a string\n",
    "        logprior: a number\n",
    "        loglikelihood: a dictionary of words mapping to numbers\n",
    "    Return:\n",
    "        total_prob: the sum of all the loglikelihoods of each word in the message (if found in the dictionary) + logprior (a number)\n",
    "\n",
    "    '''\n",
    "    \n",
    "     # process the message to get a list of words\n",
    "    word_l = clean_message(message)\n",
    "\n",
    "    # initialize probability to zero\n",
    "    total_prob = 0\n",
    "\n",
    "    # add the logprior\n",
    "    total_prob = total_prob + logprior\n",
    "\n",
    "    for word in word_l:\n",
    "\n",
    "        # check if the word exists in the loglikelihood dictionary\n",
    "        if word in loglikelihood.keys():\n",
    "            # add the log likelihood of that word to the probability\n",
    "            total_prob = total_prob + loglikelihood[word]\n",
    "        if(total_prob>0):\n",
    "            total_prob = 1\n",
    "        else:\n",
    "            total_prob = 0\n",
    "\n",
    "    return total_prob"
   ]
  },
  {
   "cell_type": "code",
   "execution_count": 28,
   "id": "4b170333",
   "metadata": {},
   "outputs": [
    {
     "name": "stdout",
     "output_type": "stream",
     "text": [
      "The expected output is 0\n"
     ]
    }
   ],
   "source": [
    "# You do not have to input any code in this cell, but it is relevant to grading, so please do not change anything\n",
    "\n",
    "# Experiment with your own message.\n",
    "my_message = 'Get an offer on an iPhone'\n",
    "p = naive_bayes_predict(my_message, logprior, loglikelihood)\n",
    "print('The expected output is', p)"
   ]
  },
  {
   "cell_type": "markdown",
   "id": "6242708f",
   "metadata": {},
   "source": [
    "### Expected Output :\n",
    "The expected output is 0"
   ]
  },
  {
   "cell_type": "markdown",
   "id": "7c4eeb71",
   "metadata": {},
   "source": [
    "## Implementing Naive Bayes Test function: (15 points)\n",
    "\n",
    "In this function, implement the previous functions such as naive_bayes_predict to get the predictions for the test set. \n",
    "\n",
    "In addition to this, the function should return the total number of messages that it correctly classified as 'spam' or 'ham'. "
   ]
  },
  {
   "cell_type": "code",
   "execution_count": 29,
   "id": "66a511e7",
   "metadata": {},
   "outputs": [],
   "source": [
    "# UNQ_C6 (UNIQUE CELL IDENTIFIER, DO NOT EDIT)\n",
    "def test_naive_bayes(test_x, test_y, logprior, loglikelihood):\n",
    "    \"\"\"\n",
    "    Input:\n",
    "        test_x: A list of messages\n",
    "        test_y: the corresponding labels for the list of messages\n",
    "        logprior: the logprior\n",
    "        loglikelihood: a dictionary with the loglikelihoods for each word\n",
    "    Output:\n",
    "        accuracy: (# of messages classified correctly)/(total # of message)\n",
    "    \"\"\"\n",
    "    accuracy = 0  \n",
    "    \n",
    "    y_hats = []\n",
    "    for message in test_x:\n",
    "        # if the prediction is > 0\n",
    "        if None:\n",
    "            # the predicted class is 1\n",
    "            y_hat_i = None\n",
    "        else:\n",
    "            # otherwise the predicted class is 0\n",
    "            y_hat_i = None\n",
    "\n",
    "        # append the predicted class to the list y_hats\n",
    "        y_hats = None\n",
    "\n",
    "    # error is the average of the absolute values of the differences between y_hats and test_y\n",
    "    error = None\n",
    "\n",
    "    accuracy = None\n",
    "\n",
    "\n",
    "    return accuracy"
   ]
  },
  {
   "cell_type": "code",
   "execution_count": 31,
   "id": "45a98430-de90-406e-8947-6b198559f721",
   "metadata": {},
   "outputs": [
    {
     "name": "stdout",
     "output_type": "stream",
     "text": [
      "None\n"
     ]
    }
   ],
   "source": [
    "print(test_naive_bayes(X_test, y_test, logprior, loglikelihood))"
   ]
  },
  {
   "cell_type": "code",
   "execution_count": 34,
   "id": "68b18d8d-c7aa-4b38-8ef0-eb7b049174fb",
   "metadata": {},
   "outputs": [],
   "source": [
    "# UNQ_C6 (UNIQUE CELL IDENTIFIER, DO NOT EDIT)\n",
    "def test_naive_bayes(test_x, test_y, logprior, loglikelihood):\n",
    "    \"\"\"\n",
    "    Input:\n",
    "        test_x: A list of messages\n",
    "        test_y: the corresponding labels for the list of messages\n",
    "        logprior: the logprior\n",
    "        loglikelihood: a dictionary with the loglikelihoods for each word\n",
    "    Output:\n",
    "        accuracy: (# of messages classified correctly)/(total # of message)\n",
    "    \"\"\"\n",
    "    accuracy = 0  \n",
    "    \n",
    "    y_hats = np.array([int(naive_bayes_predict(message, logprior, loglikelihood) > 0)\n",
    "              for message in test_x])\n",
    "    \n",
    "    error = np.abs(y_hats - test_y).mean()\n",
    "\n",
    "    accuracy = 1 - error\n",
    "\n",
    "    return accuracy"
   ]
  },
  {
   "cell_type": "code",
   "execution_count": 35,
   "id": "0c6f1571-f757-4085-8c2f-ecc4fb808f0d",
   "metadata": {},
   "outputs": [
    {
     "name": "stdout",
     "output_type": "stream",
     "text": [
      "0.8824657534246575\n"
     ]
    }
   ],
   "source": [
    "print(test_naive_bayes(X_test, y_test, logprior, loglikelihood))"
   ]
  },
  {
   "cell_type": "code",
   "execution_count": 36,
   "id": "8a9c5d9d",
   "metadata": {},
   "outputs": [
    {
     "name": "stdout",
     "output_type": "stream",
     "text": [
      "get an offer -> 1.00\n",
      "get the latest movie review -> 1.00\n",
      "order iphone -> 0.00\n",
      "I am on a meeting -> 0.00\n"
     ]
    }
   ],
   "source": [
    "# For grading purpose only\n",
    "# You do not have to input any code in this cell, but it is relevant to grading, so please do not change anything\n",
    "\n",
    "# Run this cell to test your function\n",
    "for message in ['get an offer', 'get the latest movie review', 'order iphone', 'I am on a meeting']:\n",
    "    # print( '%s -> %f' % (message, naive_bayes_predict(message, logprior, loglikelihood)))\n",
    "    p = naive_bayes_predict(message, logprior, loglikelihood)\n",
    "#     print(f'{message} -> {p:.2f} ({p_category})')\n",
    "    print(f'{message} -> {p:.2f}')"
   ]
  },
  {
   "cell_type": "markdown",
   "id": "43e2ef98",
   "metadata": {},
   "source": [
    "### Expected Output :\n",
    "get an offer -> 1.00 <br>\n",
    "get the latest movie review -> 1.00 <br>\n",
    "order iphone -> 1.00 <br>\n",
    "I am on a meeting -> 0.00 <br>\n"
   ]
  },
  {
   "cell_type": "code",
   "execution_count": 37,
   "id": "216fa97a",
   "metadata": {},
   "outputs": [
    {
     "data": {
      "text/plain": [
       "1"
      ]
     },
     "execution_count": 37,
     "metadata": {},
     "output_type": "execute_result"
    }
   ],
   "source": [
    "# Feel free to check the sentiment of your own message below\n",
    "my_message = 'get an offer of iphone 13 and grab your order'\n",
    "naive_bayes_predict(my_message, logprior, loglikelihood)"
   ]
  },
  {
   "cell_type": "markdown",
   "id": "8a45e4f0",
   "metadata": {},
   "source": [
    "### Expected Output :\n",
    "1"
   ]
  },
  {
   "cell_type": "markdown",
   "id": "82e6e4d1",
   "metadata": {},
   "source": [
    "## Theory Questions: (15 points)\n",
    "\n",
    "1. When performing Naive Bayes operation especially for text classification, why is there a requirement for Laplace Smoothing or Additive Smoothing? Explain with considering an example of training and the test set and show how not having additive smoothing leads to undesirable outcomes. (10 points)\n",
    "\n",
    "\n",
    "2. Why are logarithmic values computed for naive bayes algorithm rather than only the probability values? (5 points)"
   ]
  },
  {
   "cell_type": "code",
   "execution_count": null,
   "id": "17f267fe-c809-4b61-a0d6-785ce3bd0804",
   "metadata": {},
   "outputs": [],
   "source": [
    "'''\n",
    "Answer for Question 1\n",
    "'''\n",
    "\n",
    "'''\n",
    "Motivation for Laplace or Additive Smoothing:\n",
    "Consider the scenario where we are trying to classify some text where the test string contains certain words which are not present in the training dataset using \n",
    "which we calculated the likelihood of each word.\n",
    "\n",
    "In this case, the probability of the 'unknown' word in the test dataset would be zero and it will force the Overall probability which determines the classification to Zero (0). \n",
    "This is undesirable in the spam model since it will force the text to be classified as spam everytime there's an 'unknown' word in the training dataset.\n",
    "\n",
    "We can show how it affects the model with the below example:\n",
    "\n",
    "Step 1: Modify the train_naive_bayes() to not perform smoothing\n",
    "'''"
   ]
  },
  {
   "cell_type": "code",
   "execution_count": null,
   "id": "15641f95-f0cb-494d-87c5-d727332a935b",
   "metadata": {},
   "outputs": [],
   "source": [
    "def train_naive_bayes(freqs, train_x, train_y):\n",
    "    '''\n",
    "    Input:\n",
    "        freqs: dictionary from (word, label) to how often the word appears\n",
    "        train_x: a list of messages\n",
    "        train_y: a list of labels correponding to the messages (0,1)\n",
    "    Output:\n",
    "        logprior: the log prior. (equation 3 above)\n",
    "        loglikelihood: the log likelihood of you Naive bayes equation. (equation 6 above)\n",
    "    '''\n",
    "    loglikelihood = {}\n",
    "    logprior = 0\n",
    "\n",
    "\n",
    "    # calculate V, the number of unique words in the vocabulary\n",
    "    vocab = set([key[0] for key in freqs])\n",
    "    V = len(vocab)\n",
    "\n",
    "    # calculate num_pos and num_neg - the total number of positive and negative words for all documents\n",
    "    num_pos = num_neg = 0\n",
    "    for pair in freqs.keys():\n",
    "        # if the label is positive (greater than zero)\n",
    "        if pair[1]==1:\n",
    "            # Increment the number of positive words by the count for this (word, label) pair\n",
    "            num_pos+=freqs[pair]\n",
    "        # else, the label is negative\n",
    "        else:\n",
    "            # increment the number of negative words by the count for this (word,label) pair\n",
    "            num_neg +=freqs[pair]\n",
    "\n",
    "    # Calculate num_doc, the number of documents\n",
    "    num_doc = len(train_x)\n",
    "\n",
    "    # Calculate D_pos, the number of positive documents \n",
    "    pos_num_docs = train_y.sum()\n",
    "\n",
    "    # Calculate D_neg, the number of negative documents \n",
    "    neg_num_docs = num_doc-pos_num_docs\n",
    "\n",
    "    # Calculate logprior\n",
    "    logprior = np.log(pos_num_docs)-np.log(neg_num_docs)\n",
    "\n",
    "    # For each word in the vocabulary...\n",
    "    for word in vocab:\n",
    "        # get the positive and negative frequency of the word\n",
    "        freq_pos=freq_neg=0\n",
    "        if ((word,1) in freqs.keys()) :\n",
    "            freq_pos = freqs[(word,1)]\n",
    "        if((word, 0) in freqs.keys()):\n",
    "            freq_neg = freqs[(word, 0)]\n",
    "\n",
    "        # calculate the probability that each word is positive, and negative\n",
    "        #With smoothing\n",
    "        p_w_pos = (freq_pos)/(num_pos + V) #Smoothing is not performed here! \n",
    "        p_w_neg = (freq_neg)/(num_neg + V) #Smoothing is not performed here! \n",
    "\n",
    "        # calculate the log likelihood of the word\n",
    "        loglikelihood[word] = np.log(p_w_pos) - np.log(p_w_neg)\n",
    "\n",
    "\n",
    "    return logprior, loglikelihood"
   ]
  },
  {
   "cell_type": "code",
   "execution_count": null,
   "id": "015d2fbe-8df9-44a3-9903-d3d3bf122d6b",
   "metadata": {},
   "outputs": [],
   "source": [
    "#Create a new train dataset\n",
    "X_train_new= pd.Series(['get an offer', 'get the latest movie review', 'order iphone', 'I am on a meeting'])\n",
    "y_train_new=pd.Series([0,1,0,1])\n",
    "freqs_new = message_counter({}, X_train_new, y_train_new)"
   ]
  },
  {
   "cell_type": "code",
   "execution_count": null,
   "id": "54d78f6d-4af0-44a3-8438-705039dcd2e7",
   "metadata": {},
   "outputs": [],
   "source": [
    "#Create Logprior and loglikelihood using the new train dataset\n",
    "logprior_new, loglikelihood_new = train_naive_bayes(freqs_new, X_train_new, y_train_new)\n",
    "print(loglikelihood_new)"
   ]
  },
  {
   "cell_type": "code",
   "execution_count": null,
   "id": "b4c0614a-cf9c-4d4d-b523-78bf4f26b227",
   "metadata": {},
   "outputs": [],
   "source": [
    "'''\n",
    "As seen by the loglikelihood calculated above we can see for those words which had a label missing the Loglikelihood is -infinity or +infinity\n",
    "This clearly breaks our classification model and hence the need for smoothing.\n",
    "'''"
   ]
  },
  {
   "cell_type": "code",
   "execution_count": null,
   "id": "b2b369ad-f175-4be7-91f2-e43a641fa467",
   "metadata": {},
   "outputs": [],
   "source": [
    "'''\n",
    "Question 2\n",
    "'''\n",
    "\n",
    "'''\n",
    "For a large enough string, the probability of individual words can get really small. And therefore, multiplying all these tiny probabilities \n",
    "to find the product will yield even a smaller numerical value that often results in underflow which means that for that given test sentence, \n",
    "the trained model will fail to predict it’s category/sentiment. In order to avoid this underflow error, we use logarithmic values for naive bayes algorithm.\n",
    "\n",
    "Using logarithmic values is a natural choice because log increases or decreases monotonically which means that it will not affect the order of probabilities. \n",
    "Smaller probabilities will still stay smaller after the log has been applied to them and vice versa. Therefore, without affecting the predictions of trained model, \n",
    "we can effectively avoid the common pitfall of underflow error using Logarithmic values.\n",
    "'''"
   ]
  }
 ],
 "metadata": {
  "kernelspec": {
   "display_name": "Python 3 (ipykernel)",
   "language": "python",
   "name": "python3"
  },
  "language_info": {
   "codemirror_mode": {
    "name": "ipython",
    "version": 3
   },
   "file_extension": ".py",
   "mimetype": "text/x-python",
   "name": "python",
   "nbconvert_exporter": "python",
   "pygments_lexer": "ipython3",
   "version": "3.8.3rc1"
  }
 },
 "nbformat": 4,
 "nbformat_minor": 5
}
