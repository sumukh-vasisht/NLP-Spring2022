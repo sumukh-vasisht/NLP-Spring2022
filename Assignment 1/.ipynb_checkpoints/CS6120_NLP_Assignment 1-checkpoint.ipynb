{
 "cells": [
  {
   "cell_type": "markdown",
   "id": "bc97d6da",
   "metadata": {},
   "source": [
    "## CS 6120: Natural Language Processing - Prof. Ahmad Uzair\n",
    "\n",
    "### Assignment 1: Naive Bayes\n",
    "### Total Points: 100 points\n",
    "\n",
    "In this assignment, you would be working with SMS data that contains SPAM or HAM messages. When you take a look at your gmail account, you find that a few emails are classified as spam. Similarly, some text messages that are received on the phone are also classified as spam based on a set of characteristics such as wording and so on. \n",
    "\n",
    "Therefore, we are going to address this problem of detecting SPAM or HAM messages with the help of Naive Bayes algorithm.\n",
    "\n",
    "## Importing the Libraries"
   ]
  },
  {
   "cell_type": "code",
   "execution_count": 3,
   "id": "a03450ac",
   "metadata": {},
   "outputs": [],
   "source": [
    "import numpy as np\n",
    "import pandas as pd\n",
    "import re\n",
    "import nltk\n",
    "from nltk.corpus import stopwords\n",
    "from nltk.stem import PorterStemmer\n",
    "from nltk.tokenize import word_tokenize\n",
    "import warnings\n",
    "import seaborn as sns\n",
    "import matplotlib.pyplot as plt\n",
    "warnings.filterwarnings(\"ignore\")"
   ]
  },
  {
   "cell_type": "markdown",
   "id": "fc584cc2",
   "metadata": {},
   "source": [
    "## Reading the data\n",
    "\n",
    "When reading the data, ensure that the '.csv' file is in the same location where your jupyter notebook is used. This way the files are organized and easy to read using the pandas library. "
   ]
  },
  {
   "cell_type": "code",
   "execution_count": 4,
   "id": "3c9ffbf5",
   "metadata": {},
   "outputs": [],
   "source": [
    "## Reading the data and removing columns that are not important. \n",
    "df = pd.read_csv('spam.csv', sep = ',', encoding = 'latin-1', usecols = lambda col: col not in [\"Unnamed: 2\", \"Unnamed: 3\", \"Unnamed: 4\"])"
   ]
  },
  {
   "cell_type": "code",
   "execution_count": 5,
   "id": "f7fa8ac0",
   "metadata": {},
   "outputs": [
    {
     "data": {
      "text/html": [
       "<div>\n",
       "<style scoped>\n",
       "    .dataframe tbody tr th:only-of-type {\n",
       "        vertical-align: middle;\n",
       "    }\n",
       "\n",
       "    .dataframe tbody tr th {\n",
       "        vertical-align: top;\n",
       "    }\n",
       "\n",
       "    .dataframe thead th {\n",
       "        text-align: right;\n",
       "    }\n",
       "</style>\n",
       "<table border=\"1\" class=\"dataframe\">\n",
       "  <thead>\n",
       "    <tr style=\"text-align: right;\">\n",
       "      <th></th>\n",
       "      <th>v1</th>\n",
       "      <th>v2</th>\n",
       "    </tr>\n",
       "  </thead>\n",
       "  <tbody>\n",
       "    <tr>\n",
       "      <th>0</th>\n",
       "      <td>ham</td>\n",
       "      <td>Go until jurong point, crazy.. Available only ...</td>\n",
       "    </tr>\n",
       "    <tr>\n",
       "      <th>1</th>\n",
       "      <td>ham</td>\n",
       "      <td>Ok lar... Joking wif u oni...</td>\n",
       "    </tr>\n",
       "    <tr>\n",
       "      <th>2</th>\n",
       "      <td>spam</td>\n",
       "      <td>Free entry in 2 a wkly comp to win FA Cup fina...</td>\n",
       "    </tr>\n",
       "    <tr>\n",
       "      <th>3</th>\n",
       "      <td>ham</td>\n",
       "      <td>U dun say so early hor... U c already then say...</td>\n",
       "    </tr>\n",
       "    <tr>\n",
       "      <th>4</th>\n",
       "      <td>ham</td>\n",
       "      <td>Nah I don't think he goes to usf, he lives aro...</td>\n",
       "    </tr>\n",
       "  </tbody>\n",
       "</table>\n",
       "</div>"
      ],
      "text/plain": [
       "     v1                                                 v2\n",
       "0   ham  Go until jurong point, crazy.. Available only ...\n",
       "1   ham                      Ok lar... Joking wif u oni...\n",
       "2  spam  Free entry in 2 a wkly comp to win FA Cup fina...\n",
       "3   ham  U dun say so early hor... U c already then say...\n",
       "4   ham  Nah I don't think he goes to usf, he lives aro..."
      ]
     },
     "execution_count": 5,
     "metadata": {},
     "output_type": "execute_result"
    }
   ],
   "source": [
    "# print head of data frame with help of head function\n",
    "df.head()"
   ]
  },
  {
   "cell_type": "code",
   "execution_count": 6,
   "id": "aecf75db",
   "metadata": {},
   "outputs": [],
   "source": [
    "## Renaming the columns so that we understand the columns easily.\n",
    "\n",
    "## Rename v1 as \"spam_or_ham\" and v2 as \"message\"\n",
    "\n",
    "df = df.rename(columns = {\"v1\":\"spam_or_ham\", \"v2\":\"message\"})"
   ]
  },
  {
   "cell_type": "code",
   "execution_count": 7,
   "id": "f6fc153c",
   "metadata": {},
   "outputs": [
    {
     "data": {
      "text/html": [
       "<div>\n",
       "<style scoped>\n",
       "    .dataframe tbody tr th:only-of-type {\n",
       "        vertical-align: middle;\n",
       "    }\n",
       "\n",
       "    .dataframe tbody tr th {\n",
       "        vertical-align: top;\n",
       "    }\n",
       "\n",
       "    .dataframe thead th {\n",
       "        text-align: right;\n",
       "    }\n",
       "</style>\n",
       "<table border=\"1\" class=\"dataframe\">\n",
       "  <thead>\n",
       "    <tr style=\"text-align: right;\">\n",
       "      <th></th>\n",
       "      <th>spam_or_ham</th>\n",
       "      <th>message</th>\n",
       "    </tr>\n",
       "  </thead>\n",
       "  <tbody>\n",
       "    <tr>\n",
       "      <th>0</th>\n",
       "      <td>ham</td>\n",
       "      <td>Go until jurong point, crazy.. Available only ...</td>\n",
       "    </tr>\n",
       "    <tr>\n",
       "      <th>1</th>\n",
       "      <td>ham</td>\n",
       "      <td>Ok lar... Joking wif u oni...</td>\n",
       "    </tr>\n",
       "    <tr>\n",
       "      <th>2</th>\n",
       "      <td>spam</td>\n",
       "      <td>Free entry in 2 a wkly comp to win FA Cup fina...</td>\n",
       "    </tr>\n",
       "    <tr>\n",
       "      <th>3</th>\n",
       "      <td>ham</td>\n",
       "      <td>U dun say so early hor... U c already then say...</td>\n",
       "    </tr>\n",
       "    <tr>\n",
       "      <th>4</th>\n",
       "      <td>ham</td>\n",
       "      <td>Nah I don't think he goes to usf, he lives aro...</td>\n",
       "    </tr>\n",
       "  </tbody>\n",
       "</table>\n",
       "</div>"
      ],
      "text/plain": [
       "  spam_or_ham                                            message\n",
       "0         ham  Go until jurong point, crazy.. Available only ...\n",
       "1         ham                      Ok lar... Joking wif u oni...\n",
       "2        spam  Free entry in 2 a wkly comp to win FA Cup fina...\n",
       "3         ham  U dun say so early hor... U c already then say...\n",
       "4         ham  Nah I don't think he goes to usf, he lives aro..."
      ]
     },
     "execution_count": 7,
     "metadata": {},
     "output_type": "execute_result"
    }
   ],
   "source": [
    "# print head of data frame with help of head function \n",
    "df.head()"
   ]
  },
  {
   "cell_type": "markdown",
   "id": "1749da04",
   "metadata": {},
   "source": [
    "## Count plot of the output categories: spam or ham\n",
    "\n",
    "Feel free to take a look at the output and whether the classes are balanced or imbalanced. "
   ]
  },
  {
   "cell_type": "code",
   "execution_count": 8,
   "id": "c152e8a4",
   "metadata": {},
   "outputs": [
    {
     "data": {
      "image/png": "[encoded data removed]",
      "text/plain": [
       "<Figure size 576x432 with 1 Axes>"
      ]
     },
     "metadata": {
      "needs_background": "light"
     },
     "output_type": "display_data"
    }
   ],
   "source": [
    "plt.figure(figsize = (8,6))\n",
    "sns.countplot(x = \"spam_or_ham\", data = df)\n",
    "plt.title(\"Spam Vs. Ham Messages count\", fontsize = 15)\n",
    "plt.show()"
   ]
  },
  {
   "cell_type": "markdown",
   "id": "9b8549f2",
   "metadata": {},
   "source": [
    "## Upsampling the minority class: (5 points)\n",
    "\n",
    "It is known that Naive bayes is not robust to class imbalance. It could be seen above that the data is quite imbalanced. Therefore, class balancing must be done before giving it to the Naive Bayes model for prediction. \n",
    "\n",
    "Feel free to use 'resample' library from sklearn. "
   ]
  },
  {
   "cell_type": "code",
   "execution_count": 9,
   "id": "80f27192",
   "metadata": {},
   "outputs": [],
   "source": [
    "## hint: use resample from sklearn.utils\n",
    "from sklearn.utils import resample\n",
    "\n",
    "df_majority = df[df['spam_or_ham'] == 'ham']\n",
    "df_minority = df[df['spam_or_ham'] == 'spam']\n",
    "\n",
    "spam_upsample = resample(df_minority, replace = True, \n",
    "                        n_samples = df_majority.shape[0],\n",
    "                        random_state = 101)\n",
    "\n",
    "df_upsampled = pd.concat([df_majority, spam_upsample])  # concat two data frames i,e majority class data set and upsampled minority class data set\n",
    "df_upsampled = df_upsampled.sample(frac = 1)"
   ]
  },
  {
   "cell_type": "code",
   "execution_count": 10,
   "id": "6a9329bb",
   "metadata": {},
   "outputs": [
    {
     "name": "stdout",
     "output_type": "stream",
     "text": [
      "(4825, 2)\n"
     ]
    }
   ],
   "source": [
    "## Just to ensure that upsampling was done successfully, take a look at the shape of the data in \n",
    "## this cell. \n",
    "\n",
    "# print the shape of data set with the help of shape function having \"spam\" as class label\n",
    "# df_upsampled.head()\n",
    "print(df_upsampled[df_upsampled['spam_or_ham'] == 'spam'].shape)"
   ]
  },
  {
   "cell_type": "markdown",
   "id": "6f8bf6e7",
   "metadata": {},
   "source": [
    "### Expected Output : \n",
    "(4825, 2)"
   ]
  },
  {
   "cell_type": "code",
   "execution_count": 11,
   "id": "bdea8155",
   "metadata": {},
   "outputs": [
    {
     "name": "stdout",
     "output_type": "stream",
     "text": [
      "(4825, 2)\n"
     ]
    }
   ],
   "source": [
    "## Ensure that the same number of data points are present for both 'spam' and 'ham' data\n",
    "\n",
    "# print the shape of data set with the help of shape function having \"ham\" as class label\n",
    "print(df_upsampled[df_upsampled['spam_or_ham'] == 'ham'].shape)"
   ]
  },
  {
   "cell_type": "markdown",
   "id": "626f01d5",
   "metadata": {},
   "source": [
    "### Expected Output : \n",
    "(4825, 2)"
   ]
  },
  {
   "cell_type": "code",
   "execution_count": 12,
   "id": "61eb9d01",
   "metadata": {},
   "outputs": [],
   "source": [
    "## In this cell, we are going to be dividing the data into train and test points\n",
    "## Ensure that you store the upsampled data in a variable called 'df_upsampled' \n",
    "## so that the below operations are performed successfully\n",
    "\n",
    "\n",
    "## Considering 3000 spam and 3000 ham data points\n",
    "spam_data_points_train = df_upsampled[df_upsampled['spam_or_ham'] == 'spam'].iloc[:3000]\n",
    "ham_data_points_train = df_upsampled[df_upsampled['spam_or_ham'] == 'ham'].iloc[:3000]\n",
    "\n",
    "## Considering the remaining data points for test\n",
    "spam_data_points_test = df_upsampled[df_upsampled['spam_or_ham'] == 'spam'].iloc[3000:]\n",
    "ham_data_points_test = df_upsampled[df_upsampled['spam_or_ham'] == 'ham'].iloc[3000:]\n",
    "\n",
    "## Concatenate the training ham and spam messages\n",
    "X_train = pd.concat([spam_data_points_train['message'], ham_data_points_train['message']])\n",
    "## Concatenating the training ham and spam outputs\n",
    "y_train = pd.concat([spam_data_points_train['spam_or_ham'], ham_data_points_train['spam_or_ham']])\n",
    "\n",
    "## Concatenating the test ham and spam messages\n",
    "X_test = pd.concat([spam_data_points_test['message'], ham_data_points_test['message']])\n",
    "## Concatenating the test ham and spam outputs\n",
    "y_test = pd.concat([spam_data_points_test['spam_or_ham'], ham_data_points_test['spam_or_ham']])\n"
   ]
  },
  {
   "cell_type": "code",
   "execution_count": 13,
   "id": "6428047d",
   "metadata": {},
   "outputs": [
    {
     "data": {
      "text/plain": [
       "ham     3000\n",
       "spam    3000\n",
       "Name: spam_or_ham, dtype: int64"
      ]
     },
     "execution_count": 13,
     "metadata": {},
     "output_type": "execute_result"
    }
   ],
   "source": [
    "## Take a look at the total number of classes and their count using '.value_counts()' for y_train and y_test.\n",
    "## Ensure that there are equal number of spam and ham messages. \n",
    "y_train.value_counts()"
   ]
  },
  {
   "cell_type": "markdown",
   "id": "7dfe6517",
   "metadata": {},
   "source": [
    "### Expected Output:\n",
    "spam    3000<br>\n",
    "ham     3000<br>\n",
    "Name: spam_or_ham, dtype: int64"
   ]
  },
  {
   "cell_type": "code",
   "execution_count": 14,
   "id": "2beae1d6",
   "metadata": {},
   "outputs": [
    {
     "data": {
      "text/plain": [
       "ham     1825\n",
       "spam    1825\n",
       "Name: spam_or_ham, dtype: int64"
      ]
     },
     "execution_count": 14,
     "metadata": {},
     "output_type": "execute_result"
    }
   ],
   "source": [
    "y_test.value_counts()"
   ]
  },
  {
   "cell_type": "markdown",
   "id": "9163f897",
   "metadata": {},
   "source": [
    "### Expected Output : \n",
    "spam    1825<br>\n",
    "ham     1825<br>\n",
    "Name: spam_or_ham, dtype: int64\n"
   ]
  },
  {
   "cell_type": "markdown",
   "id": "6501699b",
   "metadata": {},
   "source": [
    "## Pre-process the messages: (15 points)\n",
    "\n",
    "We know that a message contains links, punctuation, stopwords and many other words that don't give a lot of meaning for the Naive Bayes model for prediction. \n",
    "\n",
    "In the cell below, one must implement text-preprocessing and remove links, punctuations and stopwords. It is also important to lowercase the letters so that 'Admire' and 'admire' are not treated as different words. \n",
    "\n",
    "In addition to this, perform stemming operation so that similar words are reduced. To know more about stemming, feel free to take a look at this link.\n",
    "\n",
    "https://nlp.stanford.edu/IR-book/html/htmledition/stemming-and-lemmatization-1.html"
   ]
  },
  {
   "cell_type": "code",
   "execution_count": 15,
   "id": "bd4ce1e6",
   "metadata": {},
   "outputs": [],
   "source": [
    "# TASK CELL\n",
    "\n",
    "def clean_message(message):\n",
    "    '''\n",
    "    Input:\n",
    "        message: a string containing a message.\n",
    "    Output:\n",
    "        messages_cleaned: a list of words containing the processed message. \n",
    "\n",
    "    '''\n",
    "    # message = message.lower()\n",
    "    # message = re.sub(r'^https?:\\/\\/.*[\\r\\n]*', '', message, flags=re.MULTILINE)\n",
    "    # tokenizer = nltk.RegexpTokenizer(r\"\\w+\")\n",
    "    # message = tokenizer.tokenize(message)\n",
    "    # # print(message)    \n",
    "    # messages_cleaned = []\n",
    "    # stop_words = set(stopwords.words('english'))\n",
    "    # for word in message:\n",
    "    #     if not word in stop_words:\n",
    "    #         messages_cleaned.append(word)\n",
    "    \n",
    "    message = message.lower().strip()\n",
    "    message = re.sub(r\"<br>\", r\" \", message)\n",
    "    message = re.sub(r\"([-?.!,/\\\"])\", r\" \\1\", message)\n",
    "    message = re.sub(r\"[-()\\\"#/@;:<>{}`+=~|.!?,']\", r\"\", message)\n",
    "    message = re.sub(r\"[ ]+\", r\" \", message)\n",
    "    message = message.rstrip().strip()\n",
    "    \n",
    "    ps = PorterStemmer()\n",
    "    \n",
    "    message = message.split()\n",
    "    messages_cleaned = [ps.stem(word) for word in message if word not in stopwords.words('english')]\n",
    "\n",
    "    return messages_cleaned"
   ]
  },
  {
   "cell_type": "markdown",
   "id": "a7632fe5",
   "metadata": {},
   "source": [
    "## Implement a find_occurrence function (5 points):\n",
    "\n",
    "In this function, we find the total occurrence of a word giving information such as label, word and frequency dictionary.\n",
    "\n",
    "Note that this function is used later in the code when we are going to be predicting the output using Naive Bayes. "
   ]
  },
  {
   "cell_type": "code",
   "execution_count": 16,
   "id": "eb282b81",
   "metadata": {},
   "outputs": [],
   "source": [
    "# TASK CELL\n",
    "def find_occurrence(frequency, word, label):\n",
    "    '''\n",
    "    Params:\n",
    "        frequency: a dictionary with the frequency of each pair (or tuple)\n",
    "        word: the word to look up\n",
    "        label: the label corresponding to the word\n",
    "    Return:\n",
    "        n: the number of times the word with its corresponding label appears.\n",
    "    '''\n",
    "    n = frequency[(word, label)]    \n",
    "\n",
    "    return n"
   ]
  },
  {
   "cell_type": "markdown",
   "id": "29a2249d",
   "metadata": {},
   "source": [
    "## Converting output to numerical format:\n",
    "\n",
    "We have outputs as 'ham' or 'spam'. In the cell below, we convert it to a numerical format. "
   ]
  },
  {
   "cell_type": "code",
   "execution_count": 17,
   "id": "bcdc2b2c",
   "metadata": {},
   "outputs": [],
   "source": [
    "## With the use of mapping function, we replace\n",
    "## the label in the form of string to an integer. \n",
    "\n",
    "output_map = {'ham': 0, 'spam': 1}\n",
    "y_train = y_train.replace(output_map)\n",
    "y_test = y_test.replace(output_map)"
   ]
  },
  {
   "cell_type": "code",
   "execution_count": 18,
   "id": "3dde0bbd",
   "metadata": {},
   "outputs": [
    {
     "data": {
      "text/plain": [
       "0    3000\n",
       "1    3000\n",
       "Name: spam_or_ham, dtype: int64"
      ]
     },
     "execution_count": 18,
     "metadata": {},
     "output_type": "execute_result"
    }
   ],
   "source": [
    "## Ensuring that there are equal number of classes on the training data. \n",
    "y_train.value_counts()"
   ]
  },
  {
   "cell_type": "code",
   "execution_count": 19,
   "id": "f2959b85",
   "metadata": {},
   "outputs": [
    {
     "data": {
      "text/plain": [
       "'Thanks 4 your continued support Your question this week will enter u in2 our draw 4 å£100 cash. Name the NEW US President? txt ans to 80082'"
      ]
     },
     "execution_count": 19,
     "metadata": {},
     "output_type": "execute_result"
    }
   ],
   "source": [
    "## Choosing a random message and taking a look at it.\n",
    "X_train.iloc[0]"
   ]
  },
  {
   "cell_type": "markdown",
   "id": "ed5e43c9",
   "metadata": {},
   "source": [
    "From the above cell output, it could be seen that there are a lot of words that don't add a lot of meaning to the text. \n",
    "\n",
    "Therefore, those words would be removed. It also reduces the computation time. \n",
    "\n",
    "Therefore, it is a good practice we are following."
   ]
  },
  {
   "cell_type": "code",
   "execution_count": 20,
   "id": "ad3937ea",
   "metadata": {},
   "outputs": [
    {
     "name": "stdout",
     "output_type": "stream",
     "text": [
      "['thank', '4', 'continu', 'support', 'question', 'week', 'enter', 'u', 'in2', 'draw', '4', 'å£100', 'cash', 'name', 'new', 'us', 'presid', 'txt', 'an', '80082']\n"
     ]
    }
   ],
   "source": [
    "custom_message = X_train.iloc[0]\n",
    "\n",
    "# print cleaned message\n",
    "print(clean_message(custom_message))"
   ]
  },
  {
   "cell_type": "markdown",
   "id": "3e6cc440",
   "metadata": {},
   "source": [
    "We now use this function to pre-process the message and remove words that don't add a lot of meaning in our model. "
   ]
  },
  {
   "cell_type": "markdown",
   "id": "5a762960",
   "metadata": {},
   "source": [
    "## Implementing message counter function: (10 points)\n",
    "\n",
    "It is now time to implement the count function for the messages. \n",
    "\n",
    "In this function, we count the occurrence of words and get the probabilities \n",
    "for the words based on the training data. \n",
    "\n",
    "In other words, we get the probability of occurrence of a word, given that the output is 'spam'.\n",
    "\n",
    "Similarly, we also compute the probability of occurence of a word, given that the output is 'ham'.\n",
    "\n"
   ]
  },
  {
   "cell_type": "code",
   "execution_count": 21,
   "id": "5de61f77",
   "metadata": {},
   "outputs": [],
   "source": [
    "# TASK CELL\n",
    "def message_counter(output_occurrence, messages, spam_or_ham):\n",
    "    '''\n",
    "    Params:\n",
    "        output_occurrence: a dictionary that will be used to map each pair to its frequency\n",
    "        messages: a list of messages\n",
    "        spam_or_ham: a list corresponding to the sentiment of each message (either 0 or 1)\n",
    "    Return:\n",
    "        output: a dictionary mapping each pair to its frequency\n",
    "    '''\n",
    "    ## Steps :\n",
    "    # define the key, which is the word and label tuple\n",
    "    # if the key exists in the dictionary, increment the count\n",
    "    # else, if the key is new, add it to the dictionary and set the count to 1\n",
    "    \n",
    "    for label, message in zip(spam_or_ham, messages):\n",
    "        for word in clean_message(message):\n",
    "            label_tuple = (word, label)\n",
    "            keys = output_occurrence.keys()\n",
    "            if(label_tuple in keys):\n",
    "                output_occurrence[label_tuple]+=1\n",
    "            else:\n",
    "                output_occurrence[label_tuple] = 1   \n",
    "\n",
    "    return output_occurrence\n"
   ]
  },
  {
   "cell_type": "markdown",
   "id": "18238223",
   "metadata": {},
   "source": [
    "## Test your function with example messages:\n",
    "\n",
    "Feel free to run the cell below and understand whether the above function that you have defined is producing the optimum results. "
   ]
  },
  {
   "cell_type": "code",
   "execution_count": 22,
   "id": "07a4c58a",
   "metadata": {},
   "outputs": [
    {
     "data": {
      "text/plain": [
       "{('get', 1): 2,\n",
       " ('offer', 1): 1,\n",
       " ('upto', 1): 1,\n",
       " ('20%', 1): 1,\n",
       " ('come', 0): 1,\n",
       " ('click', 1): 1,\n",
       " ('link', 1): 1,\n",
       " ('latest', 1): 1,\n",
       " ('car', 1): 1,\n",
       " ('canva', 0): 1,\n",
       " ('class', 0): 1,\n",
       " ('schedul', 0): 1}"
      ]
     },
     "execution_count": 22,
     "metadata": {},
     "output_type": "execute_result"
    }
   ],
   "source": [
    "# Testing your function\n",
    "\n",
    "result = {}\n",
    "messages = ['get offer upto 20%', 'I am coming now', 'Click on the link', 'get a latest car', 'canvas class scheduled']\n",
    "ys = [1, 0, 1, 1, 0]\n",
    "message_counter(result,messages, ys)"
   ]
  },
  {
   "cell_type": "markdown",
   "id": "927f89bb",
   "metadata": {},
   "source": [
    "### Expected Output:\n",
    "{('get', 1): 2, <br>\n",
    " ('offer', 1): 1, <br>\n",
    " ('upto', 1): 1, <br>\n",
    " ('20', 1): 1, <br>\n",
    " ('i', 0): 1, <br>\n",
    " ('come', 0): 1, <br>\n",
    " ('click', 1): 1, <br>\n",
    " ('link', 1): 1, <br>\n",
    " ('latest', 1): 1, <br>\n",
    " ('car', 1): 1, <br>\n",
    " ('canva', 0): 1, <br>\n",
    " ('class', 0): 1, <br>\n",
    " ('schedul', 0): 1}"
   ]
  },
  {
   "cell_type": "code",
   "execution_count": 23,
   "id": "9bc62e13",
   "metadata": {},
   "outputs": [],
   "source": [
    "# Build the freqs dictionary for later uses\n",
    "freqs = message_counter({}, X_train, y_train)"
   ]
  },
  {
   "cell_type": "code",
   "execution_count": 24,
   "id": "0eddf420",
   "metadata": {
    "collapsed": true,
    "jupyter": {
     "outputs_hidden": true
    },
    "tags": []
   },
   "outputs": [
    {
     "name": "stdout",
     "output_type": "stream",
     "text": [
      "{('thank', 1): 76, ('4', 1): 456, ('continu', 1): 3, ('support', 1): 6, ('question', 1): 49, ('week', 1): 294, ('enter', 1): 58, ('u', 1): 677, ('in2', 1): 3, ('draw', 1): 192, ('å£100', 1): 118, ('cash', 1): 294, ('name', 1): 52, ('new', 1): 277, ('us', 1): 26, ('presid', 1): 3, ('txt', 1): 696, ('an', 1): 33, ('80082', 1): 8, ('2nd', 1): 86, ('time', 1): 80, ('tri', 1): 150, ('contact', 1): 234, ('å£1450', 1): 16, ('prize', 1): 420, ('claim', 1): 437, ('call', 1): 1496, ('09053750005', 1): 6, ('b4', 1): 25, ('310303', 1): 6, ('t&c', 1): 170, ('stop', 1): 484, ('sm', 1): 130, ('08718725756', 1): 6, ('140ppm', 1): 6, ('doubl', 1): 77, ('min', 1): 306, ('&', 1): 439, ('1000', 1): 31, ('orang', 1): 126, ('tariff', 1): 23, ('latest', 1): 188, ('motorola', 1): 45, ('sonyericsson', 1): 20, ('nokia', 1): 338, ('bluetooth', 1): 39, ('free', 1): 985, ('mobileupd8', 1): 68, ('08000839402', 1): 65, ('call2optout', 1): 41, ('hf8', 1): 2, ('sorri', 1): 14, ('unsubscrib', 1): 56, ('yet', 1): 6, ('mob', 1): 136, ('offer', 1): 155, ('packag', 1): 4, ('term', 1): 42, ('54', 1): 4, ('pl', 1): 48, ('resubmit', 1): 4, ('request', 1): 9, ('expiri', 1): 4, ('repli', 1): 472, ('themob', 1): 7, ('help', 1): 90, ('info', 1): 38, ('rington', 1): 175, ('text', 1): 575, ('first', 1): 25, ('87131', 1): 24, ('poli', 1): 88, ('get', 1): 400, ('true', 1): 15, ('tone', 1): 405, ('0845', 1): 17, ('2814032', 1): 10, ('16', 1): 226, ('1st', 1): 125, ('3xå£150pw', 1): 10, ('eå£nd', 1): 10, ('well', 1): 35, ('done', 1): 17, ('4*', 1): 90, ('costa', 1): 31, ('del', 1): 38, ('sol', 1): 31, ('holiday', 1): 118, ('å£5000', 1): 95, ('await', 1): 118, ('collect', 1): 216, ('09050090044', 1): 29, ('toclaim', 1): 29, ('sae', 1): 83, ('tc', 1): 52, ('pobox334', 1): 29, ('stockport', 1): 29, ('sk38xh', 1): 34, ('costå£1', 1): 29, ('50', 1): 190, ('pm', 1): 36, ('max10min', 1): 29, ('1', 1): 195, ('voicemail', 1): 6, ('pleas', 1): 224, ('08719181503', 1): 2, ('last', 1): 50, ('chanc', 1): 122, ('2', 1): 798, ('ur', 1): 618, ('å£150', 1): 36, ('worth', 1): 56, ('discount', 1): 36, ('voucher', 1): 167, ('ye', 1): 87, ('85023', 1): 28, ('savamob', 1): 50, ('member', 1): 35, ('mobil', 1): 609, ('cs', 1): 52, ('08717898035', 1): 12, ('å£3', 1): 64, ('00', 1): 42, ('sub', 1): 41, ('remov', 1): 34, ('x', 1): 42, ('hi', 1): 52, ('ya', 1): 4, ('babe', 1): 25, ('4goten', 1): 4, ('bout', 1): 4, ('scammer', 1): 4, ('smart', 1): 7, ('though', 1): 4, ('regular', 1): 4, ('vodafon', 1): 25, ('respond', 1): 11, ('prem', 1): 4, ('rate', 1): 143, ('msg', 1): 208, ('subscript', 1): 20, ('no', 1): 4, ('use', 1): 44, ('also', 1): 7, ('bewar', 1): 4, ('winner', 1): 68, ('valu', 1): 59, ('network', 1): 130, ('custom', 1): 222, ('select', 1): 123, ('receivea', 1): 11, ('å£900', 1): 31, ('reward', 1): 61, ('09061701461', 1): 11, ('code', 1): 104, ('kl341', 1): 11, ('valid', 1): 103, ('12', 1): 24, ('hour', 1): 24, ('privat', 1): 64, ('2003', 1): 39, ('account', 1): 66, ('statement', 1): 52, ('07808', 1): 4, ('xxxxxx', 1): 4, ('show', 1): 134, ('800', 1): 41, ('un', 1): 38, ('redeem', 1): 42, ('point', 1): 56, ('08719899217', 1): 4, ('identifi', 1): 56, ('41685', 1): 6, ('expir', 1): 60, ('07', 1): 6, ('11', 1): 47, ('04', 1): 36, ('lastest', 1): 2, ('stereophon', 1): 2, ('marley', 1): 2, ('dizze', 1): 2, ('racal', 1): 2, ('libertin', 1): 2, ('stroke', 1): 2, ('win', 1): 271, ('nookii', 1): 2, ('game', 1): 124, ('flirt', 1): 27, ('click', 1): 16, ('wap', 1): 44, ('bookmark', 1): 2, ('82468', 1): 3, ('video', 1): 139, ('handset', 1): 28, ('750', 1): 75, ('anytim', 1): 54, ('unlimit', 1): 36, ('camcord', 1): 60, ('08000930705', 1): 68, ('congratul', 1): 75, ('good', 1): 59, ('friend', 1): 63, ('å£2', 1): 50, ('000', 1): 111, ('xma', 1): 79, ('easi', 1): 61, ('08718726978', 1): 5, ('10p', 1): 102, ('per', 1): 194, ('minut', 1): 59, ('bt', 1): 72, ('nation', 1): 88, ('urgent', 1): 229, ('number', 1): 153, ('award', 1): 308, ('å£2000', 1): 83, ('guarante', 1): 205, ('09061790121', 1): 11, ('land', 1): 68, ('line', 1): 156, ('3030', 1): 24, ('12hr', 1): 69, ('150ppm', 1): 124, ('address', 1): 11, ('receiv', 1): 158, ('post', 1): 26, ('complet', 1): 12, ('accommod', 1): 5, ('variou', 1): 5, ('global', 1): 5, ('locat', 1): 27, ('www', 1): 384, ('phb1', 1): 5, ('com', 1): 199, ('ph08700435505150p', 1): 5, ('marri', 1): 7, ('local', 1): 17, ('women', 1): 5, ('look', 1): 44, ('discreet', 1): 10, ('action', 1): 12, ('5', 1): 44, ('real', 1): 61, ('match', 1): 59, ('instantli', 1): 5, ('phone', 1): 245, ('69969', 1): 5, ('cost', 1): 103, ('150p', 1): 253, ('bcmsfwc1n3xx', 1): 5, ('warner', 1): 14, ('villag', 1): 14, ('83118', 1): 7, ('c', 1): 95, ('colin', 1): 7, ('farrel', 1): 7, ('swat', 1): 7, ('wkend', 1): 7, ('med', 1): 10, ('popcorn', 1): 7, ('msgticketkiosk', 1): 7, ('7', 1): 22, ('kiosk', 1): 7, ('soni', 1): 28, ('mre', 1): 7, ('film', 1): 21, ('hot', 1): 52, ('n', 1): 42, ('horni', 1): 21, ('will', 1): 2, ('live', 1): 122, ('hear', 1): 12, ('strt', 1): 2, ('back', 1): 83, ('netcollex', 1): 16, ('ltdhelpdesk', 1): 2, ('02085076972', 1): 2, ('end', 1): 88, ('3', 1): 98, ('lion', 1): 8, ('england', 1): 29, ('lionm', 1): 8, ('mono', 1): 15, ('lionp', 1): 8, ('go', 1): 149, ('co', 1): 260, ('uk', 1): 341, ('origin', 1): 18, ('best', 1): 38, ('3gbp', 1): 18, ('oper', 1): 60, ('appli', 1): 108, ('subscrib', 1): 43, ('content', 1): 46, ('servic', 1): 272, ('10', 1): 57, ('day', 1): 134, ('send', 1): 278, ('82324', 1): 8, ('helplin', 1): 10, ('08706091795', 1): 10, ('sipix', 1): 22, ('digit', 1): 39, ('camera', 1): 162, ('09061221061', 1): 8, ('landlin', 1): 118, ('deliveri', 1): 85, ('within', 1): 24, ('28day', 1): 8, ('box177', 1): 8, ('m221bp', 1): 8, ('2yr', 1): 8, ('warranti', 1): 8, ('p', 1): 17, ('på£3', 1): 8, ('99', 1): 8, ('balanc', 1): 41, ('current', 1): 53, ('500', 1): 121, ('pound', 1): 103, ('maxim', 1): 32, ('86688', 1): 74, ('cc', 1): 31, ('08718720201', 1): 26, ('hg', 1): 55, ('suite342', 1): 69, ('2land', 1): 69, ('row', 1): 70, ('w1j6hl', 1): 50, ('bring', 1): 15, ('chart', 1): 21, ('hero', 1): 8, ('hit', 1): 15, ('pic', 1): 125, ('tip', 1): 8, ('07801543489', 1): 1, ('40gb', 1): 24, ('ipod', 1): 48, ('mp3', 1): 22, ('player', 1): 45, ('å£500', 1): 85, ('wordcollect', 1): 1, ('no83355', 1): 1, ('llc', 1): 1, ('ny', 1): 1, ('usa', 1): 1, ('mt', 1): 1, ('msgrcvd18', 1): 1, ('rock', 1): 7, ('yr', 1): 66, ('chik', 1): 7, ('100', 1): 73, ('filthi', 1): 11, ('&xxx', 1): 7, ('rpli', 1): 24, ('filth', 1): 7, ('69669', 1): 15, ('saristar', 1): 7, ('ltd', 1): 71, ('e14', 1): 7, ('9yt', 1): 7, ('08701752560', 1): 7, ('450p', 1): 7, ('stop2', 1): 7, ('cancel', 1): 17, ('ring', 1): 9, ('\\\\polys\\\\', 1): 3, ('everi', 1): 152, ('0870737910216yr', 1): 3, ('å£1', 1): 135, ('wk', 1): 144, ('loan', 1): 20, ('purpos', 1): 17, ('å£75', 1): 15, ('homeown', 1): 15, ('tenant', 1): 17, ('welcom', 1): 33, ('previous', 1): 15, ('refus', 1): 18, ('still', 1): 32, ('0800', 1): 50, ('1956669', 1): 15, ('å£200', 1): 50, ('shop', 1): 64, ('spree', 1): 34, ('start', 1): 58, ('play', 1): 83, ('store', 1): 35, ('88039', 1): 22, ('skilgm', 1): 22, ('tscs08714740323', 1): 8, ('1winawk', 1): 8, ('age16', 1): 39, ('50perweeksub', 1): 8, ('22', 1): 4, ('kick', 1): 8, ('euro2004', 1): 14, ('kept', 1): 9, ('date', 1): 112, ('news', 1): 34, ('result', 1): 9, ('daili', 1): 11, ('83222', 1): 9, ('å£400', 1): 34, ('wait', 1): 58, ('comput', 1): 24, ('randomli', 1): 13, ('pick', 1): 29, ('loyal', 1): 13, ('09066380611', 1): 13, ('order', 1): 64, ('81303', 1): 8, ('could', 1): 30, ('deliv', 1): 16, ('suffici', 1): 2, ('credit', 1): 66, ('top', 1): 58, ('today', 1): 148, ('4882', 1): 10, ('å£350', 1): 62, ('09064019014', 1): 10, ('music', 1): 108, ('gift', 1): 84, ('word', 1): 74, ('87066', 1): 72, ('tsc', 1): 13, ('idew', 1): 9, ('skillgam', 1): 13, ('1winaweek', 1): 13, ('150ppermesssubscript', 1): 13, ('44', 1): 6, ('7732584351', 1): 6, ('want', 1): 141, ('3510i', 1): 26, ('colour', 1): 93, ('deliveredtomorrow', 1): 15, ('300', 1): 15, ('funk', 1): 10, ('fone', 1): 27, ('weekli', 1): 101, ('tones2u', 1): 10, ('messag', 1): 154, ('activ', 1): 21, ('condit', 1): 17, ('visit', 1): 29, ('07781482378', 1): 6, ('no1', 1): 53, ('8077', 1): 7, ('txting', 1): 59, ('tell', 1): 92, ('mate', 1): 71, ('getz', 1): 51, ('pobox', 1): 66, ('36504', 1): 43, ('w45wq', 1): 37, ('norm150p', 1): 37, ('hello', 1): 12, ('darl', 1): 9, ('would', 1): 16, ('love', 1): 40, ('chat', 1): 172, ('dont', 1): 93, ('like', 1): 53, ('sexi', 1): 70, ('announc', 1): 16, ('recent', 1): 25, ('make', 1): 40, ('unabl', 1): 6, ('07099833605', 1): 4, ('schedul', 1): 6, ('ref9280114', 1): 4, ('respons', 1): 6, ('mr', 1): 8, ('foley', 1): 8, ('excit', 1): 17, ('soon', 1): 12, ('keep', 1): 22, ('eye', 1): 17, ('82050', 1): 8, ('tomorrow', 1): 45, ('200', 1): 17, ('forward', 1): 10, ('21870000hi', 1): 7, ('mailbox', 1): 7, ('alert', 1): 15, ('21', 1): 9, ('09056242159', 1): 7, ('retriev', 1): 7, ('09061743811', 1): 4, ('abta', 1): 13, ('complimentari', 1): 42, ('tenerif', 1): 26, ('box', 1): 107, ('326', 1): 9, ('cw25wx', 1): 13, ('know', 1): 82, ('let', 1): 23, ('find', 1): 100, ('rcvd', 1): 37, ('ldn', 1): 36, ('18', 1): 162, ('year', 1): 46, ('inclus', 1): 18, ('goto', 1): 16, ('comuk', 1): 29, ('net', 1): 55, ('login', 1): 16, ('*****', 1): 3, ('extra', 1): 24, ('charg', 1): 109, ('help08700469649', 1): 3, ('po', 1): 102, ('box420', 1): 3, ('ip4', 1): 23, ('5we', 1): 23, ('jordan', 1): 20, ('r', 1): 94, ('im', 1): 49, ('home', 1): 6, ('abroad', 1): 3, ('lone', 1): 12, ('wanna', 1): 38, ('xxsp', 1): 3, ('visionsm', 1): 6, ('stopcost', 1): 3, ('08712400603', 1): 3, ('kickoff', 1): 5, ('inform', 1): 40, ('euro', 1): 9, ('miss', 1): 34, ('talk', 1): 30, ('07090201529', 1): 8, ('2004', 1): 33, ('07742676969', 1): 6, ('786', 1): 18, ('unredeem', 1): 18, ('bonu', 1): 100, ('08719180248', 1): 6, ('45239', 1): 13, ('monthli', 1): 5, ('password', 1): 14, ('mobsi', 1): 5, ('391784', 1): 5, ('pc', 1): 22, ('special', 1): 100, ('å£1000', 1): 140, ('speak', 1): 37, ('087147123779am', 1): 9, ('7pm', 1): 29, ('ok', 1): 21, ('80488', 1): 19, ('price', 1): 67, ('linerent', 1): 17, ('lf56', 1): 9, ('textbuddi', 1): 8, ('guy', 1): 24, ('area', 1): 31, ('25p', 1): 35, ('search', 1): 8, ('postcod', 1): 13, ('gaytextbuddi', 1): 8, ('one', 1): 35, ('89693', 1): 8, ('hey', 1): 21, ('boy', 1): 10, ('xxx', 1): 42, ('sent', 1): 52, ('direct', 1): 45, ('porn', 1): 18, ('69855', 1): 7, ('24hr', 1): 9, ('50p', 1): 28, ('stopbcm', 1): 7, ('sf', 1): 7, ('wc1n3xx', 1): 17, ('08715203656', 1): 3, ('42049', 1): 3, ('26', 1): 14, ('outbid', 1): 4, ('simonwatson5120', 1): 4, ('shinco', 1): 4, ('dvd', 1): 25, ('plyr', 1): 4, ('bid', 1): 15, ('ac', 1): 46, ('smsreward', 1): 4, ('notif', 1): 4, ('5p', 1): 15, ('alfi', 1): 13, ('moon', 1): 13, ('children', 1): 13, ('need', 1): 36, ('song', 1): 13, ('m8', 1): 23, ('chariti', 1): 39, ('8007', 1): 99, ('zed', 1): 32, ('08701417012', 1): 13, ('profit', 1): 13, ('87077', 1): 26, ('import', 1): 38, ('user', 1): 36, ('lucki', 1): 33, ('2find', 1): 9, ('log', 1): 31, ('onto', 1): 31, ('http', 1): 69, ('urawinn', 1): 26, ('there', 1): 16, ('fantast', 1): 29, ('surpris', 1): 23, ('å£5', 1): 11, ('month', 1): 54, ('confirm', 1): 8, ('club', 1): 67, ('gr8', 1): 21, ('offici', 1): 17, ('flag', 1): 30, ('yer', 1): 13, ('tonight', 1): 19, ('84199', 1): 13, ('optout', 1): 29, ('eng', 1): 13, ('box39822', 1): 13, ('w111wx', 1): 13, ('congrat', 1): 36, ('3g', 1): 23, ('videophon', 1): 23, ('09063458130', 1): 17, ('videochat', 1): 23, ('wid', 1): 23, ('java', 1): 23, ('dload', 1): 23, ('polyph', 1): 17, ('nolin', 1): 23, ('rentl', 1): 23, ('update_now', 1): 9, ('f4q', 1): 5, ('gent', 1): 9, ('weekend', 1): 52, ('09064012160', 1): 9, ('k52', 1): 15, ('85233', 1): 4, ('freerington', 1): 6, ('valentin', 1): 13, ('pari', 1): 26, ('inc', 1): 31, ('flight', 1): 30, ('hotel', 1): 19, ('69101', 1): 6, ('rtf', 1): 6, ('sphost', 1): 6, ('caller', 1): 55, ('9', 1): 6, ('03', 1): 61, ('final', 1): 63, ('09064019788', 1): 6, ('box42wr29c', 1): 6, ('freemsg', 1): 50, ('buffi', 1): 3, ('25', 1): 16, ('satisfi', 1): 5, ('men', 1): 14, ('alon', 1): 9, ('feel', 1): 8, ('randi', 1): 8, ('pix', 1): 16, ('qlynnbv', 1): 3, ('help08700621170150p', 1): 3, ('advis', 1): 19, ('follow', 1): 51, ('review', 1): 22, ('å£1500', 1): 19, ('09066368470', 1): 5, ('bore', 1): 23, ('speed', 1): 9, ('speedchat', 1): 18, ('80155', 1): 9, ('em', 1): 9, ('swap', 1): 9, ('chatter', 1): 9, ('chat80155', 1): 9, ('pobox36504w45wq', 1): 28, ('rcd', 1): 9, ('goal', 1): 11, ('arsen', 1): 14, ('henri', 1): 8, ('v', 1): 10, ('liverpool', 1): 7, ('score', 1): 12, ('simpl', 1): 4, ('shot', 1): 4, ('6', 1): 28, ('yard', 1): 4, ('pass', 1): 20, ('bergkamp', 1): 4, ('give', 1): 23, ('margin', 1): 4, ('78', 1): 4, ('dear', 1): 53, ('0776xxxxxxx', 1): 7, ('uve', 1): 19, ('invit', 1): 38, ('xchat', 1): 15, ('attempt', 1): 87, ('msgrcvdhg', 1): 14, ('18yr', 1): 10, ('32000', 1): 2, ('mayb', 1): 4, ('even', 1): 28, ('legitimat', 1): 2, ('efreefon', 1): 2, ('wat', 1): 2, ('think', 1): 51, ('realiz', 1): 3, ('40', 1): 6, ('thousand', 1): 3, ('old', 1): 5, ('ladi', 1): 14, ('run', 1): 3, ('around', 1): 10, ('tattoo', 1): 3, ('great', 1): 43, ('2stoptxt', 1): 15, ('08712103738', 1): 7, ('heard', 1): 14, ('u4', 1): 14, ('rude', 1): 14, ('01223585334', 1): 12, ('cum', 1): 23, ('wan', 1): 12, ('2c', 1): 12, ('gettin', 1): 12, ('shag', 1): 14, ('8552', 1): 24, ('2end', 1): 12, ('sam', 1): 15, ('sunshin', 1): 24, ('quiz', 1): 50, ('wkli', 1): 58, ('q', 1): 11, ('countri', 1): 11, ('algarv', 1): 8, ('ansr', 1): 11, ('82277', 1): 21, ('sptyron', 1): 11, ('\\\\stop', 1): 6, ('mix\\\\', 1): 6, ('see', 1): 76, ('enjoy', 1): 57, ('html', 1): 6, ('gbp4', 1): 6, ('mfl', 1): 6, ('07xxxxxxxxx', 1): 15, ('02', 1): 28, ('06', 1): 33, ('reach', 1): 19, ('09066362231', 1): 16, ('asap', 1): 22, ('box97n7qp', 1): 11, ('449071512431', 1): 5, ('å£1250', 1): 10, ('09071512433', 1): 10, ('050703', 1): 10, ('t&csbcm4235wc1n3xx', 1): 10, ('callcost', 1): 10, ('mobilesvari', 1): 10, ('maxå£7', 1): 11, ('09066649731from', 1): 4, ('ibiza', 1): 15, ('å£10', 1): 37, ('434', 1): 21, ('sk3', 1): 11, ('8wp', 1): 11, ('logo', 1): 31, ('lover', 1): 8, ('join', 1): 86, ('heart', 1): 13, ('name1', 1): 8, ('name2', 1): 8, ('mobno', 1): 8, ('eg', 1): 37, ('adam', 1): 8, ('eve', 1): 19, ('07123456789', 1): 8, ('yahoo', 1): 8, ('txtno', 1): 8, ('ad', 1): 12, ('matthew', 1): 5, ('09063440451', 1): 5, ('4*lux', 1): 5, ('ppm150', 1): 5, ('box334', 1): 5, ('link', 1): 21, ('pictur', 1): 3, ('alto18', 1): 3, ('wave', 1): 6, ('asp', 1): 5, ('o44345', 1): 3, ('spjanuari', 1): 2, ('male', 1): 13, ('sale', 1): 17, ('gay', 1): 20, ('cheaper', 1): 7, ('08709222922', 1): 7, ('cheap', 1): 17, ('8p', 1): 7, ('peak', 1): 7, ('08712460324', 1): 25, ('uniqu', 1): 13, ('id', 1): 13, ('1172', 1): 7, ('87239', 1): 24, ('08708034412', 1): 14, ('pobox84', 1): 27, ('m263uz', 1): 16, ('08712101358', 1): 11, ('cashto', 1): 13, ('08000407165', 1): 13, ('getstop', 1): 13, ('88222', 1): 13, ('php', 1): 13, ('rg21', 1): 6, ('4jx', 1): 6, ('2night', 1): 3, ('night', 1): 27, ('wildest', 1): 3, ('luci', 1): 8, ('hubbi', 1): 6, ('meetin', 1): 4, ('fri', 1): 8, ('b', 1): 56, ('fanci', 1): 45, ('cumin', 1): 4, ('leav', 1): 6, ('2day', 1): 15, ('09099726395', 1): 4, ('callså£1', 1): 16, ('minmobsmorelkpobox177hp51fl', 1): 11, ('ou', 1): 6, ('83355', 1): 21, ('ibhltd', 1): 15, ('ldnw15h', 1): 15, ('mtmsgrcvd18', 1): 21, ('eeri', 1): 24, ('4u', 1): 18, ('titl', 1): 26, ('dracula', 1): 11, ('ghost', 1): 11, ('addamsfa', 1): 11, ('munster', 1): 11, ('exorcist', 1): 11, ('twilight', 1): 11, ('xclusiveclubsaisai', 1): 5, ('2morow', 1): 5, ('28', 1): 21, ('soire', 1): 5, ('zouk', 1): 5, ('nichol', 1): 5, ('rose', 1): 5, ('07946746291', 1): 5, ('07880867867', 1): 5, ('decemb', 1): 29, ('11mth', 1): 52, ('entitl', 1): 43, ('updat', 1): 119, ('vco', 1): 6, ('08002986906', 1): 25, ('citi', 1): 14, ('break', 1): 23, ('summer', 1): 54, ('tscs087147403231winawk', 1): 14, ('age16å£1', 1): 3, ('50perwksub', 1): 14, ('notifi', 1): 5, ('luck', 1): 29, ('futur', 1): 9, ('market', 1): 5, ('84122', 1): 5, ('08450542832', 1): 5, ('2000', 1): 6, ('08712402050', 1): 8, ('close', 1): 17, ('10ppm', 1): 8, ('ag', 1): 8, ('promo', 1): 8, ('text82228', 1): 7, ('txt82228', 1): 7, ('infotxt82228', 1): 7, ('place', 1): 27, ('town', 1): 13, ('meet', 1): 27, ('adult', 1): 15, ('singl', 1): 26, ('loyalti', 1): 24, ('offerth', 1): 7, ('nokia6650', 1): 7, ('txtauction', 1): 23, ('81151', 1): 7, ('4t&ctxt', 1): 7, ('mtmsg', 1): 7, ('polyphon', 1): 17, ('normal', 1): 8, ('gpr', 1): 8, ('tm', 1): 8, ('widel', 1): 8, ('index', 1): 8, ('wml', 1): 8, ('id1b6a5ecef91ff9*37819&firsttrue180430', 1): 5, ('jul', 1): 5, ('05', 1): 30, ('114', 1): 13, ('14', 1): 13, ('tcr', 1): 13, ('w1', 1): 22, ('wan2', 1): 10, ('meetgreet', 1): 10, ('westlif', 1): 10, ('tour', 1): 13, ('1unbreak', 1): 10, ('2untam', 1): 10, ('3unkempt', 1): 10, ('83049', 1): 10, ('std', 1): 38, ('choos', 1): 37, ('qualiti', 1): 4, ('secret', 1): 35, ('admir', 1): 35, ('reveal', 1): 36, ('09065174042', 1): 9, ('opt', 1): 66, ('recd', 1): 12, ('cust', 1): 17, ('care', 1): 32, ('07821230901', 1): 9, ('receipt', 1): 21, ('correct', 1): 25, ('elvi', 1): 5, ('presley', 1): 5, ('birthday', 1): 5, ('answer', 1): 29, ('80062', 1): 25, ('profession', 1): 2, ('sport', 1): 31, ('tiger', 1): 2, ('wood', 1): 2, ('guess', 1): 20, ('somebodi', 1): 8, ('secretli', 1): 8, ('09065394514', 1): 4, ('datebox1282essexcm61xn', 1): 8, ('natalja', 1): 5, ('f', 1): 63, ('440', 1): 10, ('nat27081980', 1): 5, ('frnd', 1): 23, ('62468', 1): 23, ('rgent', 1): 5, ('holder', 1): 21, ('e', 1): 65, ('tlp', 1): 12, ('expressoff', 1): 4, ('ts&c', 1): 53, ('proze', 1): 6, ('norcorp', 1): 6, ('sptv', 1): 8, ('jersey', 1): 4, ('devil', 1): 4, ('detroit', 1): 4, ('red', 1): 8, ('wing', 1): 4, ('ice', 1): 4, ('hockey', 1): 4, ('incorrect', 1): 4, ('buy', 1): 24, ('space', 1): 13, ('invad', 1): 13, ('orig', 1): 13, ('arcad', 1): 34, ('consol', 1): 13, ('press', 1): 17, ('0', 1): 20, ('o2', 1): 33, ('set', 1): 23, ('purchas', 1): 17, ('polic', 1): 8, ('station', 1): 8, ('toilet', 1): 8, ('stolen', 1): 8, ('cop', 1): 8, ('noth', 1): 21, ('dorothykief', 1): 4, ('bank', 1): 8, ('granit', 1): 8, ('issu', 1): 8, ('strong', 1): 11, ('explos', 1): 8, ('*****up', 1): 8, ('300%', 1): 8, ('***********', 1): 11, ('nasdaq', 1): 8, ('symbol', 1): 8, ('cdgt', 1): 8, ('$5', 1): 8, ('unclaim', 1): 3, ('09066368327', 1): 3, ('closingdate04', 1): 3, ('09', 1): 7, ('claimcod', 1): 3, ('m39m51', 1): 3, ('50pmmorefrommobile2bremov', 1): 3, ('mobypobox734ls27yf', 1): 3, ('suppli', 1): 13, ('cd', 1): 75, ('choic', 1): 8, ('ldew', 1): 48, ('subs161win150ppmx3', 1): 7, ('free2day', 1): 13, ('st', 1): 13, ('georg', 1): 13, ('89080', 1): 13, ('sauci', 1): 15, ('celeb', 1): 17, ('pocketbab', 1): 17, ('0870241182716', 1): 13, ('biz', 1): 25, ('interest', 1): 2, ('sextextuk', 1): 2, ('xxuk', 1): 2, ('suzi', 1): 2, ('69876', 1): 2, ('tnc', 1): 45, ('websit', 1): 2, ('laid', 1): 22, ('dog', 1): 56, ('largest', 1): 22, ('gravel', 1): 7, ('69888', 1): 10, ('nt', 1): 7, ('ec2a', 1): 25, ('31p', 1): 13, ('msg150p', 1): 25, ('r*reveal', 1): 26, ('09065171142', 1): 5, ('stopsm', 1): 5, ('08718727870150ppm', 1): 5, ('youv', 1): 13, ('tkt', 1): 8, ('cup', 1): 16, ('å£800', 1): 29, ('09058099801', 1): 5, ('b4190604', 1): 5, ('7876150ppm', 1): 5, ('\\\\divorc', 1): 5, ('barbie\\\\', 1): 5, ('come', 1): 18, ('ken', 1): 5, ('stuff', 1): 5, ('spook', 1): 21, ('halloween', 1): 13, ('plu', 1): 36, ('card', 1): 16, ('08701417012150p', 1): 8, ('3qxj9', 1): 13, ('08702840625', 1): 13, ('220', 1): 10, ('cm2', 1): 10, ('9ae', 1): 13, ('themobhit', 1): 3, ('premium', 1): 5, ('pink', 1): 3, ('panther', 1): 3, ('sugabab', 1): 3, ('crazi', 1): 18, ('zebra', 1): 3, ('anim', 1): 3, ('badass', 1): 3, ('hoodi', 1): 3, ('wallpap', 1): 12, ('125gift', 1): 21, ('entri', 1): 102, ('babi', 1): 6, ('wow', 1): 7, ('got', 1): 31, ('cam', 1): 9, ('mobi', 1): 16, ('w8in', 1): 4, ('4utxt', 1): 4, ('82242', 1): 14, ('hlp', 1): 9, ('08712317606', 1): 9, ('2rcv', 1): 9, ('fantasi', 1): 39, ('footbal', 1): 8, ('tv', 1): 38, ('sky', 1): 24, ('gamestar', 1): 8, ('å£250k', 1): 8, ('dream', 1): 12, ('team', 1): 12, ('saturday', 1): 25, ('regist', 1): 29, ('88088', 1): 8, ('150', 1): 35, ('five', 1): 16, ('08000776320', 1): 13, ('either', 1): 50, ('com1win150ppmx3age16', 1): 23, ('tarot', 1): 4, ('life', 1): 8, ('85555', 1): 4, ('germani', 1): 13, ('penc', 1): 12, ('fix', 1): 9, ('via', 1): 12, ('access', 1): 29, ('0844', 1): 9, ('861', 1): 9, ('85', 1): 18, ('prepay', 1): 9, ('telediscount', 1): 6, ('mini', 1): 5, ('snap', 1): 5, ('quizclub', 1): 5, ('80122300p', 1): 5, ('sprwm', 1): 5, ('ph08704050406', 1): 5, ('freemsgfeelin', 1): 5, ('kinda', 1): 5, ('lnli', 1): 5, ('hope', 1): 16, ('compani', 1): 9, ('jst', 1): 5, ('å£750', 1): 6, ('087187272008', 1): 6, ('now1', 1): 6, ('cock', 1): 2, ('away', 1): 9, ('man', 1): 6, ('wife', 1): 2, ('89938', 1): 2, ('string', 1): 2, ('rec', 1): 2, ('50ea', 1): 2, ('otbox', 1): 2, ('731', 1): 2, ('la1', 1): 2, ('7w', 1): 2, ('refer', 1): 15, ('x49', 1): 8, ('arriv', 1): 33, ('09065989182', 1): 8, ('rayman', 1): 4, ('golf', 1): 4, ('save', 1): 15, ('activ8', 1): 4, ('key', 1): 4, ('termsappli', 1): 4, ('09061701851', 1): 4, ('k61', 1): 4, ('12hour', 1): 4, ('explicit', 1): 4, ('sex', 1): 33, ('30', 1): 6, ('sec', 1): 4, ('02073162414', 1): 4, ('20p', 1): 31, ('09050000460', 1): 3, ('j89', 1): 3, ('box245c2150pm', 1): 3, ('vote', 1): 6, ('sing', 1): 12, ('along', 1): 6, ('star', 1): 14, ('karaok', 1): 6, ('4mth', 1): 17, ('half', 1): 60, ('rental', 1): 55, ('mobilesdirect', 1): 17, ('08000938767', 1): 17, ('or2stoptxt', 1): 17, ('applausestor', 1): 6, ('monthlysubscription50p', 1): 6, ('max6', 1): 6, ('t&csc', 1): 6, ('web', 1): 7, ('2stop', 1): 12, ('2p', 1): 8, ('08448350055', 1): 4, ('check', 1): 10, ('planettalkinst', 1): 4, ('ts', 1): 11, ('bahama', 1): 14, ('callfreefon', 1): 7, ('08081560665', 1): 7, ('cruis', 1): 7, ('ofå£2000', 1): 7, ('18onli', 1): 9, ('07786200117', 1): 7, ('449050000301', 1): 2, ('09050000301', 1): 2, ('123', 1): 16, ('competit', 1): 14, ('09050002311', 1): 10, ('b4280703', 1): 10, ('08718727868', 1): 10, ('09050001808', 1): 8, ('m95', 1): 8, ('valid12hr', 1): 8, ('lookin', 1): 2, ('daytim', 1): 2, ('fun', 1): 30, ('wiv', 1): 4, ('busti', 1): 2, ('woman', 1): 2, ('next', 1): 62, ('sort', 1): 2, ('09099726429', 1): 2, ('janinexx', 1): 2, ('12mth', 1): 11, ('400min', 1): 4, ('call2optoutj5q', 1): 4, ('nearli', 1): 3, ('ban', 1): 3, ('2006', 1): 8, ('fifa', 1): 8, ('world', 1): 13, ('held', 1): 8, ('86888', 1): 10, ('subscribe6gbp', 1): 10, ('mnth', 1): 16, ('3hr', 1): 10, ('txtstop', 1): 10, ('gamb', 1): 7, ('7250i', 1): 19, ('auction', 1): 62, ('take', 1): 91, ('part', 1): 54, ('86021', 1): 28, ('w1jhl', 1): 19, ('marvel', 1): 4, ('ultim', 1): 4, ('spider', 1): 8, ('å£4', 1): 23, ('right', 1): 20, ('83338', 1): 4, ('8ball', 1): 4, ('08718738002', 1): 3, ('48922', 1): 3, ('simpson', 1): 4, ('movi', 1): 7, ('releas', 1): 4, ('juli', 1): 5, ('2007', 1): 7, ('band', 1): 4, ('die', 1): 4, ('green', 1): 4, ('blue', 1): 4, ('amanda', 1): 4, ('regard', 1): 4, ('renew', 1): 9, ('upgrad', 1): 12, ('tel', 1): 4, ('021', 1): 7, ('3680', 1): 7, ('subject', 1): 4, ('hungri', 1): 10, ('08718730555', 1): 5, ('floppi', 1): 3, ('snappi', 1): 3, ('happi', 1): 3, ('photo', 1): 6, ('upload', 1): 3, ('08718730666', 1): 3, ('money', 1): 15, ('88600', 1): 11, ('å£1million', 1): 4, ('ppt150x3normal', 1): 4, ('box403', 1): 4, ('w1t1ji', 1): 4, ('cc100p', 1): 3, ('85222', 1): 3, ('winnersclub', 1): 3, ('84', 1): 3, ('m26', 1): 14, ('3uz', 1): 14, ('gbp1', 1): 3, ('x29', 1): 6, ('09065989180', 1): 6, ('ton', 1): 3, ('hunk', 1): 3, ('straight', 1): 5, ('gotbab', 1): 3, ('09066350750', 1): 7, ('ppm', 1): 14, ('repres', 1): 41, ('08714712412', 1): 3, ('10am', 1): 27, ('survey', 1): 5, ('yesterday', 1): 16, ('howev', 1): 5, ('wish', 1): 10, ('80160', 1): 5, ('txt43', 1): 5, ('09061213237', 1): 10, ('luxuri', 1): 5, ('canari', 1): 5, ('island', 1): 5, ('177', 1): 10, ('m227xi', 1): 10, ('textpod', 1): 16, ('å£250', 1): 46, ('pod', 1): 15, ('84128', 1): 16, ('custcar', 1): 31, ('08712405020', 1): 19, ('email', 1): 12, ('alertfrom', 1): 6, ('jeri', 1): 6, ('stewarts', 1): 6, ('2kbsubject', 1): 6, ('low', 1): 6, ('prescripiton', 1): 6, ('drvgsto', 1): 6, ('listen', 1): 22, ('virgin', 1): 7, ('record', 1): 18, ('mysteri', 1): 6, ('09061104283', 1): 6, ('smsco', 1): 7, ('50pm', 1): 6, ('approx', 1): 6, ('3min', 1): 17, ('simpli', 1): 13, ('\\\\mix\\\\', 1): 9, ('85069', 1): 9, ('verifi', 1): 13, ('usher', 1): 9, ('britney', 1): 9, ('fml', 1): 9, ('08708800282', 1): 5, ('\\\\for', 1): 6, ('sparkl', 1): 6, ('45', 1): 6, ('person', 1): 18, ('0121', 1): 6, ('2025050', 1): 6, ('shortbreak', 1): 6, ('org', 1): 6, ('uk\\\\', 1): 6, ('å£600', 1): 7, ('landmark', 1): 7, ('big', 1): 10, ('bob', 1): 7, ('barri', 1): 7, ('ben', 1): 7, ('83738', 1): 7, ('help08714742804', 1): 9, ('0871277810910p', 1): 3, ('pdate_now', 1): 5, ('yhl', 1): 5, ('comp', 1): 33, ('textcomp', 1): 12, ('horniest', 1): 3, ('2nite', 1): 12, ('sign', 1): 7, ('instruct', 1): 5, ('nyt', 1): 12, ('3lp', 1): 12, ('09050001295', 1): 5, ('a21', 1): 5, ('8000930705', 1): 7, ('someon', 1): 41, ('09050000928', 1): 3, ('pobox45w2tg150p', 1): 6, ('&c', 1): 6, ('09061743386', 1): 8, ('88066', 1): 19, ('lost', 1): 12, ('3pound', 1): 7, ('brought', 1): 10, ('gmw', 1): 6, ('connect', 1): 23, ('wine', 1): 3, ('946', 1): 3, ('wot', 1): 3, ('jsco', 1): 6, ('energi', 1): 15, ('high', 1): 10, ('may', 1): 15, ('2channel', 1): 3, ('leadership', 1): 3, ('skill', 1): 3, ('psychic', 1): 3, ('w', 1): 10, ('09096102316', 1): 6, ('2moro', 1): 6, ('luv', 1): 20, ('jane', 1): 6, ('xx', 1): 12, ('minmoremobsemspobox45po139wa', 1): 8, ('voda', 1): 13, ('7548', 1): 2, ('$350', 1): 2, ('08712300220', 1): 17, ('quot', 1): 17, ('4041', 1): 2, ('standard', 1): 17, ('app', 1): 10, ('mth', 1): 25, ('å£', 1): 7, ('callback', 1): 13, ('orno', 1): 7, ('fastest', 1): 15, ('grow', 1): 15, ('83021', 1): 9, ('447801259231', 1): 8, ('09058094597', 1): 8, ('sppok', 1): 5, ('logo&p', 1): 5, ('anoth', 1): 8, ('polo', 1): 8, ('suit', 1): 8, ('373', 1): 8, ('london', 1): 16, ('w1j', 1): 8, ('6hl', 1): 8, ('busi', 1): 8, ('09090900040', 1): 8, ('extrem', 1): 8, ('dirti', 1): 8, ('offic', 1): 8, ('total', 1): 16, ('privaci', 1): 8, ('[sic]', 1): 8, ('60p', 1): 28, ('24', 1): 20, ('7mp', 1): 8, ('0870753331018', 1): 8, ('ave', 1): 13, ('0871277810710p', 1): 4, ('jamster', 1): 22, ('frog', 1): 12, ('sound', 1): 6, ('mad1', 1): 3, ('mad2', 1): 3, ('88888', 1): 8, ('gbp', 1): 6, ('16onli', 1): 10, ('4qf2', 1): 7, ('shsex', 1): 3, ('netun', 1): 3, ('fgkslpopw', 1): 3, ('fgkslpo', 1): 3, ('fall', 1): 5, ('vip', 1): 12, ('83110', 1): 5, ('tddnewsletteremc1', 1): 6, ('thedailydraw', 1): 6, ('helen', 1): 6, ('dozen', 1): 6, ('prizeswith', 1): 6, ('fink', 1): 2, ('met', 1): 2, ('09099726553', 1): 2, ('promis', 1): 2, ('carli', 1): 2, ('minmobsmor', 1): 2, ('lkpobox177hp51fl', 1): 2, ('08719181513', 1): 4, ('wrc', 1): 24, ('ralli', 1): 24, ('oz', 1): 12, ('lucozad', 1): 24, ('le', 1): 12, ('61200', 1): 12, ('pack', 1): 12, ('itcould', 1): 12, ('u\\x89ûªv', 1): 5, ('bin', 1): 5, ('å£50', 1): 10, ('instant', 1): 5, ('08715203028', 1): 5, ('9th', 1): 5, ('08718727870', 1): 15, ('iscom', 1): 14, ('com1win150ppmx3age16subscript', 1): 8, ('09061743810', 1): 5, ('5000', 1): 11, ('age', 1): 36, ('gender', 1): 13, ('begin', 1): 8, ('g', 1): 33, ('24m', 1): 8, ('interflora', 1): 12, ('åòit', 1): 6, ('late', 1): 6, ('flower', 1): 21, ('christma', 1): 6, ('505060', 1): 6, ('midnight', 1): 6, ('tb', 1): 7, ('chg', 1): 5, ('rcv', 1): 7, ('thesmszon', 1): 3, ('anonym', 1): 3, ('mask', 1): 3, ('potenti', 1): 3, ('abus', 1): 3, ('partner', 1): 13, ('trip', 1): 11, ('lifetim', 1): 7, ('83600', 1): 16, ('custcare08718720201', 1): 7, ('chosen', 1): 20, ('09066364311', 1): 14, ('girl', 1): 40, ('bloke', 1): 4, ('zoe', 1): 4, ('block', 1): 3, ('breaker', 1): 3, ('delux', 1): 3, ('format', 1): 3, ('featur', 1): 3, ('graphic', 1): 3, ('bbdelux', 1): 3, ('challeng', 1): 3, ('61610', 1): 9, ('help08712400602450p', 1): 9, ('provid', 1): 12, ('tones2y', 1): 9, ('touch', 1): 2, ('folk', 1): 2, ('commun', 1): 4, ('08718723815', 1): 5, ('unsub', 1): 20, ('0089mi', 1): 3, ('four', 1): 3, ('09063442151', 1): 3, ('santa', 1): 14, ('littl', 1): 9, ('09058094583', 1): 5, ('book', 1): 30, ('contract', 1): 17, ('09066361921', 1): 6, ('garden', 1): 11, ('readi', 1): 28, ('bulb', 1): 11, ('seed', 1): 11, ('å£3350', 1): 11, ('scotsman', 1): 11, ('go2', 1): 11, ('notxt', 1): 11, ('cmon', 1): 1, ('*turn*', 1): 1, ('sticki', 1): 1, ('08002986030', 1): 15, ('headset', 1): 4, ('\\\\adp\\\\', 1): 4, ('upd8', 1): 10, ('freefon', 1): 15, ('2stoptx', 1): 5, ('448712404000pleas', 1): 2, ('08712404000', 1): 2, ('immedi', 1): 12, ('08707509020', 1): 26, ('ntt', 1): 35, ('1327', 1): 27, ('croydon', 1): 27, ('cr9', 1): 27, ('5wb', 1): 27, ('0870', 1): 31, ('k', 1): 12, ('park', 1): 2, ('69696', 1): 9, ('20', 1): 25, ('08452810071', 1): 6, ('indic', 1): 3, ('3750', 1): 1, ('accid', 1): 3, ('romcapspam', 1): 7, ('everyon', 1): 12, ('presenc', 1): 7, ('sinc', 1): 11, ('warm', 1): 10, ('outgo', 1): 7, ('breath', 1): 7, ('bx420', 1): 20, ('cool', 1): 17, ('download', 1): 23, ('includ', 1): 11, ('axel', 1): 9, ('akon', 1): 9, ('black', 1): 9, ('hmv', 1): 40, ('genuin', 1): 13, ('infowww', 1): 13, ('100percent', 1): 13, ('74355', 1): 6, ('nok', 1): 10, ('87021', 1): 15, ('txtin', 1): 15, ('hl', 1): 22, ('4info', 1): 15, ('id820554ad0a1705572711&firsttrueåác', 1): 3, ('ringtoneåá', 1): 3, ('6month', 1): 7, ('avail', 1): 8, ('n9dx', 1): 7, ('dartboard', 1): 6, ('trebl', 1): 6, ('promot', 1): 7, ('8714714', 1): 7, ('ask', 1): 22, ('shi', 1): 7, ('09058091870', 1): 7, ('83370', 1): 5, ('trivia', 1): 5, ('08715705022', 1): 16, ('1x150p', 1): 16, ('pt2', 1): 5, ('87575', 1): 12, ('oh', 1): 2, ('god', 1): 2, ('ive', 1): 2, ('found', 1): 2, ('glad', 1): 2, ('xafter', 1): 2, ('cst', 1): 2, ('ntwk', 1): 8, ('09061790126', 1): 2, ('twink', 1): 2, ('bear', 1): 2, ('scalli', 1): 2, ('skin', 1): 2, ('jock', 1): 2, ('08712466669', 1): 2, ('08712460324nat', 1): 2, ('membership', 1): 6, ('jackpot', 1): 6, ('81010', 1): 6, ('dbuk', 1): 6, ('lccltd', 1): 6, ('4403ldnw1a7rw18', 1): 6, ('08702490080', 1): 7, ('09066358152', 1): 12, ('detail', 1): 33, ('prompt', 1): 12, ('0a$network', 1): 2, ('allow', 1): 2, ('bill', 1): 21, ('\\\\suppliers\\\\', 1): 2, ('09061221066', 1): 14, ('fromm', 1): 14, ('wild', 1): 6, ('ill', 1): 6, ('hurri', 1): 6, ('work', 1): 13, ('stop2stop', 1): 6, ('08006344447', 1): 5, ('ticket', 1): 8, ('blu', 1): 2, ('concert', 1): 1, ('novemb', 1): 1, ('09061104276', 1): 1, ('costå£3', 1): 1, ('75max', 1): 1, ('stay', 1): 11, ('250', 1): 21, ('british', 1): 9, ('dial', 1): 4, ('bx526', 1): 4, ('sw73ss', 1): 9, ('freemsgfav', 1): 3, ('upto', 1): 11, ('2price', 1): 7, ('mins&100txt', 1): 7, ('btooth*', 1): 7, ('08001950382', 1): 13, ('2optout', 1): 23, ('d3wv', 1): 7, ('08717895698', 1): 6, ('mobstorequiz10ppm', 1): 6, ('olymp', 1): 6, ('lord', 1): 5, ('ringsreturn', 1): 5, ('king', 1): 19, ('lotr', 1): 10, ('june', 1): 5, ('soundtrack', 1): 5, ('stdtxtrate', 1): 5, ('must', 1): 19, ('89545', 1): 11, ('087187262701', 1): 11, ('50gbp', 1): 11, ('mtmsg18', 1): 11, ('08715203685', 1): 4, ('code4xx26', 1): 4, ('13', 1): 5, ('50%', 1): 4, ('9061100010', 1): 4, ('wire3', 1): 4, ('1st4term', 1): 4, ('mobcudb', 1): 4, ('natali', 1): 5, ('165', 1): 10, ('natalie2k9', 1): 5, ('wed', 1): 6, ('lingeri', 1): 4, ('bridal', 1): 4, ('petticoatdream', 1): 4, ('superb', 1): 4, ('weddingfriend', 1): 4, ('09071517866', 1): 3, ('150ppmpobox10183bhamb64x', 1): 3, ('09061701939', 1): 2, ('s89', 1): 2, ('pub', 1): 7, ('street', 1): 7, ('duchess', 1): 7, ('cornwal', 1): 7, ('008704050406', 1): 7, ('sp', 1): 10, ('arrow', 1): 2, ('09066612661', 1): 8, ('20m12aq', 1): 1, ('\\x89ûï', 1): 1, ('146tf150p', 1): 5, ('persolvo', 1): 4, ('chase', 1): 4, ('sept', 1): 12, ('forå£38', 1): 4, ('definit', 1): 4, ('pay', 1): 7, ('ignor', 1): 4, ('kath', 1): 4, ('manchest', 1): 4, ('07734396839', 1): 9, ('ibh', 1): 9, ('nokia6600', 1): 9, ('wordstart', 1): 9, ('no81151', 1): 9, ('4t&', 1): 9, ('recpt', 1): 1, ('process', 1): 1, ('win150ppmx3age16', 1): 6, ('08712402779', 1): 2, ('datingi', 1): 7, ('two', 1): 7, ('radio', 1): 7, ('coincid', 1): 7, ('08712402902', 1): 3, ('mila', 1): 7, ('age23', 1): 7, ('blond', 1): 7, ('mtalk', 1): 7, ('69866', 1): 7, ('30pp', 1): 7, ('5free', 1): 7, ('increment', 1): 7, ('help08718728876', 1): 7, ('cross', 1): 6, ('674&', 1): 4, ('burger', 1): 10, ('footi', 1): 5, ('stadium', 1): 5, ('larg', 1): 5, ('super', 1): 9, ('coca', 1): 5, ('cola', 1): 5, ('walk', 1): 5, ('themobyo', 1): 4, ('yo', 1): 8, ('open', 1): 4, ('0906346330', 1): 4, ('spanish', 1): 7, ('47', 1): 4, ('po19', 1): 4, ('2ez', 1): 4, ('09050000332', 1): 3, ('rstm', 1): 8, ('sw7', 1): 8, ('3ss', 1): 8, ('09064017295', 1): 6, ('mandi', 1): 6, ('sullivan', 1): 6, ('hotmix', 1): 6, ('fm', 1): 6, ('easter', 1): 6, ('telephon', 1): 6, ('09041940223', 1): 6, ('29', 1): 13, ('transfer', 1): 6, ('els', 1): 6, ('recdthirtyeight', 1): 3, ('nasti', 1): 2, ('thing', 1): 6, ('filthyguy', 1): 2, ('bitch', 1): 2, ('slo', 1): 2, ('hard', 1): 12, ('slo4msg', 1): 2, ('08714712388', 1): 6, ('169', 1): 7, ('6031', 1): 7, ('9pm', 1): 7, ('sang', 1): 2, ('uptown', 1): 2, ('80', 1): 2, ('sat', 1): 10, ('80608', 1): 5, ('movietrivia', 1): 5, ('08712405022', 1): 5, ('80182', 1): 10, ('08452810073', 1): 10, ('gr8prize', 1): 10, ('8800', 1): 5, ('psp', 1): 5, ('80878', 1): 11, ('secur', 1): 3, ('unsecur', 1): 3, ('cant', 1): 14, ('195', 1): 3, ('6669', 1): 3, ('subpoli', 1): 10, ('81618', 1): 10, ('brand', 1): 18, ('7250', 1): 9, ('shortli', 1): 12, ('instal', 1): 4, ('brows', 1): 4, ('artist', 1): 4, ('08718738001', 1): 9, ('49557', 1): 6, ('lyricalladie21', 1): 4, ('910', 1): 8, ('hmmross', 1): 4, ('enough', 1): 12, ('30th', 1): 6, ('august', 1): 10, ('areyouuniqu', 1): 6, ('08002888812', 1): 5, ('forget', 1): 7, ('mani', 1): 10, ('1stchoic', 1): 5, ('08707808226', 1): 5, ('youll', 1): 4, ('svc', 1): 4, ('hardcor', 1): 8, ('69988', 1): 4, ('09061702893', 1): 11, ('acl03530150pm', 1): 6, ('benefit', 1): 1, ('train', 1): 1, ('advisor', 1): 1, ('diall', 1): 1, ('402', 1): 1, ('chang', 1): 5, ('club4mobil', 1): 5, ('87070', 1): 5, ('club4', 1): 5, ('box1146', 1): 5, ('mk45', 1): 5, ('2wt', 1): 5, ('six', 1): 8, ('csh11', 1): 7, ('6day', 1): 7, ('tsandc', 1): 7, ('08719181259', 1): 5, ('xxxxx', 1): 5, ('09058094454', 1): 2, ('newest', 1): 8, ('\\x89ûïharri', 1): 5, ('potter', 1): 7, ('phoenix', 1): 7, ('harri', 1): 7, ('among', 1): 7, ('reader', 1): 7, ('077xxx', 1): 4, ('09066362206', 1): 4, ('08718726971', 1): 4, ('amaz', 1): 10, ('picsfree1', 1): 12, ('vid', 1): 6, ('keyword', 1): 6, ('fa', 1): 6, ('21st', 1): 3, ('2005', 1): 7, ('87121', 1): 7, ('questionstd', 1): 3, ('ratet&c', 1): 3, ('08452810075over18', 1): 3, ('okmail', 1): 1, ('dave', 1): 4, ('notic', 1): 9, ('09061743806', 1): 4, ('box326', 1): 4, ('subsequ', 1): 7, ('charged150p', 1): 7, ('moan', 1): 6, ('69888nyt', 1): 6, ('creat', 1): 1, ('page', 1): 1, ('asjesu', 1): 1, ('read', 1): 1, ('wrote', 1): 1, ('opinion', 1): 1, ('posh', 1): 3, ('bird', 1): 3, ('chap', 1): 3, ('trial', 1): 3, ('prod', 1): 3, ('champney', 1): 3, ('put', 1): 3, ('dob', 1): 3, ('ta', 1): 3, ('eastend', 1): 15, ('dot', 1): 15, ('compar', 1): 15, ('violet', 1): 15, ('tulip', 1): 15, ('lili', 1): 15, ('84025', 1): 20, ('wkent', 1): 15, ('150p16', 1): 15, ('sim', 1): 6, ('28thfeb', 1): 3, ('ref', 1): 15, ('r836', 1): 10, ('09065069154', 1): 10, ('***************', 1): 2, ('09066368753', 1): 2, ('97n7qp', 1): 2, ('6230', 1): 9, ('83383', 1): 10, ('pobox114', 1): 9, ('14tcr', 1): 9, ('08715500022', 1): 4, ('rpl', 1): 4, ('cnl', 1): 4, ('08712400200', 1): 1, ('optin', 1): 10, ('what', 1): 10, ('bbc', 1): 10, ('078498****7', 1): 7, ('08719180219', 1): 7, ('gsoh', 1): 6, ('spam', 1): 6, ('gigolo', 1): 6, ('oncal', 1): 6, ('mjzgroup', 1): 6, ('08714342399', 1): 6, ('msgå£1', 1): 6, ('50rcvd', 1): 6, ('08719839835', 1): 2, ('mg', 1): 2, ('\\\\go', 1): 2, ('stop\\\\', 1): 2, ('89123', 1): 2, ('etc', 1): 15, ('08', 1): 5, ('0871', 1): 9, ('4719', 1): 5, ('523', 1): 5, ('box95qu', 1): 9, ('09061744553', 1): 6, ('polyh', 1): 6, ('150pm', 1): 12, ('27', 1): 16, ('08714714011', 1): 11, ('08714712379', 1): 4, ('09058094599', 1): 6, ('å£125', 1): 5, ('freeentri', 1): 5, ('xt', 1): 5, ('phoni', 1): 5, ('xxxx', 1): 5, ('3100', 1): 5, ('chloe', 1): 3, ('smash', 1): 3, ('07815296484', 1): 3, ('41782', 1): 3, ('7634', 1): 3, ('7684', 1): 3, ('monoc', 1): 3, ('polyc', 1): 3, ('stream', 1): 3, ('0871212025016', 1): 3, ('w4', 1): 6, ('5wq', 1): 6, ('norm', 1): 12, ('087018728737', 1): 3, ('toppoli', 1): 3, ('tune', 1): 3, ('pole', 1): 3, ('88800', 1): 2, ('89034', 1): 2, ('08718711108', 1): 2, ('bootydeli', 1): 10, ('32', 1): 5, ('agent', 1): 5, ('load', 1): 5, ('goodi', 1): 5, ('mat', 1): 5, ('season', 1): 1, ('2wk', 1): 1, ('villa', 1): 1, ('02072069400', 1): 5, ('bx', 1): 5, ('526', 1): 5, ('class', 1): 8, ('airport', 1): 4, ('loung', 1): 4, ('08704439680', 1): 4, ('t91', 1): 1, ('09057039994', 1): 1, ('kit', 1): 5, ('strip', 1): 5, ('1013', 1): 5, ('ig11', 1): 5, ('oja', 1): 5, ('housew', 1): 8, ('0871750', 1): 8, ('77', 1): 8, ('3650', 1): 9, ('09066382422', 1): 9, ('vari', 1): 20, ('300603', 1): 9, ('bcm4284', 1): 9, ('09058094565', 1): 10, ('boltblu', 1): 4, ('poly3', 1): 4, ('cha', 1): 8, ('slide', 1): 4, ('yeah', 1): 4, ('slow', 1): 4, ('jamz', 1): 4, ('toxic', 1): 4, ('8', 1): 4, ('09111032124', 1): 4, ('pobox12n146tf150p', 1): 4, ('80086', 1): 7, ('txttowin', 1): 7, ('tooth', 1): 1, ('or2optout', 1): 1, ('hv9d', 1): 1, ('till', 1): 9, ('drop', 1): 5, ('10k', 1): 8, ('5k', 1): 5, ('travel', 1): 5, ('09064011000', 1): 5, ('cr01327bt', 1): 5, ('fixedlin', 1): 5, ('31', 1): 9, ('88877free', 1): 1, ('88877', 1): 1, ('0207', 1): 10, ('083', 1): 5, ('6089', 1): 5, ('someonon', 1): 3, ('09064015307', 1): 3, ('box334sk38ch', 1): 5, ('xxxmobilemovieclub', 1): 6, ('nqjkgighjjgcbl', 1): 3, ('conact', 1): 2, ('09111030116', 1): 2, ('pobox12n146tf15', 1): 2, ('3lion', 1): 4, ('09058097189', 1): 4, ('ls15hb', 1): 4, ('ami', 1): 2, ('coupl', 1): 2, ('parti', 1): 2, ('121', 1): 11, ('09094646899', 1): 10, ('biggest', 1): 10, ('vu', 1): 10, ('bcm1896wc1n3xx', 1): 10, ('realli', 1): 2, ('nake', 1): 2, ('69698', 1): 4, ('pre', 1): 3, ('trackmarqu', 1): 3, ('infovipclub4u', 1): 3, ('rt', 1): 4, ('pro', 1): 4, ('inforingtonek', 1): 4, ('08701237397', 1): 4, ('ringtonek', 1): 7, ('08712402578', 1): 3, ('hvae', 1): 3, ('09061701444', 1): 3, ('84484', 1): 3, ('msgwe', 1): 5, ('mistak', 1): 5, ('shortcod', 1): 5, ('83332', 1): 5, ('08081263000', 1): 5, ('refund', 1): 5, ('realiti', 1): 7, ('å£12', 1): 5, ('freephon', 1): 33, ('542', 1): 14, ('0825', 1): 8, ('09058095201', 1): 7, ('sun0819', 1): 8, ('hello\\\\y', 1): 8, ('seem', 1): 8, ('09066364349', 1): 4, ('lose', 1): 4, ('box434sk38wp150ppm18', 1): 4, ('69200', 1): 4, ('hr', 1): 4, ('chrgd50p', 1): 4, ('2exit', 1): 4, ('improv', 1): 5, ('msgs150p', 1): 5, ('07973788240', 1): 2, ('08715203649', 1): 2, ('40533', 1): 5, ('08718726970', 1): 5, ('153', 1): 5, ('9996', 1): 4, ('14thmarch', 1): 4, ('availa', 1): 4, ('09058095107', 1): 4, ('s3xi', 1): 4, ('09066364589', 1): 14, ('gotto', 1): 3, ('220cm2', 1): 3, ('romant', 1): 9, ('å£79', 1): 9, ('08704439680ts&c', 1): 9, ('08715205273', 1): 3, ('your', 1): 9, ('09066660100', 1): 4, ('2309', 1): 4, ('videosound', 1): 7, ('gold', 1): 7, ('videosounds2', 1): 7, ('logosmusicnew', 1): 7, ('09701213186', 1): 7, ('premier', 1): 2, ('0789xxxxxxx', 1): 5, ('macedonia', 1): 2, ('trywal', 1): 2, ('scotland', 1): 2, ('4txt', 1): 8, ('ì¼1', 1): 2, ('poboxox36504w45wq', 1): 2, ('item', 1): 1, ('7cfca1a', 1): 1, ('08715203652', 1): 3, ('42810', 1): 3, ('gnarl', 1): 8, ('barkley', 1): 8, ('\\\\crazy\\\\', 1): 8, ('phone750', 1): 4, ('textand', 1): 2, ('08002988890', 1): 2, ('fan', 1): 6, ('str*', 1): 6, ('0870141701216', 1): 6, ('120p', 1): 6, ('mid', 1): 3, ('peopl', 1): 8, ('09090204448', 1): 4, ('mind', 1): 8, ('arrang', 1): 9, ('aå£1', 1): 4, ('minapn', 1): 4, ('ls278bb', 1): 4, ('vpod', 1): 3, ('09061749602', 1): 3, ('528', 1): 3, ('hp20', 1): 3, ('1yf', 1): 3, ('ever', 1): 7, ('drive', 1): 10, ('anyon', 1): 5, ('slower', 1): 5, ('idiot', 1): 5, ('faster', 1): 5, ('maniac', 1): 5, ('deepest', 1): 3, ('darkest', 1): 3, ('09094646631', 1): 3, ('nat', 1): 10, ('09050003091', 1): 4, ('c52', 1): 4, ('bangbab', 1): 2, ('way', 1): 2, ('bangb', 1): 2, ('internet', 1): 2, ('menu', 1): 2, ('door', 1): 3, ('exp', 1): 3, ('30apr', 1): 3, ('09094100151', 1): 3, ('cast', 1): 3, ('aom', 1): 6, ('gbp5', 1): 3, ('box61', 1): 3, ('m60', 1): 3, ('1er', 1): 3, ('rct', 1): 3, ('thnq', 1): 3, ('adrian', 1): 3, ('rgd', 1): 3, ('vatian', 1): 3, ('havent', 1): 5, ('femal', 1): 5, ('08700621170150p', 1): 9, ('gsex', 1): 2, ('2667', 1): 2, ('wc1n', 1): 2, ('3xx', 1): 2, ('never', 1): 2, ('much', 1): 2, ('came', 1): 2, ('made', 1): 2, ('truli', 1): 6, ('wont', 1): 6, ('09058094507', 1): 4, ('0808', 1): 19, ('145', 1): 19, ('4742', 1): 19, ('9am', 1): 19, ('11pm', 1): 19, ('08719899230', 1): 2, ('07808726822', 1): 2, ('872', 1): 4, ('9758', 1): 2, ('09095350301', 1): 7, ('erot', 1): 7, ('ecstaci', 1): 7, ('gage', 1): 3, ('deck', 1): 3, ('cnupdat', 1): 3, ('newslett', 1): 3, ('wither', 1): 5, ('23f', 1): 5, ('23g', 1): 5, ('ree', 1): 2, ('banneduk', 1): 1, ('89555', 1): 5, ('textoper', 1): 5, ('g696ga', 1): 3, ('3mobil', 1): 4, ('chatlin', 1): 4, ('inclu', 1): 4, ('india', 1): 4, ('serv', 1): 4, ('sed', 1): 4, ('l8er', 1): 4, ('mega', 1): 4, ('giv', 1): 4, ('shit', 1): 4, ('bailiff', 1): 4, ('due', 1): 8, ('0578', 1): 6, ('lot', 1): 4, ('flirtparti', 1): 4, ('replys150', 1): 4, ('januari', 1): 5, ('stori', 1): 4, ('ten', 1): 2, ('83435', 1): 2, ('09058094455', 1): 4, ('0796xxxxxx', 1): 3, ('prizeawait', 1): 3, ('believ', 1): 4, ('incred', 1): 4, ('learn', 1): 4, ('blow', 1): 4, ('o2fwd', 1): 4, ('18p', 1): 4, ('hottest', 1): 2, ('wet', 1): 5, ('2morro', 1): 5, ('passion', 1): 5, ('09099726481', 1): 5, ('dena', 1): 5, ('087016248', 1): 4, ('thought', 1): 2, ('perfect', 1): 2, ('100p', 1): 2, ('078', 1): 1, ('panason', 1): 5, ('bluetoothhdset', 1): 5, ('doublemin', 1): 5, ('doubletxt', 1): 5, ('cinema', 1): 4, ('09061209465', 1): 4, ('suprman', 1): 4, ('matrix3', 1): 4, ('starwars3', 1): 4, ('k718', 1): 5, ('09065069120', 1): 5, ('07753741225', 1): 5, ('08715203677', 1): 5, ('42478', 1): 5, ('wtlp', 1): 3, ('wamma', 1): 7, ('doggin', 1): 7, ('08712402972', 1): 2, ('2u', 1): 2, ('breathe1', 1): 2, ('crazyin', 1): 2, ('sleepingwith', 1): 2, ('finest', 1): 2, ('ymca', 1): 2, ('pobox365o4w45wq', 1): 2, ('300p', 1): 5, ('cannam', 1): 3, ('capit', 1): 3, ('australia', 1): 3, ('mquiz', 1): 3, ('accordingli', 1): 2, ('repeat', 1): 2, ('knicker', 1): 2, ('beg', 1): 2, ('01223585236', 1): 2, ('nikiyu4', 1): 2, ('hol', 1): 8, ('stamp', 1): 3, ('self', 1): 3, ('envelop', 1): 3, ('drink', 1): 3, ('113', 1): 3, ('bray', 1): 3, ('wicklow', 1): 3, ('eir', 1): 3, ('sue', 1): 4, ('lapdanc', 1): 2, ('bedroom', 1): 2, ('g2', 1): 2, ('1da', 1): 2, ('150ppmsg', 1): 2, ('b4u', 1): 5, ('marsm', 1): 5, ('b4utel', 1): 5, ('08717168528', 1): 5, ('eurodisinc', 1): 4, ('trav', 1): 4, ('aco&entry41', 1): 4, ('di', 1): 4, ('186*å£1', 1): 4, ('50morefrmmob', 1): 4, ('shracomorsglsuplt10', 1): 4, ('ls1', 1): 4, ('3aj', 1): 4, ('tripl', 1): 4, ('echo', 1): 4, ('07090298926', 1): 2, ('ref9307622', 1): 2, ('4fil', 1): 2, ('sexual', 1): 1, ('cute', 1): 1, ('69911å£1', 1): 1, ('1mcfli', 1): 2, ('ab', 1): 2, ('sara', 1): 2, ('jorg', 1): 2, ('shock', 1): 2, ('smith', 1): 2, ('switch', 1): 2, ('web2mobil', 1): 5, ('txt250', 1): 5, ('box139', 1): 5, ('la32wu', 1): 5, ('txtx', 1): 5, ('sexiest', 1): 4, ('dirtiest', 1): 4, ('89070', 1): 8, ('complementari', 1): 5, ('wa14', 1): 5, ('2px', 1): 5, ('sender', 1): 5, ('09065394973', 1): 4, ('08707500020', 1): 1, ('\\\\urgent', 1): 1, ('å£1000call', 1): 1, ('09071512432', 1): 1, ('300603t&csbcm4235wc1n3xx', 1): 1, ('callcost150ppmmobilesvari', 1): 1, ('50\\\\', 1): 1, ('28th', 1): 7, ('feb', 1): 7, ('remind', 1): 6, ('hous', 1): 5, ('09050005321', 1): 2, ('call09050000327', 1): 6, ('europ', 1): 3, ('10th', 1): 3, ('09050000555', 1): 3, ('ba128nnfwfly150ppm', 1): 3, ('09058091854', 1): 3, ('box385', 1): 3, ('m6', 1): 3, ('6wu', 1): 3, ('89105', 1): 3, ('goldvik', 1): 8, ('762', 1): 8, ('annonc', 1): 5, ('07046744435', 1): 5, ('09058094594', 1): 4, ('09066358361', 1): 5, ('y87', 1): 5, ('meg', 1): 6, ('08715203694', 1): 3, ('5226', 1): 3, ('350', 1): 3, ('hava', 1): 3, ('1131', 1): 3, ('07732584351', 1): 2, ('rodger', 1): 2, ('burn', 1): 2, ('\\\\3000', 1): 2, ('donat', 1): 6, ('unicef', 1): 3, ('asian', 1): 3, ('tsunami', 1): 3, ('disast', 1): 3, ('fund', 1): 3, ('864233', 1): 3, ('tonex', 1): 4, ('clubz', 1): 4, ('*bill', 1): 4, ('msg*', 1): 4, ('08714712394', 1): 3, ('09077818151', 1): 2, ('calls1', 1): 2, ('50ppm', 1): 2, ('santacal', 1): 2, ('str8', 1): 3, ('classic', 1): 3, ('200p', 1): 3, ('8pm', 1): 4, ('thur', 1): 5, ('theyr', 1): 4, ('sell', 1): 4, ('fast', 1): 4, ('restrict', 1): 4, ('buddi', 1): 4, ('sir', 1): 4, ('compens', 1): 2, ('lookatm', 1): 8, ('clip', 1): 4, ('35p', 1): 4, ('better', 1): 4, ('mmsto', 1): 4, ('32323', 1): 4, ('600', 1): 2, ('400', 1): 2, ('deltomorrow', 1): 2, ('alreadi', 1): 1, ('paid', 1): 1, ('doit', 1): 1, ('mymobi', 1): 1, ('83039', 1): 3, ('62735å£450', 1): 3, ('accommodationvouch', 1): 3, ('mustprovid', 1): 3, ('15541', 1): 3, ('9755', 1): 2, ('0871277810810', 1): 5, ('[colourred]text[', 1): 1, ('colour]txtstar', 1): 1, ('child', 1): 2, ('afraid', 1): 2, ('dark', 1): 2, ('becom', 1): 2, ('teenag', 1): 2, ('08718738034', 1): 3, ('splashmobil', 1): 3, ('subscrit', 1): 3, ('sexychat', 1): 4, ('rp176781', 1): 3, ('regalportfolio', 1): 3, ('08717205546', 1): 3, ('0721072', 1): 3, ('left', 1): 2, ('07008009200', 1): 2, ('bad', 1): 2, ('noworriesloan', 1): 2, ('08717111821', 1): 2, ('09050000878', 1): 3, ('ow', 1): 3, ('674', 1): 2, ('smartcal', 1): 2, ('68866', 1): 2, ('subscriptn3gbp', 1): 2, ('08448714184', 1): 2, ('landlineonli', 1): 2, ('laugh', 1): 3, ('chit', 1): 3, ('logon', 1): 3, ('8883', 1): 3, ('cm', 1): 3, ('4217', 1): 3, ('w1a', 1): 3, ('6zf', 1): 3, ('118p', 1): 3, ('brother', 1): 3, ('09064018838', 1): 3, ('cro1327', 1): 3, ('career', 1): 6, ('flyng', 1): 4, ('horo', 1): 8, ('ari', 1): 4, ('upgrdcentr', 1): 1, ('9153', 1): 1, ('26th', 1): 1, ('meal', 1): 2, ('dine', 1): 4, ('experiencehttp', 1): 2, ('vouch4m', 1): 2, ('etlp', 1): 2, ('087123002209am', 1): 4, ('gossip', 1): 1, ('fit', 1): 1, ('funki', 1): 1, ('resent', 1): 4, ('previou', 1): 4, ('fail', 1): 4, ('error', 1): 4, ('queri', 1): 4, ('customersqueriesnetvis', 1): 4, ('åòharri', 1): 2, ('reciev', 1): 2, ('channel', 1): 2, ('teletext', 1): 2, ('pg', 1): 2, ('vat', 1): 3, ('clair', 1): 4, ('havin', 1): 2, ('borin', 1): 2, ('09099725823', 1): 2, ('real1', 1): 2, ('pushbutton', 1): 2, ('dontcha', 1): 2, ('babygoodby', 1): 2, ('golddigg', 1): 2, ('webeburnin', 1): 2, ('blind', 1): 4, ('rodds1', 1): 2, ('aberdeen', 1): 2, ('unit', 1): 2, ('kingdom', 1): 2, ('img', 1): 2, ('icmb3cktz8r7', 1): 2, ('hide', 1): 2, ('ukp2000', 1): 1, ('09061790125', 1): 1, ('09066362220', 1): 3, ('08701213186', 1): 5, ('bloomberg', 1): 4, ('center', 1): 2, ('447797706009', 1): 2, ('lux', 1): 2, ('jame', 1): 2, ('eh74rr', 1): 2, ('087104711148', 1): 2, ('lead', 1): 2, ('151', 1): 2, ('paus', 1): 2, ('08718726270', 1): 2, ('knock', 1): 2, ('whose', 1): 1, ('tkl', 1): 1, ('stoptxtstopå£1', 1): 1, ('09064017305', 1): 1, ('pobox75ldns7', 1): 1, ('08709501522', 1): 2, ('139', 1): 2, ('la3', 1): 2, ('2wu', 1): 2, ('bubbletext', 1): 1, ('pin', 1): 1, ('tgxxrz', 1): 1, ('09064012103', 1): 2, ('*', 1): 1, ('free*', 1): 1, ('sn', 1): 1, ('pobox202', 1): 1, ('nr31', 1): 1, ('7z', 1): 1, ('450pw', 1): 1, ('dept', 1): 1, ('08717507382', 1): 1, ('rip', 1): 1, ('clubmobi', 1): 1, ('08717509990', 1): 1, ('hmv1', 1): 1, ('round', 1): 1, ('highest', 1): 1, ('å£54', 1): 1, ('maximum', 1): 1, ('å£71', 1): 1, ('hack', 1): 1, ('backdoor', 1): 1, ('room', 1): 1, ('fraction', 1): 1, ('neo69', 1): 1, ('09050280520', 1): 1, ('dp', 1): 1, ('bcm', 1): 1, ('8027', 1): 1, ('becausethey', 1): 1, ('09058098002', 1): 1, ('pobox1', 1): 1, ('w14rg', 1): 1, ('6time', 0): 1, ('wah', 0): 4, ('lucki', 0): 7, ('man', 0): 21, ('save', 0): 8, ('money', 0): 36, ('hee', 0): 9, ('yar', 0): 8, ('lor', 0): 114, ('u', 0): 633, ('noe', 0): 12, ('use', 0): 41, ('dat', 0): 24, ('rout', 0): 1, ('ì_', 0): 72, ('come', 0): 179, ('n', 0): 75, ('pick', 0): 53, ('530', 0): 3, ('ar', 0): 4, ('cloth', 0): 3, ('jewelri', 0): 1, ('trip', 0): 14, ('1', 0): 45, ('20', 0): 4, ('call', 0): 199, ('cost', 0): 5, ('guess', 0): 26, ('isnt', 0): 10, ('bad', 0): 19, ('miss', 0): 63, ('ya', 0): 31, ('need', 0): 109, ('want', 0): 140, ('love', 0): 145, ('how', 0): 24, ('scotland', 0): 2, ('hope', 0): 85, ('show', 0): 29, ('jjc', 0): 1, ('tendenc', 0): 1, ('take', 0): 96, ('care', 0): 48, ('live', 0): 17, ('dream', 0): 15, ('hi', 0): 72, ('good', 0): 134, ('mornin', 0): 1, ('thanku', 0): 1, ('wish', 0): 39, ('also', 0): 44, ('track', 0): 5, ('lighter', 0): 1, ('find', 0): 36, ('geeeee', 0): 2, ('much', 0): 74, ('bare', 0): 5, ('stand', 0): 11, ('day', 0): 142, ('mine', 0): 12, ('realli', 0): 52, ('busi', 0): 16, ('tomorrow', 0): 52, ('night', 0): 76, ('cool', 0): 21, ('text', 0): 56, ('head', 0): 15, ('onion', 0): 2, ('roast', 0): 3, ('everywher', 0): 2, ('dirt', 0): 1, ('floor', 0): 3, ('window', 0): 3, ('even', 0): 45, ('shirt', 0): 7, ('sometim', 0): 8, ('open', 0): 15, ('mouth', 0): 2, ('flow', 0): 3, ('world', 0): 20, ('without', 0): 11, ('half', 0): 13, ('chore', 0): 1, ('time', 0): 143, ('joy', 0): 9, ('lot', 0): 34, ('tv', 0): 18, ('see', 0): 94, ('like', 0): 155, ('thing', 0): 73, ('must', 0): 11, ('exist', 0): 1, ('rain', 0): 13, ('hail', 0): 1, ('mist', 0): 1, ('done', 0): 33, ('becom', 0): 5, ('one', 0): 94, ('depend', 0): 5, ('go', 0): 265, ('mate', 0): 12, ('rv', 0): 1, ('hav', 0): 19, ('nice', 0): 35, ('hol', 0): 3, ('messag', 0): 49, ('3', 0): 34, ('say', 0): 79, ('hello', 0): 19, ('coz', 0): 16, ('havenåõt', 0): 2, ('sent', 0): 39, ('age', 0): 6, ('start', 0): 34, ('drive', 0): 24, ('stay', 0): 21, ('road', 0): 6, ('rvx', 0): 1, ('e', 0): 59, ('phone', 0): 56, ('ask', 0): 86, ('alreadi', 0): 53, ('said', 0): 50, ('ok', 0): 186, ('babi', 0): 17, ('get', 0): 222, ('back', 0): 76, ('mom', 0): 17, ('set', 0): 17, ('comput', 0): 4, ('fill', 0): 7, ('belli', 0): 5, ('goe', 0): 16, ('loverboy', 0): 5, ('*sighs*', 0): 4, ('height', 0): 4, ('confid', 0): 3, ('aeronaut', 0): 2, ('professor', 0): 2, ('wer', 0): 6, ('calld', 0): 2, ('&amp', 0): 50, ('askd', 0): 7, ('2', 0): 192, ('sit', 0): 10, ('aeroplan', 0): 2, ('aftr', 0): 5, ('sat', 0): 25, ('told', 0): 34, ('plane', 0): 4, ('ws', 0): 3, ('made', 0): 18, ('student', 0): 8, ('dey', 0): 3, ('hurri', 0): 3, ('bt', 0): 13, ('didnt', 0): 48, ('move', 0): 13, ('said\\\\if', 0): 2, ('dun', 0): 35, ('bluff', 0): 2, ('leh', 0): 20, ('sleep', 0): 49, ('earli', 0): 23, ('nite', 0): 10, ('send', 0): 92, ('greet', 0): 6, ('happi', 0): 65, ('gr8', 0): 10, ('dude', 0): 17, ('im', 0): 284, ('longer', 0): 5, ('pisc', 0): 1, ('aquariu', 0): 1, ('give', 0): 58, ('5', 0): 29, ('minut', 0): 27, ('think', 0): 90, ('btw', 0): 3, ('your', 0): 29, ('alibi', 0): 1, ('cut', 0): 8, ('hair', 0): 16, ('whole', 0): 8, ('readi', 0): 20, ('*', 0): 19, ('big', 0): 24, ('kkwhat', 0): 1, ('detail', 0): 11, ('transfer', 0): 4, ('acc', 0): 4, ('enough', 0): 18, ('ye', 0): 45, ('crickit', 0): 1, ('mind', 0): 22, ('nope', 0): 11, ('meanwhil', 0): 3, ('talk', 0): 31, ('make', 0): 86, ('morn', 0): 45, ('princess', 0): 22, ('new', 0): 45, ('year', 0): 38, ('work', 0): 84, ('technic', 0): 4, ('support', 0): 11, ('voic', 0): 6, ('process', 0): 6, ('handl', 0): 2, ('victoria', 0): 1, ('island', 0): 3, ('traffic', 0): 2, ('plu', 0): 15, ('when', 0): 4, ('album', 0): 3, ('due', 0): 3, ('sure', 0): 45, ('tho', 0): 13, ('librari', 0): 5, ('class', 0): 35, ('tri', 0): 49, ('point', 0): 10, ('eve', 0): 9, ('afternoon', 0): 16, ('boytoy', 0): 8, ('feel', 0): 55, ('today', 0): 94, ('better', 0): 28, ('boy', 0): 24, ('obedi', 0): 1, ('slave', 0): 6, ('pleas', 0): 51, ('queen', 0): 4, ('buy', 0): 45, ('pizza', 0): 6, ('meat', 0): 1, ('lover', 0): 6, ('suprem', 0): 1, ('sorri', 0): 104, ('grocer', 0): 1, ('xavier', 0): 1, ('smoke', 0): 17, ('dont', 0): 174, ('leav', 0): 53, ('alway', 0): 34, ('ignor', 0): 5, ('\\\\cheer', 0): 2, ('tex', 0): 1, ('mecaus', 0): 1, ('werebor', 0): 1, ('yeah', 0): 61, ('okden', 0): 1, ('hunni', 0): 4, ('r', 0): 78, ('uin', 0): 1, ('wk', 0): 4, ('soundåõ', 0): 1, ('likeyour', 0): 1, ('havin', 0): 2, ('gr8fun', 0): 1, ('j', 0): 5, ('keep', 0): 45, ('updat', 0): 5, ('countinlot', 0): 1, ('lovem', 0): 2, ('xxxxx', 0): 1, ('\\\\', 0): 52, ('youll', 0): 6, ('never', 0): 30, ('believ', 0): 11, ('actual', 0): 17, ('got', 0): 145, ('taunton', 0): 2, ('wow', 0): 4, ('wrkin', 0): 1, ('sister', 0): 10, ('belong', 0): 2, ('famili', 0): 13, ('pray', 0): 11, ('4', 0): 109, ('fate', 0): 1, ('shoranur', 0): 1, ('train', 0): 9, ('incid', 0): 1, ('let', 0): 54, ('hold', 0): 12, ('hand', 0): 13, ('togeth', 0): 14, ('fuell', 0): 1, ('concern', 0): 2, ('prior', 0): 1, ('grief', 0): 1, ('pain', 0): 20, ('pl', 0): 82, ('join', 0): 10, ('di', 0): 18, ('chain', 0): 3, ('pass', 0): 7, ('stop', 0): 24, ('violenc', 0): 2, ('women', 0): 2, ('yiju', 0): 3, ('meet', 0): 74, ('11', 0): 4, ('tmr', 0): 21, ('\\x89û_', 0): 12, ('don\\x89û÷t', 0): 6, ('worri', 0): 25, ('we\\x89û÷ll', 0): 1, ('finish', 0): 39, ('march', 0): 9, ('ish', 0): 3, ('anyth', 0): 43, ('great', 0): 72, ('bed', 0): 21, ('fuck', 0): 29, ('deal', 0): 8, ('vday', 0): 2, ('parachut', 0): 1, ('doubl', 0): 4, ('coin', 0): 3, ('know', 0): 154, ('well', 0): 84, ('thank', 0): 53, ('dear', 0): 55, ('first', 0): 29, ('histori', 0): 2, ('comfort', 0): 1, ('luxuri', 0): 1, ('sold', 0): 1, ('price', 0): 6, ('india', 0): 8, ('rs', 0): 10, ('&lt&gt', 0): 150, ('petrol', 0): 2, ('beer', 0): 2, ('shesil', 0): 1, ('look', 0): 42, ('wil', 0): 13, ('b', 0): 34, ('headstart', 0): 1, ('bout', 0): 8, ('30ish', 0): 2, ('desper', 0): 2, ('compani', 0): 11, ('could', 0): 38, ('earlier', 0): 12, ('goin', 0): 12, ('rummer', 0): 1, ('derek', 0): 4, ('shop', 0): 22, ('mah', 0): 11, ('hard', 0): 8, ('orchard', 0): 8, ('pic', 0): 7, ('msg', 0): 41, ('babe', 0): 46, ('bread', 0): 2, ('milk', 0): 3, ('ill', 0): 138, ('home', 0): 88, ('gettin', 0): 5, ('bit', 0): 25, ('arti', 0): 1, ('collag', 0): 1, ('mo', 0): 7, ('tryin', 0): 1, ('ne', 0): 2, ('way', 0): 67, ('min', 0): 26, ('shall', 0): 20, ('enjoy', 0): 18, ('went', 0): 35, ('project', 0): 10, ('centr', 0): 4, ('rememb', 0): 22, ('old', 0): 14, ('commerci', 0): 2, ('still', 0): 84, ('west', 0): 1, ('coast', 0): 2, ('haiz', 0): 2, ('ìïll', 0): 1, ('forev', 0): 6, ('hm', 0): 2, ('headach', 0): 2, ('anyon', 0): 6, ('dot', 0): 1, ('wan', 0): 39, ('haf', 0): 11, ('lunch', 0): 27, ('da', 0): 94, ('canteen', 0): 1, ('help', 0): 24, ('she', 0): 10, ('usual', 0): 12, ('iam', 0): 7, ('fine', 0): 26, ('argh', 0): 2, ('3g', 0): 2, ('spotti', 0): 1, ('anyway', 0): 22, ('research', 0): 1, ('provinc', 0): 1, ('sterl', 0): 1, ('problem', 0): 26, ('free', 0): 39, ('place', 0): 34, ('aathi', 0): 3, ('multipli', 0): 1, ('number', 0): 46, ('independ', 0): 1, ('count', 0): 2, ('decim', 0): 2, ('divis', 0): 2, ('push', 0): 2, ('ha', 0): 9, ('either', 0): 8, ('clever', 0): 2, ('simpl', 0): 10, ('pear', 0): 1, ('perfect', 0): 1, ('christma', 0): 8, ('\\\\ey', 0): 1, ('calm', 0): 2, ('downon', 0): 1, ('theacus', 0): 1, ('itxt', 0): 1, ('co', 0): 54, ('iwana', 0): 1, ('wotu', 0): 1, ('doin', 0): 6, ('thew', 0): 1, ('end', 0): 24, ('haventcn', 0): 1, ('ring', 0): 11, ('ur', 0): 142, ('up4', 0): 2, ('neth', 0): 1, ('xxx', 0): 12, ('stori', 0): 10, ('ive', 0): 43, ('return', 0): 11, ('he', 0): 21, ('order', 0): 7, ('photoshop', 0): 1, ('shut', 0): 3, ('that', 0): 57, ('gentleman', 0): 3, ('treat', 0): 11, ('digniti', 0): 3, ('respect', 0): 3, ('ee', 0): 2, ('na', 0): 5, ('poortiyagi', 0): 1, ('odalebeku', 0): 1, ('hanumanji', 0): 1, ('7', 0): 23, ('name', 0): 22, ('hanuman', 0): 1, ('bajarangabali', 0): 1, ('maruti', 0): 1, ('pavanaputra', 0): 1, ('sankatmochan', 0): 1, ('6', 0): 30, ('ramaduth', 0): 1, ('mahav', 0): 1, ('janarig', 0): 1, ('ivatt', 0): 1, ('kalisidar', 0): 1, ('next', 0): 30, ('saturday', 0): 5, ('olag', 0): 1, ('ondu', 0): 1, ('news', 0): 6, ('keluviri', 0): 1, ('maretar', 0): 1, ('ind', 0): 1, ('dodda', 0): 1, ('problum', 0): 1, ('nalli', 0): 1, ('siguviri', 0): 1, ('idu', 0): 1, ('matra', 0): 1, ('%', 0): 4, ('true', 0): 12, ('neglet', 0): 1, ('wif', 0): 13, ('si', 0): 14, ('aft', 0): 11, ('bath', 0): 19, ('dog', 0): 4, ('soon', 0): 31, ('design', 0): 1, ('softwar', 0): 1, ('develop', 0): 3, ('may', 0): 27, ('chennai', 0): 8, ('skateboard', 0): 1, ('despit', 0): 1, ('fact', 0): 9, ('thrown', 0): 1, ('wind', 0): 2, ('bandag', 0): 1, ('shit', 0): 24, ('arm', 0): 3, ('everi', 0): 25, ('five', 0): 3, ('gd', 0): 9, ('stuff', 0): 27, ('watch', 0): 39, ('infern', 0): 3, ('affair', 0): 3, ('lar', 0): 24, ('prasanth', 0): 1, ('ettan', 0): 1, ('mother', 0): 3, ('away', 0): 16, ('last', 0): 41, ('chikku', 0): 14, ('nt', 0): 10, ('yet', 0): 26, ('rhythm', 0): 2, ('person', 0): 32, ('establish', 0): 1, ('bodi', 0): 3, ('learn', 0): 3, ('engin', 0): 2, ('art', 0): 3, ('wyli', 0): 3, ('tampa', 0): 6, ('sarasota', 0): 1, ('captain', 0): 2, ('vijaykanth', 0): 1, ('comedi', 0): 3, ('drunken', 0): 1, ('creepi', 0): 2, ('crazi', 0): 6, ('hor', 0): 2, ('c', 0): 46, ('bruce', 0): 2, ('down', 0): 1, ('fletcher', 0): 1, ('receiv', 0): 8, ('oral', 0): 1, ('doggi', 0): 2, ('style', 0): 5, ('fave', 0): 1, ('posit', 0): 3, ('per', 0): 9, ('ìï', 0): 30, ('ericsson', 0): 1, ('oso', 0): 12, ('cannot', 0): 5, ('oredi', 0): 9, ('car', 0): 23, ('appreci', 0): 6, ('two', 0): 18, ('dad', 0): 18, ('map', 0): 3, ('read', 0): 16, ('semi', 0): 1, ('argument', 0): 5, ('apart', 0): 6, ('p', 0): 5, ('landlin', 0): 1, ('anna', 0): 1, ('nagar', 0): 1, ('turn', 0): 9, ('randomlli', 0): 1, ('within', 0): 4, ('5min', 0): 2, ('txtjourney', 0): 1, ('hasnt', 0): 5, ('50', 0): 3, ('late', 0): 41, ('pictur', 0): 4, ('bright', 0): 2, ('light', 0): 10, ('cell', 0): 4, ('probabl', 0): 19, ('honeybe', 0): 2, ('*im', 0): 2, ('sweetest', 0): 2, ('world*', 0): 2, ('god', 0): 33, ('laugh', 0): 10, ('*wait', 0): 2, ('havnt', 0): 2, ('met', 0): 4, ('msg*', 0): 2, ('moral', 0): 3, ('crack', 0): 2, ('joke', 0): 10, ('gmgngegn', 0): 2, ('relax', 0): 4, ('ever', 0): 19, ('7am', 0): 1, ('parti', 0): 12, ('5ish', 0): 1, ('reach', 0): 29, ('ten', 0): 9, ('offer', 0): 7, ('unconsci', 0): 2, ('children', 0): 2, ('adult', 0): 1, ('behav', 0): 3, ('abnorm', 0): 1, ('urgnt', 0): 5, ('what', 0): 18, ('least', 0): 8, ('tell', 0): 94, ('wate', 0): 2, ('repli', 0): 30, ('noth', 0): 23, ('smsing', 0): 1, ('xy', 0): 7, ('guy', 0): 26, ('neva', 0): 12, ('sort', 0): 10, ('bring', 0): 27, ('along', 0): 2, ('flatter', 0): 1, ('pint', 0): 1, ('carlin', 0): 1, ('aight', 0): 23, ('outsid', 0): 11, ('toward', 0): 4, ('rock', 0): 8, ('run', 0): 21, ('sound', 0): 14, ('manki', 0): 1, ('scous', 0): 1, ('steve', 0): 2, ('travel', 0): 4, ('bu', 0): 18, ('wot', 0): 17, ('inmind', 0): 1, ('recreat', 0): 1, ('long', 0): 24, ('ago', 0): 7, ('shower', 0): 7, ('eryth', 0): 1, ('serious', 0): 7, ('konw', 0): 2, ('waht', 0): 2, ('rael', 0): 2, ('friendship', 0): 8, ('gving', 0): 2, ('yuo', 0): 4, ('exmpel', 0): 2, ('jsut', 0): 2, ('ese', 0): 3, ('tih', 0): 4, ('evrey', 0): 2, ('splle', 0): 2, ('wrnog', 0): 2, ('sitll', 0): 2, ('ra', 0): 2, ('wihtuot', 0): 2, ('ayn', 0): 2, ('mitsak', 0): 2, ('goodnight', 0): 4, ('sweet', 0): 22, ('suppos', 0): 11, ('couldnt', 0): 2, ('town', 0): 17, ('though', 0): 13, ('escap', 0): 3, ('theatr', 0): 4, ('kavalan', 0): 1, ('doesnt', 0): 20, ('heart', 0): 33, ('ach', 0): 3, ('wonder', 0): 24, ('crave', 0): 7, ('full', 0): 10, ('heat', 0): 1, ('pa', 0): 20, ('appli', 0): 3, ('oil', 0): 1, ('ahhhh', 0): 1, ('woken', 0): 1, ('right', 0): 54, ('word', 0): 23, ('smile', 0): 36, ('pleasur', 0): 4, ('troubl', 0): 4, ('pour', 0): 1, ('sum1', 0): 2, ('hurt', 0): 24, ('becoz', 0): 3, ('someon', 0): 21, ('activ', 0): 2, ('version', 0): 2, ('mmmmmm', 0): 1, ('ahmad', 0): 4, ('cant', 0): 66, ('wait', 0): 57, ('begin', 0): 2, ('second', 0): 11, ('closer', 0): 3, ('side', 0): 11, ('remain', 0): 7, ('bro', 0): 4, ('amongst', 0): 2, ('pay', 0): 21, ('&ltdecimal&gt', 0): 11, ('lakh', 0): 1, ('torch', 0): 3, ('bold', 0): 3, ('db', 0): 1, ('drastic', 0): 1, ('dare', 0): 3, ('sell', 0): 7, ('pc', 0): 1, ('k', 0): 66, ('sm', 0): 11, ('chat', 0): 10, ('gal', 0): 10, ('propsd', 0): 1, ('gv', 0): 1, ('lv', 0): 1, ('lttr', 0): 1, ('frnd', 0): 13, ('threw', 0): 1, ('thm', 0): 2, ('decid', 0): 12, ('aproach', 0): 1, ('dt', 0): 1, ('truck', 0): 1, ('speed', 0): 2, ('wn', 0): 2, ('hit', 0): 9, ('girl', 0): 26, ('ran', 0): 2, ('hell', 0): 6, ('hw', 0): 7, ('cn', 0): 2, ('fast', 0): 9, ('\\\\boost', 0): 1, ('secret', 0): 3, ('energy\\\\', 0): 2, ('instantli', 0): 1, ('shout', 0): 3, ('thi', 0): 1, ('happili', 0): 1, ('2gthr', 0): 1, ('drink', 0): 11, ('boost', 0): 1, ('evrydi', 0): 1, ('hv', 0): 2, ('msgsd', 0): 1, ('gud', 0): 36, ('ni8', 0): 10, ('thanx', 0): 24, ('weåõv', 0): 1, ('spent', 0): 6, ('2geva', 0): 2, ('bin', 0): 4, ('mint', 0): 1, ('xxxx', 0): 2, ('anytim', 0): 2, ('best', 0): 18, ('midnight', 0): 2, ('earliest', 0): 1, ('later', 0): 89, ('onword', 0): 1, ('mtnl', 0): 1, ('servic', 0): 3, ('south', 0): 6, ('mumbai', 0): 1, ('hear', 0): 17, ('cannt', 0): 2, ('listen', 0): 7, ('radio', 0): 3, ('keng', 0): 1, ('ash', 0): 1, ('mean', 0): 32, ('almost', 0): 7, ('tot', 0): 11, ('nap', 0): 2, ('yup', 0): 26, ('liao', 0): 23, ('ard', 0): 15, ('smth', 0): 10, ('friday', 0): 8, ('pongal', 0): 3, ('sabarish', 0): 1, ('kothi', 0): 2, ('print', 0): 4, ('marandratha', 0): 1, ('chang', 0): 15, ('6hr', 0): 4, ('appendix', 0): 1, ('rang', 0): 4, ('howev', 0): 3, ('imposs', 0): 3, ('chill', 0): 3, ('tick', 0): 6, ('die', 0): 9, ('loneli', 0): 1, ('*pouts*', 0): 1, ('*stomp', 0): 1, ('feet*', 0): 1, ('accident', 0): 3, ('delet', 0): 3, ('put', 0): 21, ('sim', 0): 2, ('archiv', 0): 1, ('sad', 0): 11, ('yesterday', 0): 14, ('cbe', 0): 3, ('velacheri', 0): 1, ('hey', 0): 63, ('darlin', 0): 11, ('colleg', 0): 10, ('wen', 0): 17, ('&', 0): 6, ('mt', 0): 2, ('pete', 0): 7, ('xx', 0): 9, ('frm', 0): 12, ('tht', 0): 9, ('unknown', 0): 2, ('grandma', 0): 2, ('oh', 0): 66, ('felt', 0): 7, ('hungov', 0): 1, ('anoth', 0): 24, ('slipper', 0): 3, ('gone', 0): 10, ('exactli', 0): 6, ('chechi', 0): 3, ('chachi', 0): 1, ('unabl', 0): 2, ('cal', 0): 2, ('tiz', 0): 1, ('kanagu', 0): 1, ('respond', 0): 4, ('internet', 0): 4, ('eh', 0): 7, ('walk', 0): 18, ('around', 0): 33, ('\\\\julianaland\\\\', 0): 1, ('oblivi', 0): 1, ('constantli', 0): 3, ('ear', 0): 2, ('whatev', 0): 11, ('upset', 0): 3, ('surpris', 0): 8, ('mad', 0): 4, ('dahow', 0): 1, ('mani', 0): 36, ('page', 0): 3, ('haha', 0): 27, ('mayb', 0): 36, ('ure', 0): 8, ('rite', 0): 8, ('faster', 0): 2, ('group', 0): 4, ('attach', 0): 3, ('slowli', 0): 6, ('clean', 0): 9, ('blood', 0): 10, ('special', 0): 23, ('peopl', 0): 32, ('miracl', 0): 5, ('iouri', 0): 1, ('gave', 0): 6, ('ryan', 0): 1, ('friend', 0): 54, ('job', 0): 25, ('prospect', 0): 2, ('lazi', 0): 7, ('bleak', 0): 1, ('hmmm', 0): 9, ('regret', 0): 3, ('cudnt', 0): 1, ('drove', 0): 1, ('ctla', 0): 1, ('cochin', 0): 1, ('left', 0): 17, ('mobil', 0): 8, ('ent', 0): 1, ('ishtamayoo', 0): 1, ('bakrid', 0): 1, ('beauti', 0): 12, ('pimpl', 0): 1, ('angri', 0): 14, ('practic', 0): 4, ('real', 0): 18, ('gentl', 0): 2, ('inch', 0): 4, ('deep', 0): 5, ('insid', 0): 4, ('tight', 0): 2, ('pussi', 0): 3, ('caus', 0): 14, ('someth', 0): 49, ('vomit', 0): 4, ('temp', 0): 1, ('might', 0): 21, ('drop', 0): 13, ('unmit', 0): 1, ('build', 0): 5, ('coat', 0): 2, ('sick', 0): 7, ('wear', 0): 5, ('gym', 0): 8, ('line', 0): 9, ('broken', 0): 1, ('plz', 0): 14, ('cum', 0): 8, ('infront', 0): 2, ('wise', 0): 2, ('trust', 0): 6, ('9t', 0): 1, ('alex', 0): 6, ('birthday', 0): 23, ('fifteen', 0): 3, ('far', 0): 13, ('gorgeou', 0): 2, ('pix', 0): 4, ('ela', 0): 1, ('kano', 0): 4, ('il', 0): 8, ('download', 0): 9, ('boooo', 0): 1, ('quit', 0): 23, ('habit', 0): 2, ('nan', 0): 3, ('bari', 0): 1, ('hudgi', 0): 1, ('yorg', 0): 1, ('pataistha', 0): 1, ('ertini', 0): 1, ('okay', 0): 15, ('def', 0): 3, ('wont', 0): 30, ('us', 0): 32, ('term', 0): 3, ('condit', 0): 2, ('dai', 0): 3, ('exe', 0): 2, ('file', 0): 6, ('instal', 0): 2, ('yunni', 0): 2, ('dr', 0): 1, ('shanil', 0): 1, ('rakhesh', 0): 6, ('exchang', 0): 1, ('uncut', 0): 1, ('diamond', 0): 2, ('excel', 0): 9, ('dino', 0): 1, ('prem', 0): 1, ('combin', 0): 3, ('part', 0): 14, ('rest', 0): 7, ('father', 0): 7, ('john', 0): 9, ('____', 0): 2, ('an', 0): 4, ('th', 0): 10, ('iq', 0): 4, ('ti', 0): 4, ('ia', 0): 2, ('question', 0): 13, ('answer', 0): 13, ('request', 0): 7, ('maangalyam', 0): 1, ('alaipayuth', 0): 1, ('callertun', 0): 8, ('caller', 0): 4, ('press', 0): 5, ('*9', 0): 4, ('copi', 0): 8, ('remov', 0): 5, ('teeth', 0): 3, ('maintain', 0): 4, ('bedroom', 0): 4, ('sed', 0): 2, ('sexi', 0): 7, ('mood', 0): 5, ('came', 0): 13, ('latr', 0): 2, ('wid', 0): 10, ('cake', 0): 5, ('wife', 0): 13, ('common', 0): 4, ('hearin', 0): 1, ('wat', 0): 64, ('differ', 0): 11, ('evng', 0): 4, ('ju', 0): 26, ('test', 0): 15, ('card', 0): 6, ('dunno', 0): 19, ('network', 0): 6, ('thk', 0): 33, ('disturb', 0): 8, ('room', 0): 14, ('gift', 0): 7, ('complac', 0): 1, ('thursday', 0): 4, ('freez', 0): 2, ('ice', 0): 6, ('fml', 0): 2, ('abeg', 0): 1, ('profit', 0): 1, ('sponsor', 0): 1, ('event', 0): 1, ('jordan', 0): 1, ('vote', 0): 4, ('pend', 0): 1, ('situat', 0): 7, ('seeker', 0): 1, ('prabha', 0): 2, ('soryda', 0): 2, ('reali', 0): 3, ('sori', 0): 2, ('okor', 0): 1, ('month', 0): 19, ('cherish', 0): 1, ('mojibiola', 0): 2, ('kalli', 0): 3, ('dismissi', 0): 1, ('2nd', 0): 7, ('daddi', 0): 5, ('bb', 0): 5, ('lag', 0): 2, ('touch', 0): 10, ('skype', 0): 5, ('ger', 0): 1, ('toke', 0): 1, ('abt', 0): 14, ('syd', 0): 1, ('therer', 0): 1, ('definit', 0): 5, ('mostli', 0): 2, ('sport', 0): 2, ('type', 0): 11, ('lyk', 0): 1, ('footbl', 0): 1, ('crckt', 0): 1, ('tip', 0): 1, ('tonight', 0): 29, ('mum', 0): 7, ('dang', 0): 1, ('lol', 0): 41, ('juz', 0): 15, ('dinner', 0): 25, ('aiya', 0): 4, ('offic', 0): 21, ('dismay', 0): 1, ('tel', 0): 8, ('mistak', 0): 6, ('eat', 0): 21, ('maggi', 0): 1, ('mee', 0): 1, ('calicut', 0): 1, ('life', 0): 43, ('ge', 0): 7, ('dnt', 0): 10, ('piec', 0): 2, ('pack', 0): 4, ('tablet', 0): 4, ('happen', 0): 30, ('uncomfort', 0): 1, ('jumper', 0): 1, ('hat', 0): 1, ('belt', 0): 1, ('cribb', 0): 1, ('knew', 0): 10, ('murder', 0): 12, ('oki', 0): 13, ('bishan', 0): 3, ('\\\\hey', 0): 5, ('spun', 0): 1, ('spk', 0): 2, ('dead', 0): 6, ('wrld', 0): 1, ('sofa', 0): 4, ('hmmmhow', 0): 1, ('player', 0): 3, ('select', 0): 4, ('nvm', 0): 4, ('valentin', 0): 7, ('game', 0): 7, ('que', 0): 2, ('colour', 0): 5, ('suit', 0): 2, ('\\\\life', 0): 1, ('v', 0): 26, ('everything\\\\', 0): 1, ('everyth', 0): 20, ('valu', 0): 5, ('realiz', 0): 2, ('absenc', 0): 1, ('mrng', 0): 7, ('2day', 0): 3, ('normal', 0): 4, ('way&thi', 0): 1, ('unique&i', 0): 1, ('mylif', 0): 1, ('lost', 0): 9, ('oop', 0): 5, ('ned', 0): 2, ('toa', 0): 3, ('payoh', 0): 3, ('forgot', 0): 18, ('fring', 0): 3, ('app', 0): 4, ('nosi', 0): 1, ('idk', 0): 4, ('react', 0): 1, ('freak', 0): 4, ('jokin', 0): 1, ('oni', 0): 3, ('wun', 0): 6, ('lousi', 0): 3, ('yun', 0): 4, ('school', 0): 20, ('2000', 0): 1, ('staff', 0): 3, ('placement', 0): 1, ('amrita', 0): 1, ('lasagna', 0): 1, ('vodka', 0): 2, ('mail', 0): 17, ('id', 0): 17, ('convey', 0): 9, ('regard', 0): 5, ('achan', 0): 1, ('amma', 0): 1, ('qatar', 0): 3, ('em', 0): 9, ('omw', 0): 4, ('kick', 0): 5, ('flat', 0): 3, ('seem', 0): 11, ('alot', 0): 1, ('wiv', 0): 4, ('woman', 0): 3, ('30', 0): 4, ('film', 0): 6, ('aunti', 0): 4, ('huai', 0): 1, ('juan', 0): 2, ('otherwis', 0): 4, ('armand', 0): 4, ('tonit', 0): 7, ('search', 0): 14, ('opportun', 0): 2, ('add', 0): 3, ('prayer', 0): 1, ('custom', 0): 6, ('discount', 0): 2, ('matter', 0): 4, ('merri', 0): 6, ('xma', 0): 9, ('soooo', 0): 1, ('omg', 0): 3, ('provid', 0): 2, ('tming', 0): 1, ('slp', 0): 2, ('swt', 0): 4, ('muah', 0): 2, ('*grins*', 0): 4, ('invit', 0): 7, ('anywher', 0): 3, ('7ish', 0): 2, ('thought', 0): 30, ('1s', 0): 2, ('prob', 0): 11, ('avail', 0): 12, ('appoint', 0): 4, ('connect', 0): 7, ('wahe', 0): 1, ('fathima', 0): 1, ('univers', 0): 1, ('southern', 0): 1, ('california', 0): 1, ('costum', 0): 2, ('txt', 0): 10, ('hostel', 0): 4, ('melodi', 0): 1, ('april', 0): 6, ('lk', 0): 2, ('tt', 0): 4, ('den', 0): 21, ('cine', 0): 6, ('yogasana', 0): 3, ('would', 0): 33, ('tomo', 0): 14, ('lunchtim', 0): 1, ('organis', 0): 1, ('sir', 0): 19, ('8', 0): 16, ('hr', 0): 6, ('week', 0): 44, ('audit', 0): 3, ('wednesday', 0): 6, ('lov', 0): 1, ('\\\\hurt', 0): 1, ('truth', 0): 8, ('lovabl', 0): 8, ('bcum', 0): 4, ('childish', 0): 4, ('affect', 0): 3, ('luv', 0): 27, ('kettoda', 0): 3, ('manda', 0): 3, ('havent', 0): 25, ('boo', 0): 3, ('fix', 0): 5, ('spell', 0): 4, ('complet', 0): 8, ('diff', 0): 2, ('figur', 0): 5, ('packag', 0): 3, ('program', 0): 1, ('win', 0): 11, ('tooo', 0): 1, ('difficult', 0): 4, ('speak', 0): 14, ('mu', 0): 10, ('trek', 0): 1, ('aunt', 0): 3, ('anniversari', 0): 2, ('tarpon', 0): 1, ('spring', 0): 2, ('understand', 0): 10, ('loss', 0): 2, ('gain', 0): 3, ('coupl', 0): 7, ('check', 0): 27, ('nuerologist', 0): 1, ('bud', 0): 2, ('kid', 0): 7, ('awak', 0): 6, ('code', 0): 1, ('bank', 0): 9, ('natwest', 0): 1, ('confirm', 0): 7, ('\\\\i', 0): 6, ('till', 0): 17, ('forget', 0): 13, ('gn', 0): 4, ('semest', 0): 9, ('buck', 0): 6, ('fee', 0): 1, ('basic', 0): 4, ('drug', 0): 7, ('men', 0): 5, ('shorter', 0): 2, ('ladi', 0): 4, ('gaze', 0): 1, ('eye', 0): 4, ('receipt', 0): 1, ('brin', 0): 1, ('properli', 0): 2, ('sheet', 0): 3, ('list', 0): 4, ('lareadi', 0): 1, ('abl', 0): 11, ('altern', 0): 1, ('yr', 0): 4, ('sec', 0): 3, ('farm', 0): 3, ('tog', 0): 2, ('kerala', 0): 3, ('prepar', 0): 3, ('finalis', 0): 1, ('plan', 0): 29, ('visit', 0): 6, ('urgent', 0): 3, ('wipro', 0): 1, ('interview', 0): 5, ('yo', 0): 27, ('movi', 0): 21, ('netflix', 0): 1, ('chase', 0): 3, ('ym', 0): 4, ('tm', 0): 2, ('smart', 0): 1, ('*smiles*', 0): 2, ('coffe', 0): 5, ('await', 0): 1, ('aluabl', 0): 1, ('ffection', 0): 1, ('l', 0): 2, ('oveabl', 0): 1, ('ternal', 0): 1, ('obl', 0): 1, ('ruth', 0): 1, ('ntimat', 0): 1, ('atur', 0): 1, ('namou', 0): 1, ('\\\\valentin', 0): 1, ('day\\\\', 0): 3, ('advanc', 0): 3, ('sever', 0): 1, ('l8r', 0): 6, ('malaria', 0): 1, ('bani', 0): 1, ('especi', 0): 5, ('puriti', 0): 2, ('forward', 0): 7, ('musthu', 0): 1, ('daurgent', 0): 1, ('reckon', 0): 2, ('arrang', 0): 2, ('transport', 0): 2, ('green', 0): 2, ('quot', 0): 1, ('jerri', 0): 1, ('cartoon', 0): 1, ('\\\\a', 0): 2, ('irrit', 0): 4, ('vri', 0): 3, ('fail', 0): 4, ('express', 0): 4, ('nyt', 0): 6, ('easier', 0): 3, ('scienc', 0): 2, ('chocol', 0): 2, ('melt', 0): 1, ('sunlight', 0): 2, ('bcoz', 0): 8, ('wanna', 0): 20, ('9', 0): 15, ('abj', 0): 1, ('serv', 0): 1, ('alon', 0): 7, ('yay', 0): 5, ('ugh', 0): 7, ('gotta', 0): 8, ('sd', 0): 1, ('la', 0): 4, ('butt', 0): 2, ('sore', 0): 2, ('timin', 0): 1, ('lesson', 0): 15, ('freaki', 0): 1, ('address', 0): 7, ('everybodi', 0): 2, ('nobodi', 0): 9, ('recognis', 0): 2, ('alone\\\\', 0): 1, ('fo', 0): 2, ('senor', 0): 1, ('concentr', 0): 4, ('paper', 0): 8, ('jay', 0): 10, ('retard', 0): 1, ('fire', 0): 2, ('law', 0): 1, ('abiola', 0): 9, ('taka', 0): 1, ('830', 0): 1, ('cld', 0): 2, ('wld', 0): 1, ('prefer', 0): 3, ('spend', 0): 8, ('nosh', 0): 1, ('nxt', 0): 3, ('manag', 0): 6, ('pub', 0): 6, ('twin', 0): 1, ('comin', 0): 9, ('exorc', 0): 1, ('emili', 0): 1, ('rose', 0): 7, ('hug', 0): 6, ('snog', 0): 2, ('afternon', 0): 1, ('wake', 0): 23, ('passion', 0): 2, ('kiss', 0): 10, ('across', 0): 8, ('sea', 0): 10, ('teach', 0): 9, ('glad', 0): 4, ('g', 0): 10, ('wast', 0): 5, ('applebe', 0): 2, ('hour', 0): 26, ('shld', 0): 1, ('gee', 0): 6, ('kaiez', 0): 2, ('jazz', 0): 2, ('scare', 0): 4, ('hiphop', 0): 1, ('catch', 0): 9, ('fuckin', 0): 2, ('oha', 0): 1, ('vijay', 0): 4, ('snow', 0): 7, ('kind', 0): 9, ('weather', 0): 3, ('ppl', 0): 3, ('grow', 0): 1, ('\\\\er', 0): 1, ('seper', 0): 1, ('\\x8eö´\\x89ó_', 0): 1, ('\\x8bû¬ud', 0): 1, ('enter', 0): 4, ('cabin', 0): 2, ('bday', 0): 7, ('boss', 0): 3, ('honey', 0): 5, ('sweetheart', 0): 2, ('darl', 0): 4, ('bun', 0): 3, ('sugar', 0): 3, ('plum', 0): 1, ('*smack', 0): 1, ('ass*', 0): 1, ('besid', 0): 1, ('warm', 0): 5, ('arnt', 0): 1, ('piss', 0): 6, ('xxxxxxxxxxxxxx', 0): 1, ('gonna', 0): 30, ('vl', 0): 4, ('chines', 0): 1, ('i\\x89û÷m', 0): 2, ('park', 0): 10, ('mini', 0): 2, ('ello', 0): 1, ('cash', 0): 4, ('jason', 0): 3, ('ummma', 0): 1, ('b4', 0): 4, ('hous', 0): 27, ('lmao', 0): 7, ('erm', 0): 3, ('contract', 0): 2, ('the4th', 0): 1, ('octob', 0): 1, ('grinder', 0): 1, ('\\\\hi', 0): 3, ('uawak', 0): 1, ('feellikw', 0): 1, ('justfound', 0): 1, ('via', 0): 6, ('alett', 0): 1, ('thatmum', 0): 1, ('gotmarri', 0): 1, ('4thnov', 0): 1, ('behind', 0): 1, ('ourback', 0): 1, ('åð', 0): 3, ('fuckinnic', 0): 1, ('selfish', 0): 1, ('stayin', 0): 2, ('extra', 0): 2, ('wed', 0): 7, ('rugbi', 0): 1, ('weekend', 0): 14, ('ham', 0): 2, ('photo', 0): 7, ('shoot', 0): 2, ('spif', 0): 1, ('fun', 0): 13, ('workag', 0): 1, ('prof', 0): 2, ('sem', 0): 1, ('congrat', 0): 4, ('enna', 0): 1, ('kalaachutaarama', 0): 1, ('viveki', 0): 1, ('yep', 0): 7, ('sunday', 0): 6, ('&lt3', 0): 2, ('plough', 0): 1, ('pile', 0): 1, ('iron', 0): 1, ('chinki', 0): 1, ('round', 0): 5, ('book', 0): 22, ('\\\\x\\\\', 0): 1, ('ma', 0): 1, ('huh', 0): 11, ('fr', 0): 7, ('jo', 0): 1, ('wana', 0): 5, ('doubt', 0): 1, ('case', 0): 9, ('slept', 0): 6, ('thinkthi', 0): 1, ('pm', 0): 9, ('danger', 0): 1, ('post', 0): 13, ('studyn', 0): 1, ('owe', 0): 2, ('sux', 0): 2, ('snake', 0): 3, ('raiden', 0): 1, ('buff', 0): 3, ('neft', 0): 1, ('transact', 0): 2, ('refer', 0): 2, ('credit', 0): 3, ('beneficiari', 0): 1, ('account', 0): 13, ('&lttime&gt', 0): 4, ('asa', 0): 1, ('tough', 0): 4, ('optimist', 0): 1, ('improv', 0): 2, ('yessura', 0): 1, ('sun', 0): 13, ('pretti', 0): 9, ('weak', 0): 6, ('muz', 0): 5, ('unlimit', 0): 3, ('gam', 0): 1, ('outstand', 0): 2, ('inning', 0): 2, ('kwhi', 0): 1, ('helloooo', 0): 2, ('\\\\sweet\\\\', 0): 2, ('morning\\\\', 0): 2, ('welcomes\\\\', 0): 2, ('you\\\\', 0): 2, ('enjoy\\\\', 0): 2, ('joy\\\\', 0): 2, ('mrng\\\\', 0): 2, ('nelson', 0): 1, ('expect', 0): 9, ('aint', 0): 5, ('callon', 0): 1, ('assum', 0): 3, ('hiya', 0): 8, ('bristol', 0): 1, ('st', 0): 5, ('le', 0): 1, ('rudi', 0): 1, ('snore', 0): 1, ('drunk', 0): 2, ('bak', 0): 5, ('ink', 0): 1, ('cours', 0): 8, ('coimbator', 0): 1, ('lei', 0): 11, ('schedul', 0): 2, ('kinda', 0): 6, ('twelv', 0): 1, ('aah', 0): 2, ('de', 0): 15, ('stuf', 0): 1, ('pig', 0): 2, ('bleh', 0): 2, ('writh', 0): 1, ('baaaaab', 0): 1, ('misss', 0): 1, ('youuuuu', 0): 1, ('brother', 0): 13, ('bat', 0): 1, ('til', 0): 14, ('pleassssssseeeee', 0): 1, ('avent', 0): 1, ('sportsx', 0): 1, ('wors', 0): 4, ('fetch', 0): 6, ('red', 0): 5, ('includ', 0): 7, ('poor', 0): 7, ('relat', 0): 5, ('some1', 0): 6, ('marri', 0): 7, ('space', 0): 4, ('furnitur', 0): 2, ('lock', 0): 2, ('key', 0): 4, ('jenn', 0): 1, ('cozi', 0): 1, ('exhaust', 0): 2, ('close', 0): 14, ('necklac', 0): 2, ('token', 0): 1, ('sing', 0): 1, ('pose', 0): 1, ('comb', 0): 1, ('dryer', 0): 1, ('where', 0): 5, ('fyi', 0): 3, ('sporad', 0): 1, ('bc', 0): 2, ('beach', 0): 1, ('whenevr', 0): 2, ('gray', 0): 1, ('remembr', 0): 2, ('listn', 0): 1, ('watevr', 0): 1, ('littl', 0): 19, ('promis', 0): 6, ('ahead', 0): 3, ('drama', 0): 1, ('struggl', 0): 1, ('hot', 0): 4, ('strang', 0): 2, ('reason', 0): 13, ('ego', 0): 1, ('necess', 0): 1, ('seriou', 0): 4, ('reppurcuss', 0): 1, ('cook', 0): 4, ('everyon', 0): 10, ('bye', 0): 6, ('sens', 0): 5, ('unless', 0): 4, ('wikipedia', 0): 1, ('com', 0): 7, ('piggi', 0): 1, ('bet', 0): 2, ('fell', 0): 2, ('asleep', 0): 4, ('iåõm', 0): 3, ('knacker', 0): 1, ('dread', 0): 1, ('thou', 0): 1, ('upto', 0): 2, ('x', 0): 25, ('ktv', 0): 1, ('wouldnt', 0): 2, ('shell', 0): 2, ('wkend', 0): 2, ('yetund', 0): 3, ('mid', 0): 4, ('januari', 0): 5, ('period', 0): 3, ('hairdress', 0): 1, ('four', 0): 1, ('beforehand', 0): 1, ('creep', 0): 1, ('_', 0): 3, ('wall', 0): 4, ('safe', 0): 5, ('break', 0): 9, ('goodnoon', 0): 2, ('bawl', 0): 1, ('failur', 0): 1, ('adsens', 0): 1, ('approv', 0): 2, ('dice', 0): 1, ('thru', 0): 5, ('idea', 0): 9, ('goodmat', 0): 1, ('sari', 0): 2, ('asusu', 0): 1, ('cheer', 0): 4, ('franyxxxxx', 0): 1, ('lolnic', 0): 1, ('fish', 0): 3, ('water', 0): 3, ('port', 0): 1, ('step', 0): 3, ('ex', 0): 6, ('cramp', 0): 1, ('jeremiah', 0): 1, ('dull', 0): 1, ('easi', 0): 11, ('weird', 0): 2, ('bein', 0): 3, ('\\\\woah\\\\', 0): 1, ('realis', 0): 4, ('oh\\\\', 0): 1, ('typic', 0): 1, ('ofcours', 0): 1, ('upload', 0): 2, ('song', 0): 6, ('face', 0): 12, ('seen', 0): 11, ('depress', 0): 1, ('understood', 0): 2, ('tke', 0): 1, ('didntgiv', 0): 1, ('bellearli', 0): 1, ('nudist', 0): 1, ('theme', 0): 2, ('tour', 0): 3, ('surf', 0): 2, ('valuabl', 0): 2, ('loos', 0): 2, ('smoothli', 0): 1, ('bother', 0): 7, ('bill', 0): 3, ('settl', 0): 6, ('challeng', 0): 2, ('cantdo', 0): 1, ('anythingtomorrow', 0): 1, ('mypar', 0): 1, ('aretak', 0): 1, ('outfor', 0): 1, ('meal', 0): 3, ('katexxx\\\\', 0): 1, ('lobbi', 0): 1, ('taken', 0): 2, ('stereo', 0): 1, ('mi', 0): 1, ('squishi', 0): 1, ('mwah', 0): 1, ('shoppin', 0): 2, ('area', 0): 4, ('hotel', 0): 5, ('simpli', 0): 2, ('hon', 0): 2, ('doinat', 0): 1, ('near', 0): 4, ('univ', 0): 1, ('sex', 0): 2, ('cuddl', 0): 5, ('yago', 0): 1, ('restaur', 0): 2, ('apologis', 0): 2, ('cali', 0): 2, ('english', 0): 4, ('bloke', 0): 3, ('weddin', 0): 1, ('admin', 0): 1, ('slightli', 0): 1, ('garag', 0): 1, ('arent', 0): 5, ('bookshelf', 0): 1, ('blastin', 0): 1, ('tsunami', 0): 2, ('occur', 0): 2, ('rajnik', 0): 1, ('swim', 0): 3, ('indian', 0): 2, ('ocean', 0): 1, ('imma', 0): 4, ('flip', 0): 1, ('corpor', 0): 1, ('gap', 0): 6, ('fanci', 0): 5, ('meetin', 0): 3, ('cha', 0): 1, ('lil', 0): 1, ('beverag', 0): 1, ('tire', 0): 8, ('pist', 0): 1, ('x\\\\', 0): 2, ('sch', 0): 11, ('dresser', 0): 2, ('china', 0): 3, ('maid', 0): 4, ('public', 0): 3, ('holiday', 0): 7, ('govt', 0): 3, ('instituit', 0): 3, ('aiyar', 0): 4, ('jia', 0): 2, ('sooner', 0): 2, ('gari', 0): 4, ('ptbo', 0): 3, ('cheaper', 0): 1, ('machin', 0): 1, ('black', 0): 3, ('blue', 0): 9, ('jean', 0): 2, ('misbehav', 0): 1, ('slap', 0): 2, ('urself', 0): 3, ('fault', 0): 3, ('hang', 0): 2, ('dahe', 0): 1, ('stupid', 0): 6, ('thisdon', 0): 1, ('pandi', 0): 1, ('mental', 0): 2, ('ho', 0): 5, ('romant', 0): 3, ('sceneri', 0): 1, ('jaya', 0): 2, ('experi', 0): 5, ('american', 0): 1, ('bitch', 0): 3, ('act', 0): 2, ('interest', 0): 9, ('els', 0): 11, ('plm', 0): 2, ('wendi', 0): 1, ('ì_ll', 0): 1, ('submit', 0): 2, ('tessi', 0): 3, ('favor', 0): 3, ('nimya', 0): 5, ('shija', 0): 3, ('sonathaya', 0): 1, ('soladha', 0): 1, ('shadow', 0): 1, ('tat', 0): 4, ('askin', 0): 4, ('increas', 0): 1, ('chanc', 0): 6, ('shuhui', 0): 3, ('yan', 0): 5, ('jiu', 0): 5, ('soo', 0): 2, ('donåõt', 0): 3, ('2morrow', 0): 2, ('entrepreneur', 0): 1, ('giggl', 0): 1, ('saw', 0): 13, ('possibl', 0): 7, ('person2di', 0): 1, ('nvq', 0): 1, ('breather', 0): 1, ('grant', 0): 1, ('fulfil', 0): 1, ('bless', 0): 7, ('storm', 0): 2, ('lift', 0): 6, ('phne', 0): 2, ('\\\\hello\\\\', 0): 2, ('knw', 0): 10, ('wt', 0): 2, ('margaret', 0): 2, ('hello\\\\', 0): 2, ('girlfrnd', 0): 2, ('f', 0): 2, ('grahmbel', 0): 2, ('invnt', 0): 2, ('telphon', 0): 2, ('moralon', 0): 2, ('4get', 0): 3, ('absolut', 0): 1, ('recent', 0): 4, ('dint', 0): 4, ('uhhhhrmm', 0): 1, ('tb', 0): 2, ('didt', 0): 4, ('kwhere', 0): 1, ('theyr', 0): 4, ('dramat', 0): 1, ('appar', 0): 4, ('nimbomson', 0): 1, ('obvious', 0): 3, ('hillsborough', 0): 1, ('funni', 0): 4, ('volcano', 0): 1, ('erupt', 0): 1, ('aris', 0): 1, ('hurrican', 0): 1, ('sway', 0): 1, ('aroundn', 0): 1, ('choos', 0): 6, ('natur', 0): 6, ('disast', 0): 1, ('date', 0): 8, ('bore', 0): 15, ('net', 0): 7, ('kappa', 0): 2, ('gimm', 0): 1, ('lip', 0): 2, ('caveboy', 0): 1, ('woodland', 0): 1, ('avenu', 0): 1, ('somewher', 0): 4, ('parish', 0): 1, ('magazin', 0): 1, ('telephon', 0): 2, ('lap', 0): 1, ('excus', 0): 8, ('mesag', 0): 1, ('whore', 0): 1, ('unbeliev', 0): 1, ('mmmmmmm', 0): 1, ('*snuggl', 0): 1, ('you*', 0): 1, ('*deep', 0): 2, ('content', 0): 2, ('sigh*', 0): 2, ('*whispers*', 0): 1, ('moment', 0): 8, ('faith', 0): 2, ('fan', 0): 1, ('carlo', 0): 11, ('patti', 0): 2, ('haul', 0): 1, ('ass', 0): 5, ('ah', 0): 22, ('passabl', 0): 1, ('high', 0): 3, ('score', 0): 2, ('phd', 0): 1, ('5year', 0): 1, ('salari', 0): 3, ('bird', 0): 2, ('purchas', 0): 2, ('thnk', 0): 3, ('wrong', 0): 11, ('offlin', 0): 1, ('anjola', 0): 1, ('cancel', 0): 5, ('shoe', 0): 1, ('discuss', 0): 5, ('aiyo', 0): 3, ('mei', 0): 1, ('workin', 0): 3, ('bao', 0): 1, ('sugardad', 0): 1, ('exam', 0): 11, ('teacher', 0): 3, ('darren', 0): 7, ('short', 0): 5, ('anybodi', 0): 6, ('chip', 0): 1, ('wnt', 0): 3, ('tlk', 0): 2, ('mapquest', 0): 1, ('\\\\usf', 0): 1, ('dogwood', 0): 1, ('drive\\\\', 0): 1, ('bslvyl', 0): 7, ('fullonsm', 0): 4, ('accept', 0): 6, ('beg', 0): 2, ('avoid', 0): 4, ('missunderstd', 0): 1, ('wit', 0): 7, ('belov', 0): 2, ('7th', 0): 2, ('6th', 0): 2, ('5th', 0): 2, ('4th', 0): 2, ('3rd', 0): 3, ('1st', 0): 6, ('\\\\ur', 0): 2, ('friendship\\\\', 0): 2, ('6pm', 0): 3, ('abi', 0): 3, ('three', 0): 2, ('singl', 0): 5, ('\\\\miss', 0): 1, ('life\\\\', 0): 1, ('blake', 0): 3, ('yest', 0): 5, ('small', 0): 5, ('dose', 0): 1, ('fever', 0): 2, ('total', 0): 6, ('video', 0): 2, ('convert', 0): 2, ('googl', 0): 4, ('advic', 0): 4, ('necessarili', 0): 1, ('headin', 0): 2, ('stage', 0): 1, ('aha', 0): 3, ('naughti', 0): 6, ('tirupur', 0): 3, ('hrishi', 0): 2, ('antibiot', 0): 1, ('chest', 0): 1, ('abdomen', 0): 1, ('gyna', 0): 1, ('infect', 0): 2, ('bone', 0): 1, ('hors', 0): 1, ('race', 0): 2, ('ate', 0): 3, ('chicken', 0): 2, ('rice', 0): 1, ('inform', 0): 10, ('applic', 0): 1, ('airtel', 0): 2, ('broadband', 0): 1, ('success', 0): 4, ('mca', 0): 1, ('conform', 0): 1, ('diet', 0): 3, ('slice', 0): 2, ('tightli', 0): 1, ('import', 0): 10, ('26th', 0): 1, ('juli', 0): 1, ('door', 0): 5, ('mr', 0): 5, ('london', 0): 2, ('treatin', 0): 1, ('treacl', 0): 1, ('po', 0): 2, ('box', 0): 2, ('youv', 0): 7, ('wishin', 0): 2, ('ben', 0): 1, ('sen', 0): 3, ('thu', 0): 1, ('shouldnt', 0): 3, ('lab', 0): 3, ('command', 0): 1, ('took', 0): 11, ('reaction', 0): 2, ('senthil', 0): 1, ('apnt', 0): 1, ('5pm', 0): 2, ('oreo', 0): 2, ('truffl', 0): 2, ('vikki', 0): 4, ('olav', 0): 1, ('mandara', 0): 1, ('trishul', 0): 1, ('playin', 0): 1, ('poker', 0): 2, ('kg', 0): 2, ('sinc', 0): 16, ('pressur', 0): 1, ('limit', 0): 2, ('bhaji', 0): 1, ('cricket', 0): 1, ('sachin', 0): 2, ('addi', 0): 1, ('tue', 0): 3, ('gautham', 0): 2, ('missi', 0): 1, ('anthoni', 0): 1, ('bf', 0): 2, ('latest', 0): 3, ('tyler', 0): 5, ('kate', 0): 7, ('somethin', 0): 2, ('swan', 0): 1, ('parent', 0): 9, ('xuhui', 0): 3, ('8am', 0): 1, ('cp', 0): 1, ('outag', 0): 2, ('conserv', 0): 1, ('energi', 0): 1, ('perform', 0): 1, ('award', 0): 1, ('calcul', 0): 2, ('current', 0): 2, ('varma', 0): 1, ('kept', 0): 3, ('membership', 0): 2, ('insha', 0): 1, ('allah', 0): 2, ('woo', 0): 1, ('hoo', 0): 1, ('but', 0): 1, ('freedom', 0): 2, ('vs', 0): 1, ('respons', 0): 4, ('ad', 0): 6, ('cheesi', 0): 1, ('frosti', 0): 1, ('snowman', 0): 2, ('arr', 0): 1, ('oscar', 0): 1, ('dusk', 0): 1, ('solv', 0): 4, ('puzzl', 0): 1, ('bec', 0): 2, ('templ', 0): 1, ('hypertens', 0): 1, ('bmw', 0): 1, ('shortag', 0): 1, ('lac', 0): 2, ('sourc', 0): 2, ('arng', 0): 1, ('amt', 0): 3, ('opinion', 0): 7, ('jada', 0): 3, ('kusruthi', 0): 3, ('silent', 0): 5, ('spl', 0): 4, ('charact', 0): 4, ('matur', 0): 4, ('stylish', 0): 4, ('poop', 0): 1, ('laptop', 0): 6, ('cuz', 0): 4, ('gpu', 0): 1, ('decis', 0): 6, ('simpler', 0): 2, ('less', 0): 6, ('magic', 0): 3, ('chillin', 0): 3, ('super', 0): 2, ('bowl', 0): 3, ('stil', 0): 1, ('tobe', 0): 1, ('430', 0): 1, ('630', 0): 2, ('temal', 0): 1, ('hmm', 0): 11, ('bottl', 0): 2, ('wine', 0): 5, ('amus', 0): 1, ('white', 0): 3, ('earth', 0): 5, ('ray', 0): 4, ('cloud', 0): 1, ('river', 0): 2, ('environ', 0): 2, ('terrif', 0): 2, ('food', 0): 10, ('skint', 0): 1, ('bevi', 0): 1, ('waz', 0): 1, ('gona', 0): 3, ('&othr', 0): 1, ('spoon', 0): 1, ('jst', 0): 2, ('watchng', 0): 1, ('planet', 0): 1, ('earth&sofa', 0): 1, ('comfey', 0): 1, ('dom', 0): 1, ('roger', 0): 3, ('found', 0): 11, ('pierr', 0): 1, ('cardin', 0): 1, ('sale', 0): 4, ('write', 0): 5, ('ccna', 0): 1, ('arriv', 0): 3, ('castor', 0): 1, ('guai', 0): 1, ('shd', 0): 3, ('jog', 0): 2, ('ticket', 0): 12, ('wasnt', 0): 6, ('french', 0): 1, ('fool', 0): 4, ('gs', 0): 1, ('scroung', 0): 2, ('ammo', 0): 1, ('ak', 0): 1, ('din', 0): 4, ('deni', 0): 2, ('mina', 0): 1, ('oooh', 0): 2, ('plenti', 0): 3, ('dudett', 0): 1, ('url', 0): 1, ('foreign', 0): 3, ('stamp', 0): 3, ('countri', 0): 2, ('lectur', 0): 4, ('lovin', 0): 1, ('so', 0): 1, ('amount', 0): 3, ('drinkin', 0): 1, ('ron', 0): 1, ('fri', 0): 14, ('ding', 0): 1, ('tai', 0): 1, ('feng', 0): 1, ('reserv', 0): 4, ('tix', 0): 1, ('specif', 0): 2, ('restrict', 0): 1, ('anythin', 0): 3, ('darker', 0): 1, ('straight', 0): 2, ('strong', 0): 1, ('dri', 0): 2, ('season', 0): 4, ('tuition', 0): 4, ('1030', 0): 3, ('there', 0): 14, ('yoga', 0): 4, ('bugi', 0): 4, ('pilat', 0): 4, ('intro', 0): 2, ('theori', 0): 3, ('21', 0): 1, ('jiayin', 0): 2, ('collect', 0): 4, ('chequ', 0): 1, ('sunni', 0): 4, ('africa', 0): 1, ('avin', 0): 1, ('silver', 0): 2, ('studi', 0): 12, ('meh', 0): 7, ('hourish', 0): 1, ('i\\x89û÷v', 0): 1, ('salt', 0): 1, ('rub', 0): 2, ('wound', 0): 1, ('who', 0): 5, ('holbi', 0): 1, ('horribl', 0): 4, ('grl', 0): 4, ('hogolo', 0): 1, ('gold', 0): 1, ('kodstini', 0): 1, ('agalla', 0): 2, ('madstini', 0): 1, ('hogli', 0): 1, ('mutai', 0): 1, ('eerulli', 0): 1, ('kodthini', 0): 1, ('greatest', 0): 2, ('courag', 0): 2, ('bear', 0): 2, ('defeat', 0): 2, ('lose', 0): 20, ('tc', 0): 2, ('explicitli', 0): 1, ('nora', 0): 1, ('unfortun', 0): 2, ('mrt', 0): 7, ('himthen', 0): 1, ('futur', 0): 4, ('rr', 0): 1, ('arun', 0): 2, ('transfr', 0): 3, ('chillaxin', 0): 1, ('okey', 0): 3, ('dokey', 0): 2, ('i\\x89û÷ll', 0): 2, ('steam', 0): 2, ('menu', 0): 6, ('noon', 0): 4, ('nationwid', 0): 1, ('auto', 0): 1, ('newport', 0): 1, ('shitstorm', 0): 1, ('attribut', 0): 1, ('thx', 0): 2, ('misplac', 0): 1, ('heard', 0): 4, ('mcat', 0): 2, ('atlanta', 0): 4, ('yalrigu', 0): 1, ('heltini', 0): 1, ('iyo', 0): 1, ('share', 0): 7, ('utter', 0): 2, ('other', 0): 7, ('inconveni', 0): 1, ('alright', 0): 16, ('grumpi', 0): 1, ('lie', 0): 3, ('play', 0): 11, ('mell', 0): 6, ('oru', 0): 4, ('minnaminungint', 0): 3, ('nurungu', 0): 3, ('vettam', 0): 3, ('out', 0): 1, ('\\\\get', 0): 2, ('esaplanad', 0): 1, ('mummi', 0): 4, ('neg', 0): 1, ('hmmmm', 0): 1, ('&gt', 0): 3, ('slow', 0): 7, ('xam', 0): 2, ('hall', 0): 1, ('hesit', 0): 2, ('lookin', 0): 3, ('intha', 0): 1, ('ponnungal', 0): 1, ('ipaditan', 0): 1, ('nah', 0): 4, ('perpetu', 0): 1, ('dd', 0): 1, ('honeymoon', 0): 1, ('outfit', 0): 1, ('fight', 0): 7, ('fightng', 0): 2, ('dificult', 0): 2, ('oic', 0): 2, ('whether', 0): 2, ('kb', 0): 5, ('power', 0): 5, ('tahan', 0): 2, ('anot', 0): 2, ('lo', 0): 1, ('septemb', 0): 1, ('market', 0): 3, ('sef', 0): 1, ('anji', 0): 1, ('lightli', 0): 1, ('draw', 0): 4, ('checkbox', 0): 1, ('hardcor', 0): 1, ('\\\\im', 0): 3, ('arestaur', 0): 1, ('squid', 0): 1, ('dosometh', 0): 1, ('$', 0): 4, ('umma', 0): 4, ('dollar', 0): 5, ('shoul', 0): 1, ('cover', 0): 2, ('sticki', 0): 1, ('sri', 0): 2, ('nw', 0): 2, ('toughest', 0): 1, ('cute', 0): 4, ('\\\\be', 0): 2, ('ador', 0): 2, ('cutest', 0): 1, ('present', 0): 6, ('final', 0): 7, ('boat', 0): 1, ('nake', 0): 3, ('team', 0): 1, ('noisi', 0): 1, ('upon', 0): 1, ('facebook', 0): 6, ('afraid', 0): 2, ('fp', 0): 1, ('9am', 0): 1, ('$95', 0): 1, ('pax', 0): 1, ('$50', 0): 1, ('deposit', 0): 1, ('16', 0): 1, ('thur', 0): 3, ('pre', 0): 1, ('sack', 0): 2, ('arrest', 0): 3, ('throw', 0): 5, ('cliff', 0): 2, ('mon', 0): 5, ('zoe', 0): 1, ('shitin', 0): 1, ('defo', 0): 1, ('hardest', 0): 1, ('2morow', 0): 2, ('million', 0): 2, ('lekdog', 0): 1, ('gei', 0): 1, ('happend', 0): 2, ('tron', 0): 1, ('dl', 0): 1, ('3d', 0): 3, ('hun', 0): 1, ('2nite', 0): 4, ('every1', 0): 1, ('ava', 0): 1, ('goodtim', 0): 1, ('oli', 0): 1, ('melnit', 0): 1, ('ifink', 0): 1, ('mite', 0): 1, ('explain', 0): 3, ('everythin', 0): 1, ('imagin', 0): 6, ('sink', 0): 1, ('pace', 0): 1, ('cage', 0): 1, ('cock', 0): 1, ('surround', 0): 1, ('remind', 0): 6, ('own', 0): 2, ('cuck', 0): 1, ('truli', 0): 1, ('memor', 0): 1, ('shijutta', 0): 1, ('continu', 0): 2, ('brisk', 0): 1, ('dearli', 0): 2, ('callin', 0): 2, ('sozi', 0): 1, ('culdnt', 0): 1, ('talkbut', 0): 1, ('wannatel', 0): 1, ('wenwecan', 0): 1, ('w', 0): 9, ('645', 0): 1, ('unhappi', 0): 2, ('truro', 0): 1, ('hospit', 0): 5, ('ext', 0): 1, ('str', 0): 1, ('mall', 0): 1, ('err', 0): 1, ('cud', 0): 2, ('8pm', 0): 1, ('contact', 0): 5, ('walik', 0): 1, ('esplanad', 0): 3, ('dessert', 0): 1, ('suntec', 0): 2, ('poyyarikatur', 0): 1, ('kolathupalayam', 0): 1, ('unjalur', 0): 1, ('erod', 0): 1, ('releas', 0): 3, ('italian', 0): 2, ('cosign', 0): 1, ('option', 0): 3, ('howz', 0): 4, ('ystrday', 0): 1, ('medicin', 0): 2, ('wa', 0): 2, ('effici', 0): 1, ('dear1', 0): 2, ('best1', 0): 2, ('clos1', 0): 2, ('lvblefrnd', 0): 2, ('jstfrnd', 0): 2, ('cutefrnd', 0): 2, ('lifpartnr', 0): 2, ('belovd', 0): 2, ('swtheart', 0): 2, ('bstfrnd', 0): 2, ('rpli', 0): 3, ('enemi', 0): 4, ('login', 0): 1, ('onward', 0): 1, ('rubber', 0): 1, ('backward', 0): 1, ('jesu', 0): 3, ('donno', 0): 2, ('scorabl', 0): 1, ('wet', 0): 1, ('creat', 0): 3, ('finger', 0): 4, ('scream', 0): 9, ('wisdom', 0): 1, ('hidden', 0): 1, ('iz', 0): 2, ('yellow', 0): 2, ('frndship', 0): 2, ('misscal', 0): 1, ('frndz', 0): 1, ('6miss', 0): 1, ('tortilla', 0): 1, ('soup', 0): 2, ('yummmm', 0): 1, ('harri', 0): 1, ('*love', 0): 2, ('kiss*', 0): 7, ('fren', 0): 3, ('comei', 0): 1, ('jack', 0): 1, ('pretend', 0): 1, ('hypotheticalhuagauahahuagahyuhagga', 0): 1, ('uncl', 0): 11, ('directli', 0): 4, ('piti', 0): 1, ('suggest', 0): 3, ('fall', 0): 6, ('prone', 0): 1, ('mmm', 0): 2, ('iåõd', 0): 1, ('match', 0): 2, ('bloodi', 0): 1, ('730', 0): 1, ('ortxt', 0): 1, ('jess', 0): 1, ('quarter', 0): 1, ('sleepwell&amptak', 0): 2, ('\\\\oh', 0): 2, ('juswok', 0): 1, ('boatin', 0): 1, ('dock', 0): 1, ('25', 0): 1, ('spinout', 0): 1, ('giv', 0): 1, ('gossip', 0): 1, ('xxx\\\\', 0): 2, ('death', 0): 2, ('note', 0): 3, ('rob', 0): 2, ('aveng', 0): 1, ('languag', 0): 1, ('wkg', 0): 2, ('nu', 0): 2, ('sc', 0): 1, ('specialis', 0): 1, ('wad', 0): 1, ('honesti', 0): 1, ('steak', 0): 1, ('hadnt', 0): 1, ('clock', 0): 2, ('wahay', 0): 1, ('stabil', 0): 1, ('tranquil', 0): 1, ('vibrant', 0): 1, ('wtc', 0): 1, ('weiyi', 0): 1, ('budget', 0): 2, ('jackson', 0): 1, ('rec', 0): 1, ('center', 0): 2, ('moan', 0): 3, ('ecstasi', 0): 1, ('spoke', 0): 3, ('woke', 0): 6, ('past', 0): 4, ('congratul', 0): 1, ('\\\\me', 0): 1, ('itboth', 0): 1, ('upnot', 0): 1, ('fit', 0): 2, ('muchxxlov', 0): 1, ('locaxx\\\\', 0): 1, ('repent', 0): 1, ('foot', 0): 1, ('peni', 0): 2, ('mode', 0): 5, ('predict', 0): 2, ('accumul', 0): 1, ('shant', 0): 1, ('anymor', 0): 4, ('prsn', 0): 1, ('dem', 0): 2, ('somtim', 0): 2, ('quiet', 0): 2, ('nothin', 0): 2, ('eveb', 0): 2, ('audrey', 0): 2, ('statu', 0): 1, ('signal', 0): 1, ('neither', 0): 2, ('unusu', 0): 1, ('smokin', 0): 1, ('eaten', 0): 2, ('report', 0): 4, ('btwn', 0): 1, ('leg', 0): 3, ('usf', 0): 2, ('panic', 0): 1, ('surrend', 0): 1, ('lm', 0): 1, ('complain', 0): 1, ('num', 0): 2, ('bettr', 0): 1, ('bsnl', 0): 1, ('offc', 0): 1, ('nd', 0): 1, ('famamu', 0): 1, ('chez', 0): 1, ('jule', 0): 1, ('eight', 0): 2, ('peac', 0): 3, ('tim', 0): 1, ('bollox', 0): 1, ('&it', 0): 1, ('tol', 0): 1, ('asap', 0): 4, ('rel', 0): 1, ('bull', 0): 1, ('float', 0): 1, ('ikea', 0): 2, ('mess', 0): 3, ('skip', 0): 2, ('front', 0): 1, ('pull', 0): 3, ('chief', 0): 1, ('bell', 0): 2, ('royal', 0): 2, ('june', 0): 3, ('monkey', 0): 2, ('asshol', 0): 1, ('dual', 0): 1, ('330', 0): 1, ('1120', 0): 1, ('1205', 0): 1, ('madam', 0): 2, ('dlf', 0): 1, ('premarica', 0): 1, ('kindli', 0): 2, ('rgd', 0): 1, ('graviti', 0): 2, ('\\\\our', 0): 2, ('heavi', 0): 3, ('goodmorn', 0): 6, ('dump', 0): 1, ('heap', 0): 1, ('low', 0): 3, ('garbag', 0): 1, ('bag', 0): 5, ('egg', 0): 6, ('jam', 0): 1, ('hannaford', 0): 1, ('wheat', 0): 1, ('chex', 0): 1, ('takin', 0): 2, ('linear', 0): 1, ('algebra', 0): 1, ('brolli', 0): 1, ('2mrw', 0): 2, ('franxx', 0): 1, ('cheeto', 0): 1, ('instead', 0): 6, ('scold', 0): 1, ('kk', 0): 1, ('goodwhen', 0): 1, ('gt', 0): 4, ('atm', 0): 4, ('regist', 0): 2, ('cat', 0): 3, ('cold', 0): 2, ('2marrow', 0): 1, ('audri', 0): 1, ('autocorrect', 0): 1, ('swing', 0): 5, ('roommat', 0): 4, ('hip', 0): 2, ('hop', 0): 4, ('weigh', 0): 3, ('birla', 0): 2, ('soft', 0): 2, ('certainli', 0): 2, ('perspect', 0): 1, ('kalainar', 0): 1, ('thenampet', 0): 1, ('toshiba', 0): 1, ('porteg', 0): 1, ('m100', 0): 1, ('izzit', 0): 5, ('heavili', 0): 1, ('å£33', 0): 1, ('65', 0): 2, ('alrit', 0): 2, ('sam', 0): 1, ('nic', 0): 1, ('checkin', 0): 1, ('b*', 0): 1, ('treadmil', 0): 1, ('craigslist', 0): 1, ('nichol', 0): 2, ('\\\\hello', 0): 2, ('wrk', 0): 2, ('dabook', 0): 1, ('nite2', 0): 1, ('fear', 0): 1, ('faint', 0): 1, ('housework', 0): 1, ('quick', 0): 6, ('cuppa', 0): 1, ('\\\\aww', 0): 1, ('nearli', 0): 1, ('jez', 0): 1, ('iscom', 0): 1, ('todo', 0): 1, ('workand', 0): 1, ('whilltak', 0): 1, ('bw', 0): 1, ('pansi', 0): 1, ('jungl', 0): 1, ('lush', 0): 2, ('tea', 0): 3, ('fumbl', 0): 1, ('curiou', 0): 2, ('burial', 0): 1, ('email', 0): 12, ('hcl', 0): 1, ('requir', 0): 2, ('fresher', 0): 1, ('ms', 0): 1, ('suman', 0): 1, ('indyarock', 0): 1, ('galileo', 0): 2, ('dobbi', 0): 2, ('kbut', 0): 1, ('hitter', 0): 1, ('dick', 0): 2, ('fredericksburg', 0): 1, ('carton', 0): 1, ('shelv', 0): 1, ('cab', 0): 1, ('bar', 0): 2, ('airport', 0): 3, ('satsgettin', 0): 1, ('47per', 0): 1, ('offici', 0): 1, ('paid', 0): 4, ('8th', 0): 3, ('thatd', 0): 1, ('scenario', 0): 1, ('edg', 0): 2, ('hangin', 0): 1, ('makin', 0): 1, ('lambu', 0): 1, ('ji', 0): 1, ('batchlor', 0): 1, ('moji', 0): 3, ('speechless', 0): 2, ('easili', 0): 1, ('length', 0): 2, ('behalf', 0): 1, ('stun', 0): 1, ('pure', 0): 1, ('guilti', 0): 1, ('smiley', 0): 1, ('womdarful', 0): 1, ('actor', 0): 2, ('jp', 0): 1, ('hungri', 0): 10, ('mofo', 0): 1, ('ffffuuuuuuu', 0): 1, ('mark', 0): 6, ('diaper', 0): 1, ('rather', 0): 6, ('promin', 0): 1, ('bite', 0): 4, ('cheek', 0): 1, ('ubi', 0): 3, ('67441233', 0): 1, ('iren', 0): 1, ('ere', 0): 1, ('bus8', 0): 1, ('22', 0): 1, ('61', 0): 1, ('66', 0): 1, ('382', 0): 1, ('cre', 0): 1, ('tech', 0): 2, ('6ph', 0): 1, ('5wkg', 0): 1, ('ì¬n', 0): 1, ('cheyyamo', 0): 1, ('member', 0): 2, ('ovarian', 0): 1, ('cyst', 0): 1, ('shrink', 0): 1, ('\\\\yeh', 0): 1, ('avatar', 0): 3, ('imp', 0): 1, ('fli', 0): 3, ('hittng', 0): 1, ('reflex', 0): 1, ('bay', 0): 3, ('sup', 0): 4, ('poet', 0): 1, ('sth', 0): 1, ('spec', 0): 1, ('px3748', 0): 1, ('oga', 0): 1, ('pase', 0): 1, ('un', 0): 1, ('buen', 0): 1, ('tiempo', 0): 1, ('\\\\not', 0): 1, ('enufcredeit', 0): 1, ('tocal', 0): 1, ('ileav', 0): 1, ('uni', 0): 3, ('yor', 0): 1, ('chad', 0): 1, ('gymnast', 0): 1, ('site', 0): 1, ('christian', 0): 1, ('cup', 0): 2, ('weight', 0): 7, ('luton', 0): 1, ('0125698789', 0): 1, ('h*', 0): 1, ('awww', 0): 1, ('lone', 0): 1, ('mentor', 0): 1, ('100', 0): 1, ('percent', 0): 1, ('forgiven', 0): 1, ('deu', 0): 2, ('station', 0): 3, ('\\\\si', 0): 1, ('como', 0): 1, ('listened2th', 0): 1, ('plaid', 0): 1, ('gd&the', 0): 1, ('air1', 0): 1, ('hilari', 0): 1, ('boughtåóbraindanceåóa', 0): 1, ('comp', 0): 2, ('ofstuff', 0): 1, ('aphexåõ', 0): 1, ('abel', 0): 1, ('mth', 0): 2, ('whenev', 0): 4, ('blimey', 0): 1, ('exercis', 0): 1, ('blackberri', 0): 4, ('wifi', 0): 2, ('ipad', 0): 1, ('thinl', 0): 1, ('role', 0): 3, ('bbd', 0): 1, ('dvg', 0): 1, ('vinobanagar', 0): 1, ('ru', 0): 2, ('disconnect', 0): 1, ('nigeria', 0): 6, ('buyer', 0): 1, ('4a', 0): 1, ('lemm', 0): 4, ('nowadayslot', 0): 1, ('showroomsc', 0): 1, ('shape', 0): 1, ('will', 0): 4, ('leona', 0): 2, ('outta', 0): 3, ('12', 0): 2, ('drivin', 0): 3, ('tast', 0): 3, ('funer', 0): 2, ('lotta', 0): 2, ('corvett', 0): 1, ('tmrw', 0): 1, ('kill', 0): 3, ('proper', 0): 1, ('tongu', 0): 1, ('dough', 0): 1, ('control', 0): 1, ('impress', 0): 2, ('sensibl', 0): 1, ('load', 0): 7, ('nasti', 0): 1, ('cough', 0): 2, ('shot', 0): 2, ('aliv', 0): 2, ('correct', 0): 5, ('urin', 0): 1, ('muhommad', 0): 1, ('penni', 0): 1, ('whr', 0): 1, ('inde', 0): 2, ('payment', 0): 2, ('fedex', 0): 1, ('mmmm', 0): 3, ('lick', 0): 4, ('opposit', 0): 1, ('qualiti', 0): 2, ('fade', 0): 1, ('glori', 0): 1, ('ralph', 0): 1, ('crucial', 0): 1, ('sign', 0): 6, ('*have', 0): 1, ('evening*', 0): 1, ('stomach', 0): 3, ('raji', 0): 2, ('favour', 0): 2, ('hockey', 0): 1, ('elect', 0): 1, ('shouldn\\x89û÷t', 0): 1, ('marriag', 0): 4, ('function', 0): 1, ('involv', 0): 2, ('impos', 0): 1, ('cancer', 0): 3, ('regular', 0): 2, ('checkup', 0): 1, ('aka', 0): 2, ('pap', 0): 1, ('smear', 0): 1, ('qet', 0): 1, ('jetton', 0): 1, ('ave', 0): 3, ('pool', 0): 2, ('jacuzzi', 0): 1, ('oclock', 0): 1, ('bash', 0): 1, ('sooo', 0): 1, ('data', 0): 1, ('analysi', 0): 1, ('monday', 0): 4, ('thesi', 0): 1, ('otsid', 0): 1, ('imag', 0): 2, ('hahaha', 0): 2, ('brain', 0): 2, ('batteri', 0): 5, ('colleagu', 0): 2, ('letter', 0): 5, ('variou', 0): 1, ('corect', 0): 1, ('spele', 0): 1, ('sarcasm', 0): 2, ('hate', 0): 5, ('annoy', 0): 1, ('neshanth', 0): 1, ('diddi', 0): 1, ('neighbor', 0): 1, ('toothpast', 0): 1, ('divorc', 0): 1, ('\\\\nver', 0): 1, ('occupi', 0): 2, ('biggest', 0): 1, ('flood', 0): 1, ('issu', 0): 3, ('greec', 0): 1, ('rent', 0): 5, ('loan', 0): 3, ('balanc', 0): 2, ('ibor', 0): 1, ('ami', 0): 1, ('intellig', 0): 2, ('crash', 0): 2, ('multimedia', 0): 1, ('mega', 0): 1, ('asda', 0): 1, ('celebr', 0): 2, ('grace', 0): 2, ('measur', 0): 3, ('boundari', 0): 1, ('endless', 0): 1, ('whatsup', 0): 2, ('hlday', 0): 1, ('camp', 0): 1, ('amrca', 0): 1, ('serena', 0): 1, ('%of', 0): 1, ('pple', 0): 5, ('becz', 0): 1, ('undrstndng', 0): 1, ('suffer', 0): 1, ('whn', 0): 2, ('suck', 0): 5, ('2hr', 0): 1, ('jan', 0): 2, ('al', 0): 7, ('ofic', 0): 2, ('duffer', 0): 1, ('bluray', 0): 1, ('satan', 0): 1, ('impost', 0): 1, ('destini', 0): 1, ('scratch', 0): 1, ('playng', 0): 1, ('jade', 0): 1, ('paul', 0): 1, ('didnåõt', 0): 2, ('barm', 0): 1, ('awesom', 0): 5, ('payback', 0): 1, ('ride', 0): 4, ('equal', 0): 1, ('unev', 0): 1, ('peski', 0): 1, ('cyclist', 0): 1, ('hmph', 0): 1, ('baller', 0): 1, ('unemploy', 0): 2, ('swatch', 0): 1, ('116', 0): 1, ('coveragd', 0): 1, ('vasai', 0): 1, ('4o', 0): 1, ('ima', 0): 1, ('ceri', 0): 1, ('rebel', 0): 1, ('dreamz', 0): 1, ('buddi', 0): 1, ('2moro', 0): 1, ('geniu', 0): 2, ('feet', 0): 1, ('miwa', 0): 1, ('karaok', 0): 2, ('payasam', 0): 1, ('rinu', 0): 1, ('stu', 0): 1, ('trubl', 0): 1, ('evon', 0): 1, ('av', 0): 2, ('bck', 0): 1, ('dan', 0): 1, ('\\\\it', 0): 1, ('necessari', 0): 2, ('tomorro', 0): 1, ('awkward', 0): 1, ('biola', 0): 2, ('fne', 0): 1, ('strict', 0): 1, ('conduct', 0): 2, ('tall', 0): 1, ('nigro', 0): 1, ('half8th', 0): 1, ('effect', 0): 2, ('reg', 0): 2, ('ciao', 0): 1, ('lifei', 0): 1, ('daywith', 0): 1, ('somewheresomeon', 0): 1, ('tosend', 0): 1, ('attend', 0): 4, ('ranjith', 0): 1, ('drpd', 0): 1, ('deeraj', 0): 1, ('deepak', 0): 1, ('fran', 0): 2, ('ps', 0): 1, ('dirti', 0): 2, ('anal', 0): 1, ('10', 0): 5, ('gang', 0): 1, ('bang', 0): 1, ('broke', 0): 1, ('exact', 0): 2, ('railway', 0): 3, ('rais', 0): 1, ('yeesh', 0): 1, ('fret', 0): 2, ('ovul', 0): 2, ('strip', 0): 1, ('postal', 0): 1, ('ull', 0): 7, ('mmmmm', 0): 2, ('sha', 0): 1, ('bought', 0): 3, ('2u', 0): 2, ('3wk', 0): 1, ('tootsi', 0): 1, ('pop', 0): 4, ('yck', 0): 2, ('yahoo', 0): 4, ('perf', 0): 1, ('legal', 0): 3, ('onlin', 0): 13, ('tuesday', 0): 6, ('fone', 0): 4, ('lay', 0): 3, ('envelop', 0): 2, ('faggot', 0): 1, ('boyfriend', 0): 1, ('appt', 0): 2, ('holi', 0): 2, ('christ', 0): 1, ('ooh', 0): 1, ('4got', 0): 1, ('danc', 0): 4, ('moseley', 0): 1, ('cafe', 0): 5, ('sake', 0): 1, ('thanx4', 0): 1, ('cer', 0): 1, ('often', 0): 3, ('meant', 0): 6, ('adewal', 0): 1, ('egbon', 0): 1, ('bbq', 0): 1, ('6ish', 0): 1, ('welcom', 0): 2, ('feelin', 0): 1, ('wuld', 0): 1, ('nuther', 0): 2, ('li', 0): 1, ('hai', 0): 3, ('repeat', 0): 1, ('hill', 0): 1, ('monster', 0): 1, ('blank', 0): 4, ('workout', 0): 1, ('fat', 0): 3, ('onit', 0): 1, ('panalam', 0): 1, ('gibb', 0): 1, ('unsold', 0): 1, ('mike', 0): 1, ('hussey', 0): 1, ('handsom', 0): 1, ('button', 0): 1, ('aid', 0): 2, ('patent', 0): 1, ('prolli', 0): 1, ('manual', 0): 1, ('processit', 0): 1, ('password', 0): 5, ('reset', 0): 1, ('troubleshoot', 0): 1, ('street', 0): 2, ('\\\\gimm', 0): 1, ('few\\\\', 0): 1, ('hooch', 0): 1, ('toaday', 0): 1, ('splat', 0): 1, ('graze', 0): 1, ('knee', 0): 1, ('\\x89û_thank', 0): 1, ('somebodi', 0): 4, ('jide', 0): 1, ('tee', 0): 2, ('jot', 0): 1, ('gener', 0): 3, ('brotha', 0): 3, ('goto', 0): 2, ('doctor', 0): 5, ('flaki', 0): 1, ('itsnot', 0): 1, ('child', 0): 2, ('unintent', 0): 1, ('nonetheless', 0): 1, ('chees', 0): 1, ('ttyl', 0): 3, ('ffffffffff', 0): 1, ('unnecessarili', 0): 2, ('hostil', 0): 1, ('shame', 0): 3, ('hdd', 0): 1, ('varaya', 0): 1, ('elaya', 0): 1, ('beta', 0): 1, ('sight', 0): 6, ('sh', 0): 3, ('ja', 0): 2, ('ay', 0): 1, ('everyso', 0): 1, ('panick', 0): 1, ('attract', 0): 2, ('twenti', 0): 1, ('durham', 0): 1, ('seat', 0): 1, ('king', 0): 3, ('cri', 0): 4, ('imprtant', 0): 1, ('tomorw', 0): 1, ('ny', 0): 1, ('blanket', 0): 1, ('suffici', 0): 1, ('spoken', 0): 2, ('kadeem', 0): 3, ('openin', 0): 1, ('sentenc', 0): 2, ('formal', 0): 2, ('eatin', 0): 1, ('puttin', 0): 1, ('pickl', 0): 1, ('impati', 0): 2, ('belliger', 0): 1, ('versu', 0): 1, ('del', 0): 1, ('sum', 0): 2, ('lucyxx', 0): 1, ('blah', 0): 3, ('sez', 0): 1, ('arab', 0): 1, ('evry1', 0): 1, ('eshxxxxxxxxxxx', 0): 1, ('size', 0): 3, ('eleph', 0): 1, ('shove', 0): 2, ('um', 0): 1, ('cram', 0): 1, ('kegger', 0): 1, ('log', 0): 4, ('usc', 0): 3, ('portal', 0): 1, ('pathaya', 0): 1, ('enketa', 0): 1, ('maraikara', 0): 1, ('possess', 0): 3, ('click', 0): 2, ('paragon', 0): 1, ('hook', 0): 3, ('&lturl&gt', 0): 3, ('surli', 0): 1, ('review', 0): 1, ('gist', 0): 1, ('nightnight', 0): 1, ('argu', 0): 4, ('mokka', 0): 1, ('er', 0): 3, ('mw', 0): 1, ('tuth', 0): 1, ('ic', 0): 2, ('mari', 0): 1, ('jane', 0): 1, ('sentiment', 0): 1, ('rowdi', 0): 1, ('ful', 0): 2, ('attitud', 0): 1, ('shi', 0): 1, ('antha', 0): 1, ('corrct', 0): 1, ('dane', 0): 1, ('subtoitl', 0): 1, ('rounderso', 0): 1, ('mm', 0): 4, ('sooooo', 0): 1, ('lion', 0): 1, ('*devour', 0): 1, ('sea*', 0): 1, ('previou', 0): 1, ('inev', 0): 1, ('excit', 0): 3, ('stare', 0): 1, ('juici', 0): 2, ('med', 0): 3, ('ruin', 0): 2, ('geeee', 0): 3, ('macho', 0): 1, ('interfu', 0): 1, ('watev', 0): 1, ('built', 0): 1, ('atlast', 0): 2, ('lonlin', 0): 1, ('lotz', 0): 1, ('memori', 0): 2, ('oper', 0): 1, ('*ador', 0): 1, ('affection', 0): 1, ('stalk', 0): 1, ('rebtel', 0): 1, ('firefox', 0): 1, ('user', 0): 1, ('lower', 0): 1, ('pin', 0): 5, ('display', 0): 1, ('middl', 0): 3, ('tact', 0): 1, ('kz', 0): 1, ('sura', 0): 2, ('weve', 0): 1, ('given', 0): 1, ('ultimatum', 0): 1, ('countin', 0): 1, ('aburo', 0): 1, ('2%', 0): 1, ('532', 0): 1, ('924', 0): 1, ('863', 0): 1, ('725', 0): 1, ('brilliant', 0): 3, ('1thing', 0): 1, ('answr', 0): 1, ('therel', 0): 1, ('minor', 0): 1, ('shindig', 0): 1, ('astrolog', 0): 1, ('clarif', 0): 1, ('distract', 0): 2, ('isaiah', 0): 1, ('pressi', 0): 1, ('superb', 0): 1, ('grate', 0): 1, ('happier', 0): 1, ('aiyah', 0): 4, ('clearli', 0): 1, ('epsilon', 0): 1, ('enc', 0): 1, ('wallet', 0): 1, ('top', 0): 4, ('underdtand', 0): 1, ('sdryb8i', 0): 1, ('supos', 0): 1, ('babysit', 0): 2, ('decor', 0): 1, ('smaller', 0): 1, ('capac', 0): 1, ('billion', 0): 2, ('jame', 0): 2, ('fart', 0): 1, ('harder', 0): 1, ('nbme', 0): 1, ('rem', 0): 4, ('debat', 0): 1, ('footbal', 0): 1, ('webpag', 0): 1, ('individu', 0): 2, ('gong', 0): 1, ('kaypoh', 0): 1, ('loud', 0): 2, ('gyno', 0): 1, ('consid', 0): 3, ('bunker', 0): 1, ('riley', 0): 1, ('[in', 0): 1, ('sterm', 0): 1, ('voice]', 0): 1, ('resolv', 0): 1, ('fab', 0): 1, ('except', 0): 4, ('nit', 0): 1, ('veggi', 0): 1, ('apples&pairs&al', 0): 1, ('malarki', 0): 1, ('thirunelvali', 0): 1, ('tirunelvali', 0): 2, ('tackl', 0): 1, ('hella', 0): 1, ('ga', 0): 2, ('grand', 0): 2, ('adventur', 0): 1, ('demand', 0): 2, ('husband', 0): 2, ('newquay', 0): 1, ('postcard', 0): 2, ('goneu', 0): 1, ('1im', 0): 1, ('talkin', 0): 1, ('state', 0): 1, ('wee', 0): 1, ('inperialmus', 0): 1, ('listening2th', 0): 1, ('weirdest', 0): 1, ('byåóleafcutt', 0): 1, ('johnåó', 0): 1, ('insect', 0): 1, ('molested&someon', 0): 1, ('plumb', 0): 1, ('remix', 0): 1, ('evil', 0): 1, ('acid', 0): 1, ('nicki', 0): 1, ('paranoid', 0): 1, ('sunroof', 0): 1, ('non', 0): 1, ('elsewher', 0): 1, ('misundrstud', 0): 1, ('remb', 0): 1, ('laid', 0): 1, ('kim', 0): 1, ('dress', 0): 3, ('feb', 0): 4, ('result', 0): 4, ('oxygen', 0): 1, ('resort', 0): 1, ('roller', 0): 1, ('random', 0): 4, ('roomat', 0): 1, ('campu', 0): 3, ('graduat', 0): 1, ('$700', 0): 1, ('$900', 0): 1, ('locat', 0): 1, ('breakfast', 0): 1, ('hamper', 0): 1, ('420', 0): 1, ('el', 0): 1, ('nino', 0): 1, ('modul', 0): 1, ('loxahatche', 0): 2, ('tree', 0): 2, ('burn', 0): 3, ('sindu', 0): 1, ('nearer', 0): 1, ('revers', 0): 2, ('cheat', 0): 3, ('mathemat', 0): 2, ('associ', 0): 1, ('fondli', 0): 1, ('thot', 0): 2, ('cam', 0): 1, ('\\\\becaus', 0): 1, ('educ', 0): 1, ('career', 0): 1, ('wknd', 0): 1, ('u\\\\', 0): 2, ('frnds\\\\', 0): 2, ('evn', 0): 2, ('evr', 0): 2, ('worth', 0): 3, ('tunji', 0): 1, ('\\\\pete', 0): 1, ('meiv', 0): 1, ('hardli', 0): 1, ('gotani', 0): 1, ('credit\\\\', 0): 1, ('fb', 0): 1, ('kent', 0): 2, ('vale', 0): 2, ('resum', 0): 1, ('minimum', 0): 1, ('reappli', 0): 1, ('gate', 0): 1, ('charl', 0): 2, ('uh', 0): 2, ('ridden', 0): 1, ('ey', 0): 1, ('[\\x89û_]', 0): 1, ('vomitin', 0): 1, ('weirdo', 0): 1, ('thatåõ', 0): 3, ('gota', 0): 1, ('byatch', 0): 1, ('whassup', 0): 1, ('tiim', 0): 1, ('tear', 0): 2, ('tram', 0): 1, ('cousin', 0): 1, ('vic', 0): 1, ('progress', 0): 1, ('dileep', 0): 1, ('muchand', 0): 1, ('venugop', 0): 1, ('mention', 0): 1, ('keen', 0): 1, ('lou', 0): 1, ('goodnit', 0): 1, ('gailxx', 0): 1, ('l8', 0): 1, ('buse', 0): 2, ('gon', 0): 1, ('waitin', 0): 2, ('tape', 0): 3, ('terribl', 0): 2, ('kitti', 0): 1, ('shave', 0): 1, ('protect', 0): 2, ('threat', 0): 2, ('sib', 0): 2, ('sensit', 0): 2, ('tension', 0): 1, ('machi', 0): 1, ('pooki', 0): 1, ('pie', 0): 2, ('charg', 0): 3, ('camera', 0): 2, ('fridg', 0): 1, ('plaza', 0): 1, ('westshor', 0): 1, ('hyde', 0): 1, ('villag', 0): 1, ('ax', 0): 1, ('obey', 0): 1, ('mandan', 0): 1, ('responc', 0): 1, ('booti', 0): 3, ('sculptur', 0): 1, ('fffff', 0): 1, ('massiv', 0): 1, ('electr', 0): 2, ('evict', 0): 1, ('spiral', 0): 1, ('michael', 0): 1, ('riddanc', 0): 1, ('pleasant', 0): 1, ('statement', 0): 1, ('lead', 0): 3, ('itåõ', 0): 2, ('uniqu', 0): 1, ('deserv', 0): 1, ('beyond', 0): 3, ('treasur', 0): 1, ('etc', 0): 3, ('nose', 0): 1, ('essay', 0): 1, ('desir', 0): 1, ('liver', 0): 1, ('andro', 0): 2, ('howda', 0): 1, ('math', 0): 1, ('en', 0): 2, ('samachara', 0): 1, ('ke', 0): 2, ('qi', 0): 1, ('suddenli', 0): 1, ('consist', 0): 1, ('practicum', 0): 1, ('link', 0): 3, ('cd', 0): 1, ('lunchyou', 0): 1, ('wtf', 0): 1, ('sundayish', 0): 1, ('lect', 0): 2, ('virtual', 0): 1, ('birthdat', 0): 2, ('certif', 0): 1, ('publish', 0): 1, ('blame', 0): 2, ('essenti', 0): 3, ('tomarrow', 0): 3, ('court', 0): 1, ('sapna', 0): 1, ('maneg', 0): 1, ('yday', 0): 1, ('hogidh', 0): 1, ('chinnu', 0): 1, ('swalpa', 0): 1, ('agidhan', 0): 1, ('recept', 0): 1, ('msn', 0): 1, ('txting', 0): 1, ('base', 0): 1, ('4u', 0): 3, ('gaug', 0): 1, ('rajini', 0): 1, ('wenev', 0): 1, ('lik', 0): 3, ('compliment', 0): 1, ('system', 0): 4, ('perhap', 0): 2, ('identif', 0): 1, ('forgotten', 0): 1, ('stitch', 0): 1, ('trouser', 0): 1, ('grinul', 0): 1, ('intent', 0): 1, ('*i*', 0): 1, ('visitor', 0): 2, ('choic', 0): 2, ('embarass', 0): 3, ('youd', 0): 4, ('ahold', 0): 1, ('hppnss', 0): 1, ('sorrow', 0): 1, ('forevr', 0): 1, ('goodfriend', 0): 1, ('easter', 0): 1, ('thread', 0): 1, ('wishlist', 0): 1, ('section', 0): 1, ('forum', 0): 1, ('nitro', 0): 1, ('bottom', 0): 3, ('saeed', 0): 1, ('hallaq', 0): 2, ('elain', 0): 1, ('maneesha', 0): 1, ('satisfi', 0): 1, ('toll', 0): 1, ('citi', 0): 1, ('andr', 0): 1, ('virgil', 0): 1, ('cream', 0): 1, ('sacrific', 0): 2, ('direct', 0): 1, ('needa', 0): 1, ('ana', 0): 1, ('sathi', 0): 1, ('rto', 0): 1, ('lindsay', 0): 1, ('heron', 0): 1, ('despar', 0): 2, ('fake', 0): 2, ('washob', 0): 1, ('nob', 0): 1, ('nickey', 0): 1, ('platt', 0): 1, ('shake', 0): 1, ('wherev', 0): 3, ('haircut', 0): 1, ('breezi', 0): 1, ('caught', 0): 1, ('guoyang', 0): 1, ('squat', 0): 1, ('proof', 0): 1, ('drm', 0): 1, ('zero', 0): 1, ('ball', 0): 1, ('gloriou', 0): 1, ('prey', 0): 2, ('teas', 0): 3, ('coax', 0): 1, ('fond', 0): 1, ('souveni', 0): 1, ('cougar', 0): 1, ('pen', 0): 2, ('northampton', 0): 1, ('punish', 0): 1, ('www', 0): 1, ('vid', 0): 1, ('finishd', 0): 1, ('rat', 0): 1, ('air', 0): 5, ('forc', 0): 3, ('iraq', 0): 1, ('afghanistan', 0): 1, ('stabl', 0): 1, ('honest', 0): 1, ('abbey', 0): 1, ('morphin', 0): 3, ('\\\\what', 0): 4, ('got\\\\', 0): 2, ('wrongli', 0): 1, ('canåõt', 0): 1, ('cornwal', 0): 1, ('isnåõt', 0): 1, ('shite', 0): 1, ('kip', 0): 1, ('edison', 0): 1, ('rightli', 0): 1, ('answer\\\\', 0): 1, ('viva', 0): 1, ('gm', 0): 1, ('seri', 0): 3, ('african', 0): 1, ('soil', 0): 1, ('yetti', 0): 1, ('heater', 0): 2, ('degre', 0): 1, ('bunch', 0): 1, ('lotto', 0): 1, ('throat', 0): 1, ('can\\x89û÷t', 0): 1, ('asia', 0): 1, ('expens', 0): 2, ('holla', 0): 2, ('addict', 0): 4, ('msging', 0): 2, ('don\\\\t', 0): 2, ('drizzl', 0): 1, ('nooooooo', 0): 1, ('cabl', 0): 1, ('jolt', 0): 1, ('*possess', 0): 1, ('textin', 0): 1, ('surya', 0): 1, ('pokkiri', 0): 1, ('intrepid', 0): 1, ('duo', 0): 1, ('doke', 0): 1, ('dogbreath', 0): 1, ('screwd', 0): 1, ('east', 0): 2, ('gower', 0): 1, ('wale', 0): 1, ('åômorrow', 0): 1, ('anti', 0): 2, ('nìâte', 0): 1, ('bigger', 0): 2, ('kickbox', 0): 1, ('rumour', 0): 1, ('aptitud', 0): 1, ('social', 0): 1, ('yowif', 0): 1, ('hint', 0): 2, ('cinema', 0): 2, ('stone', 0): 3, ('error', 0): 1, ('accid', 0): 2, ('tookplac', 0): 1, ('ghodbandar', 0): 1, ('rd', 0): 1, ('slove', 0): 1, ('slip', 0): 1, ('acknowledg', 0): 1, ('astoundingli', 0): 1, ('tactless', 0): 1, ('faggi', 0): 1, ('oath', 0): 1, ('coco', 0): 1, ('postpon', 0): 1, ('stock', 0): 4, ('gotten', 0): 1, ('begun', 0): 1, ('registr', 0): 1, ('perman', 0): 1, ('resid', 0): 1, ('gep', 0): 1, ('bruv', 0): 1, ('gobi', 0): 1, ('gloucesterroad', 0): 1, ('uup', 0): 1, ('properti', 0): 1, ('*childish', 0): 1, ('smile*', 0): 3, ('narcot', 0): 1, ('plate', 0): 1, ('leftov', 0): 1, ('weed', 0): 4, ('dealer', 0): 2, ('lunsford', 0): 1, ('15pm', 0): 1, ('s8', 0): 1, ('fuuuuck', 0): 1, ('sleepin', 0): 1, ('thin', 0): 1, ('fault&al', 0): 1, ('fault&f', 0): 1, ('himso', 0): 1, ('2go', 0): 1, ('goal', 0): 1, ('philosophi', 0): 1, ('naal', 0): 1, ('eruku', 0): 1, ('gauti', 0): 1, ('sehwag', 0): 1, ('odi', 0): 1, ('miiiiiiissssssssss', 0): 1, ('noooooooo', 0): 1, ('stress', 0): 3, ('fair', 0): 2, ('spreadsheet', 0): 1, ('whose', 0): 1, ('determin', 0): 1, ('\\\\smoke', 0): 1, ('much\\\\', 0): 2, ('entir', 0): 1, ('februari', 0): 3, ('waver', 0): 1, ('cope', 0): 1, ('heal', 0): 1, ('quizz', 0): 1, ('popcorn', 0): 1, ('soul', 0): 1, ('spark', 0): 1, ('flame', 0): 2, ('rawr', 0): 1, ('xoxo', 0): 1, ('itll', 0): 1, ('priest', 0): 1, ('tau', 0): 1, ('sar', 0): 2, ('piah', 0): 1, ('recoveri', 0): 2, ('coop', 0): 1, ('olowoyey', 0): 1, ('edu', 0): 2, ('argentina', 0): 1, ('secretari', 0): 1, ('luck', 0): 2, ('physic', 0): 1, ('\\\\song', 0): 1, ('dedic', 0): 2, ('sip', 0): 1, ('cappuccino', 0): 1, ('paint', 0): 1, ('dust', 0): 1, ('voucher', 0): 1, ('virgin', 0): 1, ('sumf', 0): 1, ('dorm', 0): 2, ('yah', 0): 1, ('sub', 0): 2, ('prioriti', 0): 1, ('jd', 0): 1, ('execut', 0): 1, ('recharg', 0): 1, ('nigh', 0): 1, ('taco', 0): 2, ('raja', 0): 1, ('burrito', 0): 1, ('eightish', 0): 1, ('carpark', 0): 1, ('toot', 0): 1, ('sweeti', 0): 2, ('grasp', 0): 1, ('cheeri', 0): 1, ('cedar', 0): 1, ('smell', 0): 1, ('tobacco', 0): 1, ('investig', 0): 1, ('orh', 0): 1, ('flash', 0): 1, ('pattern', 0): 2, ('emerg', 0): 2, ('fiend', 0): 1, ('imped', 0): 1, ('sheffield', 0): 1, ('tom', 0): 1, ('categori', 0): 1, ('ethnic', 0): 1, ('censu', 0): 1, ('transcrib', 0): 1, ('cme', 0): 2, ('we\\x89û÷r', 0): 2, ('rofl', 0): 2, ('spoil', 0): 1, ('woohoo', 0): 1, ('mathew', 0): 1, ('tait', 0): 1, ('edward', 0): 1, ('anderson', 0): 1, ('telli', 0): 1, ('brdget', 0): 1, ('jone', 0): 1, ('immedi', 0): 2, ('rush', 0): 3, ('detroit', 0): 1, ('ba', 0): 2, ('dao', 0): 1, ('partner', 0): 1, ('method', 0): 1, ('jabo', 0): 1, ('rip', 0): 1, ('uteru', 0): 1, ('hasbro', 0): 1, ('august', 0): 1, ('jump', 0): 1, ('hoop', 0): 1, ('busetop', 0): 1, ('theoret', 0): 1, ('apolog', 0): 1, ('admit', 0): 2, ('document', 0): 1, ('stapati', 0): 1, ('teresa', 0): 1, ('dec', 0): 1, ('yould', 0): 1, ('fantast', 0): 1, ('bam', 0): 1, ('usml', 0): 1, ('robinson', 0): 1, ('fowler', 0): 1, ('someplac', 0): 1, ('peach', 0): 1, ('ooooooh', 0): 1, ('yovil', 0): 1, ('mallika', 0): 1, ('sherawat', 0): 1, ('anni', 0): 2, ('absolutli', 0): 1, ('shock', 0): 3, ('anim', 0): 1, ('buzz', 0): 4, ('pai', 0): 1, ('seh', 0): 1, ('cap', 0): 1, ('yell', 0): 1, ('among', 0): 1, ('bullshit', 0): 1, ('soire', 0): 1, ('fifth', 0): 1, ('woozl', 0): 1, ('weasel', 0): 1, ('exet', 0): 2, ('notic', 0): 1, ('mirror', 0): 1, ('\\\\dont', 0): 1, ('initiate\\\\', 0): 1, ('ibuprofen', 0): 1, ('2year', 0): 1, ('strain', 0): 1, ('dime', 0): 2, ('doc', 0): 2, ('prescrib', 0): 1, ('expos', 0): 1, ('panren', 0): 1, ('paru', 0): 1, ('rayan', 0): 1, ('macleran', 0): 1, ('dislik', 0): 1, ('agent', 0): 1, ('boston', 0): 1, ('nyc', 0): 2, ('vill', 0): 1, ('parco', 0): 1, ('nb', 0): 1, ('orc', 0): 1, ('yesher', 0): 2, ('beth', 0): 1, ('charli', 0): 1, ('helen', 0): 1, ('tantrum', 0): 1, ('brand', 0): 2, ('damn', 0): 4, ('hunt', 0): 1, ('woould', 0): 1, ('star', 0): 1, ('taxi', 0): 2, ('ing', 0): 1, ('thangam', 0): 3, ('lennon', 0): 1, ('stubborn', 0): 1, ('sucker', 0): 2, ('model', 0): 2, ('youi', 0): 1, ('posibl', 0): 1, ('centuri', 0): 1, ('cm', 0): 1, ('frwd', 0): 1, ('elabor', 0): 2, ('safeti', 0): 1, ('aspect', 0): 1, ('firsg', 0): 1, ('va', 0): 1, ('receipts\\x89ûówel', 0): 1, ('what\\x89û÷', 0): 1, ('sunshin', 0): 1, ('dawn', 0): 1, ('refresh', 0): 1, ('breath', 0): 2, ('clair', 0): 1, ('khow', 0): 1, ('gene', 0): 1, ('sane', 0): 1, ('unconvinc', 0): 1, ('willpow', 0): 1, ('walmart', 0): 2, ('spirit', 0): 1, ('reassur', 0): 1, ('\\\\response\\\\', 0): 1, ('weapon', 0): 1, ('epi', 0): 1, ('thinkin', 0): 1, ('parkin', 0): 1, ('ganesh', 0): 1, ('embassi', 0): 1, ('vagu', 0): 1, ('delay', 0): 2, ('agenc', 0): 1, ('vivek', 0): 1, ('suganya', 0): 1, ('clarifi', 0): 1, ('prepon', 0): 1, ('prop', 0): 1, ('dentist', 0): 1, ('finn', 0): 1, ('gua', 0): 1, ('faber', 0): 1, ('chiong', 0): 1, ('tok', 0): 1, ('evalu', 0): 1, ('walsal', 0): 1, ('terry\\\\', 0): 1, ('a30', 0): 1, ('divert', 0): 1, ('wadebridg', 0): 1, ('intrud', 0): 1, ('enuff', 0): 1, ('slipperi', 0): 1, ('pee', 0): 2, ('dehydr', 0): 2, ('gokila', 0): 1, ('nordstrom', 0): 1, ('hustl', 0): 1, ('forth', 0): 1, ('harlem', 0): 1, ('follow', 0): 2, ('dawher', 0): 1, ('angel', 0): 1, ('snowbal', 0): 1, ('spageddi', 0): 1, ('row', 0): 2, ('prin', 0): 1, ('convinc', 0): 1, ('witot', 0): 1, ('main', 0): 2, ('åè10', 0): 1, ('evey', 0): 1, ('mnth', 0): 1, ('bognor', 0): 1, ('splendid', 0): 1, ('owl', 0): 1, ('\\\\shit', 0): 1, ('thasa', 0): 1, ('yeh', 0): 1, ('2yr', 0): 1, ('messeng', 0): 2, ('wasnåõt', 0): 1, ('spous', 0): 1, ('pmt', 0): 1, ('sumthin', 0): 1, ('4give', 0): 1, ('shldxxxx', 0): 1, ('rdi', 0): 1, ('ship', 0): 2, ('useless', 0): 1, ('logoff', 0): 1, ('jon', 0): 1, ('spain', 0): 1, ('dinero', 0): 1, ('åôrent', 0): 1, ('000pe', 0): 1, ('å£48', 0): 1, ('wnevr', 0): 1, ('fal', 0): 2, ('vth', 0): 2, ('yen', 0): 1, ('madodu', 0): 1, ('nav', 0): 1, ('pretsorginta', 0): 1, ('nammanna', 0): 1, ('pretsovru', 0): 1, ('alwa', 0): 1, ('ta', 0): 3, ('childporn', 0): 1, ('sg', 0): 1, ('phyhcmk', 0): 1, ('pc1323', 0): 1, ('derp', 0): 1, ('complaint', 0): 1, ('abus', 0): 1, ('jurong', 0): 1, ('buffet', 0): 1, ('amor', 0): 1, ('1hr', 0): 2, ('\\x89ûò', 0): 5, ('entertain', 0): 1, ('hugh', 0): 1, ('lauri', 0): 1, ('stick', 0): 2, ('up', 0): 2, ('3day', 0): 1, ('2wk', 0): 1, ('usp', 0): 1, ('bribe', 0): 1, ('nipost', 0): 1, ('*push', 0): 1, ('knees*', 0): 1, ('*expos', 0): 1, ('it*', 0): 1, ('*wick', 0): 1, ('rhode', 0): 1, ('bong', 0): 1, ('bff', 0): 1, ('carli', 0): 1, ('audiit', 0): 1, ('reloc', 0): 1, ('nauseou', 0): 1, ('grr', 0): 1, ('prescript', 0): 1, ('pharmaci', 0): 1, ('bimbo', 0): 1, ('ugo', 0): 1, ('shanghai', 0): 1, ('21st', 0): 1, ('cya', 0): 1, ('nang', 0): 1, ('bakra', 0): 1, ('kalstiya', 0): 1, ('\\\\alrit', 0): 1, ('jen', 0): 1, ('aust', 0): 1, ('bk', 0): 1, ('945', 0): 1, ('dearer', 0): 1, ('ft', 0): 1, ('prometazin', 0): 1, ('syrup', 0): 1, ('5ml', 0): 1, ('feed', 0): 1, ('switch', 0): 2, ('tote', 0): 1, ('favorit', 0): 2, ('oyster', 0): 1, ('sashimi', 0): 1, ('rumbl', 0): 1, ('conveni', 0): 1, ('reboot', 0): 2, ('approach', 0): 1, ('upstair', 0): 1, ('computerless', 0): 1, ('wud', 0): 1, ('varunnathu', 0): 1, ('edukkukaye', 0): 1, ('raksha', 0): 1, ('ollu', 0): 1, ('recycl', 0): 1, ('twice', 0): 2, ('earn', 0): 2, ('kay', 0): 1, ('heehe', 0): 1, ('snicker', 0): 1, ('chord', 0): 1, ('ultim', 0): 1, ('tor', 0): 1, ('motiv', 0): 2, ('tui', 0): 1, ('achiev', 0): 1, ('korli', 0): 1, ('difficulti', 0): 1, ('clear', 0): 6, ('dvd', 0): 1, ('info', 0): 1, ('nri', 0): 1, ('sq825', 0): 1, ('thankyou', 0): 1, ('revis', 0): 2, ('boyf', 0): 1, ('interviw', 0): 1, ('loser', 0): 1, ('reffer', 0): 1, ('geti', 0): 1, ('smash', 0): 1, ('driver', 0): 1, ('dent', 0): 1, ('ummifi', 0): 1, ('all', 0): 1, ('mone', 0): 1, ('eppolum', 0): 1, ('pole', 0): 1, ('allalo', 0): 1, ('bold2', 0): 1, ('\\\\ah', 0): 1, ('urfeel', 0): 1, ('bettersn', 0): 1, ('probthat', 0): 1, ('overdos', 0): 1, ('sn', 0): 1, ('lovejen', 0): 1, ('goggl', 0): 1, ('tag', 0): 1, ('messi', 0): 2, ('laundri', 0): 1, ('underwear', 0): 2, ('bra', 0): 1, ('strewn', 0): 1, ('pillow', 0): 1, ('rape', 0): 1, ('favourit', 0): 1, ('pink', 0): 1, ('none', 0): 2, ('hanger', 0): 1, ('formclark', 0): 1, ('everytim', 0): 1, ('wetherspoon', 0): 1, ('alter', 0): 1, ('young', 0): 1, ('youdo', 0): 1, ('trauma', 0): 1, ('swear', 0): 1, ('minu', 0): 1, ('paragraph', 0): 1, ('you\\x89û÷ll', 0): 1, ('zac', 0): 1, ('glo', 0): 1, ('shelf', 0): 2, ('oz', 0): 1, ('comprehens', 0): 1, ('assist', 0): 1, ('dictionari', 0): 1, ('3cover', 0): 1, ('screen', 0): 1, ('4press', 0): 1, ('5gentli', 0): 1, ('liter', 0): 1, ('dubsack', 0): 1, ('flirt', 0): 3, ('youphon', 0): 1, ('athom', 0): 1, ('youwanna', 0): 1, ('\\\\wyli', 0): 1, ('justifi', 0): 1, ('flower', 0): 1, ('dippeditinadew', 0): 1, ('lovingli', 0): 1, ('itwhichturnedinto', 0): 1, ('tomeandsaid', 0): 1, ('arngd', 0): 1, ('walkin', 0): 1, ('unfortuntli', 0): 1, ('frnt', 0): 1, ('sayin', 0): 1, ('citylink', 0): 1, ('chick', 0): 1, ('huge', 0): 1, ('boob', 0): 1, ('45pm', 0): 1, ('thatll', 0): 1, ('meaning', 0): 1, ('compromis', 0): 1, ('machan', 0): 1, ('incomm', 0): 1, ('fishrman', 0): 1, ('dark', 0): 1, ('strtd', 0): 1, ('throwin', 0): 1, ('in2', 0): 1, ('1stone', 0): 1, ('moral\\\\dont', 0): 1, ('thet', 0): 1, ('skinni', 0): 1, ('cast', 0): 1, ('split', 0): 1, ('karnan', 0): 1, ('guid', 0): 2, ('stripe', 0): 1, ('skirt', 0): 1, ('answerin', 0): 1, ('sleepi', 0): 1, ('bridg', 0): 1, ('lager', 0): 1, ('beerag', 0): 1, ('lingo', 0): 1, ('å£6', 0): 1, ('wasn\\x89û÷t', 0): 1, ('mc', 0): 1, ('chennaibecaus', 0): 1, ('disagre', 0): 1, ('self', 0): 1, ('forgiv', 0): 2, ('field', 0): 1, ('braini', 0): 1, ('samu', 0): 1, ('shoulder', 0): 1, ('grab', 0): 1, ('ditto', 0): 1, ('ashwini', 0): 1, ('lodg', 0): 1, ('coulda', 0): 1, ('messagesom', 0): 1, ('missing*', 0): 2, ('sendernam', 0): 1, ('*number', 0): 1, ('*sentdat', 0): 1, ('*miss', 0): 1, ('doesnåõt', 0): 1, ('erutupalam', 0): 1, ('thandiyachu', 0): 1, ('bead', 0): 1, ('store', 0): 1, ('cereal', 0): 1, ('9ja', 0): 2, ('affidavit', 0): 1, ('twigg', 0): 1, ('courtroom', 0): 1, ('tund', 0): 1, ('timeslil', 0): 1, ('swashbuckl', 0): 1, ('cupboard', 0): 1, ('grumbl', 0): 1, ('finewhen', 0): 1, ('doesn\\\\t', 0): 1, ('noic', 0): 1, ('beliv', 0): 1, ('salam', 0): 1, ('wahleykkum', 0): 1, ('tayseer', 0): 1, ('tissco', 0): 1, ('inshah', 0): 1, ('thout', 0): 1, ('4d', 0): 1, ('1405', 0): 1, ('1680', 0): 1, ('1843', 0): 1, ('downstem', 0): 1, ('weightloss', 0): 1, ('ebay', 0): 1, ('spi', 0): 1, ('prevent', 0): 1, ('fluid', 0): 1, ('mack', 0): 1, ('gf', 0): 1, ('theater', 0): 1, ('prashanthettan', 0): 1, ('vava', 0): 1, ('again*lov', 0): 1, ('praveesh', 0): 1, ('delici', 0): 1, ('gay', 0): 2, ('firmwar', 0): 1, ('reject', 0): 1, ('curri', 0): 1, ('langport', 0): 1, ('9pm', 0): 1, ('go2sri', 0): 1, ('lanka', 0): 1, ('kall', 0): 1, ('bestcongrat', 0): 1, ('werent', 0): 1, ('jod', 0): 1, ('keri', 0): 1, ('smidgin', 0): 1, ('prix', 0): 1, ('chop', 0): 1, ('dammit', 0): 1, ('rule', 0): 2, ('bend', 0): 1, ('thia', 0): 1, ('inlud', 0): 1, ('preview', 0): 1, ('xin', 0): 1, ('hep', 0): 1, ('immunis', 0): 1, ('anyplac', 0): 1, ('spatula', 0): 1, ('mysteri', 0): 1, ('batch', 0): 1, ('stink', 0): 1, ('bsn', 0): 1, ('advis', 0): 1, ('forfeit', 0): 1, ('haiyoh', 0): 1, ('hamster', 0): 1, ('jealou', 0): 1, ('gonnamissu', 0): 1, ('butther', 0): 1, ('abouta', 0): 1, ('merememberin', 0): 1, ('asther', 0): 1, ('ofsi', 0): 1, ('breakin', 0): 1, ('yaxx', 0): 1, ('yavnt', 0): 1, ('origin', 0): 1, ('sweater', 0): 1, ('mango', 0): 1, ('consent', 0): 1, ('form', 0): 1, ('sno', 0): 1, ('competit', 0): 2, ('risk', 0): 1, ('2morro', 0): 1, ('515', 0): 1, ('hide', 0): 1, ('stranger', 0): 2, ('\\\\petey', 0): 1, ('wherear', 0): 1, ('friendsar', 0): 1, ('thekingshead', 0): 1, ('canlov', 0): 1, ('nic\\\\', 0): 1, ('topic', 0): 1, ('toss', 0): 1, ('gudni8', 0): 1, ('parad', 0): 1, ('raviyog', 0): 1, ('peripher', 0): 1, ('bhayandar', 0): 1, ('although', 0): 1, ('eventu', 0): 1, ('toler', 0): 1, ('pract', 0): 1, ('flung', 0): 1, ('allo', 0): 1, ('brave', 0): 1, ('triumph', 0): 1, ('b\\x89û÷ham', 0): 1, ('jolli', 0): 1, ('kama', 0): 1, ('sutra', 0): 1, ('cr', 0): 1, ('\\\\symptoms\\\\', 0): 1, ('rahul', 0): 1, ('dengra', 0): 1, ('badrith', 0): 1, ('chennaii', 0): 1, ('usno', 0): 1, ('casualti', 0): 1, ('stuff42moro', 0): 1, ('intend', 0): 1, ('iwasmarine&thatåõ', 0): 1, ('itried2tel', 0): 1, ('urmom', 0): 1, ('careabout', 0): 1, ('hellogorg', 0): 1, ('lst', 0): 1, ('nitw', 0): 1, ('texd', 0): 1, ('hopeu', 0): 1, ('4ward', 0): 1, ('jaz', 0): 1, ('engag', 0): 1, ('fixd', 0): 1, ('njan', 0): 1, ('vilikkam', 0): 1, ('sudn', 0): 1, ('accordin', 0): 1, ('jacket', 0): 1, ('multi', 0): 1, ('talent', 0): 1, ('betta', 0): 1, ('invest', 0): 1, ('product', 0): 1, ('smeon', 0): 1, ('sorta', 0): 1, ('blown', 0): 1, ('jenni', 0): 1, ('leann', 0): 1, ('hubbi', 0): 1, ('fite', 0): 1, ('mj', 0): 1, ('classmat', 0): 1, ('allday', 0): 1, ('pump', 0): 1, ('tmorrow', 0): 1, ('accomod', 0): 1, ('quickli', 0): 1, ('profil', 0): 1, ('bpo', 0): 1, ('chile', 0): 1, ('sublet', 0): 1, ('torrent', 0): 1, ('particularli', 0): 1, ('moon', 0): 1, ('meim', 0): 1, ('wiskey', 0): 1, ('brandi', 0): 1, ('rum', 0): 1, ('gin', 0): 1, ('scotch', 0): 1, ('shampain', 0): 1, ('\\\\kudi\\\\', 0): 1, ('yarasu', 0): 1, ('dhina', 0): 1, ('vaazhthukk', 0): 1, ('pouch', 0): 1, ('agre', 0): 1, ('supervisor', 0): 1, ('nokia', 0): 1, ('lovli', 0): 1, ('bike', 0): 1, ('officewhat', 0): 1, ('uv', 0): 1, ('mutat', 0): 1, ('sunscreen', 0): 1, ('theseday', 0): 1, ('mile', 0): 2, ('offens', 0): 1, ('mp3', 0): 1, ('monthli', 0): 1, ('6month', 0): 1, ('brah', 0): 1, ('problemat', 0): 1, ('no', 0): 1, ('human', 0): 1, ('kfc', 0): 1, ('gravi', 0): 1, ('dhoni', 0): 1, ('taylor', 0): 2, ('mous', 0): 1, ('desk', 0): 1, ('priscilla', 0): 1, ('shhhhh', 0): 1, ('hont', 0): 1, ('scarcasim', 0): 1, ('wesley', 0): 1, ('howv', 0): 1, ('record', 0): 2, ('*teas', 0): 2, ('goigng', 0): 1, ('perfum', 0): 1, ('dub', 0): 1, ('je', 0): 1, ('fellow', 0): 1, ('thgt', 0): 1, ('clash', 0): 1, ('poo', 0): 1, ('rate', 0): 1, ('stuck', 0): 2, ('$1', 0): 1, ('burger', 0): 1, ('plumber', 0): 1, ('wrench', 0): 1, ('borrow', 0): 1, ('uk', 0): 1, ('pan', 0): 2, ('it\\x89û÷', 0): 1, ('cheap', 0): 1, ('that\\x89û÷', 0): 1, ('silli', 0): 1, ('isn\\x89û÷t', 0): 1, ('missionari', 0): 1, ('my', 0): 1, ('strongli', 0): 1, ('creativ', 0): 1, ('stifl', 0): 1, ('velusami', 0): 1, ('birth', 0): 1, ('facil', 0): 1, ('tank', 0): 1, ('sonetim', 0): 1, ('rough', 0): 1, ('confus', 0): 1, ('phase', 0): 1, ('fourth', 0): 1, ('dimens', 0): 1, ('drivbi', 0): 1, ('0quit', 0): 1, ('edrunk', 0): 1, ('iff', 0): 1, ('pthi', 0): 1, ('senrd', 0): 1, ('dnot', 0): 1, ('^', 0): 1, ('dancc', 0): 1, ('drum', 0): 1, ('basq', 0): 1, ('ihav', 0): 1, ('2nhite', 0): 1, ('ro', 0): 1, ('xxxxxxx\\\\', 0): 1, ('gimmi', 0): 1, ('goss', 0): 1, ('level', 0): 1, ('steal', 0): 1, ('leagu', 0): 1, ('scari', 0): 1, ('dagood', 0): 1, ('replac', 0): 1, ('murali', 0): 1, ('dogg', 0): 1, ('propos', 0): 1, ('kwhen', 0): 1, ('websit', 0): 2, ('dumb', 0): 1, ('infact', 0): 1, ('fwiw', 0): 1, ('afford', 0): 1, ('kilo', 0): 1, ('bot', 0): 1, ('format', 0): 1, ('disc', 0): 1, ('ambiti', 0): 1, ('sathya', 0): 2, ('shatter', 0): 1, ('dine', 0): 1, ('bookedth', 0): 1, ('hut', 0): 1, ('lt', 0): 1, ('alcohol', 0): 1, ('empti', 0): 1, ('\\\\boo', 0): 1, ('enjoyin', 0): 1, ('yourjob', 0): 1, ('iåõllspeak', 0): 1, ('soonlot', 0): 1, ('anand', 0): 1, ('jaklin', 0): 1, ('brought', 0): 1, ('crab', 0): 3, ('shore', 0): 2, ('wave', 0): 2, ('footprint', 0): 3, ('fox', 0): 1, ('frndsship', 0): 1, ('dwn', 0): 1, ('welp', 0): 1, ('retir', 0): 1, ('elama', 0): 1, ('mudyadhu', 0): 1, ('abil', 0): 1, ('squeez', 0): 1, ('tool', 0): 1, ('sarcast', 0): 1, ('gram', 0): 1, ('bomb', 0): 1, ('squeeeeez', 0): 1, ('frndshp', 0): 1, ('luvd*', 0): 1, ('thanksgiv', 0): 1, ('upcharg', 0): 1, ('nearbi', 0): 1, ('bathroom', 0): 1, ('held', 0): 1, ('prasad', 0): 1, ('4eva', 0): 1, ('harish', 0): 1, ('acnt', 0): 1, ('sync', 0): 1, ('shangela', 0): 1, ('ummmmmaah', 0): 1, ('dip', 0): 1, ('goin2b', 0): 1, ('only1mor', 0): 1, ('shade', 0): 1, ('musta', 0): 1, ('overdid', 0): 1, ('dave', 0): 1, ('heåõ', 0): 1, ('2getha', 0): 1, ('20%', 0): 1, ('salon', 0): 1, ('850', 0): 1, ('650', 0): 1, ('lack', 0): 1, ('particular', 0): 1, ('dramastorm', 0): 1, ('secur', 0): 1, ('dizzamn', 0): 1, ('suitem', 0): 1, ('surgic', 0): 1, ('unfold', 0): 1, ('yalru', 0): 1, ('lyfu', 0): 2, ('astn', 0): 1, ('innu', 0): 1, ('mundh', 0): 1, ('lyf', 0): 2, ('ali', 0): 2, ('halla', 0): 1, ('bilo', 0): 1, ('marriageprogram', 0): 1, ('edha', 0): 1, ('ovr', 0): 1, ('vargu', 0): 1, ('meow', 0): 2, ('gentli', 0): 1, ('starv', 0): 1, ('pound', 0): 2, ('spare', 0): 1, ('suppli', 0): 1, ('spacebuck', 0): 1, ('kadvanc', 0): 1, ('\\\\checkmate\\\\', 0): 1, ('chess', 0): 1, ('persian', 0): 1, ('phrase', 0): 1, ('shah', 0): 1, ('maat\\\\', 0): 1, ('mise', 0): 1, ('gooddhanush', 0): 1, ('kidz', 0): 1, ('1526', 0): 1, ('shrek', 0): 1, ('reliev', 0): 1, ('westonzoyland', 0): 1, ('rajitha', 0): 1, ('raj', 0): 1, ('ranju', 0): 1, ('polic', 0): 3, ('garden', 0): 1, ('veget', 0): 1, ('neighbour', 0): 1, ('*kisses*', 0): 1, ('crap', 0): 1, ('dodgey', 0): 1, ('flippin', 0): 1, ('complex', 0): 1, ('freeli', 0): 1, ('tax', 0): 1, ('outrag', 0): 1, ('crucifi', 0): 1, ('printer', 0): 1, ('groovi', 0): 2, ('biro', 0): 1, ('master', 0): 1, ('buzi', 0): 1, ('grave', 0): 1, ('baaaaaaaab', 0): 1, ('poci', 0): 1}\n"
     ]
    }
   ],
   "source": [
    "## Run this cell to get an idea about the corpus of words and their occurrence along with labels. \n",
    "## In this, we are computing the frequency of occurrence of word given that a message is 'spam'.\n",
    "## Similarly, we also compute the frequence of occurence of word given that a message is 'ham'.\n",
    "print(freqs)"
   ]
  },
  {
   "cell_type": "markdown",
   "id": "759c24bc",
   "metadata": {},
   "source": [
    "## Training the Naive Bayes Model: (20 points)\n",
    "\n",
    "Now we are in the training phase of the Naive Bayes algorithm. In this cell, take a look at the ways to calculate the log likelihood and log prior values as these are important for testing in the next few cells. \n",
    "\n",
    "Also calculate the frequency of occurrence of words where the output is spam. In the same way, calculate the word frequency count using the above functions in order to compute the log likelihood.\n",
    "\n",
    "Return the logprior and loglikelihood output by the model from this function. "
   ]
  },
  {
   "cell_type": "code",
   "execution_count": 25,
   "id": "a7f280e3",
   "metadata": {},
   "outputs": [],
   "source": [
    "def train_naive_bayes(freqs, train_x, train_y):\n",
    "    '''\n",
    "    Input:\n",
    "        freqs: dictionary from (word, label) to how often the word appears\n",
    "        train_x: a list of messages\n",
    "        train_y: a list of labels correponding to the messages (0,1)\n",
    "    Output:\n",
    "        logprior: the log prior. (equation 3 above)\n",
    "        loglikelihood: the log likelihood of you Naive bayes equation. (equation 6 above)\n",
    "    '''\n",
    "    loglikelihood = {}\n",
    "    logprior = 0\n",
    "\n",
    "\n",
    "    # calculate V, the number of unique words in the vocabulary\n",
    "    # vocab = []\n",
    "    vocab = set([pair[0] for pair in freqs])\n",
    "    # for word in freqs.keys():\n",
    "    #     if word[0] not in vocab:\n",
    "    #         vocab.append(word[0])\n",
    "    V = len(vocab)\n",
    "    # print(V)\n",
    "\n",
    "    # calculate num_pos and num_neg - the total number of positive and negative words for all documents\n",
    "    num_pos = num_neg = 0\n",
    "    num_pos = sum((freqs[(word, label)] for word, label in freqs\n",
    "                 if label == 1))\n",
    "    num_neg = sum((freqs[(word, label)] for word, label in freqs\n",
    "                 if label == 0))\n",
    "#     for pair in freqs.keys():\n",
    "#         # if the label is positive (greater than zero)\n",
    "#         if pair[1]>0:\n",
    "\n",
    "#             # Increment the number of positive words by the count for this (word, label) pair\n",
    "#             num_pos += 1\n",
    "\n",
    "#         # else, the label is negative\n",
    "#         else:\n",
    "\n",
    "#             # increment the number of negative words by the count for this (word,label) pair\n",
    "#             num_neg += 1\n",
    "\n",
    "    # Calculate num_doc, the number of documents\n",
    "    # num_doc = train_x.shape[0]\n",
    "    num_doc = len(train_x)    \n",
    "\n",
    "    # Calculate D_pos, the number of positive documents\n",
    "    pos_num_docs = train_y.sum()\n",
    "\n",
    "    # Calculate D_neg, the number of negative documents \n",
    "    neg_num_docs = num_doc - pos_num_docs\n",
    "\n",
    "    # Calculate logprior\n",
    "    logprior = np.log(pos_num_docs) - np.log(neg_num_docs)\n",
    "\n",
    "    # For each word in the vocabulary...\n",
    "    for word in vocab:\n",
    "        # get the positive and negative frequency of the word\n",
    "        freq_pos = freq_neg = 0\n",
    "        if((word, 1) in freqs.keys()):\n",
    "            freq_pos = freqs[(word, 1)]\n",
    "        if((word, 0) in freqs.keys()):\n",
    "            freq_neg = freqs[(word, 0)]\n",
    "\n",
    "        # calculate the probability that each word is positive, and negative\n",
    "        p_w_pos = (freq_pos + 1)/(num_pos + V)\n",
    "        p_w_neg = (freq_neg + 1)/(num_neg + V)\n",
    "\n",
    "        # calculate the log likelihood of the word\n",
    "        loglikelihood[word] = np.log(p_w_pos) - np.log(p_w_neg)\n",
    "\n",
    "\n",
    "    return logprior, loglikelihood"
   ]
  },
  {
   "cell_type": "code",
   "execution_count": 26,
   "id": "1561d892",
   "metadata": {},
   "outputs": [
    {
     "name": "stdout",
     "output_type": "stream",
     "text": [
      "0.0\n",
      "6397\n"
     ]
    }
   ],
   "source": [
    "\n",
    "# You do not have to input any code in this cell, but it is relevant to grading, so please do not change anything\n",
    "logprior, loglikelihood = train_naive_bayes(freqs, X_train, y_train)\n",
    "print(logprior)\n",
    "print(len(loglikelihood))"
   ]
  },
  {
   "cell_type": "markdown",
   "id": "19d9c882",
   "metadata": {},
   "source": [
    "### Expected Output \n",
    "\n",
    "0.0 <br>\n",
    "6763"
   ]
  },
  {
   "cell_type": "markdown",
   "id": "78b51303",
   "metadata": {},
   "source": [
    "## Implementing Naive Bayes Predict Function: (15 points)\n",
    "\n",
    "It is now time to make our prediction as to whether a given message is spam or ham respectively. \n",
    "\n",
    "After adding the log likelihood values, ensure that the output is 1 (spam) if the sum of the log likelihood value is greater than 0 and 0 (ham) if the sum of the log likelihood is less than or equal to 0. "
   ]
  },
  {
   "cell_type": "code",
   "execution_count": 27,
   "id": "b692c2f9",
   "metadata": {},
   "outputs": [],
   "source": [
    "# TASK 4 CELL\n",
    "\n",
    "def naive_bayes_predict(message, logprior, loglikelihood):\n",
    "    '''\n",
    "    Params:\n",
    "        message: a string\n",
    "        logprior: a number\n",
    "        loglikelihood: a dictionary of words mapping to numbers\n",
    "    Return:\n",
    "        total_prob: the sum of all the loglikelihoods of each word in the message (if found in the dictionary) + logprior (a number)\n",
    "\n",
    "    '''\n",
    "    \n",
    "     # process the message to get a list of words\n",
    "    word_l = clean_message(message)\n",
    "\n",
    "    # initialize probability to zero\n",
    "    total_prob = 0\n",
    "\n",
    "    # add the logprior\n",
    "    total_prob = total_prob + logprior\n",
    "\n",
    "    for word in word_l:\n",
    "\n",
    "        # check if the word exists in the loglikelihood dictionary\n",
    "        if word in loglikelihood.keys():\n",
    "            # add the log likelihood of that word to the probability\n",
    "            total_prob = total_prob + loglikelihood[word]\n",
    "        if(total_prob>0):\n",
    "            total_prob = 1\n",
    "        else:\n",
    "            total_prob = 0\n",
    "\n",
    "    return total_prob"
   ]
  },
  {
   "cell_type": "code",
   "execution_count": 28,
   "id": "4b170333",
   "metadata": {},
   "outputs": [
    {
     "name": "stdout",
     "output_type": "stream",
     "text": [
      "The expected output is 0\n"
     ]
    }
   ],
   "source": [
    "# You do not have to input any code in this cell, but it is relevant to grading, so please do not change anything\n",
    "\n",
    "# Experiment with your own message.\n",
    "my_message = 'She smiled.'\n",
    "p = naive_bayes_predict(my_message, logprior, loglikelihood)\n",
    "print('The expected output is', p)"
   ]
  },
  {
   "cell_type": "markdown",
   "id": "6242708f",
   "metadata": {},
   "source": [
    "### Expected Output :\n",
    "The expected output is 0"
   ]
  },
  {
   "cell_type": "markdown",
   "id": "7c4eeb71",
   "metadata": {},
   "source": [
    "## Implementing Naive Bayes Test function: (15 points)\n",
    "\n",
    "In this function, implement the previous functions such as naive_bayes_predict to get the predictions for the test set. \n",
    "\n",
    "In addition to this, the function should return the total number of messages that it correctly classified as 'spam' or 'ham'. "
   ]
  },
  {
   "cell_type": "code",
   "execution_count": 29,
   "id": "66a511e7",
   "metadata": {},
   "outputs": [],
   "source": [
    "# UNQ_C6 (UNIQUE CELL IDENTIFIER, DO NOT EDIT)\n",
    "def test_naive_bayes(test_x, test_y, logprior, loglikelihood):\n",
    "    \"\"\"\n",
    "    Input:\n",
    "        test_x: A list of messages\n",
    "        test_y: the corresponding labels for the list of messages\n",
    "        logprior: the logprior\n",
    "        loglikelihood: a dictionary with the loglikelihoods for each word\n",
    "    Output:\n",
    "        accuracy: (# of messages classified correctly)/(total # of message)\n",
    "    \"\"\"\n",
    "    accuracy = 0  \n",
    "    \n",
    "    y_hats = []\n",
    "    for message in test_x:\n",
    "        # if the prediction is > 0\n",
    "        if None:\n",
    "            # the predicted class is 1\n",
    "            y_hat_i = None\n",
    "        else:\n",
    "            # otherwise the predicted class is 0\n",
    "            y_hat_i = None\n",
    "\n",
    "        # append the predicted class to the list y_hats\n",
    "        y_hats = None\n",
    "\n",
    "    # error is the average of the absolute values of the differences between y_hats and test_y\n",
    "    error = None\n",
    "\n",
    "    accuracy = None\n",
    "\n",
    "\n",
    "    return accuracy"
   ]
  },
  {
   "cell_type": "code",
   "execution_count": 30,
   "id": "68b18d8d-c7aa-4b38-8ef0-eb7b049174fb",
   "metadata": {},
   "outputs": [],
   "source": [
    "# UNQ_C6 (UNIQUE CELL IDENTIFIER, DO NOT EDIT)\n",
    "def test_naive_bayes(test_x, test_y, logprior, loglikelihood):\n",
    "    \"\"\"\n",
    "    Input:\n",
    "        test_x: A list of messages\n",
    "        test_y: the corresponding labels for the list of messages\n",
    "        logprior: the logprior\n",
    "        loglikelihood: a dictionary with the loglikelihoods for each word\n",
    "    Output:\n",
    "        accuracy: (# of messages classified correctly)/(total # of message)\n",
    "    \"\"\"\n",
    "    accuracy = 0  \n",
    "    \n",
    "    y_hats = numpy.array([int(naive_bayes_predict(message, logprior, loglikelihood) > 0)\n",
    "              for message in test_x])\n",
    "    \n",
    "    error = numpy.abs(y_hats - test_y).mean()\n",
    "\n",
    "    accuracy = 1 - error\n",
    "\n",
    "    return accuracy"
   ]
  },
  {
   "cell_type": "code",
   "execution_count": 31,
   "id": "8a9c5d9d",
   "metadata": {},
   "outputs": [
    {
     "name": "stdout",
     "output_type": "stream",
     "text": [
      "get an offer -> 1.00\n",
      "get the latest movie review -> 1.00\n",
      "order iphone -> 1.00\n",
      "I am on a meeting -> 0.00\n"
     ]
    }
   ],
   "source": [
    "# For grading purpose only\n",
    "# You do not have to input any code in this cell, but it is relevant to grading, so please do not change anything\n",
    "\n",
    "# Run this cell to test your function\n",
    "for message in ['get an offer', 'get the latest movie review', 'order iphone', 'I am on a meeting']:\n",
    "    # print( '%s -> %f' % (message, naive_bayes_predict(message, logprior, loglikelihood)))\n",
    "    p = naive_bayes_predict(message, logprior, loglikelihood)\n",
    "#     print(f'{message} -> {p:.2f} ({p_category})')\n",
    "    print(f'{message} -> {p:.2f}')"
   ]
  },
  {
   "cell_type": "markdown",
   "id": "43e2ef98",
   "metadata": {},
   "source": [
    "### Expected Output :\n",
    "get an offer -> 1.00 <br>\n",
    "get the latest movie review -> 1.00 <br>\n",
    "order iphone -> 1.00 <br>\n",
    "I am on a meeting -> 0.00 <br>\n"
   ]
  },
  {
   "cell_type": "code",
   "execution_count": 32,
   "id": "216fa97a",
   "metadata": {},
   "outputs": [
    {
     "data": {
      "text/plain": [
       "1"
      ]
     },
     "execution_count": 32,
     "metadata": {},
     "output_type": "execute_result"
    }
   ],
   "source": [
    "# Feel free to check the sentiment of your own message below\n",
    "my_message = 'get an offer of iphone 13 and grab your order'\n",
    "naive_bayes_predict(my_message, logprior, loglikelihood)"
   ]
  },
  {
   "cell_type": "markdown",
   "id": "8a45e4f0",
   "metadata": {},
   "source": [
    "### Expected Output :\n",
    "1"
   ]
  },
  {
   "cell_type": "markdown",
   "id": "82e6e4d1",
   "metadata": {},
   "source": [
    "## Theory Questions: (15 points)\n",
    "\n",
    "1. When performing Naive Bayes operation especially for text classification, why is there a requirement for Laplace Smoothing or Additive Smoothing? Explain with considering an example of training and the test set and show how not having additive smoothing leads to undesirable outcomes. (10 points)\n",
    "\n",
    "\n",
    "2. Why are logarithmic values computed for naive bayes algorithm rather than only the probability values? (5 points)"
   ]
  },
  {
   "cell_type": "code",
   "execution_count": null,
   "id": "17f267fe-c809-4b61-a0d6-785ce3bd0804",
   "metadata": {},
   "outputs": [],
   "source": [
    "'''\n",
    "Answer for Question 1\n",
    "'''\n",
    "\n",
    "'''\n",
    "Motivation for Laplace or Additive Smoothing:\n",
    "Consider the scenario where we are trying to classify some text where the test string contains certain words which are not present in the training dataset using \n",
    "which we calculated the likelihood of each word.\n",
    "\n",
    "In this case, the probability of the 'unknown' word in the test dataset would be zero and it will force the Overall probability which determines the classification to Zero (0). \n",
    "This is undesirable in the spam model since it will force the text to be classified as spam everytime there's an 'unknown' word in the training dataset.\n",
    "\n",
    "We can show how it affects the model with the below example:\n",
    "\n",
    "Step 1: Modify the train_naive_bayes() to not perform smoothing\n",
    "'''"
   ]
  },
  {
   "cell_type": "code",
   "execution_count": 33,
   "id": "15641f95-f0cb-494d-87c5-d727332a935b",
   "metadata": {},
   "outputs": [],
   "source": [
    "def train_naive_bayes(freqs, train_x, train_y):\n",
    "    '''\n",
    "    Input:\n",
    "        freqs: dictionary from (word, label) to how often the word appears\n",
    "        train_x: a list of messages\n",
    "        train_y: a list of labels correponding to the messages (0,1)\n",
    "    Output:\n",
    "        logprior: the log prior. (equation 3 above)\n",
    "        loglikelihood: the log likelihood of you Naive bayes equation. (equation 6 above)\n",
    "    '''\n",
    "    loglikelihood = {}\n",
    "    logprior = 0\n",
    "\n",
    "\n",
    "    # calculate V, the number of unique words in the vocabulary\n",
    "    vocab = set([key[0] for key in freqs])\n",
    "    V = len(vocab)\n",
    "\n",
    "    # calculate num_pos and num_neg - the total number of positive and negative words for all documents\n",
    "    num_pos = num_neg = 0\n",
    "    for pair in freqs.keys():\n",
    "        # if the label is positive (greater than zero)\n",
    "        if pair[1]==1:\n",
    "            # Increment the number of positive words by the count for this (word, label) pair\n",
    "            num_pos+=freqs[pair]\n",
    "        # else, the label is negative\n",
    "        else:\n",
    "            # increment the number of negative words by the count for this (word,label) pair\n",
    "            num_neg +=freqs[pair]\n",
    "\n",
    "    # Calculate num_doc, the number of documents\n",
    "    num_doc = len(train_x)\n",
    "\n",
    "    # Calculate D_pos, the number of positive documents \n",
    "    pos_num_docs = train_y.sum()\n",
    "\n",
    "    # Calculate D_neg, the number of negative documents \n",
    "    neg_num_docs = num_doc-pos_num_docs\n",
    "\n",
    "    # Calculate logprior\n",
    "    logprior = np.log(pos_num_docs)-np.log(neg_num_docs)\n",
    "\n",
    "    # For each word in the vocabulary...\n",
    "    for word in vocab:\n",
    "        # get the positive and negative frequency of the word\n",
    "        freq_pos=freq_neg=0\n",
    "        if ((word,1) in freqs.keys()) :\n",
    "            freq_pos = freqs[(word,1)]\n",
    "        if((word, 0) in freqs.keys()):\n",
    "            freq_neg = freqs[(word, 0)]\n",
    "\n",
    "        # calculate the probability that each word is positive, and negative\n",
    "        #With smoothing\n",
    "        p_w_pos = (freq_pos)/(num_pos + V) #Smoothing is not performed here! \n",
    "        p_w_neg = (freq_neg)/(num_neg + V) #Smoothing is not performed here! \n",
    "\n",
    "        # calculate the log likelihood of the word\n",
    "        loglikelihood[word] = np.log(p_w_pos) - np.log(p_w_neg)\n",
    "\n",
    "\n",
    "    return logprior, loglikelihood"
   ]
  },
  {
   "cell_type": "code",
   "execution_count": 34,
   "id": "015d2fbe-8df9-44a3-9903-d3d3bf122d6b",
   "metadata": {},
   "outputs": [],
   "source": [
    "#Create a new train dataset\n",
    "X_train_new= pd.Series(['get an offer', 'get the latest movie review', 'order iphone', 'I am on a meeting'])\n",
    "y_train_new=pd.Series([0,1,0,1])\n",
    "freqs_new = message_counter({}, X_train_new, y_train_new)"
   ]
  },
  {
   "cell_type": "code",
   "execution_count": 35,
   "id": "54d78f6d-4af0-44a3-8438-705039dcd2e7",
   "metadata": {},
   "outputs": [
    {
     "name": "stdout",
     "output_type": "stream",
     "text": [
      "{'get': -0.08004270767353638, 'meet': inf, 'review': inf, 'offer': -inf, 'movi': inf, 'iphon': -inf, 'order': -inf, 'latest': inf}\n"
     ]
    }
   ],
   "source": [
    "#Create Logprior and loglikelihood using the new train dataset\n",
    "logprior_new, loglikelihood_new = train_naive_bayes(freqs_new, X_train_new, y_train_new)\n",
    "print(loglikelihood_new)"
   ]
  },
  {
   "cell_type": "code",
   "execution_count": null,
   "id": "b4c0614a-cf9c-4d4d-b523-78bf4f26b227",
   "metadata": {},
   "outputs": [],
   "source": [
    "'''\n",
    "As seen by the loglikelihood calculated above we can see for those words which had a label missing the Loglikelihood is -infinity or +infinity\n",
    "This clearly breaks our classification model and hence the need for smoothing.\n",
    "'''"
   ]
  },
  {
   "cell_type": "code",
   "execution_count": null,
   "id": "b2b369ad-f175-4be7-91f2-e43a641fa467",
   "metadata": {},
   "outputs": [],
   "source": [
    "'''\n",
    "Question 2\n",
    "'''\n",
    "\n",
    "'''\n",
    "For a large enough string, the probability of individual words can get really small. And therefore, multiplying all these tiny probabilities \n",
    "to find the product will yield even a smaller numerical value that often results in underflow which means that for that given test sentence, \n",
    "the trained model will fail to predict it’s category/sentiment. In order to avoid this underflow error, we use logarithmic values for naive bayes algorithm.\n",
    "\n",
    "Using logarithmic values is a natural choice because log increases or decreases monotonically which means that it will not affect the order of probabilities. \n",
    "Smaller probabilities will still stay smaller after the log has been applied to them and vice versa. Therefore, without affecting the predictions of trained model, \n",
    "we can effectively avoid the common pitfall of underflow error using Logarithmic values.\n",
    "'''"
   ]
  }
 ],
 "metadata": {
  "kernelspec": {
   "display_name": "Python 3 (ipykernel)",
   "language": "python",
   "name": "python3"
  },
  "language_info": {
   "codemirror_mode": {
    "name": "ipython",
    "version": 3
   },
   "file_extension": ".py",
   "mimetype": "text/x-python",
   "name": "python",
   "nbconvert_exporter": "python",
   "pygments_lexer": "ipython3",
   "version": "3.8.3rc1"
  }
 },
 "nbformat": 4,
 "nbformat_minor": 5
}
