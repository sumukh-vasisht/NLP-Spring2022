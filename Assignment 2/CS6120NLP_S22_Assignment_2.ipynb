{
 "cells": [
  {
   "cell_type": "markdown",
   "metadata": {
    "id": "CNMrNlx_plWE"
   },
   "source": [
    "# **CS 6120: Natural Language Processing - Prof. Ahmad Uzair** \n",
    "\n",
    "### **Assignment 2: n-gram Language Models and Hierarchical Clustering **\n",
    "\n",
    "### **Total points: 100**\n",
    "\n",
    "In this assignment, You will be learning character level language models and hierarchical Clustering by implementing it. "
   ]
  },
  {
   "cell_type": "markdown",
   "metadata": {},
   "source": [
    "Solution by: **Sumukh Vasisht Shankar**"
   ]
  },
  {
   "cell_type": "markdown",
   "metadata": {
    "id": "jB23-0gxplWG"
   },
   "source": [
    "## <CENTER>PART-A "
   ]
  },
  {
   "cell_type": "markdown",
   "metadata": {
    "id": "B9lthD13plWG"
   },
   "source": [
    "### OBJECTIVE : "
   ]
  },
  {
   "cell_type": "markdown",
   "metadata": {
    "id": "mM07ZgklplWG"
   },
   "source": [
    "Your task is to train n-gram language models. [Ref SLP Chapter 3]\n",
    "\n",
    "- Task 1: You will train unigram, bigram, and trigram models on given training files. Then you will score on given test files for unigram, bigram, and trigram. you will generate sentences from the trained model and compute perplexity.\n",
    "- Task 2: You will create training data for n > 3. and Repeat the above task from training model.\n",
    "<h6>Part-A = (55 Points) </h6>"
   ]
  },
  {
   "cell_type": "code",
   "execution_count": 1,
   "metadata": {
    "id": "qpO0AKC8plWH"
   },
   "outputs": [
    {
     "name": "stderr",
     "output_type": "stream",
     "text": [
      "[nltk_data] Downloading package punkt to\n",
      "[nltk_data]     C:\\Users\\DELL\\AppData\\Roaming\\nltk_data...\n",
      "[nltk_data]   Package punkt is already up-to-date!\n"
     ]
    },
    {
     "data": {
      "text/plain": [
       "True"
      ]
     },
     "execution_count": 1,
     "metadata": {},
     "output_type": "execute_result"
    }
   ],
   "source": [
    "'''\n",
    "Your imports go here\n",
    "You are encouraged to implement your own functions and not use from library.\n",
    "'''\n",
    "import sys\n",
    "from collections import Counter\n",
    "import numpy as np\n",
    "import nltk\n",
    "from nltk.tokenize import word_tokenize\n",
    "nltk.download('punkt')"
   ]
  },
  {
   "cell_type": "code",
   "execution_count": 2,
   "metadata": {
    "id": "iS3J6hisvReS"
   },
   "outputs": [],
   "source": [
    "# constants to define pseudo-word tokens\n",
    "# access via UNK, for instance\n",
    "# for this assignemnt we will follow <s> tag for beginning of sentence and\n",
    "# </s> for end of senetence as suggested in SLP Book. Check sample training files for reference.\n",
    "UNK = \"<UNK>\"\n",
    "SENT_BEGIN = \"<s>\"\n",
    "SENT_END = \"</s>\""
   ]
  },
  {
   "cell_type": "markdown",
   "metadata": {
    "id": "zp00BMTJ4f8J"
   },
   "source": [
    "We need to initialise global variables for model"
   ]
  },
  {
   "cell_type": "code",
   "execution_count": 3,
   "metadata": {
    "id": "W_VUIkeUplWI"
   },
   "outputs": [],
   "source": [
    "\n",
    "\"\"\"Initializes Parameters:\n",
    "  n_gram (int): the n-gram order.\n",
    "  is_laplace_smoothing (bool): whether or not to use Laplace smoothing\n",
    "  threshold: words with frequency  below threshold will be converted to token\n",
    "\"\"\"\n",
    "# Initializing different object attributes\n",
    "n_gram = 2\n",
    "is_laplace_smoothing = True\n",
    "vocab = [] \n",
    "n_gram_counts = {}\n",
    "n_minus_1_gram = n_gram-1\n",
    "threshold = 1"
   ]
  },
  {
   "cell_type": "markdown",
   "metadata": {
    "id": "JRYDPhLAplWI"
   },
   "source": [
    "### TASK - 1  = 20 points :\n",
    "Implement training function"
   ]
  },
  {
   "cell_type": "code",
   "execution_count": 4,
   "metadata": {
    "id": "X4L2wHUjvciI"
   },
   "outputs": [],
   "source": [
    "def make_ngrams(tokens: list, n: int) -> list:\n",
    "    \"\"\"Creates n-grams for the given token sequence.\n",
    "    Args:\n",
    "    tokens (list): a list of tokens as strings\n",
    "    n (int): the length of n-grams to create\n",
    "\n",
    "    Returns:\n",
    "    list: list of tuples of strings, each tuple being one of the individual n-grams\n",
    "    \"\"\"\n",
    "\n",
    "    n_grams=[]\n",
    "    for i in range(0,len(tokens)-n+1):\n",
    "        n_grams.append(tuple(tokens[i:i+n]))\n",
    "    return n_grams"
   ]
  },
  {
   "cell_type": "code",
   "execution_count": 5,
   "metadata": {},
   "outputs": [],
   "source": [
    "def make_ngrams_temp(tokens, n):\n",
    "    n_grams = []\n",
    "    for i in tokens:\n",
    "        for j in range(0,len(i)-n+1):\n",
    "            n_grams.append(tuple(i[j:j+n]))       \n",
    "  \n",
    "    return n_grams    "
   ]
  },
  {
   "cell_type": "code",
   "execution_count": 6,
   "metadata": {
    "id": "LHOwrc2Uvgtm"
   },
   "outputs": [],
   "source": [
    "def train(training_file_path):\n",
    "    \"\"\"Trains the language model on the given data. Input file that\n",
    "    has tokens that are white-space separated, has one sentence per line, and\n",
    "    that the sentences begin with <s> and end with </s>\n",
    "    Parameters:\n",
    "      training_file_path (str): the location of the training data to read\n",
    "\n",
    "    Returns:\n",
    "    N Gram Counts, Vocab, N Minus 1 Gram Counts\n",
    "    \"\"\"\n",
    "    with open(training_file_path, 'r') as fh:\n",
    "        content = fh.read().split('\\n') # Read and split data to get list of words\n",
    "\n",
    "    tokenized_sentences=[]\n",
    "    for i in content:\n",
    "        l=i.split(\" \")\n",
    "        tokenized_sentences.append(l)\n",
    "\n",
    "    counter={}\n",
    "    for i in tokenized_sentences:\n",
    "        for j in i:\n",
    "            if j in counter.keys():\n",
    "                counter[j]=counter[j]+1\n",
    "            else:\n",
    "                counter[j]=1\n",
    "                \n",
    "    vocab = []\n",
    "    \n",
    "    for i in counter.keys():\n",
    "        if counter[i]>1:\n",
    "            vocab.append(i)\n",
    "\n",
    "    replaced_tokenized_sentences=[]\n",
    "    for i in tokenized_sentences:\n",
    "        replaced_sentence = []\n",
    "        for j in i:\n",
    "            if j in vocab:\n",
    "                replaced_sentence.append(j)\n",
    "            else:\n",
    "                replaced_sentence.append(\"<UNK>\")\n",
    "      \n",
    "        replaced_tokenized_sentences.append(replaced_sentence)\n",
    "        \n",
    "    # make use of make_n_grams function\n",
    "    n_grams=make_ngrams_temp(replaced_tokenized_sentences,n_gram)\n",
    "    n_gram_counts=Counter(n_grams)\n",
    "    # Get the training data vocabulary\n",
    "    # For n>1 grams compute n-1 gram counts to compute probability\n",
    "    if n_gram>1:\n",
    "        n_1_grams=make_ngrams_temp(replaced_tokenized_sentences,n_gram-1)\n",
    "        n_minus_1_gram_counts=Counter(n_1_grams)\n",
    "    else:\n",
    "        n_1_grams={}\n",
    "        n_minus_1_gram_counts={}\n",
    "    return n_gram_counts, vocab, n_minus_1_gram_counts"
   ]
  },
  {
   "cell_type": "markdown",
   "metadata": {
    "id": "4ucWPcHIJly_"
   },
   "source": [
    "Output your Trained Data Parameters:"
   ]
  },
  {
   "cell_type": "code",
   "execution_count": 8,
   "metadata": {
    "colab": {
     "base_uri": "https://localhost:8080/"
    },
    "id": "P7j8ct0BwocM",
    "outputId": "d9e230c4-63e9-4d9c-ab3a-85907b012701",
    "tags": []
   },
   "outputs": [
    {
     "name": "stdout",
     "output_type": "stream",
     "text": [
      "8533\n"
     ]
    }
   ],
   "source": [
    "n_gram_counts, vocab, n_minus_1_gram_counts = train(\"train_data/berp-training_bi.txt\")\n",
    "# print(n_gram_counts)\n",
    "# print(vocab)\n",
    "print(len(n_gram_counts.keys()))"
   ]
  },
  {
   "cell_type": "markdown",
   "metadata": {
    "id": "54hLufsd5lVZ"
   },
   "source": [
    "### TASK - 2  = 15 points :\n",
    "Implement Score function that will take input sentence and output probability of given string representing a single sentence."
   ]
  },
  {
   "cell_type": "markdown",
   "metadata": {},
   "source": [
    "## Unigram"
   ]
  },
  {
   "cell_type": "code",
   "execution_count": 31,
   "metadata": {},
   "outputs": [],
   "source": [
    "def score(sentence):\n",
    "    \"\"\"Calculates the probability score for a given string representing a single sentence.\n",
    "    Parameters:\n",
    "      sentence (str): a sentence with tokens separated by whitespace to calculate the score of\n",
    "      \n",
    "    Returns:\n",
    "      float: the probability value of the given string for this model\n",
    "    \"\"\"\n",
    "    # Split the input sentence and replace out of vocabulary tokens with <UNK>     \n",
    "    # Calculate probability for each word and multiply(or take log and sum) them to get the sentence probability\n",
    "\n",
    "    tokens = sentence.split(' ') \n",
    "    \n",
    "    replaced_sentence=[]  \n",
    "    for token in tokens:\n",
    "        if token not in vocab:\n",
    "            replaced_sentence.append(\"<UNK>\")\n",
    "        else:\n",
    "            replaced_sentence.append(token)\n",
    "    \n",
    "    ngrams = make_ngrams(replaced_sentence,n_gram)\n",
    "    \n",
    "    # Calculate probability for each word and multiply(or take log and sum) them to get the sentence probability\n",
    "    probabilities = []\n",
    "    if n_gram > 1:\n",
    "        for i in ngrams:\n",
    "            p = (n_gram_counts[i]+1)/(n_minus_1_gram_counts[(i[0:n_gram-1],)] + len(vocab))        \n",
    "            probabilities.append(np.log(p))\n",
    "    else:\n",
    "        for i in ngrams:\n",
    "            # print(i)\n",
    "            p=(n_gram_counts[i]+1)/len(vocab)\n",
    "            probabilities.append(np.log(p))\n",
    "            # print(p)\n",
    "\n",
    "    probability=0\n",
    "    for p in probabilities:\n",
    "        probability = probability + p\n",
    "    \n",
    "    return np.exp(probability)"
   ]
  },
  {
   "cell_type": "code",
   "execution_count": 10,
   "metadata": {},
   "outputs": [
    {
     "name": "stdout",
     "output_type": "stream",
     "text": [
      "# of test sentences:  100\n"
     ]
    }
   ],
   "source": [
    "n_gram = 2\n",
    "with open(\"test_data/hw2-test_uni.txt\", 'r') as fh:\n",
    "    test_content = fh.read().split(\"\\n\")\n",
    "num_sentences_1 = len(test_content)\n",
    "ten_sentences_1 = test_content[:10]\n",
    "print(\"# of test sentences: \", num_sentences_1)\n",
    "probablities = []"
   ]
  },
  {
   "cell_type": "code",
   "execution_count": 11,
   "metadata": {},
   "outputs": [
    {
     "name": "stdout",
     "output_type": "stream",
     "text": [
      "[5.93235151e-08 2.15047742e-06 3.08302725e-14 2.80074496e-12\n",
      " 3.93347733e-17 2.26981455e-11 5.29087473e-11 4.45830173e-21\n",
      " 1.25662057e-14 3.97920484e-03 1.90759491e-08 3.24514780e-09\n",
      " 2.24810836e-12 1.48311689e-04 8.45269324e-10 7.96865982e-05\n",
      " 2.05416179e-04 6.01782609e-05 1.43102700e-10 5.47994485e-19\n",
      " 9.30789373e-31 4.58211372e-29 4.17861112e-16 4.93327200e-12\n",
      " 3.37425228e-14 3.25382424e-08 3.34291182e-04 8.78009605e-08\n",
      " 7.41241223e-18 6.23838801e-09 1.20841556e-06 4.06462318e-11\n",
      " 1.77939959e-10 1.19025044e-07 9.52963855e-15 1.93490280e-12\n",
      " 4.79471126e-05 2.91201229e-05 4.38788736e-10 4.77130970e-08\n",
      " 9.31738644e-11 1.37858960e-09 9.11519007e-09 2.77366960e-14\n",
      " 1.73116311e-11 1.30628638e-13 1.20559447e-09 7.40717245e-09\n",
      " 2.84615948e-15 1.38385096e-17 4.21441246e-19 1.23202393e-12\n",
      " 1.35951243e-04 4.94393346e-03 4.94393346e-03 4.86741720e-11\n",
      " 4.04788061e-10 1.87809078e-05 2.36873751e-06 1.12042564e-11\n",
      " 3.24040350e-02 1.81351121e-11 8.04963831e-14 1.62603925e-10\n",
      " 5.00335477e-19 1.73618229e-13 1.53243458e-05 2.69975550e-04\n",
      " 4.39255522e-05 1.25314372e-15 1.48756647e-13 4.05055356e-17\n",
      " 8.42445931e-09 1.16728266e-09 1.27143742e-21 3.16899119e-11\n",
      " 1.04934943e-07 5.38340727e-10 5.76001953e-09 4.06738818e-15\n",
      " 1.14552262e-08 6.66259730e-07 5.86903369e-06 2.06122210e-09\n",
      " 3.12830857e-23 5.56849179e-10 9.37061686e-53 3.96923621e-17\n",
      " 1.21606378e-02 1.18517996e-15 4.57505194e-10 6.83022155e-10\n",
      " 6.84724643e-05 1.50470730e-11 3.96598114e-11 7.13361914e-11\n",
      " 1.98787220e-06 2.03849915e-12 2.43868709e-13 1.52269764e-08]\n",
      "0.0005990392457359236\n",
      "0.003502890963417252\n"
     ]
    }
   ],
   "source": [
    "# print probabilities/score of sentences in test content\n",
    "for sentence in test_content:\n",
    "    probablities.append(score(sentence))\n",
    "    # break\n",
    "probablities = np.array(probablities)\n",
    "mean = np.mean(probablities)\n",
    "std_dev = np.std(probablities)\n",
    "print(probablities)\n",
    "print(mean)\n",
    "print(std_dev)"
   ]
  },
  {
   "cell_type": "markdown",
   "metadata": {},
   "source": [
    "## Bigram"
   ]
  },
  {
   "cell_type": "code",
   "execution_count": null,
   "metadata": {
    "tags": []
   },
   "outputs": [],
   "source": [
    "n_gram = 2\n",
    "n_gram_counts, vocab, n_minus_1_gram_counts = train(\"train_data/berp-training_bi.txt\")\n",
    "print(n_gram_counts)\n",
    "print(vocab)"
   ]
  },
  {
   "cell_type": "code",
   "execution_count": null,
   "metadata": {},
   "outputs": [],
   "source": [
    "with open(\"test_data/hw2-test_bi.txt\", 'r') as fh:\n",
    "    test_content = fh.read().split(\"\\n\")\n",
    "num_sentences_1 = len(test_content)\n",
    "ten_sentences_1 = test_content[:10]\n",
    "print(\"# of test sentences: \", num_sentences_1)\n",
    "probablities = []"
   ]
  },
  {
   "cell_type": "code",
   "execution_count": null,
   "metadata": {},
   "outputs": [],
   "source": [
    "# print probabilities/score of sentences in test content\n",
    "for sentence in test_content:\n",
    "    probablities.append(score(sentence))\n",
    "    # break\n",
    "probablities = np.array(probablities)\n",
    "mean = np.mean(probablities)\n",
    "std_dev = np.std(probablities)\n",
    "print(probablities)\n",
    "print(mean)\n",
    "print(std_dev)"
   ]
  },
  {
   "cell_type": "markdown",
   "metadata": {},
   "source": [
    "## Trigram"
   ]
  },
  {
   "cell_type": "code",
   "execution_count": null,
   "metadata": {
    "tags": []
   },
   "outputs": [],
   "source": [
    "n_gram = 3\n",
    "n_gram_counts, vocab, n_minus_1_gram_counts = train(\"train_data/berp-training-tri.txt\")\n",
    "print(n_gram_counts)\n",
    "print(vocab)"
   ]
  },
  {
   "cell_type": "code",
   "execution_count": null,
   "metadata": {},
   "outputs": [],
   "source": [
    "with open(\"test_data/hw2-test-tri.txt\", 'r') as fh:\n",
    "    test_content = fh.read().split(\"\\n\")\n",
    "num_sentences_1 = len(test_content)\n",
    "ten_sentences_1 = test_content[:10]\n",
    "print(\"# of test sentences: \", num_sentences_1)\n",
    "probablities = []"
   ]
  },
  {
   "cell_type": "code",
   "execution_count": null,
   "metadata": {},
   "outputs": [],
   "source": [
    "# print probabilities/score of sentences in test content\n",
    "for sentence in test_content:\n",
    "    probablities.append(score(sentence))\n",
    "    # break\n",
    "probablities = np.array(probablities)\n",
    "mean = np.mean(probablities)\n",
    "std_dev = np.std(probablities)\n",
    "print(probablities)\n",
    "print(mean)\n",
    "print(std_dev)"
   ]
  },
  {
   "cell_type": "markdown",
   "metadata": {
    "id": "awEQeJtIzTrC"
   },
   "source": [
    "### TASK - 3  = 10 points :\n",
    "Generate sentence from the above trained model"
   ]
  },
  {
   "cell_type": "code",
   "execution_count": 38,
   "metadata": {
    "id": "SpTKpxDMv2-4"
   },
   "outputs": [],
   "source": [
    "import random\n",
    "\n",
    "def generate_sentence():\n",
    "    \"\"\"Generates a single sentence from a trained language model using the Shannon technique.\n",
    "      \n",
    "    Returns:\n",
    "      str: the generated sentence\n",
    "    \"\"\"\n",
    "    # Start with <s> and randomly generate words until we encounter sentence end\n",
    "    # Append sentence begin markers for n>2\n",
    "    # Keep track of previous word for stop condition\n",
    "    \n",
    "    # remove_key = s.pop(\"in_stock\", None)\n",
    "    \n",
    "    if n_gram > 1:\n",
    "        generated_sentence = []\n",
    "        start = 0\n",
    "        tokens = ['<s>']*(n_gram - 1)\n",
    "        tupleList = []\n",
    "        for key, value in n_gram_counts.items():\n",
    "            if(key[:n_gram-1] == tuple(tokens)):\n",
    "                if('<UNK>' not in key):\n",
    "                    tupleList.append(key)\n",
    "        randomChoice = random.choice(tupleList)\n",
    "        n_gram_counts.pop(randomChoice, None)\n",
    "        # print(randomChoice)\n",
    "        generated_sentence.append(randomChoice)\n",
    "        # print(generated_sentence)\n",
    "        prev_word = generated_sentence[0][-1]\n",
    "        # print('Prev = ', prev_word)\n",
    "        while prev_word != \"</s>\":\n",
    "            tupleList = []\n",
    "            for key, value in n_gram_counts.items():\n",
    "                if(key[start:n_gram-1] == generated_sentence[-1][-n_gram+1:]):\n",
    "                    if('<UNK>' not in key):\n",
    "                        tupleList.append(key)\n",
    "                                         \n",
    "            maxProb = 0\n",
    "            nextTup = None\n",
    "            newList = []\n",
    "            for tup in tupleList:\n",
    "                prob = (n_gram_counts[tup] + 1)/(n_minus_1_gram_counts[tup[:n_gram-1]] + len(vocab))\n",
    "                if(prob > maxProb):\n",
    "                    maxProb = prob\n",
    "                    nextTup = tup\n",
    "                # prob = (n_gram_counts[tup])/(n_minus_1_gram_counts[tup[:n_gram-1]] + len(vocab))\n",
    "                # if(prob > 0):\n",
    "                #     newList.append(tup)\n",
    "            # randomChoice = random.choice(newList)   \n",
    "            generated_sentence.append(nextTup)\n",
    "            # generated_sentence.append(randomChoice)\n",
    "            # print(generated_sentence[-1])\n",
    "            prev_word = generated_sentence[-1][-1]\n",
    "\n",
    "        # Construct the (n-1) gram so far\n",
    "        # Get the counts of all available choices based on n-1 gram\n",
    "        # Convert the counts into probability for random.choice() function\n",
    "        # If <s> is generated, ignore and generate another word\n",
    "    else:\n",
    "      # In case of unigram model, n-1 gram is just the previous word and possible choice is whole vocabulary\n",
    "        generated_sentence = ''\n",
    "        for i in range(10):\n",
    "            randomChoice = random.choice(vocab)\n",
    "            generated_sentence += randomChoice + ' '\n",
    "            if(randomChoice == '</s>'):\n",
    "                break\n",
    "        return generated_sentence\n",
    "        # Convert the counts into probability for random.choice() function\n",
    "        # If <s> is generated, ignore and generate another word\n",
    "\n",
    "    # Append sentence end markers for n>2\n",
    "    \n",
    "    sentence = ' '.join(generated_sentence[0]) + ' '\n",
    "    for i in range(1, len(generated_sentence)):\n",
    "        # print('----------')\n",
    "        # print(generated_sentence[i][-1])\n",
    "        sen = generated_sentence[i][-1] + ' '\n",
    "        sentence += sen \n",
    "    \n",
    "    return sentence"
   ]
  },
  {
   "cell_type": "code",
   "execution_count": 39,
   "metadata": {
    "id": "aeQKR_UHv462"
   },
   "outputs": [],
   "source": [
    "def generate(n):\n",
    "    \"\"\"Generates n sentences from a trained language model using the Shannon technique.\n",
    "    Parameters:\n",
    "      n (int): the number of sentences to generate\n",
    "      \n",
    "    Returns:\n",
    "      list: a list containing strings, one per generated sentence\n",
    "    \"\"\"\n",
    "    sentences = []\n",
    "    for i in range(n):\n",
    "        sentences.append(generate_sentence())\n",
    "    # Generate sentences one by one and store\n",
    "    return sentences"
   ]
  },
  {
   "cell_type": "code",
   "execution_count": 40,
   "metadata": {
    "tags": []
   },
   "outputs": [
    {
     "name": "stdout",
     "output_type": "stream",
     "text": [
      "Sentences:\n",
      "<s> japanese food </s> \n",
      "<s> tomorrow </s> \n",
      "<s> spats  </s> \n",
      "<s> where can you have a restaurant </s> \n",
      "<s> lunch </s> \n",
      "<s> tuesdays </s> \n",
      "<s> actually i want to eat on saturday </s> \n",
      "<s> french food </s> \n",
      "<s> between ten dollars </s> \n",
      "<s> should be less than ten dollars </s> \n"
     ]
    }
   ],
   "source": [
    "sentences = generate(10)\n",
    "print(\"Sentences:\")\n",
    "for sentence in sentences:\n",
    "    print(sentence)"
   ]
  },
  {
   "cell_type": "markdown",
   "metadata": {
    "id": "I-ok3UZEKmFi",
    "tags": []
   },
   "source": [
    "### TASK - 4  = 5 points :\n",
    "Measures the perplexity for the test sequence with your trained model. \n",
    "you may assume that this sequence may consist of many sentences \"glued together\"\n",
    "\n",
    "The perplexity of the given sequence is the inverse probability of the test set, normalized by the number of words.\n"
   ]
  },
  {
   "cell_type": "code",
   "execution_count": 41,
   "metadata": {
    "id": "G8mjYygFv7Gq"
   },
   "outputs": [],
   "source": [
    "# Since this sequence will cross many sentence boundaries, we need to include \n",
    "# the begin- and end-sentence markers <s> and </s> in the probability computation. \n",
    "# We also need to include the end-of-sentence marker </s> \n",
    "# but not the beginning-of-sentence marker <s>) in the total count of word tokens N\n",
    "\n",
    "def perplexity(test_sequence):\n",
    "    \"\"\".\n",
    "    Parameters:\n",
    "      test_sequence (string): a sequence of space-separated tokens to measure the perplexity of\n",
    "\n",
    "    Returns:\n",
    "      float: the perplexity of the given sequence\n",
    "    \"\"\" \n",
    "    tokens = test_sequence.split(\" \")\n",
    "    n = 0\n",
    "    for i in tokens:\n",
    "        if(i != '<s>'):\n",
    "            n+=1 \n",
    "    \n",
    "    if(n_gram>1):\n",
    "    \n",
    "        prob = 1\n",
    "        firstProb = (n_gram_counts[tuple(tokens[:n_gram])]+1)/len(vocab)\n",
    "        prob = prob * firstProb\n",
    "        start = 1\n",
    "\n",
    "        while(start!=len(tokens)-n_gram):\n",
    "            try:\n",
    "                # print('Prob first = ', prob)\n",
    "                numTuple = tuple(tokens[start:start+n_gram])\n",
    "                denTuple = numTuple[:n_gram-1]\n",
    "                start += 1\n",
    "                if(n_gram_counts[numTuple]!=0):\n",
    "                    tempProb = (n_gram_counts[numTuple]+1)/(n_minus_1_gram_counts[denTuple]+len(vocab))\n",
    "                    # print(tempProb)\n",
    "                    prob = prob * tempProb\n",
    "                    print('Prob = ', prob)\n",
    "            except:\n",
    "                prob = prob * 1\n",
    "\n",
    "    # test_sequence.replace(\"<s>\", \"\")\n",
    "    # test_sequence.replace(\"</s>\", \"\")\n",
    "\n",
    "        # prob = score(test_sequence)\n",
    "            \n",
    "        value = 1/prob\n",
    "\n",
    "        perplexity = value**(1/n)\n",
    "    \n",
    "    # print(prob)\n",
    "        \n",
    "    else:\n",
    "        prob = 1\n",
    "        for token in tokens:\n",
    "            prob = prob * ((n_gram_counts[tuple([token])]+1)/len(vocab))\n",
    "        value = 1/prob\n",
    "        \n",
    "        perplexity = value**(1/n)\n",
    "        \n",
    "          \n",
    "\n",
    "    # Replace out of vocab words with <UNK>, already done in score function\n",
    "    # test_sequence = [token if token in vocab else UNK for token in test_sequence.split()]\n",
    "\n",
    "\n",
    "    # Remove sentence begin markers from data for computing N\n",
    "    # Get the probability for the sequence\n",
    "    \n",
    "    return perplexity"
   ]
  },
  {
   "cell_type": "code",
   "execution_count": 42,
   "metadata": {
    "colab": {
     "base_uri": "https://localhost:8080/"
    },
    "id": "tsldHtvIBlTV",
    "outputId": "981b0b5c-ff77-4777-c98b-12ffe0f9d529"
   },
   "outputs": [
    {
     "name": "stdout",
     "output_type": "stream",
     "text": [
      "['<s> japanese food </s> ', '<s> tomorrow </s> ', '<s> spats  </s> ', '<s> where can you have a restaurant </s> ', '<s> lunch </s> ', '<s> tuesdays </s> ', '<s> actually i want to eat on saturday </s> ', '<s> french food </s> ', '<s> between ten dollars </s> ', '<s> should be less than ten dollars </s> ']\n",
      "Prob =  2.836758719487114e-05\n",
      "Prob =  7.732574681839549e-06\n",
      "Prob =  1.8259673273337744e-07\n",
      "Prob =  1.1618031775188384e-09\n",
      "Prob =  7.475536838953181e-10\n",
      "Prob =  5.155542647553918e-11\n",
      "Prob =  5.693237279507394e-12\n",
      "Prob =  4.562811104875962e-13\n",
      "Prob =  2.3761508060988857e-14\n",
      "Prob =  1.070338200945444e-15\n",
      "Prob =  1.111126384687123e-16\n",
      "Prob =  1.2366054690462254e-17\n",
      "Prob =  6.669932411252565e-20\n",
      "Prob =  7.7639424892887e-22\n",
      "Prob =  1.8124798280611208e-22\n",
      "Prob =  5.642723198346232e-23\n",
      "Prob =  1.1208400111149376e-23\n",
      "Prob =  7.566554018252261e-25\n",
      "Prob =  3.245849473371223e-26\n",
      "Prob =  1.6756775483943215e-27\n",
      "Prob =  4.811351376577755e-29\n",
      "Prob =  1.311501524059315e-29\n",
      "Prob =  1.5074730161601322e-31\n",
      "Prob =  1.6286768767559217e-32\n",
      "Prob =  2.6184865063253978e-33\n",
      "Prob =  2.9876979617627454e-34\n",
      "Prob =  6.087404160070793e-36\n",
      "Prob =  7.74349461401763e-37\n",
      "Prob =  4.769089065359319e-38\n",
      "Prob =  5.152533412322882e-39\n",
      "Prob =  8.283926299998762e-40\n",
      "5.838604983094915\n"
     ]
    }
   ],
   "source": [
    "print(sentences[0:10])\n",
    "print(perplexity(\" \".join(sentences[0:10])))"
   ]
  },
  {
   "cell_type": "markdown",
   "metadata": {
    "id": "UfbHtUCW66Qk"
   },
   "source": [
    "### **Theory: (5 points)**\n",
    "* Experiment n_gram model for n = [1,2,3..7] of your choice. Explain the best choice of n that generates more meaninful sentences.\n"
   ]
  },
  {
   "cell_type": "markdown",
   "metadata": {
    "id": "zrXwG40jplWN"
   },
   "source": [
    "# <CENTER> PART-B</CENTER> "
   ]
  },
  {
   "cell_type": "markdown",
   "metadata": {
    "id": "VdZLYTfkplWN"
   },
   "source": [
    "### OBJECTIVE : In this unsupervised learning task we are going to cluster wikipedia articles into groups using Hierarchical clustering"
   ]
  },
  {
   "cell_type": "markdown",
   "metadata": {
    "id": "T_SXd_VlCaWc"
   },
   "source": [
    "# **TASK-1 : 5 Points**\n",
    "## Download articles from Wikipedia\n",
    "In this section we will download articles from wikipedia and then cluster them into groups in the next step. You can select somewhat related topics or fetch the articles randomly. \n",
    "(Use dir() and help() functions or refer wikipedia documentation)\n",
    "You may also pick any other data source of your choice instead of wikipedia."
   ]
  },
  {
   "cell_type": "code",
   "execution_count": 43,
   "metadata": {
    "id": "05p2nS6agp0f"
   },
   "outputs": [
    {
     "name": "stderr",
     "output_type": "stream",
     "text": [
      "c:\\users\\dell\\appdata\\local\\programs\\python\\python38\\lib\\site-packages\\wikipedia\\wikipedia.py:389: GuessedAtParserWarning: No parser was explicitly specified, so I'm using the best available HTML parser for this system (\"html.parser\"). This usually isn't a problem, but if you run this code on another system, or in a different virtual environment, it may use a different parser and behave differently.\n",
      "\n",
      "The code that caused this warning is on line 389 of the file c:\\users\\dell\\appdata\\local\\programs\\python\\python38\\lib\\site-packages\\wikipedia\\wikipedia.py. To get rid of this warning, pass the additional argument 'features=\"html.parser\"' to the BeautifulSoup constructor.\n",
      "\n",
      "  lis = BeautifulSoup(html).find_all('li')\n"
     ]
    }
   ],
   "source": [
    "import wikipedia\n",
    "from wikipedia.exceptions import WikipediaException\n",
    "import pandas as pd\n",
    "\n",
    "'''\n",
    " Generate a list of wikipedia article titles to cluster \n",
    " You can maintain a static list of titles or generate them randomly using wikipedia library\n",
    " Some topics include:\n",
    " [\"Northeastern Unversity\", \"Natural language processing\", \"Machine learning\", \"Quantum machine learning\", \"Artificial intelligence\", \"Data science\", \"Master in Data Science\", \n",
    " \"Bank of America\", \"Visa Inc.\", \"European Central Bank\", \"Bank\", \"Financial technology\",\"International Monetary Fund\", \n",
    " \"Basketball\", \"Swimming\", \"Tennis\", \"Football\", \"College Football\", \"Association Football\"]\n",
    "\n",
    " You can add more topics from different categories so that we have a diverse datset to work with. \n",
    " Ex- About 10+ categories with 3+ article in each category\n",
    "'''\n",
    "# list of articles to be downloaded\n",
    "articles = [\"Northeastern Unversity\", \"Natural language processing\", \"Machine learning\", \"Quantum machine learning\", \n",
    "            \"Artificial intelligence\", \"Data science\", \"Master in Data Science\", \n",
    "            \"Bank of America\", \"Visa Inc.\", \"European Central Bank\", \"Bank\", \"Financial technology\",\"International Monetary Fund\", \n",
    "            \"Basketball\", \"Swimming\", \"Tennis\", \"Football\", \"College Football\", \"Association Football\"]\n",
    "\n",
    "# download and store all the articles in this variable\n",
    "data = []\n",
    "for article in articles:\n",
    "    try:\n",
    "        summary = wikipedia.summary(article)\n",
    "        data.append(summary)\n",
    "    except:\n",
    "        pass"
   ]
  },
  {
   "cell_type": "code",
   "execution_count": 44,
   "metadata": {
    "tags": []
   },
   "outputs": [
    {
     "name": "stdout",
     "output_type": "stream",
     "text": [
      "['Natural language processing (NLP) is a subfield of linguistics, computer science, and artificial intelligence concerned with the interactions between computers and human language, in particular how to program computers to process and analyze large amounts of natural language data.  The goal is a computer capable of \"understanding\" the contents of documents, including the contextual nuances of the language within them. The technology can then accurately extract information and insights contained in the documents as well as categorize and organize the documents themselves.\\nChallenges in natural language processing frequently involve speech recognition, natural language understanding, and natural language generation.', 'Quantum machine learning is the integration of quantum algorithms within machine learning programs. The most common use of the term refers to machine learning algorithms for the analysis of classical data executed on a quantum computer, i.e. quantum-enhanced machine learning. While machine learning algorithms are used to compute immense quantities of data, quantum machine learning utilizes qubits and quantum operations or specialized quantum systems to improve computational speed and data storage done by algorithms in a program. This includes hybrid methods that involve both classical and quantum processing, where computationally difficult subroutines are outsourced to a quantum device. These routines can be more complex in nature and executed faster on a quantum computer. Furthermore, quantum algorithms can be used to analyze quantum states instead of classical data. Beyond quantum computing, the term \"quantum machine learning\" is also associated with classical machine learning methods applied to data generated from quantum experiments (i.e. machine learning of quantum systems), such as learning the phase transitions of a quantum system or creating new quantum experiments. Quantum machine learning also extends to a branch of research that explores methodological and structural similarities between certain physical systems and learning systems, in particular neural networks. For example, some mathematical and numerical techniques from quantum physics are applicable to classical deep learning and vice versa. Furthermore, researchers investigate more abstract notions of learning theory with respect to quantum information, sometimes referred to as \"quantum learning theory\".', 'Artificial intelligence (AI) is intelligence demonstrated by machines, as opposed to natural intelligence displayed by animals including humans. Leading AI textbooks define the field as the study of \"intelligent agents\": any system that perceives its environment and takes actions that maximize its chance of achieving its goals.Some popular accounts use the term \"artificial intelligence\" to describe machines that mimic \"cognitive\" functions that humans associate with the human mind, such as \"learning\" and \"problem solving\", however, this definition is rejected by major AI researchers.AI applications include advanced web search engines (e.g., Google), recommendation systems (used by YouTube, Amazon and Netflix), understanding human speech (such as Siri and Alexa), self-driving cars (e.g., Tesla), automated decision-making and competing at the highest level in strategic game systems (such as chess and Go).\\nAs machines become increasingly capable, tasks considered to require \"intelligence\" are often removed from the definition of AI, a phenomenon known as the AI effect.  For instance, optical character recognition is frequently excluded from things considered to be AI, having become a routine technology.Artificial intelligence was founded as an academic discipline in 1956, and in the years since has experienced several waves of optimism, followed by disappointment and the loss of funding (known as an \"AI winter\"), followed by new approaches, success and renewed funding. AI research has tried and discarded many different approaches since its founding, including simulating the brain, modeling human problem solving, formal logic, large databases of knowledge and imitating animal behavior. In the first decades of the 21st century, highly mathematical statistical machine learning has dominated the field, and this technique has proved highly successful, helping to solve many challenging problems throughout industry and academia.The various sub-fields of AI research are centered around particular goals and the use of particular tools. The traditional goals of AI research include reasoning, knowledge representation, planning, learning, natural language processing, perception, and the ability to move and manipulate objects. General intelligence (the ability to solve an arbitrary problem) is among the field\\'s long-term goals. To solve these problems, AI researchers have adapted and integrated a wide range of problem-solving techniques—including search and mathematical optimization, formal logic, artificial neural networks, and methods based on statistics, probability and economics. AI also draws upon computer science, psychology, linguistics, philosophy, and many other fields.\\nThe field was founded on the assumption that human intelligence \"can be so precisely described that a machine can be made to simulate it\".\\nThis raises philosophical arguments about the mind and the ethics of creating artificial beings endowed with human-like intelligence. These issues have been explored by myth, fiction, and philosophy since antiquity.Science fiction and futurology have also suggested that, with its enormous potential and power, AI may become an existential risk to humanity.\\n\\n', 'Data science is an interdisciplinary field that uses scientific methods, processes, algorithms and systems to extract knowledge and insights from noisy, structured and unstructured data, and apply knowledge and actionable insights from data across a broad range of application domains. Data science is related to data mining, machine learning and big data.\\nData science is a \"concept to unify statistics, data analysis, informatics, and their related methods\" in order to \"understand and analyze actual phenomena\" with data. It uses techniques and theories drawn from many fields within the context of mathematics, statistics, computer science, information science, and domain knowledge. However, data science is different from computer science and information science. Turing Award winner Jim Gray imagined data science as a \"fourth paradigm\" of science (empirical, theoretical, computational, and now data-driven) and asserted that \"everything about science is changing because of the impact of information technology\" and the data deluge.A data scientist is someone who creates programming code, and combines it with statistical knowledge to create insights from data.', 'A Master of Science in Data Science is an interdisciplinary degree program designed to provide studies in scientific methods, processes, and systems to extract knowledge or insights from data in various forms, either structured or unstructured, similar to data mining.\\n\\n', \"The European Central Bank (ECB) is the prime component of the Eurosystem and the European System of Central Banks (ESCB) as well as one of seven institutions of the European Union. It is one of the world's most important central banks.\\nThe ECB Governing Council makes monetary policy for the Eurozone and the European Union, administers the foreign exchange reserves of EU member states, engages in foreign exchange operations, and defines the intermediate monetary objectives and key interest rate of the EU. The ECB Executive Board enforces the policies and decisions of the Governing Council, and may direct the national central banks when doing so. The ECB has the exclusive right to authorise the issuance of euro banknotes. Member states can issue euro coins, but the volume must be approved by the ECB beforehand. The bank also operates the TARGET2 payments system.\\nThe ECB was established by the Treaty of Amsterdam in May 1999 with the purpose of guaranteeing and maintaining price stability. On 1 December 2009, the Treaty of Lisbon became effective and the bank gained the official status of an EU institution. When the ECB was created, it covered a Eurozone of eleven members. Since then, Greece joined in January 2001, Slovenia in January 2007, Cyprus and Malta in January 2008, Slovakia in January 2009, Estonia in January 2011, Latvia in January 2014 and Lithuania in January 2015. The current President of the ECB is Christine Lagarde. Headquartered in Frankfurt, Germany, the bank formerly occupied the Eurotower prior to the construction of its new seat.\\nThe ECB is directly governed by European Union law. Its capital stock, worth €11 billion, is owned by all 27 central banks of the EU member states as shareholders. The initial capital allocation key was determined in 1998 on the basis of the states' population and GDP, but the capital key has been readjusted since. Shares in the ECB are not transferable and cannot be used as collateral.\", 'Financial technology (abbreviated fintech or FinTech) is the technology and innovation that aims to compete with traditional financial methods in the delivery of financial services. It is an emerging industry that uses technology to improve activities in finance. The use of smartphones for mobile banking, investing, borrowing services, and cryptocurrency are examples of technologies aiming to make financial services more accessible to the general public. Financial technology companies consist of both startups and established financial institutions and technology companies trying to replace or enhance the usage of financial services provided by existing financial companies. A subset of fintech companies that focus on the insurance industry are collectively known as insurtech or insuretech companies.\\n\\n', 'The International Monetary Fund (IMF) is an international financial institution, headquartered in Washington, D.C., consisting of 190 countries. Its stated mission is \"working to foster global monetary cooperation, secure financial stability, facilitate international trade, promote high employment and sustainable economic growth, and reduce poverty around the world.\" Formed in 1944, started on 27 December 1945, at the Bretton Woods Conference primarily by the ideas of Harry Dexter White and John Maynard Keynes, it came into formal existence in 1945 with 29 member countries and the goal of reconstructing the international monetary system. It now plays a central role in the management of balance of payments difficulties and international financial crises. Countries contribute funds to a pool through a quota system from which countries experiencing balance of payments problems can borrow money. As of 2016, the fund had XDR 477 billion (about US$667 billion).Through the fund and other activities such as the gathering of statistics and analysis, surveillance of its members\\' economies, and the demand for particular policies, the IMF works to improve the economies of its member countries. The organization\\'s objectives stated in the Articles of Agreement are: to promote international monetary co-operation, international trade, high employment, exchange-rate stability, sustainable economic growth, and making resources available to member countries in financial difficulty. IMF funds come from two major sources: quotas and loans. Quotas, which are pooled funds of member nations, generate most IMF funds. The size of a member\\'s quota depends on its economic and financial importance in the world. Nations with greater economic significance have larger quotas. The quotas are increased periodically as a means of boosting the IMF\\'s resources in the form of special drawing rights.The current managing director (MD) and Chairwoman of the IMF is Bulgarian economist Kristalina Georgieva, who has held the post since October 1, 2019. Gita Gopinath, who previously served as Chief Economist was appointed as First Deputy Managing Director, effective January 21, 2022. Prior to her appointment at the IMF, Gopinath served as the economic adviser to the Chief Minister of Kerala, India. Pierre-Olivier Gourinchas replaced Gopinath as Chief Economist on January 24, 2022.', 'Baseball is a bat-and-ball game played between two opposing teams, of nine players each, that take turns batting and fielding. The game proceeds when a player on the fielding team, called the pitcher, throws a ball which a player on the batting team tries to hit with a bat. The objective of the offensive team (batting team) is to hit the ball into the field of play, allowing its players to run the bases, having them advance counter-clockwise around four bases to score what are called \"runs\". The objective of the defensive team (fielding team) is to prevent batters from becoming runners, and to prevent runners\\' advance around the bases. A run is scored when a runner legally advances around the bases in order and touches home plate (the place where the player started as a batter). The team that scores the most runs by the end of the game is the winner.\\nThe first objective of the batting team is to have a player reach first base safely. A player on the batting team who reaches first base without being called \"out\" can attempt to advance to subsequent bases as a runner, either immediately or during teammates\\' turns batting. The fielding team tries to prevent runs by getting batters or runners \"out\", which forces them out of the field of play. Both the pitcher and fielders have methods of getting the batting team\\'s players out. The opposing teams switch back and forth between batting and fielding; the batting team\\'s turn to bat is over once the fielding team records three outs. One turn batting for each team constitutes an inning. A game is usually composed of nine innings, and the team with the greater number of runs at the end of the game wins. If scores are tied at the end of nine innings, extra innings are usually played. Baseball has no game clock, although most games end in the ninth inning.\\nBaseball evolved from older bat-and-ball games already being played in England by the mid-18th century. This game was brought by immigrants to North America, where the modern version developed. By the late 19th century, baseball was widely recognized as the national sport of the United States. Baseball is popular in North America and parts of Central and South America, the Caribbean, and East Asia, particularly in Japan, South Korea, and Taiwan.\\nIn the United States and Canada, professional Major League Baseball (MLB) teams are divided into the National League (NL) and American League (AL), each with three divisions: East, West, and Central. The MLB champion is determined by playoffs that culminate in the World Series. The top level of play is similarly split in Japan between the Central and Pacific Leagues and in Cuba between the West League and East League. The World Baseball Classic, organized by the World Baseball Softball Confederation, is the major international competition of the sport and attracts the top national teams from around the world.', 'Swimming is the self-propulsion of a person through water, or other liquid, usually for recreation, sport, exercise, or survival.  Locomotion is achieved through coordinated movement of the limbs and the body to achieve hydrodynamic thrust which results in directional motion. Humans can hold their breath underwater and undertake rudimentary locomotive swimming within weeks of birth, as a survival response.Swimming is consistently among the top public recreational activities, and in some countries, swimming lessons are a compulsory part of the educational curriculum.  As a formalized sport, swimming features in a range of local, national, and international competitions, including every modern Summer Olympics.', 'Football is a family of team sports that involve, to varying degrees, kicking a ball to score a goal.  Unqualified, the word football normally means the form of football that is the most popular where the word is used. Sports commonly called football include association football (known as soccer in North America and Oceania); gridiron football (specifically American football or Canadian football); Australian rules football; rugby union and rugby league; and Gaelic football. These various forms of football share to varying extent common origins and are known as football codes.\\nThere are a number of references to traditional, ancient, or prehistoric ball games played in many different parts of the world. Contemporary codes of football can be traced back to the codification of these games at English public schools during the 19th century. The expansion and cultural influence of the British Empire allowed these rules of football to spread to areas of British influence outside the directly controlled Empire.  By the end of the 19th century, distinct regional codes were already developing: Gaelic football, for example, deliberately incorporated the rules of local traditional football games in order to maintain their heritage.  In 1888, The Football League was founded in England, becoming the first of many professional football associations. During the 20th century, several of the various kinds of football grew to become some of the most popular team sports in the world.', \"College football (French: football universitaire) is gridiron football consisting of American football played by teams of student athletes fielded by American universities, colleges, and military academies, or Canadian football played by teams of student athletes fielded by Canadian universities. It was through college football play that American football rules first gained popularity in the United States.\\nUnlike most other sports in North America, no official minor league farm organizations exist in American or Canadian football. Therefore, college football is generally considered to be the second tier of American football in the United States and Canadian football in Canada; one step ahead of high school competition, and one step below professional competition. However, in some areas of the country, the South and the Midwest, college football is more popular than professional football, and for much of the early 20th century, college football was seen as more prestigious than professional football.\\nA player's performance in college football directly impacts his chances of playing professional football. The best collegiate players will typically declare for the professional draft after three to four years of collegiate competition, with the NFL holding its annual NFL draft every spring in which 256 players are selected annually. Those not selected can still attempt to land an NFL roster spot as an undrafted free agent.\", \"Association football, more commonly known as simply football or soccer, is a team sport played with a spherical ball between two teams of 11 players. It is played by approximately 250 million players in over 200 countries and dependencies, making it the world's most popular sport. The game is played on a rectangular field called a pitch with a goal at each end. The object of the game is to score more goals than the opposition by moving the ball beyond the goal line into the opposing goal, usually within a time frame of 90 or more minutes.\\nFootball is played in accordance with a set of rules known as the Laws of the Game. The ball is 68–70 cm (27–28 in) in circumference and known as the football. The two teams compete to get the ball into the other team's goal (between the posts and under the bar), thereby scoring a goal. Players are not allowed to touch the ball with hands or arms while it is in play, except for the goalkeepers within the penalty area. Players may use any other part of their body to strike or pass the ball and mainly use their feet. The team that has scored more goals at the end of the game is the winner; if both teams have scored an equal number of goals, either a draw is declared or the game goes into extra time or a penalty shootout, depending on the format of the competition. Each team is led by a captain who has only one official responsibility as mandated by the Laws of the Game: to represent their team in the coin toss before kick-off or penalty kicks.Football is governed internationally by the International Federation of Association Football (FIFA; French: Fédération Internationale de Football Association), which organises World Cups for men and women every four years. The men's FIFA World Cup has taken place every four years since 1930, with the exception of 1942 and 1946 tournaments, which were cancelled due to World War II. Approximately 190–200 national teams compete in qualifying tournaments within the scope of continental confederations for a place in the finals. The finals tournament is held every four years and involves 32 national teams competing over four weeks. It is the most prestigious men's football tournament in the world, and the most widely viewed and followed sporting event in the world, exceeding the Olympic Games. Similarly, the FIFA Women's World Cup has been played every four years since 1991, though football has been played by women since it has existed. A record-breaking 1.12 billion viewers watched the 2019 FIFA Women's World Cup in France.The most prestigious competitions in European club football are the UEFA Champions League and UEFA Women's Champions League, which attract an extensive television audience throughout the world. The final of the men's tournament has been, in recent years, the most-watched annual sporting event in the world. The top five European men's leagues are the Premier League (England), La Liga (Spain), Bundesliga (Germany), Serie A (Italy), and Ligue 1 (France). Attracting most of the world's best players, each of the leagues has a total wage cost in excess of £600 million/€763 million/US$1.185 billion.\"]\n"
     ]
    }
   ],
   "source": [
    "print(data)"
   ]
  },
  {
   "cell_type": "markdown",
   "metadata": {
    "id": "U9LBbYwaX-Zf"
   },
   "source": [
    "# **TASK-2 : 5 Points**\n",
    "# Cleaning the Data\n",
    "In this step you will decide whether to clean the data or not. If you choose to clean, you may utilize the clean function from assignment 1\n",
    "\n",
    "**Answer(1-3 sentences):** Why are you (or not) choosing to clean the data? Think in terms of whether cleaning the data will help in the clustering or not."
   ]
  },
  {
   "cell_type": "markdown",
   "metadata": {},
   "source": [
    "**Answer**: I am not choosing to clean the data. I feel it is not required to clean the message and we are anyways getting vector count of words using tfidf vectorizer and cleaning the data will be of no benifit while performing the clustering. "
   ]
  },
  {
   "cell_type": "code",
   "execution_count": 45,
   "metadata": {},
   "outputs": [],
   "source": [
    "# You can use Assignment 1's clean message function\n",
    "import numpy as np\n",
    "import pandas as pd\n",
    "import re\n",
    "import nltk\n",
    "from nltk.corpus import stopwords\n",
    "from nltk.stem import PorterStemmer\n",
    "from nltk.tokenize import word_tokenize\n",
    "import warnings\n",
    "import seaborn as sns\n",
    "import matplotlib.pyplot as plt\n",
    "warnings.filterwarnings(\"ignore\")"
   ]
  },
  {
   "cell_type": "code",
   "execution_count": 46,
   "metadata": {
    "id": "bp-atYsYSM2U"
   },
   "outputs": [],
   "source": [
    "def clean_message(message):\n",
    "    '''\n",
    "    Input:\n",
    "        message: a string containing a message.\n",
    "    Output:\n",
    "        messages_cleaned: a list of words containing the processed message. \n",
    "\n",
    "    '''\n",
    "    # message = message.lower()\n",
    "    # message = re.sub(r'^https?:\\/\\/.*[\\r\\n]*', '', message, flags=re.MULTILINE)\n",
    "    # tokenizer = nltk.RegexpTokenizer(r\"\\w+\")\n",
    "    # message = tokenizer.tokenize(message)\n",
    "    # # print(message)    \n",
    "    # messages_cleaned = []\n",
    "    # stop_words = set(stopwords.words('english'))\n",
    "    # for word in message:\n",
    "    #     if not word in stop_words:\n",
    "    #         messages_cleaned.append(word)\n",
    "    \n",
    "    message = message.lower().strip()\n",
    "    message = re.sub(r\"<br>\", r\" \", message)\n",
    "    message = re.sub(r\"([-?.!,/\\\"])\", r\" \\1\", message)\n",
    "    message = re.sub(r\"[-()\\\"#/@;:<>{}`+=~|.!?,']\", r\"\", message)\n",
    "    message = re.sub(r\"[ ]+\", r\" \", message)\n",
    "    message = message.rstrip().strip()\n",
    "    \n",
    "    ps = PorterStemmer()\n",
    "    \n",
    "    message = message.split()\n",
    "    messages_cleaned = [ps.stem(word) for word in message if word not in stopwords.words('english')]\n",
    "\n",
    "    return messages_cleaned"
   ]
  },
  {
   "cell_type": "code",
   "execution_count": 47,
   "metadata": {
    "collapsed": true,
    "jupyter": {
     "outputs_hidden": true
    },
    "tags": []
   },
   "outputs": [
    {
     "name": "stdout",
     "output_type": "stream",
     "text": [
      "[['natur', 'languag', 'process', 'nlp', 'subfield', 'linguist', 'comput', 'scienc', 'artifici', 'intellig', 'concern', 'interact', 'comput', 'human', 'languag', 'particular', 'program', 'comput', 'process', 'analyz', 'larg', 'amount', 'natur', 'languag', 'data', 'goal', 'comput', 'capabl', 'understand', 'content', 'document', 'includ', 'contextu', 'nuanc', 'languag', 'within', 'technolog', 'accur', 'extract', 'inform', 'insight', 'contain', 'document', 'well', 'categor', 'organ', 'document', 'challeng', 'natur', 'languag', 'process', 'frequent', 'involv', 'speech', 'recognit', 'natur', 'languag', 'understand', 'natur', 'languag', 'gener'], ['quantum', 'machin', 'learn', 'integr', 'quantum', 'algorithm', 'within', 'machin', 'learn', 'program', 'common', 'use', 'term', 'refer', 'machin', 'learn', 'algorithm', 'analysi', 'classic', 'data', 'execut', 'quantum', 'comput', 'e', 'quantum', 'enhanc', 'machin', 'learn', 'machin', 'learn', 'algorithm', 'use', 'comput', 'immens', 'quantiti', 'data', 'quantum', 'machin', 'learn', 'util', 'qubit', 'quantum', 'oper', 'special', 'quantum', 'system', 'improv', 'comput', 'speed', 'data', 'storag', 'done', 'algorithm', 'program', 'includ', 'hybrid', 'method', 'involv', 'classic', 'quantum', 'process', 'comput', 'difficult', 'subroutin', 'outsourc', 'quantum', 'devic', 'routin', 'complex', 'natur', 'execut', 'faster', 'quantum', 'comput', 'furthermor', 'quantum', 'algorithm', 'use', 'analyz', 'quantum', 'state', 'instead', 'classic', 'data', 'beyond', 'quantum', 'comput', 'term', 'quantum', 'machin', 'learn', 'also', 'associ', 'classic', 'machin', 'learn', 'method', 'appli', 'data', 'gener', 'quantum', 'experi', 'e', 'machin', 'learn', 'quantum', 'system', 'learn', 'phase', 'transit', 'quantum', 'system', 'creat', 'new', 'quantum', 'experi', 'quantum', 'machin', 'learn', 'also', 'extend', 'branch', 'research', 'explor', 'methodolog', 'structur', 'similar', 'certain', 'physic', 'system', 'learn', 'system', 'particular', 'neural', 'network', 'exampl', 'mathemat', 'numer', 'techniqu', 'quantum', 'physic', 'applic', 'classic', 'deep', 'learn', 'vice', 'versa', 'furthermor', 'research', 'investig', 'abstract', 'notion', 'learn', 'theori', 'respect', 'quantum', 'inform', 'sometim', 'refer', 'quantum', 'learn', 'theori'], ['artifici', 'intellig', 'ai', 'intellig', 'demonstr', 'machin', 'oppos', 'natur', 'intellig', 'display', 'anim', 'includ', 'human', 'lead', 'ai', 'textbook', 'defin', 'field', 'studi', 'intellig', 'agent', 'system', 'perceiv', 'environ', 'take', 'action', 'maxim', 'chanc', 'achiev', 'goal', 'popular', 'account', 'use', 'term', 'artifici', 'intellig', 'describ', 'machin', 'mimic', 'cognit', 'function', 'human', 'associ', 'human', 'mind', 'learn', 'problem', 'solv', 'howev', 'definit', 'reject', 'major', 'ai', 'research', 'ai', 'applic', 'includ', 'advanc', 'web', 'search', 'engin', 'e', 'g', 'googl', 'recommend', 'system', 'use', 'youtub', 'amazon', 'netflix', 'understand', 'human', 'speech', 'siri', 'alexa', 'self', 'drive', 'car', 'e', 'g', 'tesla', 'autom', 'decis', 'make', 'compet', 'highest', 'level', 'strateg', 'game', 'system', 'chess', 'go', 'machin', 'becom', 'increasingli', 'capabl', 'task', 'consid', 'requir', 'intellig', 'often', 'remov', 'definit', 'ai', 'phenomenon', 'known', 'ai', 'effect', 'instanc', 'optic', 'charact', 'recognit', 'frequent', 'exclud', 'thing', 'consid', 'ai', 'becom', 'routin', 'technolog', 'artifici', 'intellig', 'found', 'academ', 'disciplin', '1956', 'year', 'sinc', 'experienc', 'sever', 'wave', 'optim', 'follow', 'disappoint', 'loss', 'fund', 'known', 'ai', 'winter', 'follow', 'new', 'approach', 'success', 'renew', 'fund', 'ai', 'research', 'tri', 'discard', 'mani', 'differ', 'approach', 'sinc', 'found', 'includ', 'simul', 'brain', 'model', 'human', 'problem', 'solv', 'formal', 'logic', 'larg', 'databas', 'knowledg', 'imit', 'anim', 'behavior', 'first', 'decad', '21st', 'centuri', 'highli', 'mathemat', 'statist', 'machin', 'learn', 'domin', 'field', 'techniqu', 'prove', 'highli', 'success', 'help', 'solv', 'mani', 'challeng', 'problem', 'throughout', 'industri', 'academia', 'variou', 'sub', 'field', 'ai', 'research', 'center', 'around', 'particular', 'goal', 'use', 'particular', 'tool', 'tradit', 'goal', 'ai', 'research', 'includ', 'reason', 'knowledg', 'represent', 'plan', 'learn', 'natur', 'languag', 'process', 'percept', 'abil', 'move', 'manipul', 'object', 'gener', 'intellig', 'abil', 'solv', 'arbitrari', 'problem', 'among', 'field', 'long', 'term', 'goal', 'solv', 'problem', 'ai', 'research', 'adapt', 'integr', 'wide', 'rang', 'problem', 'solv', 'techniques—includ', 'search', 'mathemat', 'optim', 'formal', 'logic', 'artifici', 'neural', 'network', 'method', 'base', 'statist', 'probabl', 'econom', 'ai', 'also', 'draw', 'upon', 'comput', 'scienc', 'psycholog', 'linguist', 'philosophi', 'mani', 'field', 'field', 'found', 'assumpt', 'human', 'intellig', 'precis', 'describ', 'machin', 'made', 'simul', 'rais', 'philosoph', 'argument', 'mind', 'ethic', 'creat', 'artifici', 'be', 'endow', 'human', 'like', 'intellig', 'issu', 'explor', 'myth', 'fiction', 'philosophi', 'sinc', 'antiqu', 'scienc', 'fiction', 'futurolog', 'also', 'suggest', 'enorm', 'potenti', 'power', 'ai', 'may', 'becom', 'existenti', 'risk', 'human'], ['data', 'scienc', 'interdisciplinari', 'field', 'use', 'scientif', 'method', 'process', 'algorithm', 'system', 'extract', 'knowledg', 'insight', 'noisi', 'structur', 'unstructur', 'data', 'appli', 'knowledg', 'action', 'insight', 'data', 'across', 'broad', 'rang', 'applic', 'domain', 'data', 'scienc', 'relat', 'data', 'mine', 'machin', 'learn', 'big', 'data', 'data', 'scienc', 'concept', 'unifi', 'statist', 'data', 'analysi', 'informat', 'relat', 'method', 'order', 'understand', 'analyz', 'actual', 'phenomena', 'data', 'use', 'techniqu', 'theori', 'drawn', 'mani', 'field', 'within', 'context', 'mathemat', 'statist', 'comput', 'scienc', 'inform', 'scienc', 'domain', 'knowledg', 'howev', 'data', 'scienc', 'differ', 'comput', 'scienc', 'inform', 'scienc', 'ture', 'award', 'winner', 'jim', 'gray', 'imagin', 'data', 'scienc', 'fourth', 'paradigm', 'scienc', 'empir', 'theoret', 'comput', 'data', 'driven', 'assert', 'everyth', 'scienc', 'chang', 'impact', 'inform', 'technolog', 'data', 'delug', 'data', 'scientist', 'someon', 'creat', 'program', 'code', 'combin', 'statist', 'knowledg', 'creat', 'insight', 'data'], ['master', 'scienc', 'data', 'scienc', 'interdisciplinari', 'degre', 'program', 'design', 'provid', 'studi', 'scientif', 'method', 'process', 'system', 'extract', 'knowledg', 'insight', 'data', 'variou', 'form', 'either', 'structur', 'unstructur', 'similar', 'data', 'mine'], ['european', 'central', 'bank', 'ecb', 'prime', 'compon', 'eurosystem', 'european', 'system', 'central', 'bank', 'escb', 'well', 'one', 'seven', 'institut', 'european', 'union', 'one', 'world', 'import', 'central', 'bank', 'ecb', 'govern', 'council', 'make', 'monetari', 'polici', 'eurozon', 'european', 'union', 'administ', 'foreign', 'exchang', 'reserv', 'eu', 'member', 'state', 'engag', 'foreign', 'exchang', 'oper', 'defin', 'intermedi', 'monetari', 'object', 'key', 'interest', 'rate', 'eu', 'ecb', 'execut', 'board', 'enforc', 'polici', 'decis', 'govern', 'council', 'may', 'direct', 'nation', 'central', 'bank', 'ecb', 'exclus', 'right', 'authoris', 'issuanc', 'euro', 'banknot', 'member', 'state', 'issu', 'euro', 'coin', 'volum', 'must', 'approv', 'ecb', 'beforehand', 'bank', 'also', 'oper', 'target2', 'payment', 'system', 'ecb', 'establish', 'treati', 'amsterdam', 'may', '1999', 'purpos', 'guarante', 'maintain', 'price', 'stabil', '1', 'decemb', '2009', 'treati', 'lisbon', 'becam', 'effect', 'bank', 'gain', 'offici', 'statu', 'eu', 'institut', 'ecb', 'creat', 'cover', 'eurozon', 'eleven', 'member', 'sinc', 'greec', 'join', 'januari', '2001', 'slovenia', 'januari', '2007', 'cypru', 'malta', 'januari', '2008', 'slovakia', 'januari', '2009', 'estonia', 'januari', '2011', 'latvia', 'januari', '2014', 'lithuania', 'januari', '2015', 'current', 'presid', 'ecb', 'christin', 'lagard', 'headquart', 'frankfurt', 'germani', 'bank', 'formerli', 'occupi', 'eurotow', 'prior', 'construct', 'new', 'seat', 'ecb', 'directli', 'govern', 'european', 'union', 'law', 'capit', 'stock', 'worth', '€11', 'billion', 'own', '27', 'central', 'bank', 'eu', 'member', 'state', 'sharehold', 'initi', 'capit', 'alloc', 'key', 'determin', '1998', 'basi', 'state', 'popul', 'gdp', 'capit', 'key', 'readjust', 'sinc', 'share', 'ecb', 'transfer', 'cannot', 'use', 'collater'], ['financi', 'technolog', 'abbrevi', 'fintech', 'fintech', 'technolog', 'innov', 'aim', 'compet', 'tradit', 'financi', 'method', 'deliveri', 'financi', 'servic', 'emerg', 'industri', 'use', 'technolog', 'improv', 'activ', 'financ', 'use', 'smartphon', 'mobil', 'bank', 'invest', 'borrow', 'servic', 'cryptocurr', 'exampl', 'technolog', 'aim', 'make', 'financi', 'servic', 'access', 'gener', 'public', 'financi', 'technolog', 'compani', 'consist', 'startup', 'establish', 'financi', 'institut', 'technolog', 'compani', 'tri', 'replac', 'enhanc', 'usag', 'financi', 'servic', 'provid', 'exist', 'financi', 'compani', 'subset', 'fintech', 'compani', 'focu', 'insur', 'industri', 'collect', 'known', 'insurtech', 'insuretech', 'compani'], ['intern', 'monetari', 'fund', 'imf', 'intern', 'financi', 'institut', 'headquart', 'washington', 'c', 'consist', '190', 'countri', 'state', 'mission', 'work', 'foster', 'global', 'monetari', 'cooper', 'secur', 'financi', 'stabil', 'facilit', 'intern', 'trade', 'promot', 'high', 'employ', 'sustain', 'econom', 'growth', 'reduc', 'poverti', 'around', 'world', 'form', '1944', 'start', '27', 'decemb', '1945', 'bretton', 'wood', 'confer', 'primarili', 'idea', 'harri', 'dexter', 'white', 'john', 'maynard', 'keyn', 'came', 'formal', 'exist', '1945', '29', 'member', 'countri', 'goal', 'reconstruct', 'intern', 'monetari', 'system', 'play', 'central', 'role', 'manag', 'balanc', 'payment', 'difficulti', 'intern', 'financi', 'crise', 'countri', 'contribut', 'fund', 'pool', 'quota', 'system', 'countri', 'experienc', 'balanc', 'payment', 'problem', 'borrow', 'money', '2016', 'fund', 'xdr', '477', 'billion', 'us$667', 'billion', 'fund', 'activ', 'gather', 'statist', 'analysi', 'surveil', 'member', 'economi', 'demand', 'particular', 'polici', 'imf', 'work', 'improv', 'economi', 'member', 'countri', 'organ', 'object', 'state', 'articl', 'agreement', 'promot', 'intern', 'monetari', 'co', 'oper', 'intern', 'trade', 'high', 'employ', 'exchang', 'rate', 'stabil', 'sustain', 'econom', 'growth', 'make', 'resourc', 'avail', 'member', 'countri', 'financi', 'difficulti', 'imf', 'fund', 'come', 'two', 'major', 'sourc', 'quota', 'loan', 'quota', 'pool', 'fund', 'member', 'nation', 'gener', 'imf', 'fund', 'size', 'member', 'quota', 'depend', 'econom', 'financi', 'import', 'world', 'nation', 'greater', 'econom', 'signific', 'larger', 'quota', 'quota', 'increas', 'period', 'mean', 'boost', 'imf', 'resourc', 'form', 'special', 'draw', 'right', 'current', 'manag', 'director', 'md', 'chairwoman', 'imf', 'bulgarian', 'economist', 'kristalina', 'georgieva', 'held', 'post', 'sinc', 'octob', '1', '2019', 'gita', 'gopinath', 'previous', 'serv', 'chief', 'economist', 'appoint', 'first', 'deputi', 'manag', 'director', 'effect', 'januari', '21', '2022', 'prior', 'appoint', 'imf', 'gopinath', 'serv', 'econom', 'advis', 'chief', 'minist', 'kerala', 'india', 'pierr', 'olivi', 'gourincha', 'replac', 'gopinath', 'chief', 'economist', 'januari', '24', '2022'], ['basebal', 'bat', 'ball', 'game', 'play', 'two', 'oppos', 'team', 'nine', 'player', 'take', 'turn', 'bat', 'field', 'game', 'proce', 'player', 'field', 'team', 'call', 'pitcher', 'throw', 'ball', 'player', 'bat', 'team', 'tri', 'hit', 'bat', 'object', 'offens', 'team', 'bat', 'team', 'hit', 'ball', 'field', 'play', 'allow', 'player', 'run', 'base', 'advanc', 'counter', 'clockwis', 'around', 'four', 'base', 'score', 'call', 'run', 'object', 'defens', 'team', 'field', 'team', 'prevent', 'batter', 'becom', 'runner', 'prevent', 'runner', 'advanc', 'around', 'base', 'run', 'score', 'runner', 'legal', 'advanc', 'around', 'base', 'order', 'touch', 'home', 'plate', 'place', 'player', 'start', 'batter', 'team', 'score', 'run', 'end', 'game', 'winner', 'first', 'object', 'bat', 'team', 'player', 'reach', 'first', 'base', 'safe', 'player', 'bat', 'team', 'reach', 'first', 'base', 'without', 'call', 'attempt', 'advanc', 'subsequ', 'base', 'runner', 'either', 'immedi', 'teammat', 'turn', 'bat', 'field', 'team', 'tri', 'prevent', 'run', 'get', 'batter', 'runner', 'forc', 'field', 'play', 'pitcher', 'fielder', 'method', 'get', 'bat', 'team', 'player', 'oppos', 'team', 'switch', 'back', 'forth', 'bat', 'field', 'bat', 'team', 'turn', 'bat', 'field', 'team', 'record', 'three', 'out', 'one', 'turn', 'bat', 'team', 'constitut', 'inning', 'game', 'usual', 'compos', 'nine', 'inning', 'team', 'greater', 'number', 'run', 'end', 'game', 'win', 'score', 'tie', 'end', 'nine', 'inning', 'extra', 'inning', 'usual', 'play', 'basebal', 'game', 'clock', 'although', 'game', 'end', 'ninth', 'inning', 'basebal', 'evolv', 'older', 'bat', 'ball', 'game', 'alreadi', 'play', 'england', 'mid', '18th', 'centuri', 'game', 'brought', 'immigr', 'north', 'america', 'modern', 'version', 'develop', 'late', '19th', 'centuri', 'basebal', 'wide', 'recogn', 'nation', 'sport', 'unit', 'state', 'basebal', 'popular', 'north', 'america', 'part', 'central', 'south', 'america', 'caribbean', 'east', 'asia', 'particularli', 'japan', 'south', 'korea', 'taiwan', 'unit', 'state', 'canada', 'profession', 'major', 'leagu', 'basebal', 'mlb', 'team', 'divid', 'nation', 'leagu', 'nl', 'american', 'leagu', 'al', 'three', 'divis', 'east', 'west', 'central', 'mlb', 'champion', 'determin', 'playoff', 'culmin', 'world', 'seri', 'top', 'level', 'play', 'similarli', 'split', 'japan', 'central', 'pacif', 'leagu', 'cuba', 'west', 'leagu', 'east', 'leagu', 'world', 'basebal', 'classic', 'organ', 'world', 'basebal', 'softbal', 'confeder', 'major', 'intern', 'competit', 'sport', 'attract', 'top', 'nation', 'team', 'around', 'world'], ['swim', 'self', 'propuls', 'person', 'water', 'liquid', 'usual', 'recreat', 'sport', 'exercis', 'surviv', 'locomot', 'achiev', 'coordin', 'movement', 'limb', 'bodi', 'achiev', 'hydrodynam', 'thrust', 'result', 'direct', 'motion', 'human', 'hold', 'breath', 'underwat', 'undertak', 'rudimentari', 'locomot', 'swim', 'within', 'week', 'birth', 'surviv', 'respons', 'swim', 'consist', 'among', 'top', 'public', 'recreat', 'activ', 'countri', 'swim', 'lesson', 'compulsori', 'part', 'educ', 'curriculum', 'formal', 'sport', 'swim', 'featur', 'rang', 'local', 'nation', 'intern', 'competit', 'includ', 'everi', 'modern', 'summer', 'olymp'], ['footbal', 'famili', 'team', 'sport', 'involv', 'vari', 'degre', 'kick', 'ball', 'score', 'goal', 'unqualifi', 'word', 'footbal', 'normal', 'mean', 'form', 'footbal', 'popular', 'word', 'use', 'sport', 'commonli', 'call', 'footbal', 'includ', 'associ', 'footbal', 'known', 'soccer', 'north', 'america', 'oceania', 'gridiron', 'footbal', 'specif', 'american', 'footbal', 'canadian', 'footbal', 'australian', 'rule', 'footbal', 'rugbi', 'union', 'rugbi', 'leagu', 'gaelic', 'footbal', 'variou', 'form', 'footbal', 'share', 'vari', 'extent', 'common', 'origin', 'known', 'footbal', 'code', 'number', 'refer', 'tradit', 'ancient', 'prehistor', 'ball', 'game', 'play', 'mani', 'differ', 'part', 'world', 'contemporari', 'code', 'footbal', 'trace', 'back', 'codif', 'game', 'english', 'public', 'school', '19th', 'centuri', 'expans', 'cultur', 'influenc', 'british', 'empir', 'allow', 'rule', 'footbal', 'spread', 'area', 'british', 'influenc', 'outsid', 'directli', 'control', 'empir', 'end', '19th', 'centuri', 'distinct', 'region', 'code', 'alreadi', 'develop', 'gaelic', 'footbal', 'exampl', 'deliber', 'incorpor', 'rule', 'local', 'tradit', 'footbal', 'game', 'order', 'maintain', 'heritag', '1888', 'footbal', 'leagu', 'found', 'england', 'becom', 'first', 'mani', 'profession', 'footbal', 'associ', '20th', 'centuri', 'sever', 'variou', 'kind', 'footbal', 'grew', 'becom', 'popular', 'team', 'sport', 'world'], ['colleg', 'footbal', 'french', 'footbal', 'universitair', 'gridiron', 'footbal', 'consist', 'american', 'footbal', 'play', 'team', 'student', 'athlet', 'field', 'american', 'univers', 'colleg', 'militari', 'academi', 'canadian', 'footbal', 'play', 'team', 'student', 'athlet', 'field', 'canadian', 'univers', 'colleg', 'footbal', 'play', 'american', 'footbal', 'rule', 'first', 'gain', 'popular', 'unit', 'state', 'unlik', 'sport', 'north', 'america', 'offici', 'minor', 'leagu', 'farm', 'organ', 'exist', 'american', 'canadian', 'footbal', 'therefor', 'colleg', 'footbal', 'gener', 'consid', 'second', 'tier', 'american', 'footbal', 'unit', 'state', 'canadian', 'footbal', 'canada', 'one', 'step', 'ahead', 'high', 'school', 'competit', 'one', 'step', 'profession', 'competit', 'howev', 'area', 'countri', 'south', 'midwest', 'colleg', 'footbal', 'popular', 'profession', 'footbal', 'much', 'earli', '20th', 'centuri', 'colleg', 'footbal', 'seen', 'prestigi', 'profession', 'footbal', 'player', 'perform', 'colleg', 'footbal', 'directli', 'impact', 'chanc', 'play', 'profession', 'footbal', 'best', 'collegi', 'player', 'typic', 'declar', 'profession', 'draft', 'three', 'four', 'year', 'collegi', 'competit', 'nfl', 'hold', 'annual', 'nfl', 'draft', 'everi', 'spring', '256', 'player', 'select', 'annual', 'select', 'still', 'attempt', 'land', 'nfl', 'roster', 'spot', 'undraft', 'free', 'agent'], ['associ', 'footbal', 'commonli', 'known', 'simpli', 'footbal', 'soccer', 'team', 'sport', 'play', 'spheric', 'ball', 'two', 'team', '11', 'player', 'play', 'approxim', '250', 'million', 'player', '200', 'countri', 'depend', 'make', 'world', 'popular', 'sport', 'game', 'play', 'rectangular', 'field', 'call', 'pitch', 'goal', 'end', 'object', 'game', 'score', 'goal', 'opposit', 'move', 'ball', 'beyond', 'goal', 'line', 'oppos', 'goal', 'usual', 'within', 'time', 'frame', '90', 'minut', 'footbal', 'play', 'accord', 'set', 'rule', 'known', 'law', 'game', 'ball', '68–70', 'cm', '27–28', 'circumfer', 'known', 'footbal', 'two', 'team', 'compet', 'get', 'ball', 'team', 'goal', 'post', 'bar', 'therebi', 'score', 'goal', 'player', 'allow', 'touch', 'ball', 'hand', 'arm', 'play', 'except', 'goalkeep', 'within', 'penalti', 'area', 'player', 'may', 'use', 'part', 'bodi', 'strike', 'pass', 'ball', 'mainli', 'use', 'feet', 'team', 'score', 'goal', 'end', 'game', 'winner', 'team', 'score', 'equal', 'number', 'goal', 'either', 'draw', 'declar', 'game', 'goe', 'extra', 'time', 'penalti', 'shootout', 'depend', 'format', 'competit', 'team', 'led', 'captain', 'one', 'offici', 'respons', 'mandat', 'law', 'game', 'repres', 'team', 'coin', 'toss', 'kick', 'penalti', 'kick', 'footbal', 'govern', 'intern', 'intern', 'feder', 'associ', 'footbal', 'fifa', 'french', 'fédération', 'international', 'de', 'footbal', 'associ', 'organis', 'world', 'cup', 'men', 'women', 'everi', 'four', 'year', 'men', 'fifa', 'world', 'cup', 'taken', 'place', 'everi', 'four', 'year', 'sinc', '1930', 'except', '1942', '1946', 'tournament', 'cancel', 'due', 'world', 'war', 'ii', 'approxim', '190–200', 'nation', 'team', 'compet', 'qualifi', 'tournament', 'within', 'scope', 'continent', 'confeder', 'place', 'final', 'final', 'tournament', 'held', 'everi', 'four', 'year', 'involv', '32', 'nation', 'team', 'compet', 'four', 'week', 'prestigi', 'men', 'footbal', 'tournament', 'world', 'wide', 'view', 'follow', 'sport', 'event', 'world', 'exceed', 'olymp', 'game', 'similarli', 'fifa', 'women', 'world', 'cup', 'play', 'everi', 'four', 'year', 'sinc', '1991', 'though', 'footbal', 'play', 'women', 'sinc', 'exist', 'record', 'break', '1', '12', 'billion', 'viewer', 'watch', '2019', 'fifa', 'women', 'world', 'cup', 'franc', 'prestigi', 'competit', 'european', 'club', 'footbal', 'uefa', 'champion', 'leagu', 'uefa', 'women', 'champion', 'leagu', 'attract', 'extens', 'televis', 'audienc', 'throughout', 'world', 'final', 'men', 'tournament', 'recent', 'year', 'watch', 'annual', 'sport', 'event', 'world', 'top', 'five', 'european', 'men', 'leagu', 'premier', 'leagu', 'england', 'la', 'liga', 'spain', 'bundesliga', 'germani', 'seri', 'itali', 'ligu', '1', 'franc', 'attract', 'world', 'best', 'player', 'leagu', 'total', 'wage', 'cost', 'excess', '£600', 'million', '€763', 'million', 'us$1', '185', 'billion']]\n"
     ]
    }
   ],
   "source": [
    "cleaned_articles = []\n",
    "for i in data:\n",
    "    cleaned = clean_message(i)\n",
    "    cleaned_articles.append(cleaned)\n",
    "print(cleaned_articles)"
   ]
  },
  {
   "cell_type": "markdown",
   "metadata": {
    "id": "FSQJDf3ZaYzF"
   },
   "source": [
    "# **TASK-3 : 10 Points**\n",
    "## Vectorize the articles(5 points)\n",
    "In this step, we will vectorize the text data to use in hierarchical clustering. You can use countVectorizer() or TfidfVectorizer() from sklearn library."
   ]
  },
  {
   "cell_type": "code",
   "execution_count": 48,
   "metadata": {
    "id": "l5N-b8AHg434"
   },
   "outputs": [],
   "source": [
    "from sklearn.feature_extraction.text import TfidfVectorizer"
   ]
  },
  {
   "cell_type": "code",
   "execution_count": 50,
   "metadata": {},
   "outputs": [
    {
     "name": "stdout",
     "output_type": "stream",
     "text": [
      "          11        12       185      1888      18th       190      1930  \\\n",
      "1   0.000000  0.000000  0.000000  0.000000  0.000000  0.000000  0.000000   \n",
      "2   0.000000  0.000000  0.000000  0.000000  0.000000  0.000000  0.000000   \n",
      "3   0.000000  0.000000  0.000000  0.000000  0.000000  0.000000  0.000000   \n",
      "4   0.000000  0.000000  0.000000  0.000000  0.000000  0.000000  0.000000   \n",
      "5   0.000000  0.000000  0.000000  0.000000  0.000000  0.000000  0.000000   \n",
      "6   0.043796  0.000000  0.000000  0.000000  0.000000  0.000000  0.000000   \n",
      "7   0.000000  0.000000  0.000000  0.000000  0.000000  0.000000  0.000000   \n",
      "8   0.000000  0.000000  0.000000  0.000000  0.000000  0.041809  0.000000   \n",
      "9   0.000000  0.000000  0.000000  0.000000  0.036836  0.000000  0.000000   \n",
      "10  0.000000  0.000000  0.000000  0.000000  0.000000  0.000000  0.000000   \n",
      "11  0.000000  0.000000  0.000000  0.053693  0.000000  0.000000  0.000000   \n",
      "12  0.000000  0.000000  0.000000  0.000000  0.000000  0.000000  0.000000   \n",
      "13  0.036398  0.042207  0.042207  0.000000  0.000000  0.036398  0.042207   \n",
      "\n",
      "        1942      1944      1945  ...     women     woods      word   working  \\\n",
      "1   0.000000  0.000000  0.000000  ...  0.000000  0.000000  0.000000  0.000000   \n",
      "2   0.000000  0.000000  0.000000  ...  0.000000  0.000000  0.000000  0.000000   \n",
      "3   0.000000  0.000000  0.000000  ...  0.000000  0.000000  0.000000  0.000000   \n",
      "4   0.000000  0.000000  0.000000  ...  0.000000  0.000000  0.000000  0.000000   \n",
      "5   0.000000  0.000000  0.000000  ...  0.000000  0.000000  0.000000  0.000000   \n",
      "6   0.000000  0.000000  0.000000  ...  0.000000  0.000000  0.000000  0.000000   \n",
      "7   0.000000  0.000000  0.000000  ...  0.000000  0.000000  0.000000  0.000000   \n",
      "8   0.000000  0.048482  0.096963  ...  0.000000  0.048482  0.000000  0.048482   \n",
      "9   0.000000  0.000000  0.000000  ...  0.000000  0.000000  0.000000  0.000000   \n",
      "10  0.000000  0.000000  0.000000  ...  0.000000  0.000000  0.000000  0.000000   \n",
      "11  0.000000  0.000000  0.000000  ...  0.000000  0.000000  0.107386  0.000000   \n",
      "12  0.000000  0.000000  0.000000  ...  0.000000  0.000000  0.000000  0.000000   \n",
      "13  0.042207  0.000000  0.000000  ...  0.211037  0.000000  0.000000  0.000000   \n",
      "\n",
      "       works     world     worth       xdr     years   youtube  \n",
      "1   0.000000  0.000000  0.000000  0.000000  0.000000  0.000000  \n",
      "2   0.000000  0.000000  0.000000  0.000000  0.000000  0.000000  \n",
      "3   0.000000  0.000000  0.000000  0.000000  0.030886  0.040389  \n",
      "4   0.000000  0.000000  0.000000  0.000000  0.000000  0.000000  \n",
      "5   0.000000  0.000000  0.000000  0.000000  0.000000  0.000000  \n",
      "6   0.000000  0.031846  0.050786  0.000000  0.000000  0.000000  \n",
      "7   0.000000  0.000000  0.000000  0.000000  0.000000  0.000000  \n",
      "8   0.048482  0.060803  0.000000  0.048482  0.000000  0.000000  \n",
      "9   0.000000  0.092394  0.000000  0.000000  0.000000  0.000000  \n",
      "10  0.000000  0.000000  0.000000  0.000000  0.000000  0.000000  \n",
      "11  0.000000  0.067339  0.000000  0.000000  0.000000  0.000000  \n",
      "12  0.000000  0.000000  0.000000  0.000000  0.040519  0.000000  \n",
      "13  0.000000  0.291138  0.000000  0.000000  0.161382  0.000000  \n",
      "\n",
      "[13 rows x 1020 columns]\n"
     ]
    }
   ],
   "source": [
    "tfidfvectorizer = TfidfVectorizer(analyzer='word',stop_words= 'english')\n",
    "tfidf_wm = tfidfvectorizer.fit_transform(data)\n",
    "tfidf_tokens = tfidfvectorizer.get_feature_names()\n",
    "df_tfidfvect = pd.DataFrame(data = tfidf_wm.toarray(),index = [i for i in range(1,14)],columns = tfidf_tokens)\n",
    "print(df_tfidfvect)"
   ]
  },
  {
   "cell_type": "markdown",
   "metadata": {
    "id": "iK1Mc4h-qX_K"
   },
   "source": [
    "## Plot Dendogram (5 points)\n",
    "Now we will try to see the hierarchical relationship between articles using dendrogram."
   ]
  },
  {
   "cell_type": "code",
   "execution_count": 51,
   "metadata": {
    "id": "hUlKRAtWiYKA"
   },
   "outputs": [],
   "source": [
    "import matplotlib.pyplot as plt\n",
    "import scipy.cluster.hierarchy as shc\n",
    "from scipy.cluster.hierarchy import dendrogram, linkage, set_link_color_palette\n",
    "import seaborn as sns\n",
    "from sklearn import metrics"
   ]
  },
  {
   "cell_type": "code",
   "execution_count": 52,
   "metadata": {},
   "outputs": [
    {
     "data": {
      "image/png": "[encoded data removed]",
      "text/plain": [
       "<Figure size 1800x720 with 1 Axes>"
      ]
     },
     "metadata": {
      "needs_background": "light"
     },
     "output_type": "display_data"
    }
   ],
   "source": [
    "plt.figure(figsize=(25, 10))\n",
    "dendrogram = shc.dendrogram(shc.linkage(df_tfidfvect, method='ward'))\n",
    "plt.show()"
   ]
  },
  {
   "cell_type": "markdown",
   "metadata": {
    "id": "AkEEe2z0ra5Q"
   },
   "source": [
    "After plotting the dendogram, you will see that if you cut the dendogram horizontally, you can seperate the data into groups. You will get different number of clusters depending on where you cut."
   ]
  },
  {
   "cell_type": "markdown",
   "metadata": {
    "id": "IzJzEKl8sE6_"
   },
   "source": [
    "# **TASK-4 : 5 Points**\n",
    "# Apply Clustering\n",
    "In this step, we will assign cluster lables to each document/group using Agglomerative Hierarchical clustering.\n",
    "We can decide number of clusters based on the dendogram and our requirement (how many categories we want).(eg. n_clusters = 3) "
   ]
  },
  {
   "cell_type": "code",
   "execution_count": 53,
   "metadata": {
    "id": "qQlpRi_1kMue"
   },
   "outputs": [],
   "source": [
    "from sklearn.cluster import AgglomerativeClustering"
   ]
  },
  {
   "cell_type": "code",
   "execution_count": 54,
   "metadata": {},
   "outputs": [],
   "source": [
    "model = AgglomerativeClustering(n_clusters=4, affinity='euclidean', linkage='ward')\n",
    "model.fit(df_tfidfvect)\n",
    "labels = model.labels_"
   ]
  },
  {
   "cell_type": "code",
   "execution_count": 55,
   "metadata": {},
   "outputs": [
    {
     "data": {
      "text/plain": [
       "array([3, 3, 3, 2, 2, 1, 1, 1, 0, 1, 0, 0, 0], dtype=int64)"
      ]
     },
     "execution_count": 55,
     "metadata": {},
     "output_type": "execute_result"
    }
   ],
   "source": [
    "labels"
   ]
  },
  {
   "cell_type": "code",
   "execution_count": 56,
   "metadata": {},
   "outputs": [
    {
     "data": {
      "text/plain": [
       "'Natural language processing (NLP) is a subfield of linguistics, computer science, and artificial intelligence concerned with the interactions between computers and human language, in particular how to program computers to process and analyze large amounts of natural language data.  The goal is a computer capable of \"understanding\" the contents of documents, including the contextual nuances of the language within them. The technology can then accurately extract information and insights contained in the documents as well as categorize and organize the documents themselves.\\nChallenges in natural language processing frequently involve speech recognition, natural language understanding, and natural language generation.Quantum machine learning is the integration of quantum algorithms within machine learning programs. The most common use of the term refers to machine learning algorithms for the analysis of classical data executed on a quantum computer, i.e. quantum-enhanced machine learning. While machine learning algorithms are used to compute immense quantities of data, quantum machine learning utilizes qubits and quantum operations or specialized quantum systems to improve computational speed and data storage done by algorithms in a program. This includes hybrid methods that involve both classical and quantum processing, where computationally difficult subroutines are outsourced to a quantum device. These routines can be more complex in nature and executed faster on a quantum computer. Furthermore, quantum algorithms can be used to analyze quantum states instead of classical data. Beyond quantum computing, the term \"quantum machine learning\" is also associated with classical machine learning methods applied to data generated from quantum experiments (i.e. machine learning of quantum systems), such as learning the phase transitions of a quantum system or creating new quantum experiments. Quantum machine learning also extends to a branch of research that explores methodological and structural similarities between certain physical systems and learning systems, in particular neural networks. For example, some mathematical and numerical techniques from quantum physics are applicable to classical deep learning and vice versa. Furthermore, researchers investigate more abstract notions of learning theory with respect to quantum information, sometimes referred to as \"quantum learning theory\".'"
      ]
     },
     "execution_count": 56,
     "metadata": {},
     "output_type": "execute_result"
    }
   ],
   "source": [
    "data[0]+data[1]"
   ]
  },
  {
   "cell_type": "code",
   "execution_count": 57,
   "metadata": {},
   "outputs": [
    {
     "ename": "IndexError",
     "evalue": "list index out of range",
     "output_type": "error",
     "traceback": [
      "\u001b[1;31m---------------------------------------------------------------------------\u001b[0m",
      "\u001b[1;31mIndexError\u001b[0m                                Traceback (most recent call last)",
      "Input \u001b[1;32mIn [57]\u001b[0m, in \u001b[0;36m<module>\u001b[1;34m\u001b[0m\n\u001b[0;32m      1\u001b[0m data_clusters\u001b[38;5;241m=\u001b[39m{}\n\u001b[1;32m----> 2\u001b[0m data_clusters[\u001b[38;5;241m0\u001b[39m]\u001b[38;5;241m=\u001b[39mdata[\u001b[38;5;241m0\u001b[39m]\u001b[38;5;241m+\u001b[39m\u001b[38;5;124m\"\u001b[39m\u001b[38;5;124m \u001b[39m\u001b[38;5;124m\"\u001b[39m\u001b[38;5;241m+\u001b[39mdata[\u001b[38;5;241m1\u001b[39m]\u001b[38;5;241m+\u001b[39m\u001b[38;5;124m\"\u001b[39m\u001b[38;5;124m \u001b[39m\u001b[38;5;124m\"\u001b[39m\u001b[38;5;241m+\u001b[39mdata[\u001b[38;5;241m9\u001b[39m]\u001b[38;5;241m+\u001b[39m\u001b[38;5;124m\"\u001b[39m\u001b[38;5;124m \u001b[39m\u001b[38;5;124m\"\u001b[39m\u001b[38;5;241m+\u001b[39mdata[\u001b[38;5;241m11\u001b[39m]\u001b[38;5;241m+\u001b[39m\u001b[38;5;124m\"\u001b[39m\u001b[38;5;124m \u001b[39m\u001b[38;5;124m\"\u001b[39m\u001b[38;5;241m+\u001b[39mdata[\u001b[38;5;241m12\u001b[39m]\u001b[38;5;241m+\u001b[39m\u001b[38;5;124m\"\u001b[39m\u001b[38;5;124m \u001b[39m\u001b[38;5;124m\"\u001b[39m\u001b[38;5;241m+\u001b[39m\u001b[43mdata\u001b[49m\u001b[43m[\u001b[49m\u001b[38;5;241;43m13\u001b[39;49m\u001b[43m]\u001b[49m\n\u001b[0;32m      3\u001b[0m data_clusters[\u001b[38;5;241m1\u001b[39m]\u001b[38;5;241m=\u001b[39mdata[\u001b[38;5;241m6\u001b[39m]\u001b[38;5;241m+\u001b[39m\u001b[38;5;124m\"\u001b[39m\u001b[38;5;124m \u001b[39m\u001b[38;5;124m\"\u001b[39m\u001b[38;5;241m+\u001b[39mdata[\u001b[38;5;241m7\u001b[39m]\u001b[38;5;241m+\u001b[39m\u001b[38;5;124m\"\u001b[39m\u001b[38;5;124m \u001b[39m\u001b[38;5;124m\"\u001b[39m\u001b[38;5;241m+\u001b[39mdata[\u001b[38;5;241m8\u001b[39m]\u001b[38;5;241m+\u001b[39m\u001b[38;5;124m\"\u001b[39m\u001b[38;5;124m \u001b[39m\u001b[38;5;124m\"\u001b[39m\u001b[38;5;241m+\u001b[39mdata[\u001b[38;5;241m10\u001b[39m]\n\u001b[0;32m      4\u001b[0m data_clusters[\u001b[38;5;241m2\u001b[39m]\u001b[38;5;241m=\u001b[39mdata[\u001b[38;5;241m4\u001b[39m]\u001b[38;5;241m+\u001b[39m\u001b[38;5;124m\"\u001b[39m\u001b[38;5;124m \u001b[39m\u001b[38;5;124m\"\u001b[39m\u001b[38;5;241m+\u001b[39mdata[\u001b[38;5;241m5\u001b[39m]\n",
      "\u001b[1;31mIndexError\u001b[0m: list index out of range"
     ]
    }
   ],
   "source": [
    "data_clusters={}\n",
    "data_clusters[0]=data[8]+\" \"+data[10]+\" \"+data[11]+\" \"+data[12]\n",
    "data_clusters[1]=data[5]+\" \"+data[6]+\" \"+data[9]+\" \"+data[10]\n",
    "data_clusters[2]=data[4]+\" \"+data[5]\n",
    "data_clusters[3]=data[1]+\" \"+data[2]+\" \"+data[3]"
   ]
  },
  {
   "cell_type": "markdown",
   "metadata": {
    "id": "yDMspHY2taxH"
   },
   "source": [
    "# **TASK-5 : 5 Points**\n",
    "# Word Clouds\n",
    "Now, we will try to visualize top 50 words in each cluster using word clouds"
   ]
  },
  {
   "cell_type": "code",
   "execution_count": 58,
   "metadata": {
    "id": "WRCP9EI3keqF"
   },
   "outputs": [],
   "source": [
    "from wordcloud import WordCloud"
   ]
  },
  {
   "cell_type": "code",
   "execution_count": 59,
   "metadata": {},
   "outputs": [
    {
     "data": {
      "image/png": "[encoded data removed]",
      "text/plain": [
       "<Figure size 432x288 with 1 Axes>"
      ]
     },
     "metadata": {
      "needs_background": "light"
     },
     "output_type": "display_data"
    },
    {
     "data": {
      "image/png": "[encoded data removed]",
      "text/plain": [
       "<Figure size 432x288 with 1 Axes>"
      ]
     },
     "metadata": {
      "needs_background": "light"
     },
     "output_type": "display_data"
    },
    {
     "data": {
      "image/png": "[encoded data removed]",
      "text/plain": [
       "<Figure size 432x288 with 1 Axes>"
      ]
     },
     "metadata": {
      "needs_background": "light"
     },
     "output_type": "display_data"
    },
    {
     "data": {
      "image/png": "[encoded data removed]",
      "text/plain": [
       "<Figure size 432x288 with 1 Axes>"
      ]
     },
     "metadata": {
      "needs_background": "light"
     },
     "output_type": "display_data"
    }
   ],
   "source": [
    "num_clusters=4\n",
    "\n",
    "for k in range(0, num_clusters):\n",
    "    # Create and generate a word cloud image:\n",
    "    wordcloud = WordCloud(max_font_size=20, max_words=50).generate(data[k])\n",
    "\n",
    "    # Display the generated image:\n",
    "    plt.imshow(wordcloud, interpolation='bilinear')\n",
    "    plt.axis(\"off\")\n",
    "    plt.show()"
   ]
  },
  {
   "cell_type": "markdown",
   "metadata": {
    "id": "uevRbAFKXbu_"
   },
   "source": [
    "Comment about the categorizion done by Hierarchical clustering. Are the groups meaningful?"
   ]
  },
  {
   "cell_type": "markdown",
   "metadata": {},
   "source": [
    "Yes, the groups are meaningful.\n",
    "In wordcloud 1, we can see that all words are related to schools and sports\n",
    "In wordcloud 2, we can see that all words are related to languages, documents, insights, linguistics and such\n",
    "In wordcloud 3, we can see that all words are related to algorithms, computing, machine learning\n",
    "In wordcloud 4, we can see that all words are related to AI\n",
    "So the wordclouds are meaningful and the words are clustered in a proper manner"
   ]
  },
  {
   "cell_type": "markdown",
   "metadata": {
    "id": "bH3n203dnyPY"
   },
   "source": [
    "# **TASK-6 : 10 Points**\n",
    "# Apply Hierarchical clustering on spam dataset\n",
    "Now we will apply Hierarchical clustering(HC) on a subset(modify the fraction argument of the sample() function) of Assignment 1 data. We will try to see if Hierarchical clustering can perform good or not for a supervised problem. We will follow the same steps as above and apply HC on the message column of spam.csv and categorize them into two clusters."
   ]
  },
  {
   "cell_type": "code",
   "execution_count": 60,
   "metadata": {
    "id": "kgbWW7N5krNu"
   },
   "outputs": [],
   "source": [
    "from sklearn.utils import resample\n",
    "import pandas as pd\n",
    "# Read the data as done in Assignment 1\n",
    "## Reading the data and removing columns that are not important. \n",
    "## Renaming the columns so that we understand the columns easily."
   ]
  },
  {
   "cell_type": "code",
   "execution_count": 61,
   "metadata": {},
   "outputs": [],
   "source": [
    "df=pd.read_csv(\"spam.csv\", encoding='latin-1')\n",
    "df=df[['v1','v2']]"
   ]
  },
  {
   "cell_type": "code",
   "execution_count": 62,
   "metadata": {},
   "outputs": [],
   "source": [
    "df=df.rename({'v1':'Label','v2':'Messages'},axis=1)"
   ]
  },
  {
   "cell_type": "code",
   "execution_count": 63,
   "metadata": {},
   "outputs": [],
   "source": [
    "tfidfvectorizer = TfidfVectorizer(analyzer='word',stop_words= 'english')\n",
    "tfidf_wm = tfidfvectorizer.fit_transform(list(df['Messages']))\n",
    "tfidf_tokens = tfidfvectorizer.get_feature_names()\n",
    "df_tfidfvect = pd.DataFrame(data = tfidf_wm.toarray(),index = [i for i in range(1,5573)],columns = tfidf_tokens)"
   ]
  },
  {
   "cell_type": "code",
   "execution_count": null,
   "metadata": {},
   "outputs": [],
   "source": [
    "model = AgglomerativeClustering(n_clusters=2, affinity='euclidean', linkage='ward')\n",
    "print('Model ready')\n",
    "model.fit(df_tfidfvect)\n",
    "labels = model.labels_"
   ]
  },
  {
   "cell_type": "code",
   "execution_count": null,
   "metadata": {
    "tags": []
   },
   "outputs": [],
   "source": [
    "C_0=[]\n",
    "C_1=[]\n",
    "\n",
    "for i in range(0,len(labels)):\n",
    "    if labels[i]==0:\n",
    "        C_0.append(df['Messages'][i])\n",
    "    else:\n",
    "        C_1.append(df['Messages'][i])\n",
    "\n",
    "print(C_0)\n",
    "print(C_1)"
   ]
  },
  {
   "cell_type": "code",
   "execution_count": null,
   "metadata": {},
   "outputs": [],
   "source": [
    "cluster={0:[],1:[]}\n",
    "zero_string=''\n",
    "one_string=''\n",
    "for i in range(0,len(labels)):\n",
    "    if labels[i]==0:\n",
    "        zero_string=zero_string+\" \"+df['Messages'][i]\n",
    "    else:\n",
    "        one_string=one_string+\" \"+df['Messages'][i]\n",
    "\n",
    "cluster[0]=zero_string\n",
    "cluster[1]=one_string\n",
    "\n",
    "num_clusters=2\n",
    "for k in range(0, num_clusters):\n",
    "    wordcloud = WordCloud(max_font_size=20, max_words=500).generate(cluster[k])\n",
    "\n",
    "    plt.imshow(wordcloud, interpolation='bilinear')\n",
    "    plt.axis(\"off\")\n",
    "    plt.show()"
   ]
  },
  {
   "cell_type": "markdown",
   "metadata": {
    "id": "fh8D-KUdZRv-"
   },
   "source": [
    "# Task 7 Conclusion(5 points)\n",
    "Did Hierarchical clustering work as intended for spam classification? Why? \n",
    "(3-5 sentences)"
   ]
  },
  {
   "cell_type": "markdown",
   "metadata": {},
   "source": [
    "No, hierarchial clustering did not work as intended for spam classification. Use of different distance metrics for measuring distances between clusters may generate different results. So, multiple experiments need to be performed and results compared to support the veracity of the original results.\n",
    "Looking at the wordcloud, it looks like clustering hasn't been done very well. This may be because it is sensitive to noise and outliers. While working on Assignment 1, we saw many such outliers where a spam message looked good enough to be classified as ham. It gives the best result only in some of the cases because it never undo what was done previously so if objects are incorrectly grouped at an earlier stage, it can’t be corrected.\n",
    "\n",
    "Moreover, time and space complexity is high so not suitable for large dataset."
   ]
  },
  {
   "cell_type": "code",
   "execution_count": null,
   "metadata": {},
   "outputs": [],
   "source": []
  }
 ],
 "metadata": {
  "colab": {
   "collapsed_sections": [],
   "name": "CS6120NLP_S22_Assignment_2.ipynb",
   "provenance": [],
   "toc_visible": true
  },
  "kernelspec": {
   "display_name": "Python 3 (ipykernel)",
   "language": "python",
   "name": "python3"
  },
  "language_info": {
   "codemirror_mode": {
    "name": "ipython",
    "version": 3
   },
   "file_extension": ".py",
   "mimetype": "text/x-python",
   "name": "python",
   "nbconvert_exporter": "python",
   "pygments_lexer": "ipython3",
   "version": "3.8.3rc1"
  }
 },
 "nbformat": 4,
 "nbformat_minor": 4
}
