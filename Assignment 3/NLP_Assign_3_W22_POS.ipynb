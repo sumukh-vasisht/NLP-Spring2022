{
 "cells": [
  {
   "cell_type": "markdown",
   "id": "236da79b",
   "metadata": {
    "id": "236da79b"
   },
   "source": [
    "## **CS 6120: Natural Language Processing - Prof. Ahmad Uzair** \n",
    "\n",
    "### **Assignment 3: Parts Of Speech Tagging**\n",
    "\n",
    "### **Total points: 120**\n",
    "\n",
    "In this assignment, you will have hands-on experience with HMMs - Viterbi algorithm and RNNs with PyTorch. You'll will be doing part-of-speech (POS) tagging, the process of assigning a part-of-speech tag (Noun, Verb, Adjective...) to each word in an input text.\n",
    "\n",
    "\n",
    "Few tips:\n",
    "- We expect this assignment to take longer than assignment 1 and assignment 2, so start early.<br>\n",
    "- We strongly recommend going through the relevant course modules and all the resources linked to gain strong conceptual understanding before you start.\n",
    "- Course Modules, SLP Text book and PyTorch Documentation are the best resources. \n",
    "- Completing Part 2 requires Part 1 but Part 3 does not require any dependencies from the previous parts. \n",
    "\n",
    "Before you start, If you need a refresher for part 1,2, \n",
    "- https://web.stanford.edu/~jurafsky/slp3/8.pdf"
   ]
  },
  {
   "cell_type": "markdown",
   "id": "4bbd849a-b673-4020-a666-63a3d7d00c09",
   "metadata": {},
   "source": [
    "#### Solution by Sumukh Vasisht Shankaar (NUID 001501855)"
   ]
  },
  {
   "cell_type": "code",
   "execution_count": 1,
   "id": "b1b59ba3",
   "metadata": {
    "id": "b1b59ba3"
   },
   "outputs": [],
   "source": [
    "# Importing packages and loading in the data set \n",
    "import pandas as pd\n",
    "from collections import defaultdict\n",
    "import math\n",
    "import numpy as np"
   ]
  },
  {
   "cell_type": "code",
   "execution_count": 2,
   "id": "388e90af",
   "metadata": {
    "id": "388e90af"
   },
   "outputs": [],
   "source": [
    "import string\n",
    "\n",
    "# Punctuation characters\n",
    "punct = set(string.punctuation)\n",
    "\n",
    "# Morphology rules used to assign unknown word tokens\n",
    "noun_suffix = [\"action\", \"age\", \"ance\", \"cy\", \"dom\", \"ee\", \"ence\", \"er\", \"hood\", \"ion\", \"ism\", \"ist\", \"ity\", \"ling\", \"ment\", \"ness\", \"or\", \"ry\", \"scape\", \"ship\", \"ty\"]\n",
    "verb_suffix = [\"ate\", \"ify\", \"ise\", \"ize\"]\n",
    "adj_suffix = [\"able\", \"ese\", \"ful\", \"i\", \"ian\", \"ible\", \"ic\", \"ish\", \"ive\", \"less\", \"ly\", \"ous\"]\n",
    "adv_suffix = [\"ward\", \"wards\", \"wise\"]\n",
    "\n",
    "\n",
    "def get_word_tag(line, vocab): \n",
    "    if not line.split():\n",
    "        word = \"--n--\"\n",
    "        tag = \"--s--\"\n",
    "        return word, tag\n",
    "    else:\n",
    "        word, tag = line.split()\n",
    "        if word not in vocab: \n",
    "            # Handle unknown words\n",
    "            word = assign_unk(word)\n",
    "        return word, tag\n",
    "    return None \n",
    "\n",
    "\n",
    "def preprocess(vocab, data_fp):\n",
    "    \"\"\"\n",
    "    Preprocess data\n",
    "    \"\"\"\n",
    "    orig = []\n",
    "    prep = []\n",
    "\n",
    "    # Read data\n",
    "    with open(data_fp, \"r\") as data_file:\n",
    "\n",
    "        for cnt, word in enumerate(data_file):\n",
    "\n",
    "            # End of sentence\n",
    "            if not word.split():\n",
    "                orig.append(word.strip())\n",
    "                word = \"--n--\"\n",
    "                prep.append(word)\n",
    "                continue\n",
    "\n",
    "            # Handle unknown words\n",
    "            elif word.strip() not in vocab:\n",
    "                orig.append(word.strip())\n",
    "                word = assign_unk(word)\n",
    "                prep.append(word)\n",
    "                continue\n",
    "\n",
    "            else:\n",
    "                orig.append(word.strip())\n",
    "                prep.append(word.strip())\n",
    "\n",
    "    assert(len(orig) == len(open(data_fp, \"r\").readlines()))\n",
    "    assert(len(prep) == len(open(data_fp, \"r\").readlines()))\n",
    "\n",
    "    return orig, prep\n",
    "\n",
    "\n",
    "def assign_unk(tok):\n",
    "    \"\"\"\n",
    "    Assign unknown word tokens\n",
    "    \"\"\"\n",
    "    # Digits\n",
    "    if any(char.isdigit() for char in tok):\n",
    "        return \"--unk_digit--\"\n",
    "\n",
    "    # Punctuation\n",
    "    elif any(char in punct for char in tok):\n",
    "        return \"--unk_punct--\"\n",
    "\n",
    "    # Upper-case\n",
    "    elif any(char.isupper() for char in tok):\n",
    "        return \"--unk_upper--\"\n",
    "\n",
    "    # Nouns\n",
    "    elif any(tok.endswith(suffix) for suffix in noun_suffix):\n",
    "        return \"--unk_noun--\"\n",
    "\n",
    "    # Verbs\n",
    "    elif any(tok.endswith(suffix) for suffix in verb_suffix):\n",
    "        return \"--unk_verb--\"\n",
    "\n",
    "    # Adjectives\n",
    "    elif any(tok.endswith(suffix) for suffix in adj_suffix):\n",
    "        return \"--unk_adj--\"\n",
    "\n",
    "    # Adverbs\n",
    "    elif any(tok.endswith(suffix) for suffix in adv_suffix):\n",
    "        return \"--unk_adv--\"\n",
    "\n",
    "    return \"--unk--\"\n"
   ]
  },
  {
   "cell_type": "markdown",
   "id": "81ac2f35",
   "metadata": {
    "id": "81ac2f35"
   },
   "source": [
    "<a name='0'></a>\n",
    "## Data Sources\n",
    "This assignment will use two tagged data sets collected from the **Wall Street Journal (WSJ)**. \n",
    "\n",
    "[Here](http://relearn.be/2015/training-common-sense/sources/software/pattern-2.6-critical-fork/docs/html/mbsp-tags.html) is an example 'tag-set' or Part of Speech designation describing the two or three letter tag and their meaning. \n",
    "- One data set (**WSJ-2_21.pos**) will be used for **training**.\n",
    "- The other (**WSJ-24.pos**) for **testing**. \n",
    "- The tagged training data has been preprocessed to form a vocabulary (**hmm_vocab.txt**). \n",
    "- The words in the vocabulary are words from the training set that were used two or more times. \n",
    "- The vocabulary is augmented with a set of 'unknown word tokens', described below. \n",
    "\n",
    "The training set will be used to create the emission, transmission and tag counts. \n",
    "\n",
    "The test set (WSJ-24.pos) is read in to create `y`. \n",
    "- This contains both the test text and the true tag. \n",
    "- The test set has also been preprocessed to remove the tags to form **test.words.txt**. \n",
    "- This is read in and further processed to identify the end of sentences and handle words not in the vocabulary using functions provided above. \n",
    "- This forms the list `prep`, the preprocessed text used to test our  POS taggers.\n",
    "\n",
    "A POS tagger will necessarily encounter words that are not in its datasets. \n",
    "- To improve accuracy, these words are further analyzed during preprocessing to extract available hints as to their appropriate tag. \n",
    "- For example, the suffix 'ize' is a hint that the word is a verb, as in 'final-ize' or 'character-ize'. \n",
    "- A set of unknown-tokens, such as '--unk-verb--' or '--unk-noun--' will replace the unknown words in both the training and test corpus and will appear in the emission, transmission and tag data structures.\n",
    "\n",
    "<img src = \"./DataSources1.PNG\" />"
   ]
  },
  {
   "cell_type": "markdown",
   "id": "4e04a88f",
   "metadata": {
    "id": "4e04a88f"
   },
   "source": [
    "Implementation note: \n",
    "\n",
    "- For python 3.6 and beyond, dictionaries retain the insertion order. \n",
    "- Furthermore, their hash-based lookup makes them suitable for rapid membership tests. \n",
    "    - If _di_ is a dictionary, `key in di` will return `True` if _di_ has a key _key_, else `False`. \n",
    "\n",
    "The dictionary `vocab` will utilize these features."
   ]
  },
  {
   "cell_type": "markdown",
   "id": "60626702",
   "metadata": {
    "id": "60626702"
   },
   "source": [
    "<a name='1'></a>\n",
    "# Part 1: Parts-of-speech tagging - Baseline\n",
    "\n",
    "<a name='1.1'></a>\n",
    "## Part 1.1 - Training\n",
    "You will start with the simplest possible parts-of-speech tagger and we will build up to the state of the art. \n",
    "\n",
    "In this section, you will find the words that are not ambiguous. \n",
    "- For example, the word `is` is a verb and it is not ambiguous. \n",
    "- In the `WSJ` corpus, $86$% of the token are unambiguous (meaning they have only one tag) \n",
    "- About $14\\%$ are ambiguous (meaning that they have more than one tag)\n",
    "\n",
    "<img src = \"pos.png\" style=\"width:400px;height:250px;\"/>\n",
    "\n",
    "Before you start predicting the tags of each word, you will need to compute a few dictionaries that will help you to generate the tables. \n"
   ]
  },
  {
   "cell_type": "markdown",
   "id": "8e51520e",
   "metadata": {
    "id": "8e51520e"
   },
   "source": [
    "#### Transition counts\n",
    "- The first dictionary is the `transition_counts` dictionary which computes the number of times each tag happened next to another tag. \n",
    "\n",
    "This dictionary will be used to compute: \n",
    "$$P(t_i |t_{i-1}) \\tag{1}$$\n",
    "\n",
    "This is the probability of a tag at position $i$ given the tag at position $i-1$.\n",
    "\n",
    "In order for you to compute equation 1, you will create a `transition_counts` dictionary where \n",
    "- The keys are `(prev_tag, tag)`\n",
    "- The values are the number of times those two tags appeared in that order. "
   ]
  },
  {
   "cell_type": "markdown",
   "id": "00f0a66a",
   "metadata": {
    "id": "00f0a66a"
   },
   "source": [
    "#### Emission counts\n",
    "\n",
    "The second dictionary you will compute is the `emission_counts` dictionary. This dictionary will be used to compute:\n",
    "\n",
    "$$P(w_i|t_i)\\tag{2}$$\n",
    "\n",
    "In other words, you will use it to compute the probability of a word given its tag. \n",
    "\n",
    "In order for you to compute equation 2, you will create an `emission_counts` dictionary where \n",
    "- The keys are `(tag, word)` \n",
    "- The values are the number of times that pair showed up in your training set. "
   ]
  },
  {
   "cell_type": "markdown",
   "id": "c4cb3b73",
   "metadata": {
    "id": "c4cb3b73"
   },
   "source": [
    "#### Tag counts\n",
    "\n",
    "The last dictionary you will compute is the `tag_counts` dictionary. \n",
    "- The key is the tag \n",
    "- The value is the number of times each tag appeared."
   ]
  },
  {
   "cell_type": "markdown",
   "id": "dd34f40c",
   "metadata": {
    "id": "dd34f40c"
   },
   "source": [
    "<a name='ex-01'></a>\n",
    "### Exercise 01 - 5 Points\n",
    "\n",
    "**Instructions:** Write a program that takes in the `training_corpus` and returns the three dictionaries mentioned above `transition_counts`, `emission_counts`, and `tag_counts`. \n",
    "- `emission_counts`: maps (tag, word) to the number of times it happened. (Required for baseline and HMM)\n",
    "- `transition_counts`: maps (prev_tag, tag) to the number of times it has appeared. (for HMM)\n",
    "- `tag_counts`: maps (tag) to the number of times it has occured. (for HMM)\n",
    "\n",
    "Implementation note: This routine utilises *defaultdict*, which is a subclass of *dict*. \n",
    "- A standard Python dictionary throws a *KeyError* if you try to access an item with a key that is not currently in the dictionary. \n",
    "- In contrast, the *defaultdict* will create an item of the type of the argument, in this case an integer with the default value of 0. \n",
    "- See [defaultdict](https://docs.python.org/3.3/library/collections.html#defaultdict-objects)."
   ]
  },
  {
   "cell_type": "code",
   "execution_count": 3,
   "id": "a4e84bdf",
   "metadata": {
    "id": "a4e84bdf"
   },
   "outputs": [],
   "source": [
    "# Do not change anything in this cell\n",
    "# load in the training corpus\n",
    "with open(\"WSJ-2_21.pos\", 'r') as f:\n",
    "    training_corpus = f.readlines()\n",
    "\n",
    "# read the vocabulary data, split by each line of text, and save the list\n",
    "with open(\"hmm_vocab.txt\", 'r') as f:\n",
    "    voc_l = f.read().split('\\n')\n",
    "\n",
    "# vocab: dictionary that has the index of the corresponding words\n",
    "vocab = {} \n",
    "\n",
    "# Get the index of the corresponding words. \n",
    "for i, word in enumerate(sorted(voc_l)): \n",
    "    vocab[word] = i       \n",
    "    \n",
    "\n",
    "cnt = 0\n",
    "for k,v in vocab.items():\n",
    "    cnt += 1\n",
    "    if cnt > 20:\n",
    "        break\n",
    "\n",
    "# load in the test corpus\n",
    "with open(\"WSJ-24.pos\", 'r') as f:\n",
    "    y = f.readlines()\n",
    "\n",
    "#corpus without tags, preprocessed\n",
    "_, prep = preprocess(vocab, \"test.words.txt\")"
   ]
  },
  {
   "cell_type": "code",
   "execution_count": 4,
   "id": "278a7d07",
   "metadata": {
    "id": "278a7d07"
   },
   "outputs": [],
   "source": [
    "# TASK CELL\n",
    "\n",
    "def create_dictionaries(training_corpus, vocab):\n",
    "    \"\"\"\n",
    "    Input: \n",
    "        training_corpus: a corpus where each line has a word followed by its tag.\n",
    "        vocab: a dictionary where keys are words in vocabulary and value is an index\n",
    "    Output: \n",
    "        emission_counts: a dictionary where the keys are (tag, word) and the values are the counts\n",
    "        transition_counts: a dictionary where the keys are (prev_tag, tag) and the values are the counts\n",
    "        tag_counts: a dictionary where the keys are the tags and the values are the counts\n",
    "    \"\"\"\n",
    "    \n",
    "    # initialize the dictionaries using defaultdict\n",
    "    emission_counts = defaultdict(int)\n",
    "    transition_counts = defaultdict(int)\n",
    "    tag_counts = defaultdict(int)\n",
    "    \n",
    "    # Initialize \"prev_tag\" (previous tag) with the start state, denoted by '--s--'\n",
    "    prev_tag = '--s--' \n",
    "    \n",
    "    # use 'i' to track the line number in the corpus\n",
    "    i = 0 \n",
    "    \n",
    "    # Each item in the training corpus contains a word and its POS tag\n",
    "    # Go through each word and its tag in the training corpus\n",
    "    for word_tag in training_corpus:\n",
    "        \n",
    "        # Increment the word_tag count\n",
    "        i += 1\n",
    "        \n",
    "        # Every 50,000 words, print the word count\n",
    "        if i % 50000 == 0:\n",
    "            print(f\"word count = {i}\")\n",
    "            \n",
    "        ### START CODE HERE (Replace instances of 'None' with your code) \n",
    "        ###\n",
    "        # get the word and tag using the get_word_tag helper function\n",
    "        \n",
    "        word, tag = get_word_tag(word_tag, vocab)\n",
    "        \n",
    "        # Increment the transition count for the previous word and tag\n",
    "        \n",
    "        if((prev_tag, tag) in transition_counts.keys()):\n",
    "            transition_counts[(prev_tag, tag)] += 1            \n",
    "        else:\n",
    "            transition_counts[(prev_tag, tag)] = 1\n",
    "        # if(i<5):\n",
    "        #     print('Word: ', word)\n",
    "        #     print('Tag: ', tag)\n",
    "        #     print('Prev Tag: ', prev_tag)\n",
    "        #     print('-----------------')\n",
    "        \n",
    "        # Increment the emission count for the tag and word\n",
    "        \n",
    "        if((tag, word) in emission_counts.keys()):\n",
    "            emission_counts[(tag, word)] += 1\n",
    "        else:\n",
    "            emission_counts[(tag, word)] = 1\n",
    "\n",
    "        # Increment the tag count\n",
    "        if(tag in tag_counts.keys()):\n",
    "            tag_counts[tag] +=1\n",
    "        else:\n",
    "            tag_counts[tag] = 1\n",
    "\n",
    "        # Set the previous tag to this tag (for the next iteration of the loop)\n",
    "        \n",
    "        prev_tag = tag\n",
    "        \n",
    "        ### END CODE HERE ###\n",
    "        \n",
    "    return emission_counts, transition_counts, tag_counts"
   ]
  },
  {
   "cell_type": "code",
   "execution_count": 5,
   "id": "960dd1e8",
   "metadata": {
    "id": "960dd1e8"
   },
   "outputs": [
    {
     "name": "stdout",
     "output_type": "stream",
     "text": [
      "word count = 50000\n",
      "word count = 100000\n",
      "word count = 150000\n",
      "word count = 200000\n",
      "word count = 250000\n",
      "word count = 300000\n",
      "word count = 350000\n",
      "word count = 400000\n",
      "word count = 450000\n",
      "word count = 500000\n",
      "word count = 550000\n",
      "word count = 600000\n",
      "word count = 650000\n",
      "word count = 700000\n",
      "word count = 750000\n",
      "word count = 800000\n",
      "word count = 850000\n",
      "word count = 900000\n",
      "word count = 950000\n"
     ]
    }
   ],
   "source": [
    "emission_counts, transition_counts, tag_counts = create_dictionaries(training_corpus, vocab)"
   ]
  },
  {
   "cell_type": "code",
   "execution_count": 6,
   "id": "b386a15a",
   "metadata": {
    "id": "b386a15a"
   },
   "outputs": [
    {
     "name": "stdout",
     "output_type": "stream",
     "text": [
      "Number of POS tags (number of 'states'): 46\n",
      "View these POS tags (states)\n",
      "['#', '$', \"''\", '(', ')', ',', '--s--', '.', ':', 'CC', 'CD', 'DT', 'EX', 'FW', 'IN', 'JJ', 'JJR', 'JJS', 'LS', 'MD', 'NN', 'NNP', 'NNPS', 'NNS', 'PDT', 'POS', 'PRP', 'PRP$', 'RB', 'RBR', 'RBS', 'RP', 'SYM', 'TO', 'UH', 'VB', 'VBD', 'VBG', 'VBN', 'VBP', 'VBZ', 'WDT', 'WP', 'WP$', 'WRB', '``']\n"
     ]
    }
   ],
   "source": [
    "# get all the POS states\n",
    "states = sorted(tag_counts.keys())\n",
    "print(f\"Number of POS tags (number of 'states'): {len(states)}\")\n",
    "print(\"View these POS tags (states)\")\n",
    "print(states)"
   ]
  },
  {
   "cell_type": "markdown",
   "id": "688c5c9e",
   "metadata": {
    "id": "688c5c9e"
   },
   "source": [
    "##### Expected Output\n",
    "\n",
    "```CPP\n",
    "Number of POS tags (number of 'states'46\n",
    "View these states\n",
    "['#', '$', \"''\", '(', ')', ',', '--s--', '.', ':', 'CC', 'CD', 'DT', 'EX', 'FW', 'IN', 'JJ', 'JJR', 'JJS', 'LS', 'MD', 'NN', 'NNP', 'NNPS', 'NNS', 'PDT', 'POS', 'PRP', 'PRP$', 'RB', 'RBR', 'RBS', 'RP', 'SYM', 'TO', 'UH', 'VB', 'VBD', 'VBG', 'VBN', 'VBP', 'VBZ', 'WDT', 'WP', 'WP$', 'WRB', '``']\n",
    "```"
   ]
  },
  {
   "cell_type": "markdown",
   "id": "e5030945",
   "metadata": {
    "id": "e5030945"
   },
   "source": [
    "The 'states' are the Parts-of-speech designations found in the training data. They will also be referred to as 'tags' or POS in this assignment. \n",
    "\n",
    "- \"NN\" is noun, singular, \n",
    "- 'NNS' is noun, plural. \n",
    "- In addition, there are helpful tags like '--s--' which indicate a start of a sentence.\n",
    "- You can get a more complete description at [Penn Treebank II tag set](https://www.clips.uantwerpen.be/pages/mbsp-tags). "
   ]
  },
  {
   "cell_type": "code",
   "execution_count": 7,
   "id": "d80b55e8",
   "metadata": {
    "id": "d80b55e8"
   },
   "outputs": [
    {
     "name": "stdout",
     "output_type": "stream",
     "text": [
      "transition examples: \n",
      "(('--s--', 'IN'), 5050)\n",
      "(('IN', 'DT'), 32364)\n",
      "(('DT', 'NNP'), 9044)\n",
      "\n",
      "emission examples: \n",
      "(('DT', 'any'), 721)\n",
      "(('NN', 'decrease'), 7)\n",
      "(('NN', 'insider-trading'), 5)\n",
      "\n",
      "ambiguous word example: \n",
      "('RB', 'back') 304\n",
      "('VB', 'back') 20\n",
      "('RP', 'back') 84\n",
      "('JJ', 'back') 25\n",
      "('NN', 'back') 29\n",
      "('VBP', 'back') 4\n"
     ]
    }
   ],
   "source": [
    "print(\"transition examples: \")\n",
    "for ex in list(transition_counts.items())[:3]:\n",
    "    print(ex)\n",
    "print()\n",
    "\n",
    "print(\"emission examples: \")\n",
    "for ex in list(emission_counts.items())[200:203]:\n",
    "    print (ex)\n",
    "print()\n",
    "\n",
    "print(\"ambiguous word example: \")\n",
    "for tup,cnt in emission_counts.items():\n",
    "    if tup[1] == 'back': print (tup, cnt) "
   ]
  },
  {
   "cell_type": "markdown",
   "id": "274104ea",
   "metadata": {
    "id": "274104ea"
   },
   "source": [
    "##### Expected Output\n",
    "\n",
    "```CPP\n",
    "transition examples: \n",
    "(('--s--', 'IN'), 5050)\n",
    "(('IN', 'DT'), 32364)\n",
    "(('DT', 'NNP'), 9044)\n",
    "\n",
    "emission examples: \n",
    "(('DT', 'any'), 721)\n",
    "(('NN', 'decrease'), 7)\n",
    "(('NN', 'insider-trading'), 5)\n",
    "\n",
    "ambiguous word example: \n",
    "('RB', 'back') 304\n",
    "('VB', 'back') 20\n",
    "('RP', 'back') 84\n",
    "('JJ', 'back') 25\n",
    "('NN', 'back') 29\n",
    "('VBP', 'back') 4\n",
    "```"
   ]
  },
  {
   "cell_type": "markdown",
   "id": "bb67232c",
   "metadata": {
    "id": "bb67232c"
   },
   "source": [
    "<a name='1.2'></a>\n",
    "### Part 1.2 - Testing\n",
    "\n",
    "Now you will test the accuracy of your parts-of-speech tagger using your `emission_counts` dictionary. \n",
    "- Given your preprocessed test corpus `prep`, you will assign a parts-of-speech tag to every word in that corpus. \n",
    "- Using the original tagged test corpus `y`, you will then compute what percent of the tags you got correct. "
   ]
  },
  {
   "cell_type": "markdown",
   "id": "c10b275c",
   "metadata": {
    "id": "c10b275c"
   },
   "source": [
    "<a name='ex-02'></a>\n",
    "### Exercise 02 - 15 Points\n",
    "\n",
    "**Instructions:** Implement `predict_pos` that computes the accuracy of your model. \n",
    "\n",
    "- This is a Baseline model. \n",
    "- To assign a part of speech to a word, assign the most frequent POS for that word in the training set. \n",
    "- Then evaluate how well this approach works.  Each time you predict based on the most frequent POS for the given word, check whether the actual POS of that word is the same.  If so, the prediction was correct!\n",
    "- Calculate the accuracy as the number of correct predictions divided by the total number of words for which you predicted the POS tag."
   ]
  },
  {
   "cell_type": "code",
   "execution_count": 8,
   "id": "b98226d8",
   "metadata": {
    "id": "b98226d8"
   },
   "outputs": [],
   "source": [
    "# UNQ_C2 (UNIQUE CELL IDENTIFIER, DO NOT EDIT)\n",
    "# GRADED FUNCTION: predict_pos\n",
    "\n",
    "def predict_pos(prep, y, emission_counts, vocab, states):\n",
    "    '''\n",
    "    Input: \n",
    "        prep: a preprocessed version of 'y'. A list with the 'word' component of the tuples.\n",
    "        y: a corpus composed of a list of tuples where each tuple consists of (word, POS)\n",
    "        emission_counts: a dictionary where the keys are (tag,word) tuples and the value is the count\n",
    "        vocab: a dictionary where keys are words in vocabulary and value is an index\n",
    "        states: a sorted list of all possible tags for this assignment\n",
    "    Output: \n",
    "        accuracy: Number of times you classified a word correctly\n",
    "    '''\n",
    "    \n",
    "    # Initialize the number of correct predictions to zero\n",
    "    \n",
    "    correct_predictions = 0\n",
    "    total_count = 0\n",
    "    \n",
    "    # Get the (tag, word) tuples, stored as a set\n",
    "    \n",
    "    tuples = set()\n",
    "\n",
    "    for key in emission_counts.keys():\n",
    "        tuples.add(key)\n",
    "    \n",
    "    # Get the number of (word, POS) tuples in the corpus 'y'\n",
    "    \n",
    "    for word_tag in y:\n",
    "        total_count += 1\n",
    "        if not word_tag.split():\n",
    "            continue\n",
    "        else:\n",
    "            word, tag = word_tag.split()\n",
    "            if word not in vocab: \n",
    "                continue\n",
    "            else:\n",
    "                y_tup = (word, tag) \n",
    "            \n",
    "                if(word in vocab):\n",
    "                    key = (tag, word)\n",
    "                \n",
    "                    if(key in emission_counts.keys()):\n",
    "                        large = 0\n",
    "                        for key_dict in emission_counts.keys():\n",
    "                            if(key_dict) == key:\n",
    "                                if(emission_counts[key_dict])>large:\n",
    "                                    large = emission_counts[key_dict]\n",
    "                                    final_pos = key_dict[0]\n",
    "                if(final_pos == y_tup[1]):\n",
    "                    correct_predictions += 1\n",
    "            \n",
    "\n",
    "        # Split the (word, POS) string into a list of two items\n",
    "\n",
    "        \n",
    "        # Verify that y_tup contain both word and POS\n",
    "\n",
    "            \n",
    "            # Set the true POS label for this word\n",
    "\n",
    "\n",
    "            # If the y_tup didn't contain word and POS, go to next word\n",
    "\n",
    "\n",
    "        \n",
    "        # If the word is in the vocabulary...\n",
    "\n",
    "\n",
    "            ### START CODE HERE (Replace instances of 'None' with your code) ###\n",
    "                        \n",
    "                # define the key as the tuple containing the POS and word\n",
    "\n",
    "\n",
    "                # check if the (pos, word) key exists in the emission_counts dictionary\n",
    "\n",
    "                # get the emission count of the (pos,word) tuple \n",
    "\n",
    "                    # keep track of the POS with the largest count\n",
    "\n",
    "                        # update the final count (largest count)\n",
    "\n",
    "                        # update the final POS\n",
    "\n",
    "            # If the final POS (with the largest count) matches the true POS:\n",
    "                \n",
    "                # Update the number of correct predictions\n",
    "\n",
    "            \n",
    "    ### END CODE HERE ###\n",
    "    accuracy = correct_predictions/total_count\n",
    "    \n",
    "    return accuracy"
   ]
  },
  {
   "cell_type": "code",
   "execution_count": 9,
   "id": "be8f6b6e-e84c-4142-8172-ba038f42b4b2",
   "metadata": {},
   "outputs": [],
   "source": [
    "# UNQ_C2 (UNIQUE CELL IDENTIFIER, DO NOT EDIT)\n",
    "# GRADED FUNCTION: predict_pos\n",
    "\n",
    "def predict_pos(prep, y, emission_counts, vocab, states):\n",
    "    '''\n",
    "    Input: \n",
    "        prep: a preprocessed version of 'y'. A list with the 'word' component of the tuples.\n",
    "        y: a corpus composed of a list of tuples where each tuple consists of (word, POS)\n",
    "        emission_counts: a dictionary where the keys are (tag,word) tuples and the value is the count\n",
    "        vocab: a dictionary where keys are words in vocabulary and value is an index\n",
    "        states: a sorted list of all possible tags for this assignment\n",
    "    Output: \n",
    "        accuracy: Number of times you classified a word correctly\n",
    "    '''\n",
    "    \n",
    "    # Initialize the number of correct predictions to zero\n",
    "    correct_predictions = 0    \n",
    "    # Get the (tag, word) tuples, stored as a set\n",
    "    all_words = set(emission_counts.keys())    \n",
    "    # Get the number of (word, POS) tuples in the corpus 'y'\n",
    "    total_words = len(y)\n",
    "    for word, y_tup in zip(prep, y):\n",
    "        # Split the (word, POS) string into a list of two items\n",
    "        y_tup_temp = y_tup.split()        \n",
    "        # Verify that y_tup contain both word and POS\n",
    "        if(len(y_tup_temp) == 2):           \n",
    "            # Set the true POS label for this word\n",
    "            label_true = y_tup_temp[1]\n",
    "        else:\n",
    "            # If the y_tup didn't contain word and POS, go to next word\n",
    "            continue\n",
    "        final_count = 0\n",
    "        final_pos = ''        \n",
    "        # If the word is in the vocabulary...\n",
    "        if(word in vocab):\n",
    "            for tag in states:\n",
    "            ### START CODE HERE (Replace instances of 'None' with your code) ###                        \n",
    "                # define the key as the tuple containing the POS and word\n",
    "                key = (tag, word)\n",
    "                # check if the (pos, word) key exists in the emission_counts dictionary\n",
    "                if(key in emission_counts.keys()):\n",
    "                # get the emission count of the (pos,word) tuple \n",
    "                    temp_count = emission_counts[key]\n",
    "                    # keep track of the POS with the largest count\n",
    "                    if(temp_count > final_count):\n",
    "                        # update the final count (largest count)\n",
    "                        final_count = temp_count\n",
    "                        # update the final POS\n",
    "                        final_pos = tag\n",
    "            # If the final POS (with the largest count) matches the true POS:\n",
    "        if(final_pos == label_true):                \n",
    "                # Update the number of correct predictions\n",
    "                correct_predictions += 1            \n",
    "    ### END CODE HERE ###\n",
    "    accuracy = correct_predictions/total_words\n",
    "    \n",
    "    return accuracy"
   ]
  },
  {
   "cell_type": "code",
   "execution_count": 10,
   "id": "804ba294",
   "metadata": {
    "id": "804ba294"
   },
   "outputs": [
    {
     "name": "stdout",
     "output_type": "stream",
     "text": [
      "Accuracy of prediction using predict_pos is 0.8889\n"
     ]
    }
   ],
   "source": [
    "accuracy_predict_pos = predict_pos(prep, y, emission_counts, vocab, states)\n",
    "print(f\"Accuracy of prediction using predict_pos is {accuracy_predict_pos:.4f}\")"
   ]
  },
  {
   "cell_type": "markdown",
   "id": "99b82a02",
   "metadata": {
    "id": "99b82a02"
   },
   "source": [
    "##### Expected Output\n",
    "```CPP\n",
    "Accuracy of prediction using predict_pos is 0.8889\n",
    "```\n",
    "\n",
    "88.9% is really good for a baseline model. With hidden markov models, you should be able to get **95% accuracy.**"
   ]
  },
  {
   "cell_type": "markdown",
   "id": "204f0836",
   "metadata": {
    "id": "204f0836"
   },
   "source": [
    "<a name='2'></a>\n",
    "# Part 2: Hidden Markov Models for POS\n",
    "\n",
    "Now you will build something more context specific. Concretely, you will be implementing a Hidden Markov Model (HMM) with a Viterbi decoder\n",
    "- The HMM is one of the most commonly used algorithms in Natural Language Processing, and is a foundation to many deep learning techniques you will see in this specialization. \n",
    "- In addition to parts-of-speech tagging, HMM is used in speech recognition, speech synthesis, etc. \n",
    "- By completing this part of the assignment you will get a 95% accuracy on the same dataset you used in Part 1.\n",
    "\n",
    "The Markov Model contains a number of states and the probability of transition between those states. \n",
    "- In this case, the states are the parts-of-speech. \n",
    "- A Markov Model utilizes a transition matrix, `A`. \n",
    "- A Hidden Markov Model adds an observation or emission matrix `B` which describes the probability of a visible observation when we are in a particular state. \n",
    "- In this case, the emissions are the words in the corpus\n",
    "- The state, which is hidden, is the POS tag of that word."
   ]
  },
  {
   "cell_type": "markdown",
   "id": "5aa91465",
   "metadata": {
    "id": "5aa91465"
   },
   "source": [
    "<a name='2.1'></a>\n",
    "## Part 2.1 Generating Matrices\n",
    "\n",
    "### Creating the 'A' transition probabilities matrix\n",
    "Now that you have your `emission_counts`, `transition_counts`, and `tag_counts`, you will start implementing the Hidden Markov Model. \n",
    "\n",
    "This will allow you to quickly construct the \n",
    "- `A` transition probabilities matrix.\n",
    "- and the `B` emission probabilities matrix. \n",
    "\n",
    "You will also use some smoothing when computing these matrices. \n",
    "\n",
    "Here is an example of what the `A` transition matrix would look like (it is simplified to 5 tags for viewing. It is 46x46 in this assignment.):\n",
    "\n",
    "\n",
    "|**A**  |...|         RBS  |          RP  |         SYM  |      TO  |          UH|...\n",
    "| --- ||---:-------------| ------------ | ------------ | -------- | ---------- |----\n",
    "|**RBS**  |...|2.217069e-06  |2.217069e-06  |2.217069e-06  |0.008870  |2.217069e-06|...\n",
    "|**RP**   |...|3.756509e-07  |7.516775e-04  |3.756509e-07  |0.051089  |3.756509e-07|...\n",
    "|**SYM**  |...|1.722772e-05  |1.722772e-05  |1.722772e-05  |0.000017  |1.722772e-05|...\n",
    "|**TO**   |...|4.477336e-05  |4.472863e-08  |4.472863e-08  |0.000090  |4.477336e-05|...\n",
    "|**UH**  |...|1.030439e-05  |1.030439e-05  |1.030439e-05  |0.061837  |3.092348e-02|...\n",
    "| ... |...| ...          | ...          | ...          | ...      | ...        | ...\n",
    "\n",
    "Note that the matrix above was computed with smoothing. \n",
    "\n",
    "Each cell gives you the probability to go from one parts of speech to another. \n",
    "- In other words, there is a 4.47e-8 chance of going from parts-of-speech `TO` to `RP`. \n",
    "- The sum of each row has to equal 1, because we assume that the next POS tag must be one of the available columns in the table.\n",
    "\n",
    "The smoothing was done as follows: \n",
    "\n",
    "$$ P(t_i | t_{i-1}) = \\frac{C(t_{i-1}, t_{i}) + \\alpha }{C(t_{i-1}) +\\alpha * N}\\tag{3}$$\n",
    "\n",
    "- $N$ is the total number of tags\n",
    "- $C(t_{i-1}, t_{i})$ is the count of the tuple (previous POS, current POS) in `transition_counts` dictionary.\n",
    "- $C(t_{i-1})$ is the count of the previous POS in the `tag_counts` dictionary.\n",
    "- $\\alpha$ is a smoothing parameter."
   ]
  },
  {
   "cell_type": "markdown",
   "id": "e2eec203",
   "metadata": {
    "id": "e2eec203"
   },
   "source": [
    "<a name='ex-03'></a>\n",
    "### Exercise 03 - 15 Points\n",
    "\n",
    "**Instructions:** Implement the `create_transition_matrix` below for all tags. Your task is to output a matrix that computes equation 3 for each cell in matrix `A`. "
   ]
  },
  {
   "cell_type": "code",
   "execution_count": 11,
   "id": "e12d0675",
   "metadata": {
    "id": "e12d0675"
   },
   "outputs": [],
   "source": [
    "# GRADED FUNCTION: create_transition_matrix\n",
    "def create_transition_matrix(alpha, tag_counts, transition_counts):\n",
    "    ''' \n",
    "    Input: \n",
    "        alpha: number used for smoothing\n",
    "        tag_counts: a dictionary mapping each tag to its respective count\n",
    "        transition_counts: transition count for the previous word and tag\n",
    "    Output:\n",
    "        A: matrix of dimension (num_tags,num_tags)\n",
    "    '''\n",
    "    # Write your code here\n",
    "    num_tags = len(states)\n",
    "    A = np.zeros([num_tags, num_tags])\n",
    "    \n",
    "    for i in range(len(states)):\n",
    "        for j in range(len(states)):\n",
    "            numerator = transition_counts[(states[i], states[j])] + alpha\n",
    "            denominator = tag_counts[states[i]] + alpha * len(states)\n",
    "            A[i][j] = numerator/denominator\n",
    "            \n",
    "    return A"
   ]
  },
  {
   "cell_type": "code",
   "execution_count": 12,
   "id": "7603a95c",
   "metadata": {
    "id": "7603a95c",
    "tags": []
   },
   "outputs": [
    {
     "name": "stdout",
     "output_type": "stream",
     "text": [
      "A at row 0, col 0: 0.000007040\n",
      "A at row 3, col 1: 0.1691\n",
      "View a subset of transition matrix A\n",
      "              RBS            RP           SYM        TO            UH\n",
      "RBS  2.217069e-06  2.217069e-06  2.217069e-06  0.008870  2.217069e-06\n",
      "RP   3.756509e-07  7.516775e-04  3.756509e-07  0.051089  3.756509e-07\n",
      "SYM  1.722772e-05  1.722772e-05  1.722772e-05  0.000017  1.722772e-05\n",
      "TO   4.477336e-05  4.472863e-08  4.472863e-08  0.000090  4.477336e-05\n",
      "UH   1.030439e-05  1.030439e-05  1.030439e-05  0.061837  3.092348e-02\n"
     ]
    }
   ],
   "source": [
    "alpha = 0.001\n",
    "A = create_transition_matrix(alpha, tag_counts, transition_counts)\n",
    "# Testing your function\n",
    "\n",
    "print(f\"A at row 0, col 0: {A[0,0]:.9f}\")\n",
    "print(f\"A at row 3, col 1: {A[3,1]:.4f}\")\n",
    "\n",
    "print(\"View a subset of transition matrix A\")\n",
    "A_sub = pd.DataFrame(A[30:35,30:35], index=states[30:35], columns = states[30:35] )\n",
    "print(A_sub)"
   ]
  },
  {
   "cell_type": "markdown",
   "id": "976bd495",
   "metadata": {
    "id": "976bd495"
   },
   "source": [
    "##### Expected Output\n",
    "```CPP\n",
    "A at row 0, col 0: 0.000007040\n",
    "A at row 3, col 1: 0.1691\n",
    "View a subset of transition matrix A\n",
    "              RBS            RP           SYM        TO            UH\n",
    "RBS  2.217069e-06  2.217069e-06  2.217069e-06  0.008870  2.217069e-06\n",
    "RP   3.756509e-07  7.516775e-04  3.756509e-07  0.051089  3.756509e-07\n",
    "SYM  1.722772e-05  1.722772e-05  1.722772e-05  0.000017  1.722772e-05\n",
    "TO   4.477336e-05  4.472863e-08  4.472863e-08  0.000090  4.477336e-05\n",
    "UH   1.030439e-05  1.030439e-05  1.030439e-05  0.061837  3.092348e-02\n",
    "```"
   ]
  },
  {
   "cell_type": "markdown",
   "id": "507dc9ee",
   "metadata": {
    "id": "507dc9ee"
   },
   "source": [
    "### Create the 'B' emission probabilities matrix\n",
    "\n",
    "Now you will create the `B` transition matrix which computes the emission probability. \n",
    "\n",
    "You will use smoothing as defined below: \n",
    "\n",
    "$$P(w_i | t_i) = \\frac{C(t_i, word_i)+ \\alpha}{C(t_{i}) +\\alpha * N}\\tag{4}$$\n",
    "\n",
    "- $C(t_i, word_i)$ is the number of times $word_i$ was associated with $tag_i$ in the training data (stored in `emission_counts` dictionary).\n",
    "- $C(t_i)$ is the number of times $tag_i$ was in the training data (stored in `tag_counts` dictionary).\n",
    "- $N$ is the number of words in the vocabulary\n",
    "- $\\alpha$ is a smoothing parameter. \n",
    "\n",
    "The matrix `B` is of dimension (num_tags, N), where num_tags is the number of possible parts-of-speech tags. \n",
    "\n",
    "Here is an example of the matrix, only a subset of tags and words are shown: \n",
    "<p style='text-align: center;'> <b>B Emissions Probability Matrix (subset)</b>  </p>\n",
    "\n",
    "|**B**| ...|          725 |     adroitly |    engineers |     promoted |      synergy| ...|\n",
    "|----|----|--------------|--------------|--------------|--------------|-------------|----|\n",
    "|**CD**  | ...| **8.201296e-05** | 2.732854e-08 | 2.732854e-08 | 2.732854e-08 | 2.732854e-08| ...|\n",
    "|**NN**  | ...| 7.521128e-09 | 7.521128e-09 | 7.521128e-09 | 7.521128e-09 | **2.257091e-05**| ...|\n",
    "|**NNS** | ...| 1.670013e-08 | 1.670013e-08 |**4.676203e-04** | 1.670013e-08 | 1.670013e-08| ...|\n",
    "|**VB**  | ...| 3.779036e-08 | 3.779036e-08 | 3.779036e-08 | 3.779036e-08 | 3.779036e-08| ...|\n",
    "|**RB**  | ...| 3.226454e-08 | **6.456135e-05** | 3.226454e-08 | 3.226454e-08 | 3.226454e-08| ...|\n",
    "|**RP**  | ...| 3.723317e-07 | 3.723317e-07 | 3.723317e-07 | **3.723317e-07** | 3.723317e-07| ...|\n",
    "| ...    | ...|     ...      |     ...      |     ...      |     ...      |     ...      | ...|\n",
    "\n"
   ]
  },
  {
   "cell_type": "markdown",
   "id": "8ffb79ce",
   "metadata": {
    "id": "8ffb79ce"
   },
   "source": [
    "<a name='ex-04'></a>\n",
    "### Exercise 04 - 15 Points\n",
    "**Instructions:** Implement the `create_emission_matrix` below that computes the `B` emission probabilities matrix. Your function takes in $\\alpha$, the smoothing parameter, `tag_counts`, which is a dictionary mapping each tag to its respective count, the `emission_counts` dictionary where the keys are (tag, word) and the values are the counts. Your task is to output a matrix that computes equation 4 for each cell in matrix `B`. "
   ]
  },
  {
   "cell_type": "code",
   "execution_count": 13,
   "id": "4aef436e",
   "metadata": {
    "id": "4aef436e"
   },
   "outputs": [],
   "source": [
    "# UNQ_C4 (UNIQUE CELL IDENTIFIER, DO NOT EDIT)\n",
    "# GRADED FUNCTION: create_emission_matrix\n",
    "\n",
    "def create_emission_matrix(alpha, tag_counts, emission_counts, vocab):\n",
    "    '''\n",
    "    Input: \n",
    "        alpha: tuning parameter used in smoothing \n",
    "        tag_counts: a dictionary mapping each tag to its respective count\n",
    "        emission_counts: a dictionary where the keys are (tag, word) and the values are the counts\n",
    "        vocab: a dictionary where keys are words in vocabulary and value is an index\n",
    "    Output:\n",
    "        B: a matrix of dimension (num_tags, len(vocab))\n",
    "    '''\n",
    "    # Write your code here\n",
    "    num_tags = len(states)\n",
    "    B = np.zeros([num_tags, len(vocab)])\n",
    "    \n",
    "    for i in range(len(states)):\n",
    "        for j in range(len(vocab)):\n",
    "            numerator = emission_counts[(states[i], vocab[j])] + alpha\n",
    "            denominator = tag_counts[states[i]] + alpha * len(vocab)\n",
    "            B[i][j] = numerator/denominator   \n",
    "    \n",
    "    return B"
   ]
  },
  {
   "cell_type": "code",
   "execution_count": 14,
   "id": "365490ca",
   "metadata": {
    "id": "365490ca"
   },
   "outputs": [
    {
     "name": "stdout",
     "output_type": "stream",
     "text": [
      "View Matrix position at row 0, column 0: 0.000006032\n",
      "View Matrix position at row 3, column 1: 0.000000720\n",
      "              725      adroitly     engineers      promoted       synergy\n",
      "CD   8.201296e-05  2.732854e-08  2.732854e-08  2.732854e-08  2.732854e-08\n",
      "NN   7.521128e-09  7.521128e-09  7.521128e-09  7.521128e-09  2.257091e-05\n",
      "NNS  1.670013e-08  1.670013e-08  4.676203e-04  1.670013e-08  1.670013e-08\n",
      "VB   3.779036e-08  3.779036e-08  3.779036e-08  3.779036e-08  3.779036e-08\n",
      "RB   3.226454e-08  6.456135e-05  3.226454e-08  3.226454e-08  3.226454e-08\n",
      "RP   3.723317e-07  3.723317e-07  3.723317e-07  3.723317e-07  3.723317e-07\n"
     ]
    }
   ],
   "source": [
    "# creating your emission probability matrix. this takes a few minutes to run. \n",
    "B = create_emission_matrix(alpha, tag_counts, emission_counts, list(vocab))\n",
    "\n",
    "print(f\"View Matrix position at row 0, column 0: {B[0,0]:.9f}\")\n",
    "print(f\"View Matrix position at row 3, column 1: {B[3,1]:.9f}\")\n",
    "\n",
    "# Try viewing emissions for a few words in a sample dataframe\n",
    "cidx  = ['725','adroitly','engineers', 'promoted', 'synergy']\n",
    "\n",
    "# Get the integer ID for each word\n",
    "cols = [vocab[a] for a in cidx]\n",
    "\n",
    "# Choose POS tags to show in a sample dataframe\n",
    "rvals =['CD','NN','NNS', 'VB','RB','RP']\n",
    "\n",
    "# For each POS tag, get the row number from the 'states' list\n",
    "rows = [states.index(a) for a in rvals]\n",
    "\n",
    "# Get the emissions for the sample of words, and the sample of POS tags\n",
    "B_sub = pd.DataFrame(B[np.ix_(rows,cols)], index=rvals, columns = cidx )\n",
    "print(B_sub)"
   ]
  },
  {
   "cell_type": "markdown",
   "id": "bd2dce0b",
   "metadata": {
    "id": "bd2dce0b"
   },
   "source": [
    "##### Expected Output\n",
    "\n",
    "```CPP\n",
    "View Matrix position at row 0, column 0: 0.000006032\n",
    "View Matrix position at row 3, column 1: 0.000000720\n",
    "              725      adroitly     engineers      promoted       synergy\n",
    "CD   8.201296e-05  2.732854e-08  2.732854e-08  2.732854e-08  2.732854e-08\n",
    "NN   7.521128e-09  7.521128e-09  7.521128e-09  7.521128e-09  2.257091e-05\n",
    "NNS  1.670013e-08  1.670013e-08  4.676203e-04  1.670013e-08  1.670013e-08\n",
    "VB   3.779036e-08  3.779036e-08  3.779036e-08  3.779036e-08  3.779036e-08\n",
    "RB   3.226454e-08  6.456135e-05  3.226454e-08  3.226454e-08  3.226454e-08\n",
    "RP   3.723317e-07  3.723317e-07  3.723317e-07  3.723317e-07  3.723317e-07\n",
    "```"
   ]
  },
  {
   "cell_type": "markdown",
   "id": "0620ff68",
   "metadata": {
    "id": "0620ff68"
   },
   "source": [
    "<a name='2.2'></a>\n",
    "## Part 2.2: Viterbi Algorithm and Dynamic Programming (Extra Credit) - 20 Points\n",
    "\n",
    "In this part of the assignment you will implement the Viterbi algorithm which makes use of dynamic programming. Specifically, you will use your two matrices, `A` and `B` to compute the Viterbi algorithm. We have decomposed this process into three main steps for you. \n",
    "\n",
    "**Note** : You'll get 20 extra points for the part 2.2.\n",
    "\n",
    "* **Initialization** - In this part you initialize the `best_paths` and `best_probabilities` matrices that you will be populating in `feed_forward`.\n",
    "* **Feed forward** - At each step, you calculate the probability of each path happening and the best paths up to that point. \n",
    "* **Feed backward**: This allows you to find the best path with the highest probabilities. \n",
    "\n",
    "<a name='3.1'></a>\n",
    "### Part 2.2.1:  Initialization \n",
    "\n",
    "You will start by initializing two matrices of the same dimension. \n",
    "\n",
    "- best_probs: Each cell contains the probability of going from one POS tag to a word in the corpus.\n",
    "\n",
    "- best_paths: A matrix that helps you trace through the best possible path in the corpus. "
   ]
  },
  {
   "cell_type": "markdown",
   "id": "44db05c2",
   "metadata": {
    "id": "44db05c2"
   },
   "source": [
    "<a name='ex-05'></a>\n",
    "### Exercise 05 - 5 points\n",
    "**Instructions**: \n",
    "Write a program below that initializes the `best_probs` and the `best_paths` matrix. \n",
    "\n",
    "Both matrices will be initialized to zero except for column zero of `best_probs`.  \n",
    "- Column zero of `best_probs` is initialized with the assumption that the first word of the corpus was preceded by a start token (\"--s--\"). \n",
    "- This allows you to reference the **A** matrix for the transition probability\n",
    "\n",
    "Here is how to initialize column 0 of `best_probs`:\n",
    "- The probability of the best path going from the start index to a given POS tag indexed by integer $i$ is denoted by $\\textrm{best_probs}[s_{idx}, i]$.\n",
    "- This is estimated as the probability that the start tag transitions to the POS denoted by index $i$: $\\mathbf{A}[s_{idx}, i]$ AND that the POS tag denoted by $i$ emits the first word of the given corpus, which is $\\mathbf{B}[i, vocab[corpus[0]]]$.\n",
    "- Note that vocab[corpus[0]] refers to the first word of the corpus (the word at position 0 of the corpus). \n",
    "- **vocab** is a dictionary that returns the unique integer that refers to that particular word.\n",
    "\n",
    "Conceptually, it looks like this:\n",
    "$\\textrm{best_probs}[s_{idx}, i] = \\mathbf{A}[s_{idx}, i] \\times \\mathbf{B}[i, corpus[0] ]$\n",
    "\n",
    "\n",
    "In order to avoid multiplying and storing small values on the computer, we'll take the log of the product, which becomes the sum of two logs:\n",
    "\n",
    "$best\\_probs[i,0] = log(A[s_{idx}, i]) + log(B[i, vocab[corpus[0]]$\n",
    "\n",
    "Also, to avoid taking the log of 0 (which is defined as negative infinity), the code itself will just set $best\\_probs[i,0] = float('-inf')$ when $A[s_{idx}, i] == 0$\n",
    "\n",
    "\n",
    "So the implementation to initialize $best\\_probs$ looks like this:\n",
    "\n",
    "$ if A[s_{idx}, i] <> 0 : best\\_probs[i,0] = log(A[s_{idx}, i]) + log(B[i, vocab[corpus[0]]])$\n",
    "\n",
    "$ if A[s_{idx}, i] == 0 : best\\_probs[i,0] = float('-inf')$\n",
    "\n",
    "Please use [math.log](https://docs.python.org/3/library/math.html) to compute the natural logarithm."
   ]
  },
  {
   "cell_type": "markdown",
   "id": "503117ff",
   "metadata": {
    "id": "503117ff"
   },
   "source": [
    "The example below shows the initialization assuming the corpus starts with the phrase \"Loss tracks upward\".\n",
    "\n",
    "<img src = \"Initialize4.PNG\"/>"
   ]
  },
  {
   "cell_type": "markdown",
   "id": "79fb223c",
   "metadata": {
    "id": "79fb223c"
   },
   "source": [
    "Represent infinity and negative infinity like this:\n",
    "\n",
    "```CPP\n",
    "float('inf')\n",
    "float('-inf')\n",
    "```"
   ]
  },
  {
   "cell_type": "code",
   "execution_count": 15,
   "id": "d11b3fe1",
   "metadata": {
    "id": "d11b3fe1"
   },
   "outputs": [],
   "source": [
    "# GRADED FUNCTION: initialize\n",
    "def initialize(states, tag_counts, A, B, corpus, vocab):\n",
    "    '''\n",
    "    Input: \n",
    "        states: a list of all possible parts-of-speech\n",
    "        tag_counts: a dictionary mapping each tag to its respective count\n",
    "        A: Transition Matrix of dimension (num_tags, num_tags)\n",
    "        B: Emission Matrix of dimension (num_tags, len(vocab))\n",
    "        corpus: a sequence of words whose POS is to be identified in a list \n",
    "        vocab: a dictionary where keys are words in vocabulary and value is an index\n",
    "    Output:\n",
    "        best_probs: matrix of dimension (num_tags, len(corpus)) of floats\n",
    "        best_paths: matrix of dimension (num_tags, len(corpus)) of integers\n",
    "    '''\n",
    "    # Write your code here\n",
    "    num_tags = len(states)\n",
    "    best_probs = np.zeros([num_tags, len(corpus)])\n",
    "    best_paths = np.zeros([num_tags, len(corpus)], dtype = int)\n",
    "    \n",
    "    start_index = states.index(\"--s--\")\n",
    "    \n",
    "    for i in range(len(states)):\n",
    "        if(A[start_index, i] == 0):\n",
    "            best_probs[i, 0] = float('-inf')\n",
    "        else:\n",
    "            best_probs[i, 0] = math.log(A[start_index, i]) + math.log(B[i, vocab[corpus[0]]])\n",
    "    return best_probs, best_paths"
   ]
  },
  {
   "cell_type": "code",
   "execution_count": 16,
   "id": "b859413c",
   "metadata": {
    "id": "b859413c"
   },
   "outputs": [],
   "source": [
    "best_probs, best_paths = initialize(states, tag_counts, A, B, prep, vocab)"
   ]
  },
  {
   "cell_type": "code",
   "execution_count": 17,
   "id": "2a2c438a",
   "metadata": {
    "id": "2a2c438a"
   },
   "outputs": [
    {
     "name": "stdout",
     "output_type": "stream",
     "text": [
      "best_probs[0,0]: -22.6098\n",
      "best_paths[2,3]: 0.0000\n"
     ]
    }
   ],
   "source": [
    "# Test the function\n",
    "print(f\"best_probs[0,0]: {best_probs[0,0]:.4f}\") \n",
    "print(f\"best_paths[2,3]: {best_paths[2,3]:.4f}\")"
   ]
  },
  {
   "cell_type": "markdown",
   "id": "bdb00300",
   "metadata": {
    "id": "bdb00300"
   },
   "source": [
    "##### Expected Output\n",
    "\n",
    "```CPP\n",
    "best_probs[0,0]: -22.6098\n",
    "best_paths[2,3]: 0.0000\n",
    "```"
   ]
  },
  {
   "cell_type": "markdown",
   "id": "12457c20",
   "metadata": {
    "id": "12457c20"
   },
   "source": [
    "<a name='2.3'></a>\n",
    "## Part 2.3 Viterbi Forward\n",
    "\n",
    "In this part of the assignment, you will implement the `viterbi_forward` segment. In other words, you will populate your `best_probs` and `best_paths` matrices.\n",
    "- Walk forward through the corpus.\n",
    "- For each word, compute a probability for each possible tag. \n",
    "- Unlike the previous algorithm `predict_pos` (the 'warm-up' exercise), this will include the path up to that (word,tag) combination. \n",
    "\n",
    "Here is an example with a three-word corpus \"Loss tracks upward\":\n",
    "- Note, in this example, only a subset of states (POS tags) are shown in the diagram below, for easier reading. \n",
    "- In the diagram below, the first word \"Loss\" is already initialized. \n",
    "- The algorithm will compute a probability for each of the potential tags in the second and future words. \n",
    "\n",
    "Compute the probability that the tag of the second work ('tracks') is a verb, 3rd person singular present (VBZ).  \n",
    "- In the `best_probs` matrix, go to the column of the second word ('tracks'), and row 40 (VBZ), this cell is highlighted in light orange in the diagram below.\n",
    "- Examine each of the paths from the tags of the first word ('Loss') and choose the most likely path.  \n",
    "- An example of the calculation for **one** of those paths is the path from ('Loss', NN) to ('tracks', VBZ).\n",
    "- The log of the probability of the path up to and including the first word 'Loss' having POS tag NN is $-14.32$.  The `best_probs` matrix contains this value -14.32 in the column for 'Loss' and row for 'NN'.\n",
    "- Find the probability that NN transitions to VBZ.  To find this probability, go to the `A` transition matrix, and go to the row for 'NN' and the column for 'VBZ'.  The value is $4.37e-02$, which is circled in the diagram, so add $-14.32 + log(4.37e-02)$. \n",
    "- Find the log of the probability that the tag VBS would 'emit' the word 'tracks'.  To find this, look at the 'B' emission matrix in row 'VBZ' and the column for the word 'tracks'.  The value $4.61e-04$ is circled in the diagram below.  So add $-14.32 + log(4.37e-02) + log(4.61e-04)$.\n",
    "- The sum of $-14.32 + log(4.37e-02) + log(4.61e-04)$ is $-25.13$. Store $-25.13$ in the `best_probs` matrix at row 'VBZ' and column 'tracks' (as seen in the cell that is highlighted in light orange in the diagram).\n",
    "- All other paths in best_probs are calculated.  Notice that $-25.13$ is greater than all of the other values in column 'tracks' of matrix `best_probs`, and so the most likely path to 'VBZ' is from 'NN'.  'NN' is in row 20 of the `best_probs` matrix, so $20$ is the most likely path.\n",
    "- Store the most likely path $20$ in the `best_paths` table.  This is highlighted in light orange in the diagram below."
   ]
  },
  {
   "cell_type": "markdown",
   "id": "712f47ed",
   "metadata": {
    "id": "712f47ed"
   },
   "source": [
    "The formula to compute the probability and path for the $i^{th}$ word in the $corpus$, the prior word $i-1$ in the corpus, current POS tag $j$, and previous POS tag $k$ is:\n",
    "\n",
    "$\\mathrm{prob} = \\mathbf{best\\_prob}_{k, i-1} + \\mathrm{log}(\\mathbf{A}_{k, j}) + \\mathrm{log}(\\mathbf{B}_{j, vocab(corpus_{i})})$\n",
    "\n",
    "where $corpus_{i}$ is the word in the corpus at index $i$, and $vocab$ is the dictionary that gets the unique integer that represents a given word.\n",
    "\n",
    "$\\mathrm{path} = k$\n",
    "\n",
    "where $k$ is the integer representing the previous POS tag.\n"
   ]
  },
  {
   "cell_type": "markdown",
   "id": "cc160b52",
   "metadata": {
    "id": "cc160b52"
   },
   "source": [
    "<a name='ex-06'></a>\n",
    "\n",
    "### Exercise 06 - 10 Points\n",
    "\n",
    "Instructions: Implement the `viterbi_forward` algorithm and store the best_path and best_prob for every possible tag for each word in the matrices `best_probs` and `best_tags` using the pseudo code below.\n",
    "\n",
    "`for each word in the corpus\n",
    "\n",
    "    for each POS tag type that this word may be\n",
    "    \n",
    "        for POS tag type that the previous word could be\n",
    "        \n",
    "            compute the probability that the previous word had a given POS tag, that the current word has a given POS tag, and that the POS tag would emit this current word.\n",
    "            \n",
    "            retain the highest probability computed for the current word\n",
    "            \n",
    "            set best_probs to this highest probability\n",
    "            \n",
    "            set best_paths to the index 'k', representing the POS tag of the previous word which produced the highest probability `\n",
    "\n",
    "Please use [math.log](https://docs.python.org/3/library/math.html) to compute the natural logarithm."
   ]
  },
  {
   "cell_type": "markdown",
   "id": "207e8f2c",
   "metadata": {
    "id": "207e8f2c"
   },
   "source": [
    "<img src = \"Forward4.PNG\"/>"
   ]
  },
  {
   "cell_type": "code",
   "execution_count": 18,
   "id": "881830bd",
   "metadata": {
    "id": "881830bd"
   },
   "outputs": [],
   "source": [
    "# GRADED FUNCTION: viterbi_forward\n",
    "def viterbi_forward(A, B, test_corpus, best_probs, best_paths, vocab):\n",
    "    '''\n",
    "    Input: \n",
    "        A, B: The transiton and emission matrices respectively\n",
    "        test_corpus: a list containing a preprocessed corpus\n",
    "        best_probs: an initilized matrix of dimension (num_tags, len(corpus))\n",
    "        best_paths: an initilized matrix of dimension (num_tags, len(corpus))\n",
    "        vocab: a dictionary where keys are words in vocabulary and value is an index \n",
    "    Output: \n",
    "        best_probs: a completed matrix of dimension (num_tags, len(corpus))\n",
    "        best_paths: a completed matrix of dimension (num_tags, len(corpus))\n",
    "    '''\n",
    "    # Write your code here\n",
    "    \n",
    "    # unique POS tags\n",
    "    num_tags = best_probs.shape[0]\n",
    "    \n",
    "    for i in range(1, len(test_corpus)):\n",
    "        for j in range(num_tags):\n",
    "            best_prob_till_i = float('-inf')\n",
    "            best_path_till_i = None\n",
    "            for k in range(num_tags):\n",
    "                temp_prob = best_probs[k, i-1] + math.log(A[k, j]) + math.log(B[j, vocab[test_corpus[i]]])\n",
    "                if(temp_prob > best_prob_till_i):\n",
    "                    best_prob_till_i = temp_prob\n",
    "                    best_path_till_i = k\n",
    "            best_probs[j, i] = best_prob_till_i\n",
    "            best_paths[j, i] = best_path_till_i\n",
    "    \n",
    "    return best_probs, best_paths"
   ]
  },
  {
   "cell_type": "markdown",
   "id": "6db1ad34",
   "metadata": {
    "id": "6db1ad34"
   },
   "source": [
    "Run the `viterbi_forward` function to fill in the `best_probs` and `best_paths` matrices.\n",
    "\n",
    "**Note** that this will take a few minutes to run.  There are about 30,000 words to process."
   ]
  },
  {
   "cell_type": "code",
   "execution_count": 19,
   "id": "63423337",
   "metadata": {
    "id": "63423337"
   },
   "outputs": [],
   "source": [
    "# this will take a few minutes to run => processes ~ 30,000 words\n",
    "best_probs, best_paths = viterbi_forward(A, B, prep, best_probs, best_paths, vocab)"
   ]
  },
  {
   "cell_type": "code",
   "execution_count": 20,
   "id": "d4af406e",
   "metadata": {
    "id": "d4af406e"
   },
   "outputs": [
    {
     "name": "stdout",
     "output_type": "stream",
     "text": [
      "best_probs[0,1]: -24.7822\n",
      "best_probs[0,4]: -49.5601\n"
     ]
    }
   ],
   "source": [
    "# Test this function \n",
    "print(f\"best_probs[0,1]: {best_probs[0,1]:.4f}\") \n",
    "print(f\"best_probs[0,4]: {best_probs[0,4]:.4f}\") "
   ]
  },
  {
   "cell_type": "markdown",
   "id": "81f0b9e2",
   "metadata": {
    "id": "81f0b9e2"
   },
   "source": [
    "##### Expected Output\n",
    "\n",
    "```CPP\n",
    "best_probs[0,1]: -24.7822\n",
    "best_probs[0,4]: -49.5601\n",
    "```"
   ]
  },
  {
   "cell_type": "markdown",
   "id": "205f3608",
   "metadata": {
    "id": "205f3608"
   },
   "source": [
    "<a name='2.4'></a>\n",
    "## Part 2.4 Viterbi backward\n",
    "\n",
    "Now you will implement the Viterbi backward algorithm.\n",
    "- The Viterbi backward algorithm gets the predictions of the POS tags for each word in the corpus using the `best_paths` and the `best_probs` matrices.\n",
    "\n",
    "The example below shows how to walk backwards through the best_paths matrix to get the POS tags of each word in the corpus. Recall that this example corpus has three words: \"Loss tracks upward\".\n",
    "\n",
    "POS tag for 'upward' is `RB`\n",
    "- Select the the most likely POS tag for the last word in the corpus, 'upward' in the `best_prob` table.\n",
    "- Look for the row in the column for 'upward' that has the largest probability.\n",
    "- Notice that in row 28 of `best_probs`, the estimated probability is -34.99, which is larger than the other values in the column.  So the most likely POS tag for 'upward' is `RB` an adverb, at row 28 of `best_prob`. \n",
    "- The variable `z` is an array that stores the unique integer ID of the predicted POS tags for each word in the corpus.  In array z, at position 2, store the value 28 to indicate that the word 'upward' (at index 2 in the corpus), most likely has the POS tag associated with unique ID 28 (which is `RB`).\n",
    "- The variable `pred` contains the POS tags in string form.  So `pred` at index 2 stores the string `RB`.\n",
    "\n",
    "\n",
    "POS tag for 'tracks' is `VBZ`\n",
    "- The next step is to go backward one word in the corpus ('tracks').  Since the most likely POS tag for 'upward' is `RB`, which is uniquely identified by integer ID 28, go to the `best_paths` matrix in column 2, row 28.  The value stored in `best_paths`, column 2, row 28 indicates the unique ID of the POS tag of the previous word.  In this case, the value stored here is 40, which is the unique ID for POS tag `VBZ` (verb, 3rd person singular present).\n",
    "- So the previous word at index 1 of the corpus ('tracks'), most likely has the POS tag with unique ID 40, which is `VBZ`.\n",
    "- In array `z`, store the value 40 at position 1, and for array `pred`, store the string `VBZ` to indicate that the word 'tracks' most likely has POS tag `VBZ`.\n",
    "\n",
    "POS tag for 'Loss' is `NN`\n",
    "- In `best_paths` at column 1, the unique ID stored at row 40 is 20.  20 is the unique ID for POS tag `NN`.\n",
    "- In array `z` at position 0, store 20.  In array `pred` at position 0, store `NN`."
   ]
  },
  {
   "cell_type": "markdown",
   "id": "219d0bd1",
   "metadata": {
    "id": "219d0bd1"
   },
   "source": [
    "<img src = \"Backwards5.PNG\"/>"
   ]
  },
  {
   "cell_type": "markdown",
   "id": "b9c67c72",
   "metadata": {
    "id": "b9c67c72"
   },
   "source": [
    "<a name='ex-07'></a>\n",
    "### Exercise 07 - 5 Points\n",
    "Implement the `viterbi_backward` algorithm, which returns a list of predicted POS tags for each word in the corpus.\n",
    "\n",
    "- Note that the numbering of the index positions starts at 0 and not 1. \n",
    "- `m` is the number of words in the corpus.  \n",
    "    - So the indexing into the corpus goes from `0` to `m - 1`.\n",
    "    - Also, the columns in `best_probs` and `best_paths` are indexed from `0` to `m - 1`\n",
    "\n",
    "\n",
    "**In Step 1:**       \n",
    "Loop through all the rows (POS tags) in the last entry of `best_probs` and find the row (POS tag) with the maximum value.\n",
    "Convert the unique integer ID to a tag (a string representation) using the dictionary `states`.  \n",
    "\n",
    "Referring to the three-word corpus described above:\n",
    "- `z[2] = 28`: For the word 'upward' at position 2 in the corpus, the POS tag ID is 28.  Store 28 in `z` at position 2.\n",
    "- states(28) is 'RB': The POS tag ID 28 refers to the POS tag 'RB'.\n",
    "- `pred[2] = 'RB'`: In array `pred`, store the POS tag for the word 'upward'.\n",
    "\n",
    "**In Step 2:**  \n",
    "- Starting at the last column of best_paths, use `best_probs` to find the most likely POS tag for the last word in the corpus.\n",
    "- Then use `best_paths` to find the most likely POS tag for the previous word. \n",
    "- Update the POS tag for each word in `z` and in `preds`.\n",
    "\n",
    "Referring to the three-word example from above, read best_paths at column 2 and fill in z at position 1.  \n",
    "`z[1] = best_paths[z[2],2]`  \n",
    "\n",
    "The small test following the routine prints the last few words of the corpus and their states to aid in debug."
   ]
  },
  {
   "cell_type": "code",
   "execution_count": 21,
   "id": "8253da58",
   "metadata": {
    "id": "8253da58"
   },
   "outputs": [],
   "source": [
    "# GRADED FUNCTION: viterbi_backward\n",
    "def viterbi_backward(best_probs, best_paths, corpus, states):\n",
    "    '''\n",
    "    This function returns the best path.\n",
    "    \n",
    "    '''\n",
    "    # Write your code here\n",
    "    \n",
    "    columns = best_paths.shape[1]\n",
    "    array = [None] * columns\n",
    "    \n",
    "    num_tags = best_probs.shape[0]\n",
    "    \n",
    "    best_prob_temp = float('-inf')\n",
    "    \n",
    "    pred_array = [None] * columns\n",
    "    \n",
    "    for i in range(num_tags):\n",
    "        if(best_probs[i, -1] > best_prob_temp):\n",
    "            best_prob_temp = best_probs[i, -1]\n",
    "            array[columns-1] = i\n",
    "            \n",
    "    pred_array[columns - 1] = states[array[columns - 1]]\n",
    "    \n",
    "    for i in range(columns-1, 0, -1):\n",
    "        tag = array[i]\n",
    "        array[i-1] = best_paths[tag, i]\n",
    "        pred_array[i-1] = states[array[i-1]]\n",
    "    \n",
    "    return pred_array"
   ]
  },
  {
   "cell_type": "code",
   "execution_count": 22,
   "id": "e38c4393",
   "metadata": {
    "id": "e38c4393"
   },
   "outputs": [
    {
     "name": "stdout",
     "output_type": "stream",
     "text": [
      "The prediction for pred[-7:m-1] is: \n",
      " ['see', 'them', 'here', 'with', 'us', '.'] \n",
      " ['VB', 'PRP', 'RB', 'IN', 'PRP', '.'] \n",
      "\n",
      "The prediction for pred[0:8] is: \n",
      " ['DT', 'NN', 'POS', 'NN', 'MD', 'VB', 'VBN'] \n",
      " ['The', 'economy', \"'s\", 'temperature', 'will', 'be', 'taken']\n"
     ]
    }
   ],
   "source": [
    "# Run and test your function\n",
    "pred = viterbi_backward(best_probs, best_paths, prep, states)\n",
    "m=len(pred)\n",
    "print('The prediction for pred[-7:m-1] is: \\n', prep[-7:m-1], \"\\n\", pred[-7:m-1], \"\\n\")\n",
    "print('The prediction for pred[0:8] is: \\n', pred[0:7], \"\\n\", prep[0:7])"
   ]
  },
  {
   "cell_type": "markdown",
   "id": "46ddeaeb",
   "metadata": {
    "id": "46ddeaeb"
   },
   "source": [
    "**Expected Output:**   \n",
    "\n",
    "```CPP\n",
    "The prediction for prep[-7:m-1] is:  \n",
    " ['see', 'them', 'here', 'with', 'us', '.']  \n",
    " ['VB', 'PRP', 'RB', 'IN', 'PRP', '.']   \n",
    "The prediction for pred[0:8] is:    \n",
    " ['DT', 'NN', 'POS', 'NN', 'MD', 'VB', 'VBN']   \n",
    " ['The', 'economy', \"'s\", 'temperature', 'will', 'be', 'taken'] \n",
    "```\n",
    "\n",
    "Now you just have to compare the predicted labels to the true labels to evaluate your model on the accuracy metric!"
   ]
  },
  {
   "cell_type": "markdown",
   "id": "7b002dd7",
   "metadata": {
    "id": "7b002dd7"
   },
   "source": [
    "<a name='2.5'></a>\n",
    "# Part 2.5: Predicting on a data set\n",
    "\n",
    "Compute the accuracy of your prediction by comparing it with the true `y` labels. \n",
    "- `pred` is a list of predicted POS tags corresponding to the words of the `test_corpus`. "
   ]
  },
  {
   "cell_type": "code",
   "execution_count": 23,
   "id": "feec7c33",
   "metadata": {
    "id": "feec7c33"
   },
   "outputs": [
    {
     "name": "stdout",
     "output_type": "stream",
     "text": [
      "The third word is: temperature\n",
      "Your prediction is: NN\n",
      "Your corresponding label y is:  temperature\tNN\n",
      "\n"
     ]
    }
   ],
   "source": [
    "print('The third word is:', prep[3])\n",
    "print('Your prediction is:', pred[3])\n",
    "print('Your corresponding label y is: ', y[3])"
   ]
  },
  {
   "cell_type": "markdown",
   "id": "1e8fa19f",
   "metadata": {
    "id": "1e8fa19f"
   },
   "source": [
    "<a name='ex-08'></a>\n",
    "### Exercise 08 - 0 Points\n",
    "\n",
    "Implement a function to compute the accuracy of the viterbi algorithm's POS tag predictions.\n",
    "- To split y into the word and its tag you can use `y.split()`. "
   ]
  },
  {
   "cell_type": "code",
   "execution_count": 24,
   "id": "e5092eb3",
   "metadata": {
    "id": "e5092eb3"
   },
   "outputs": [],
   "source": [
    "# UNGRADED FUNCTION: compute_accuracy (We have implemented this for you)\n",
    "def compute_accuracy(pred, y):\n",
    "    '''\n",
    "    Input: \n",
    "        pred: a list of the predicted parts-of-speech \n",
    "        y: a list of lines where each word is separated by a '\\t' (i.e. word \\t tag)\n",
    "    Output: \n",
    "        \n",
    "    '''\n",
    "    num_correct = 0\n",
    "    total = 0\n",
    "    \n",
    "    # Zip together the prediction and the labels\n",
    "    for prediction, y in zip(pred, y):\n",
    "        ### START CODE HERE (Replace instances of 'None' with your code) ###\n",
    "        # Split the label into the word and the POS tag\n",
    "        word_tag_tuple = y.split()\n",
    "        \n",
    "        # Check that there is actually a word and a tag\n",
    "        # no more and no less than 2 items\n",
    "        if len(word_tag_tuple)!=2: # complete this line\n",
    "            continue \n",
    "\n",
    "        # store the word and tag separately\n",
    "        word, tag = word_tag_tuple\n",
    "        \n",
    "        # Check if the POS tag label matches the prediction\n",
    "        if prediction == tag: # complete this line\n",
    "            \n",
    "            # count the number of times that the prediction\n",
    "            # and label match\n",
    "            num_correct += 1\n",
    "            \n",
    "        # keep track of the total number of examples (that have valid labels)\n",
    "        total += 1\n",
    "        \n",
    "        ### END CODE HERE ###\n",
    "    return num_correct/total"
   ]
  },
  {
   "cell_type": "code",
   "execution_count": 25,
   "id": "011ad932",
   "metadata": {
    "id": "011ad932"
   },
   "outputs": [
    {
     "name": "stdout",
     "output_type": "stream",
     "text": [
      "Accuracy of the Viterbi algorithm is 0.9531\n"
     ]
    }
   ],
   "source": [
    "print(f\"Accuracy of the Viterbi algorithm is {compute_accuracy(pred, y):.4f}\")"
   ]
  },
  {
   "cell_type": "markdown",
   "id": "b74fe8c0",
   "metadata": {
    "id": "b74fe8c0"
   },
   "source": [
    "##### Expected Output\n",
    "\n",
    "```CPP\n",
    "Accuracy of the Viterbi algorithm is 0.9531\n",
    "```\n",
    "\n",
    "Congratulations you were able to classify the parts-of-speech with 95% accuracy. "
   ]
  },
  {
   "cell_type": "markdown",
   "id": "b0711aee",
   "metadata": {
    "id": "b0711aee"
   },
   "source": [
    "<a name='3'></a>\n",
    "# Part 3: LSTMs for POS tagging - using PyTorch\n",
    "In this part, We will be building a bidirectional LSTM network to train and inference POS tagging on UDPOS dataset.<br>\n",
    "\n",
    "PyTorch makes it easy by abstracting most of the details that go in building,training and inferencing a neural network. We recommend going through every PyTorch function that this notebook uses to gain more understanding.   \n",
    "\n",
    "If you need a refresher or have never worked with Neural Networks before, here are a few resources:\n",
    "- https://web.stanford.edu/~jurafsky/slp3/7.pdf\n",
    "- https://web.stanford.edu/~jurafsky/slp3/9.pdf\n",
    "- https://colah.github.io/posts/2015-08-Understanding-LSTMs/\n",
    "\n",
    "We will be using PyTorch for defining, training and inferencing a neural network for our POS Tagging problem. If you have not used any deep learning framework/library, we recommend you spend some time understanding how to use these libraries. \n",
    "\n",
    "PyTorch Resources:\n",
    "- https://pytorch.org/tutorials/\n",
    "- https://pytorch.org/tutorials/beginner/deep_learning_60min_blitz.html "
   ]
  },
  {
   "cell_type": "markdown",
   "id": "58b4818c",
   "metadata": {
    "id": "58b4818c"
   },
   "source": [
    "You will need the following imports. Install these libraries using the following commands. \n",
    "- Installing pytorch - https://pytorch.org/get-started/locally/ (choose your setup from here)\n",
    "- conda install -c conda-forge spacy\n",
    "- conda install -c pytorch torchtext"
   ]
  },
  {
   "cell_type": "markdown",
   "id": "06f6b3a6",
   "metadata": {
    "id": "06f6b3a6"
   },
   "source": [
    "Training a neural network model will take time. \n",
    "- Make use of your **Nvidia** GPU if you have one. \n",
    "- If not, you can use Google Colab / Kaggle notebooks. You get a free GPU for a limited time to tweak your hyperparameters.\n",
    "- Without a GPU, You might have to wait longer to experiment."
   ]
  },
  {
   "cell_type": "code",
   "execution_count": 26,
   "id": "afef2ff0",
   "metadata": {
    "id": "afef2ff0"
   },
   "outputs": [],
   "source": [
    "import torch\n",
    "from torch.utils.data import Dataset\n",
    "from torch.utils.data import DataLoader\n",
    "from torch.nn.utils.rnn import pad_sequence\n",
    "import torch.nn as nn\n",
    "import torch.optim as optim\n",
    "\n",
    "# a package that provides processing utilities and popular datasets for natural language\n",
    "from torchtext.legacy import data\n",
    "from torchtext.legacy.datasets import UDPOS\n",
    "\n",
    "import spacy\n",
    "from tqdm import tqdm \n",
    "import random"
   ]
  },
  {
   "cell_type": "code",
   "execution_count": 27,
   "id": "878101a3",
   "metadata": {
    "id": "878101a3"
   },
   "outputs": [],
   "source": [
    "# Using a seed to maintain consistent and reproducible results\n",
    "SEED = 42\n",
    "\n",
    "random.seed(SEED)\n",
    "np.random.seed(SEED)\n",
    "torch.manual_seed(SEED)\n",
    "torch.backends.cudnn.deterministic = True"
   ]
  },
  {
   "cell_type": "code",
   "execution_count": 28,
   "id": "7f8ba127",
   "metadata": {
    "id": "7f8ba127"
   },
   "outputs": [],
   "source": [
    "# This cell downloads and prepares data, a TorchText Dataset Object\n",
    "\n",
    "TEXT = data.Field(lower = True)\n",
    "UD_TAGS = data.Field(unk_token = None)\n",
    "fields = ((\"text\", TEXT), (\"udtags\", UD_TAGS))\n",
    "train_data, valid_data, test_data = UDPOS.splits(fields)"
   ]
  },
  {
   "cell_type": "markdown",
   "id": "1717eb2b",
   "metadata": {
    "id": "1717eb2b"
   },
   "source": [
    "### Visualizing the torchtext dataset"
   ]
  },
  {
   "cell_type": "code",
   "execution_count": 29,
   "id": "069d103b",
   "metadata": {
    "id": "069d103b"
   },
   "outputs": [
    {
     "name": "stdout",
     "output_type": "stream",
     "text": [
      "Length of the dataset 12543\n",
      "TEXT  1 al - zaman : american forces killed shaikh abdullah al - ani , the preacher at the mosque in the town of qaim , near the syrian border .\n",
      "TAGS  1 PROPN PUNCT PROPN PUNCT ADJ NOUN VERB PROPN PROPN PROPN PUNCT PROPN PUNCT DET NOUN ADP DET NOUN ADP DET NOUN ADP PROPN PUNCT ADP DET ADJ NOUN PUNCT\n",
      "TEXT  2 [ this killing of a respected cleric will be causing us trouble for years to come . ]\n",
      "TAGS  2 PUNCT DET NOUN ADP DET ADJ NOUN AUX AUX VERB PRON NOUN ADP NOUN PART VERB PUNCT PUNCT\n",
      "TEXT  3 dpa : iraqi authorities announced that they had busted up 3 terrorist cells operating in baghdad .\n",
      "TAGS  3 PROPN PUNCT ADJ NOUN VERB SCONJ PRON AUX VERB ADP NUM ADJ NOUN VERB ADP PROPN PUNCT\n",
      "TEXT  4 two of them were being run by 2 officials of the ministry of the interior !\n",
      "TAGS  4 NUM ADP PRON AUX AUX VERB ADP NUM NOUN ADP DET PROPN ADP DET PROPN PUNCT\n",
      "TEXT  5 the moi in iraq is equivalent to the us fbi , so this would be like having j. edgar hoover unwittingly employ at a high level members of the weathermen bombers back in the 1960s .\n",
      "TAGS  5 DET PROPN ADP PROPN AUX ADJ ADP DET PROPN PROPN PUNCT ADV PRON AUX VERB SCONJ VERB PROPN PROPN PROPN ADV VERB ADP DET ADJ NOUN NOUN ADP DET PROPN NOUN ADV ADP DET NOUN PUNCT\n"
     ]
    }
   ],
   "source": [
    "print(\"Length of the dataset\", len(train_data))\n",
    "for i in range(0,5):\n",
    "    print(\"TEXT \", i+1 ,*(train_data[i].__dict__['text']))\n",
    "    print(\"TAGS \", i+1 ,*(train_data[i].__dict__['udtags']))"
   ]
  },
  {
   "cell_type": "markdown",
   "id": "66b17bc2",
   "metadata": {
    "id": "66b17bc2"
   },
   "source": [
    "### GloVe Vector initialization \n",
    "Vectorizing the input words is an impotant step in the NLP pipeline that can determine the end performance of neural networks. GloVe vectors capture both global statistics and local statistics of a corpus. We use GloVe to convert words to embeddings in the vector space based on their semantics. \n",
    "\n",
    "To learn more about GloVe please read the following resource:\n",
    "- https://nlp.stanford.edu/pubs/glove.pdf"
   ]
  },
  {
   "cell_type": "code",
   "execution_count": 30,
   "id": "f1a0c49b",
   "metadata": {
    "id": "f1a0c49b"
   },
   "outputs": [],
   "source": [
    "# the words should have atleast a min frequency of 2 to build its vocab\n",
    "MIN_FREQ = 2\n",
    "\n",
    "# Torch text builds the vocabulary based on word representations from glove. \n",
    "TEXT.build_vocab(train_data, \n",
    "                 min_freq = MIN_FREQ,\n",
    "                 vectors = \"glove.6B.100d\",\n",
    "                 unk_init = torch.Tensor.normal_)\n",
    "\n",
    "\n",
    "UD_TAGS.build_vocab(train_data)"
   ]
  },
  {
   "cell_type": "code",
   "execution_count": 31,
   "id": "b15e4865",
   "metadata": {
    "id": "b15e4865"
   },
   "outputs": [
    {
     "data": {
      "text/plain": [
       "18"
      ]
     },
     "execution_count": 31,
     "metadata": {},
     "output_type": "execute_result"
    }
   ],
   "source": [
    "# number of tags in the dataset\n",
    "len(UD_TAGS.vocab)"
   ]
  },
  {
   "cell_type": "markdown",
   "id": "580b8c2c",
   "metadata": {
    "id": "580b8c2c"
   },
   "source": [
    "##### Expected output\n",
    "18"
   ]
  },
  {
   "cell_type": "markdown",
   "id": "73c8c879",
   "metadata": {
    "id": "73c8c879"
   },
   "source": [
    "<a name='3.1'></a>\n",
    "# Part 3.1: Building the neural network\n",
    "\n",
    "We will make use of the GloVe embeddings and build a bi-directional LSTM. You will be able to tune the hyper parameters of the network and see what works. \n",
    "\n",
    "It involves duplicating the first recurrent layer in the network so that there are now two layers side-by-side, then providing the input sequence as-is as input to the first layer and providing a reversed copy of the input sequence to the second.\n",
    "\n",
    "The idea is to split the state neurons of a regular RNN in a part that is responsible for the positive time direction (forward states) and a part for the negative time direction (backward states)\n",
    "\n",
    "More on it here: https://maxwell.ict.griffith.edu.au/spl/publications/papers/ieeesp97_schuster.pdf\n",
    "\n",
    "All the internal computations/details will be taken care by PyTorch. You will be able to implement many variations of this neural networks with minor changes in code. Expect your neural network definition to be under 10 lines.\n",
    "\n",
    "Your PyTorch model (inherits torch.nn.Module) definition contains defining two functions:\n",
    "    -Init : Which specifies what layers to initialize.\n",
    "    -Forward: Which defines the order of computations in these layers. <br>\n",
    "**Note** - We will not grade based on accuracy, We grade if your model converges. You can follow your order of code, if you think the comments are not helping.  "
   ]
  },
  {
   "cell_type": "markdown",
   "id": "15db110f",
   "metadata": {
    "id": "15db110f"
   },
   "source": [
    "### Exercise 09 - Building LSTM network - 20 Points"
   ]
  },
  {
   "cell_type": "code",
   "execution_count": 32,
   "id": "934c9eb8",
   "metadata": {
    "id": "934c9eb8"
   },
   "outputs": [],
   "source": [
    "class LSTMPOSTagger(nn.Module):\n",
    "    def __init__(self, \n",
    "                 input_dim, \n",
    "                 embedding_dim, \n",
    "                 hidden_dim, \n",
    "                 output_dim, \n",
    "                 n_layers, \n",
    "                 bidirectional, \n",
    "                 dropout, \n",
    "                 pad_idx):\n",
    "        \n",
    "        super().__init__()\n",
    "        \n",
    "        self.embedding = nn.Embedding(input_dim, embedding_dim, padding_idx = pad_idx)\n",
    "        \n",
    "        self.lstm = nn.LSTM(embedding_dim, \n",
    "                            hidden_dim, \n",
    "                            num_layers = n_layers, \n",
    "                            bidirectional = bidirectional,\n",
    "                            dropout = dropout if n_layers > 1 else 0)\n",
    "        \n",
    "        self.fc = nn.Linear(hidden_dim * 2 if bidirectional else hidden_dim, output_dim)\n",
    "        \n",
    "        self.dropout = nn.Dropout(dropout)\n",
    "        \n",
    "        # # Define an embedding layer that converts the words to embeddings based on GloVe.\n",
    "        # self.embedding = nn.Embedding(input_dim, embedding_dim, padding_idx = pad_idx)        \n",
    "        # # Define a bi-directional LSTM layer with the hyperparameters. \n",
    "        # self.lstm = nn.LSTM(embedding_dim, hidden_dim, num_layers = n_layers, bidirectional = bidirectional, dropout = dropout if n_layers > 1 else 0)\n",
    "        # # Define a dropout layer that helps in regularization\n",
    "        # self.fc = nn.Linear(hidden_dim * 2 if bidirectional else hidden_dim, output_dim)\n",
    "        # # Define a Linear layer which can associate lstm output to the final output \n",
    "        # self.dropout = nn.Dropout(dropout)\n",
    "        \n",
    "    def forward(self, text):\n",
    "        # pass text through embedding layer\n",
    "        embedded_text = self.dropout(self.embedding(text))\n",
    "        # pass embeddings into LSTM\n",
    "        outputs, (hidden, cell) = self.lstm(embedded_text)\n",
    "        # pass the LSTM output to dropout and fully connected linear layer\n",
    "        \n",
    "        # we use our outputs to make a prediction of what the tag should be\n",
    "        predictions = self.fc(self.dropout(outputs))\n",
    "        # predictions = [sent len, batch size, output dim]\n",
    "        \n",
    "        return predictions"
   ]
  },
  {
   "cell_type": "code",
   "execution_count": 33,
   "id": "e934c279",
   "metadata": {
    "id": "e934c279"
   },
   "outputs": [],
   "source": [
    "# Tweak the Nones\n",
    "INPUT_DIM = len(TEXT.vocab)\n",
    "EMBEDDING_DIM = 100\n",
    "HIDDEN_DIM = 128\n",
    "OUTPUT_DIM = len(UD_TAGS.vocab)\n",
    "N_LAYERS = 2\n",
    "BIDIRECTIONAL = True\n",
    "DROPOUT = 0.25\n",
    "PAD_IDX = TEXT.vocab.stoi[TEXT.pad_token]\n",
    "\n",
    "model = LSTMPOSTagger(INPUT_DIM, \n",
    "                        EMBEDDING_DIM, \n",
    "                        HIDDEN_DIM, \n",
    "                        OUTPUT_DIM, \n",
    "                        N_LAYERS, \n",
    "                        BIDIRECTIONAL, \n",
    "                        DROPOUT, \n",
    "                        PAD_IDX)"
   ]
  },
  {
   "cell_type": "code",
   "execution_count": 34,
   "id": "be98840c",
   "metadata": {
    "id": "be98840c"
   },
   "outputs": [],
   "source": [
    "# initializing model weights for better convergence\n",
    "def init_weights(m):\n",
    "    for name, param in m.named_parameters():\n",
    "        nn.init.normal_(param.data, std=0.1)\n",
    "model.apply(init_weights)\n",
    "\n",
    "# initializing model embeddings with glove word vectors\n",
    "pretrained_embeddings = TEXT.vocab.vectors\n",
    "model.embedding.weight.data.copy_(pretrained_embeddings)\n",
    "\n",
    "# making the padding embeddings as all zero, as we don't want to learn paddings.\n",
    "model.embedding.weight.data[PAD_IDX] = torch.zeros(EMBEDDING_DIM)"
   ]
  },
  {
   "cell_type": "code",
   "execution_count": 35,
   "id": "8d091aa1",
   "metadata": {
    "id": "8d091aa1"
   },
   "outputs": [],
   "source": [
    "# If your PC doesn't have enough CPU Ram or Video memory, try decreasing the batch_size\n",
    "BATCH_SIZE = 128\n",
    "device = torch.device('cuda' if torch.cuda.is_available() else 'cpu')"
   ]
  },
  {
   "cell_type": "code",
   "execution_count": 36,
   "id": "da241904",
   "metadata": {
    "id": "da241904"
   },
   "outputs": [],
   "source": [
    "# BucketIterator allows for data to be split into buckets of equal size,\n",
    "# any remaining space is filled with pad token\n",
    "train_iterator, valid_iterator, test_iterator = data.BucketIterator.splits(\n",
    "    (train_data, valid_data, test_data), \n",
    "    batch_size = BATCH_SIZE,\n",
    "    device = device)\n",
    "TAG_PAD_IDX = UD_TAGS.vocab.stoi[UD_TAGS.pad_token]"
   ]
  },
  {
   "cell_type": "markdown",
   "id": "51d828c6",
   "metadata": {
    "id": "51d828c6"
   },
   "source": [
    "### Optimizer and Loss Function\n",
    "Optimizers are algorithms or methods used to change the attributes of the neural network such as weights and learning rate to reduce the losses. Optimizers are used to solve optimization problems by minimizing the function.\n",
    "- PyTorch provides many Optimizer Algorithms, feel free to try them and the one that works best for you. \n",
    "- Link - https://pytorch.org/docs/stable/optim.html\n",
    "- We will be using CrossEntropyLoss as predicting a word tag is a classification problem."
   ]
  },
  {
   "cell_type": "code",
   "execution_count": 37,
   "id": "df62b86b",
   "metadata": {
    "id": "df62b86b"
   },
   "outputs": [],
   "source": [
    "# optimizer to train the model\n",
    "optimizer = optim.Adam(model.parameters(), lr=0.001)\n",
    "# ignoring the padding in our loss calculation\n",
    "criterion = nn.CrossEntropyLoss(ignore_index = TAG_PAD_IDX)"
   ]
  },
  {
   "cell_type": "code",
   "execution_count": 38,
   "id": "ed8f23af",
   "metadata": {
    "id": "ed8f23af"
   },
   "outputs": [
    {
     "name": "stdout",
     "output_type": "stream",
     "text": [
      "cpu\n"
     ]
    }
   ],
   "source": [
    "# use gpu if available, These lines move your model to gpu from cpu if available\n",
    "model = model.to(device)\n",
    "criterion = criterion.to(device)\n",
    "\n",
    "# If this line prints cuda, your machine is equipped with a Nvidia GPU and PyTorch is utilizing the GPU\n",
    "print(device)"
   ]
  },
  {
   "cell_type": "code",
   "execution_count": 39,
   "id": "8db84a91",
   "metadata": {
    "id": "8db84a91"
   },
   "outputs": [],
   "source": [
    "# method to check for accurcy of the model ignoring the pad index\n",
    "def categorical_accuracy(preds, y):\n",
    "    \"\"\"\n",
    "    Returns accuracy per batch, i.e. if you get 8/10 right, this returns 0.8, NOT 8\n",
    "    \"\"\"\n",
    "    max_preds = preds.argmax(dim = 1, keepdim = True) # get the index of the max probability\n",
    "    non_pad_elements = (y != TAG_PAD_IDX).nonzero()\n",
    "    correct = max_preds[non_pad_elements].squeeze(1).eq(y[non_pad_elements])\n",
    "    return correct.sum() / y[non_pad_elements].shape[0]"
   ]
  },
  {
   "cell_type": "markdown",
   "id": "85894831",
   "metadata": {
    "id": "85894831"
   },
   "source": [
    "### Exercise 10 - Training and Testing LSTM - 20 Points\n",
    "- Decide your epochs to train based on loss and accuracy\n",
    "- Fill single line PyTorch commands. "
   ]
  },
  {
   "cell_type": "code",
   "execution_count": 40,
   "id": "ef894a29",
   "metadata": {
    "id": "ef894a29",
    "tags": []
   },
   "outputs": [
    {
     "name": "stderr",
     "output_type": "stream",
     "text": [
      "  0%|                                                                                           | 0/10 [00:00<?, ?it/s]"
     ]
    },
    {
     "name": "stdout",
     "output_type": "stream",
     "text": [
      "Epoch: 01\n",
      "\n",
      "\t [Train Loss] : 132.152 | [Train Acc] : 58.04%\n",
      "\n"
     ]
    },
    {
     "name": "stderr",
     "output_type": "stream",
     "text": [
      " 10%|████████▏                                                                         | 1/10 [02:16<20:27, 136.37s/it]"
     ]
    },
    {
     "name": "stdout",
     "output_type": "stream",
     "text": [
      "\t [Val Loss] : 10.638 | [Val Acc] : 79.63%\n",
      "\n",
      "Epoch: 02\n",
      "\n",
      "\t [Train Loss] : 47.454 | [Train Acc] : 84.83%\n",
      "\n"
     ]
    },
    {
     "name": "stderr",
     "output_type": "stream",
     "text": [
      " 20%|████████████████▍                                                                 | 2/10 [04:26<17:40, 132.58s/it]"
     ]
    },
    {
     "name": "stdout",
     "output_type": "stream",
     "text": [
      "\t [Val Loss] : 7.947 | [Val Acc] : 83.74%\n",
      "\n",
      "Epoch: 03\n",
      "\n",
      "\t [Train Loss] : 34.614 | [Train Acc] : 88.85%\n",
      "\n"
     ]
    },
    {
     "name": "stderr",
     "output_type": "stream",
     "text": [
      " 30%|████████████████████████▌                                                         | 3/10 [06:37<15:24, 132.11s/it]"
     ]
    },
    {
     "name": "stdout",
     "output_type": "stream",
     "text": [
      "\t [Val Loss] : 7.031 | [Val Acc] : 86.08%\n",
      "\n",
      "Epoch: 04\n",
      "\n",
      "\t [Train Loss] : 28.824 | [Train Acc] : 90.68%\n",
      "\n"
     ]
    },
    {
     "name": "stderr",
     "output_type": "stream",
     "text": [
      " 40%|████████████████████████████████▊                                                 | 4/10 [08:46<13:05, 130.88s/it]"
     ]
    },
    {
     "name": "stdout",
     "output_type": "stream",
     "text": [
      "\t [Val Loss] : 6.558 | [Val Acc] : 87.24%\n",
      "\n",
      "Epoch: 05\n",
      "\n",
      "\t [Train Loss] : 25.023 | [Train Acc] : 91.90%\n",
      "\n"
     ]
    },
    {
     "name": "stderr",
     "output_type": "stream",
     "text": [
      " 50%|█████████████████████████████████████████                                         | 5/10 [11:13<11:23, 136.65s/it]"
     ]
    },
    {
     "name": "stdout",
     "output_type": "stream",
     "text": [
      "\t [Val Loss] : 6.176 | [Val Acc] : 88.46%\n",
      "\n",
      "Epoch: 06\n",
      "\n",
      "\t [Train Loss] : 22.388 | [Train Acc] : 92.70%\n",
      "\n"
     ]
    },
    {
     "name": "stderr",
     "output_type": "stream",
     "text": [
      " 60%|█████████████████████████████████████████████████▏                                | 6/10 [13:18<08:50, 132.74s/it]"
     ]
    },
    {
     "name": "stdout",
     "output_type": "stream",
     "text": [
      "\t [Val Loss] : 6.164 | [Val Acc] : 86.80%\n",
      "\n",
      "Epoch: 07\n",
      "\n",
      "\t [Train Loss] : 20.527 | [Train Acc] : 93.29%\n",
      "\n"
     ]
    },
    {
     "name": "stderr",
     "output_type": "stream",
     "text": [
      " 70%|█████████████████████████████████████████████████████████▍                        | 7/10 [15:10<06:17, 125.99s/it]"
     ]
    },
    {
     "name": "stdout",
     "output_type": "stream",
     "text": [
      "\t [Val Loss] : 5.972 | [Val Acc] : 88.85%\n",
      "\n",
      "Epoch: 08\n",
      "\n",
      "\t [Train Loss] : 18.872 | [Train Acc] : 93.82%\n",
      "\n"
     ]
    },
    {
     "name": "stderr",
     "output_type": "stream",
     "text": [
      " 80%|█████████████████████████████████████████████████████████████████▌                | 8/10 [17:01<04:02, 121.01s/it]"
     ]
    },
    {
     "name": "stdout",
     "output_type": "stream",
     "text": [
      "\t [Val Loss] : 5.767 | [Val Acc] : 89.23%\n",
      "\n",
      "Epoch: 09\n",
      "\n",
      "\t [Train Loss] : 17.531 | [Train Acc] : 94.25%\n",
      "\n"
     ]
    },
    {
     "name": "stderr",
     "output_type": "stream",
     "text": [
      " 90%|█████████████████████████████████████████████████████████████████████████▊        | 9/10 [18:55<01:58, 118.74s/it]"
     ]
    },
    {
     "name": "stdout",
     "output_type": "stream",
     "text": [
      "\t [Val Loss] : 5.705 | [Val Acc] : 88.77%\n",
      "\n",
      "Epoch: 10\n",
      "\n",
      "\t [Train Loss] : 16.528 | [Train Acc] : 94.56%\n",
      "\n"
     ]
    },
    {
     "name": "stderr",
     "output_type": "stream",
     "text": [
      "100%|█████████████████████████████████████████████████████████████████████████████████| 10/10 [20:44<00:00, 124.45s/it]"
     ]
    },
    {
     "name": "stdout",
     "output_type": "stream",
     "text": [
      "\t [Val Loss] : 5.637 | [Val Acc] : 88.98%\n",
      "\n"
     ]
    },
    {
     "name": "stderr",
     "output_type": "stream",
     "text": [
      "\n"
     ]
    }
   ],
   "source": [
    "EPOCHS = 10\n",
    "\n",
    "for epoch in tqdm(range(EPOCHS)):\n",
    "    model.train()\n",
    "    # train_epoch_loss = 0\n",
    "    # train_epoch_acc = 0\n",
    "    train_loss = 0\n",
    "    train_acc = 0\n",
    "    print(f'Epoch: {epoch+1:02}\\n')\n",
    "    # batch_number = 0\n",
    "    for batch in train_iterator:\n",
    "        # print(\"Batch: \", batch_number)\n",
    "        # batch_number += 1\n",
    "        \n",
    "        # returns a batch of text to train on (sent len, batch size)\n",
    "        text = batch.text\n",
    "        tags = batch.udtags\n",
    "        \n",
    "        # Add a command that makes the optimizer with zero gradients for each iteration \n",
    "         # Add code line\n",
    "        optimizer.zero_grad()\n",
    "        \n",
    "        # Add a command that feeds the batch to the model\n",
    "         # Add code line\n",
    "        predictions = model(text)\n",
    "        \n",
    "        # predictions = (sent len, batch size, output dim)\n",
    "          # tags = (sent len, batch size)\n",
    "        predictions = predictions.view(-1, predictions.shape[-1])\n",
    "        tags = tags.view(-1)\n",
    "        \n",
    "        # Add a command that calculates loss\n",
    "         # Add code line\n",
    "        loss = criterion(predictions, tags)\n",
    "        \n",
    "        # Make use of the categorical accuracy and calculate accuracy\n",
    "         # Add code line\n",
    "        accuracy = categorical_accuracy(predictions, tags)\n",
    "        \n",
    "        # Add a command that calculates gradients\n",
    "         # Add code line\n",
    "        loss.backward()\n",
    "        \n",
    "        # Add a command that updates the weights by taking steps \n",
    "         # Add code line\n",
    "        optimizer.step()            \n",
    "        \n",
    "        # Calculate loss\n",
    "        train_loss += loss.item()\n",
    "        train_acc += accuracy.item()\n",
    "        \n",
    "    print(f'\\t [Train Loss] : {train_loss:.3f} | [Train Acc] : {(train_acc/len(train_iterator))*100:.2f}%\\n')\n",
    "\n",
    "    val_epoch_loss = 0\n",
    "    val_epoch_acc = 0   \n",
    "\n",
    "    # Add a command that moves the model to validation mode\n",
    "    model.eval()\n",
    "\n",
    "    with torch.no_grad():\n",
    "\n",
    "        for batch in valid_iterator:\n",
    "\n",
    "            text = batch.text\n",
    "            tags = batch.udtags\n",
    "\n",
    "            # Add the same command that feeds the batch to the model\n",
    "            # Add code line\n",
    "            predictions = model(text)\n",
    "\n",
    "            predictions = predictions.view(-1, predictions.shape[-1])\n",
    "            tags = tags.view(-1)\n",
    "\n",
    "            # Add the same command that calculates loss\n",
    "            # Add code line\n",
    "            loss = criterion(predictions, tags)\n",
    "\n",
    "            # Make use of the categorical accuracy function and calculate accuracy\n",
    "            # Add code line\n",
    "            accuracy = categorical_accuracy(predictions, tags)\n",
    "\n",
    "            # Calculate validation loss\n",
    "            val_epoch_loss += loss.item()\n",
    "            val_epoch_acc += accuracy.item()\n",
    "\n",
    "        print(f'\\t [Val Loss] : {val_epoch_loss:.3f} | [Val Acc] : {(val_epoch_acc/len(valid_iterator))*100:.2f}%\\n')      "
   ]
  },
  {
   "cell_type": "code",
   "execution_count": 41,
   "id": "33858a16",
   "metadata": {
    "id": "33858a16"
   },
   "outputs": [
    {
     "name": "stdout",
     "output_type": "stream",
     "text": [
      "Test Acc: 88.55%\n",
      "\n"
     ]
    }
   ],
   "source": [
    "# testing the accuracy on test set\n",
    "test_loss = 0\n",
    "test_acc=0\n",
    "model.eval()\n",
    "\n",
    "# Computes without the gradients. Use this while testing your model.\n",
    "# As we do not intend to learn from the data     \n",
    "    \n",
    "with torch.no_grad():\n",
    "    for batch in test_iterator:\n",
    "\n",
    "        text = batch.text\n",
    "        tags = batch.udtags\n",
    "\n",
    "        # Add the same command that feeds the batch to the model\n",
    "        # Add code line\n",
    "        predictions = model(text)\n",
    "\n",
    "        predictions = predictions.view(-1, predictions.shape[-1])\n",
    "        tags = tags.view(-1)\n",
    "\n",
    "        # Make use of the categorical accuracy function and calculate accuracy\n",
    "        # Add code line\n",
    "        loss = criterion(predictions, tags)\n",
    "        accuracy = categorical_accuracy(predictions, tags)\n",
    "    \n",
    "        # Calculate Accuracy\n",
    "        # test_loss += loss.item()\n",
    "        test_acc += accuracy.item()\n",
    "    \n",
    "    print(f'Test Acc: {(test_acc/len(test_iterator))*100:.2f}%\\n')"
   ]
  },
  {
   "cell_type": "markdown",
   "id": "173e7745",
   "metadata": {
    "id": "173e7745"
   },
   "source": [
    "***Note***: You are using a different dataset compared to part 1 and 2. This part of the assignment is designed/aimed to help develop basic understanding of Neural Networks. Although we expect an accuracy of above 85%, we do not grade based on the accuracy output. "
   ]
  },
  {
   "cell_type": "code",
   "execution_count": 42,
   "id": "ea018747",
   "metadata": {
    "id": "ea018747"
   },
   "outputs": [],
   "source": [
    "# Try different inputs to these function.\n",
    "def test_lstm(test_sentence):\n",
    "    x= test_sentence.unsqueeze(-1).to(device)\n",
    "    pred = model(x)\n",
    "    pred = pred.argmax(-1)\n",
    "    pred_tags = [UD_TAGS.vocab.itos[t.item()] for t in pred]\n",
    "    true_tags = [UD_TAGS.vocab.itos[t.item()] for t in test_labels]\n",
    "    tokenized_sentence = [TEXT.vocab.itos[t.item()] for t in test_sentence]\n",
    "    return tokenized_sentence, true_tags,pred_tags    "
   ]
  },
  {
   "cell_type": "code",
   "execution_count": 43,
   "id": "c8c7a491",
   "metadata": {
    "id": "c8c7a491"
   },
   "outputs": [
    {
     "name": "stdout",
     "output_type": "stream",
     "text": [
      "['(', 'stay', 'important', 'the', '<unk>', 'i', 'did', '<unk>', 'the', 'here', 'we', 'as', 'i', 'on', '<unk>', 'it', 'it', 'just', '\"', 'the', 'the', '\"', 'if', 'the', 'any', 'in', 'in', 'over', 'it']\n",
      "True tags ['PUNCT', 'VERB', 'ADJ', 'DET', 'ADV', 'PRON', 'AUX', 'PROPN', 'DET', 'ADV', 'PRON', 'SCONJ', 'PRON', 'ADP', 'PROPN', 'PRON', 'PRON', 'ADV', 'PUNCT', 'DET', 'DET', 'PUNCT', 'SCONJ', 'DET', 'DET', 'ADP', 'ADP', 'ADV', 'PRON']\n",
      "Predicted Tags ['PUNCT', 'VERB', 'ADJ', 'DET', 'NOUN', 'PRON', 'AUX', 'VERB', 'DET', 'ADV', 'PRON', 'SCONJ', 'PRON', 'ADP', 'VERB', 'PRON', 'PRON', 'ADV', 'PUNCT', 'DET', 'DET', 'PUNCT', 'SCONJ', 'DET', 'DET', 'ADP', 'ADP', 'ADP', 'PRON']\n"
     ]
    }
   ],
   "source": [
    "test_sentence = text[0]\n",
    "test_labels = tags[0:len(test_sentence)]\n",
    "print(test_lstm(test_sentence)[0])\n",
    "print(\"True tags\", test_lstm(test_sentence)[1])\n",
    "print(\"Predicted Tags\",test_lstm(test_sentence)[2])"
   ]
  },
  {
   "cell_type": "code",
   "execution_count": 44,
   "id": "c63cb3d5",
   "metadata": {
    "id": "c63cb3d5"
   },
   "outputs": [],
   "source": [
    "# Save your model if it performs well. This saves all the trained weights,\n",
    "# so that you don't have to train again in your codewalk\n",
    "torch.save(model.state_dict(), \"./LSTMPOSTAG.pth\")\n",
    "\n",
    "# loading?\n",
    "# model.load_state_dict(torch.load(\"./LSTMPOSTAG.pth\"))"
   ]
  },
  {
   "cell_type": "markdown",
   "id": "43aee2ed",
   "metadata": {
    "id": "43aee2ed"
   },
   "source": [
    "### Theory Questions: 10 Points\n",
    "*** Q1. What is the difference between Count Vectorizer, TFIDF, Word2Vec and GloVe Vectors? ***<br>\n",
    "*** Q2. What are the hidden variables in HMM in this assignment? Why are they called hidden? *** <br>\n",
    "*** Q3. How Viterbi Algorithm provides more efficient estimation compared to brute force calculation of all tag combinations? *** <br>"
   ]
  },
  {
   "cell_type": "markdown",
   "id": "af14db87-cd80-475e-a564-90e8d4888456",
   "metadata": {
    "id": "8eca5e9b"
   },
   "source": [
    "## Q1.\n",
    "\n",
    "Glove and word2vec are models that learn from vectors of words by taking into consideration their occurrence and co-occurrence information. While word2vec can be seen as a model that improves its ability to predict (target word | context words),  GloVe is modeled to do dimensionality reduction. In other words, GloVe and Word2Vec are both unsupervised models for generating word vectors.\n",
    "\n",
    "TF-IDF is a way to judge the topic of an article. This is done by the kind of words it contains. Here words are given weight so it measures the relevance of the word, and not its frequency.\n",
    "\n",
    "Word2vec produces one vector per word, whereas tf-idf produces a score. \n",
    "\n",
    "TfidfVectorizer and CountVectorizer both are methods for converting text data into vectors as model can process only numerical data.\n",
    "In CountVectorizer we only count the number of times a word appears in the document which results in biasing in favour of most frequent words. this ends up in ignoring rare words which could have helped is in processing our data more efficiently.\n",
    "That's why we tend to use TfidfVectorizer to get rid of this bias."
   ]
  },
  {
   "cell_type": "markdown",
   "id": "d471f69a-294f-4374-b0da-e9cb19777f74",
   "metadata": {},
   "source": [
    "## Q2.\n",
    "\n",
    "In the part of speech tagging problem, the observations are the words themselves in the given sequence\n",
    "\n",
    "The states would be the POS tags for the words.\n",
    "\n",
    "The hidden variables here are actually the states of the model i.e. the POS tags for the words.\n",
    "\n",
    "The Markov process itself cannot be observed, only the sequence of labeled balls. We are constructing an inference model based on the assumptions of a Markov process. That's why they are called hidden."
   ]
  },
  {
   "cell_type": "markdown",
   "id": "b9bf163e-3110-4a7a-92f0-1d6e8b7458a7",
   "metadata": {},
   "source": [
    "## Q3.\n",
    "\n",
    "Before looking at the viterbi algorithm to solve this problem, let us first look at a simple brute force approach to this problem.\n",
    "Basically, we need to find out the most probable label sequence given a set of observations out of a finite set of possible sequences of labels. The total possible number of sequences for a small example of 3 observations is 3^3 = 27 possible sequences. \n",
    "So the exponential growth in the number of sequences implies that for any reasonable length sentence, the brute force approach would not work out as it would take too much time to execute.\n",
    "\n",
    "The main idea behind the Viterbi Algorithm is that we can calculate the values of the term π(k, u, v) efficiently in a recursive, memoized fashion.\n",
    "From the definition of the viterbi algorithm, we can see that it is clearly recursive, because we are trying to calculate one π term and we are using another one with a lower value of k in the recurrence relation for it.\n",
    "The running time for the algorithm is O(n|K|³), hence it is linear in the length of the sequence, and cubic in the number of tags.\n",
    "\n",
    "Thus, Viterbi Algorithm provides more efficient estimation compared to brute force calculation of all tag combinations"
   ]
  }
 ],
 "metadata": {
  "colab": {
   "name": "NLP_Assign_3_W22_POS.ipynb",
   "provenance": [],
   "toc_visible": true
  },
  "kernelspec": {
   "display_name": "Python 3 (ipykernel)",
   "language": "python",
   "name": "python3"
  },
  "language_info": {
   "codemirror_mode": {
    "name": "ipython",
    "version": 3
   },
   "file_extension": ".py",
   "mimetype": "text/x-python",
   "name": "python",
   "nbconvert_exporter": "python",
   "pygments_lexer": "ipython3",
   "version": "3.8.3rc1"
  }
 },
 "nbformat": 4,
 "nbformat_minor": 5
}
